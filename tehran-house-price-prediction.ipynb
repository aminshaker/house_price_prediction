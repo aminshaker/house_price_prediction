{
 "cells": [
  {
   "cell_type": "code",
   "execution_count": 1,
   "id": "b744d42d",
   "metadata": {
    "_cell_guid": "b1076dfc-b9ad-4769-8c92-a6c4dae69d19",
    "_uuid": "8f2839f25d086af736a60e9eeb907d3b93b6e0e5",
    "execution": {
     "iopub.execute_input": "2024-05-28T19:20:07.299639Z",
     "iopub.status.busy": "2024-05-28T19:20:07.298504Z",
     "iopub.status.idle": "2024-05-28T19:20:58.307645Z",
     "shell.execute_reply": "2024-05-28T19:20:58.305607Z"
    },
    "papermill": {
     "duration": 51.029569,
     "end_time": "2024-05-28T19:20:58.310537",
     "exception": false,
     "start_time": "2024-05-28T19:20:07.280968",
     "status": "completed"
    },
    "tags": []
   },
   "outputs": [
    {
     "name": "stdout",
     "output_type": "stream",
     "text": [
      "\u001b[31mERROR: pip's dependency resolver does not currently take into account all the packages that are installed. This behaviour is the source of the following dependency conflicts.\r\n",
      "beatrix-jupyterlab 2023.128.151533 requires jupyterlab~=3.6.0, but you have jupyterlab 4.1.6 which is incompatible.\r\n",
      "libpysal 4.9.2 requires packaging>=22, but you have packaging 21.3 which is incompatible.\r\n",
      "libpysal 4.9.2 requires shapely>=2.0.1, but you have shapely 1.8.5.post1 which is incompatible.\r\n",
      "momepy 0.7.0 requires shapely>=2, but you have shapely 1.8.5.post1 which is incompatible.\r\n",
      "osmnx 1.9.2 requires shapely>=2.0, but you have shapely 1.8.5.post1 which is incompatible.\r\n",
      "spopt 0.6.0 requires shapely>=2.0.1, but you have shapely 1.8.5.post1 which is incompatible.\r\n",
      "xarray 2024.3.0 requires packaging>=22, but you have packaging 21.3 which is incompatible.\r\n",
      "ydata-profiling 4.6.4 requires numpy<1.26,>=1.16.0, but you have numpy 1.26.4 which is incompatible.\u001b[0m\u001b[31m\r\n",
      "\u001b[0mNote: you may need to restart the kernel to use updated packages.\n"
     ]
    }
   ],
   "source": [
    "pip install pycaret -q"
   ]
  },
  {
   "cell_type": "code",
   "execution_count": 2,
   "id": "a83edff9",
   "metadata": {
    "execution": {
     "iopub.execute_input": "2024-05-28T19:20:58.338913Z",
     "iopub.status.busy": "2024-05-28T19:20:58.338388Z",
     "iopub.status.idle": "2024-05-28T19:21:31.509644Z",
     "shell.execute_reply": "2024-05-28T19:21:31.507307Z"
    },
    "papermill": {
     "duration": 33.18945,
     "end_time": "2024-05-28T19:21:31.512958",
     "exception": false,
     "start_time": "2024-05-28T19:20:58.323508",
     "status": "completed"
    },
    "tags": []
   },
   "outputs": [
    {
     "name": "stdout",
     "output_type": "stream",
     "text": [
      "\u001b[31mERROR: pip's dependency resolver does not currently take into account all the packages that are installed. This behaviour is the source of the following dependency conflicts.\r\n",
      "preprocessing 0.1.13 requires nltk==3.2.4, but you have nltk 3.8.1 which is incompatible.\r\n",
      "ydata-profiling 4.6.4 requires numpy<1.26,>=1.16.0, but you have numpy 1.26.4 which is incompatible.\r\n",
      "ydata-profiling 4.6.4 requires seaborn<0.13,>=0.10.1, but you have seaborn 0.13.2 which is incompatible.\u001b[0m\u001b[31m\r\n",
      "\u001b[0mNote: you may need to restart the kernel to use updated packages.\n"
     ]
    }
   ],
   "source": [
    "pip install autoviz -q"
   ]
  },
  {
   "cell_type": "code",
   "execution_count": 3,
   "id": "55fe7017",
   "metadata": {
    "execution": {
     "iopub.execute_input": "2024-05-28T19:21:31.543374Z",
     "iopub.status.busy": "2024-05-28T19:21:31.542920Z",
     "iopub.status.idle": "2024-05-28T19:21:34.246797Z",
     "shell.execute_reply": "2024-05-28T19:21:34.245487Z"
    },
    "papermill": {
     "duration": 2.724065,
     "end_time": "2024-05-28T19:21:34.250306",
     "exception": false,
     "start_time": "2024-05-28T19:21:31.526241",
     "status": "completed"
    },
    "tags": []
   },
   "outputs": [],
   "source": [
    "import re\n",
    "import time\n",
    "import joblib\n",
    "import warnings\n",
    "import numpy as np\n",
    "import pandas as pd\n",
    "import seaborn as sns\n",
    "import matplotlib.pyplot as plt\n",
    "\n",
    "from sklearn.model_selection import train_test_split\n",
    "from sklearn.model_selection import cross_validate, KFold, GridSearchCV\n",
    "from sklearn.metrics import mean_squared_error, mean_absolute_error, r2_score\n",
    "\n",
    "from sklearn.ensemble import RandomForestRegressor\n",
    "from sklearn.linear_model import ElasticNet, Lasso, LinearRegression, Ridge\n",
    "from sklearn.neighbors import KNeighborsRegressor\n",
    "from sklearn.tree import DecisionTreeRegressor\n",
    "\n",
    "from xgboost import XGBRegressor"
   ]
  },
  {
   "cell_type": "code",
   "execution_count": 4,
   "id": "06b70019",
   "metadata": {
    "execution": {
     "iopub.execute_input": "2024-05-28T19:21:34.280037Z",
     "iopub.status.busy": "2024-05-28T19:21:34.279499Z",
     "iopub.status.idle": "2024-05-28T19:21:34.286357Z",
     "shell.execute_reply": "2024-05-28T19:21:34.284835Z"
    },
    "papermill": {
     "duration": 0.025124,
     "end_time": "2024-05-28T19:21:34.289117",
     "exception": false,
     "start_time": "2024-05-28T19:21:34.263993",
     "status": "completed"
    },
    "tags": []
   },
   "outputs": [],
   "source": [
    "%matplotlib inline"
   ]
  },
  {
   "cell_type": "code",
   "execution_count": 5,
   "id": "ae66e795",
   "metadata": {
    "execution": {
     "iopub.execute_input": "2024-05-28T19:21:34.319784Z",
     "iopub.status.busy": "2024-05-28T19:21:34.318930Z",
     "iopub.status.idle": "2024-05-28T19:21:34.325077Z",
     "shell.execute_reply": "2024-05-28T19:21:34.323690Z"
    },
    "papermill": {
     "duration": 0.025088,
     "end_time": "2024-05-28T19:21:34.328704",
     "exception": false,
     "start_time": "2024-05-28T19:21:34.303616",
     "status": "completed"
    },
    "tags": []
   },
   "outputs": [],
   "source": [
    "warnings.filterwarnings('ignore')"
   ]
  },
  {
   "cell_type": "code",
   "execution_count": 6,
   "id": "13038e9a",
   "metadata": {
    "execution": {
     "iopub.execute_input": "2024-05-28T19:21:34.360256Z",
     "iopub.status.busy": "2024-05-28T19:21:34.359795Z",
     "iopub.status.idle": "2024-05-28T19:21:38.428183Z",
     "shell.execute_reply": "2024-05-28T19:21:38.426476Z"
    },
    "papermill": {
     "duration": 4.088391,
     "end_time": "2024-05-28T19:21:38.431497",
     "exception": false,
     "start_time": "2024-05-28T19:21:34.343106",
     "status": "completed"
    },
    "tags": []
   },
   "outputs": [],
   "source": [
    "from pycaret.regression import *"
   ]
  },
  {
   "cell_type": "code",
   "execution_count": 7,
   "id": "5b8e66bd",
   "metadata": {
    "execution": {
     "iopub.execute_input": "2024-05-28T19:21:38.462301Z",
     "iopub.status.busy": "2024-05-28T19:21:38.461648Z",
     "iopub.status.idle": "2024-05-28T19:21:38.510652Z",
     "shell.execute_reply": "2024-05-28T19:21:38.509307Z"
    },
    "papermill": {
     "duration": 0.068213,
     "end_time": "2024-05-28T19:21:38.513725",
     "exception": false,
     "start_time": "2024-05-28T19:21:38.445512",
     "status": "completed"
    },
    "tags": []
   },
   "outputs": [
    {
     "data": {
      "text/html": [
       "<div>\n",
       "<style scoped>\n",
       "    .dataframe tbody tr th:only-of-type {\n",
       "        vertical-align: middle;\n",
       "    }\n",
       "\n",
       "    .dataframe tbody tr th {\n",
       "        vertical-align: top;\n",
       "    }\n",
       "\n",
       "    .dataframe thead th {\n",
       "        text-align: right;\n",
       "    }\n",
       "</style>\n",
       "<table border=\"1\" class=\"dataframe\">\n",
       "  <thead>\n",
       "    <tr style=\"text-align: right;\">\n",
       "      <th></th>\n",
       "      <th>Area</th>\n",
       "      <th>Room</th>\n",
       "      <th>Parking</th>\n",
       "      <th>Warehouse</th>\n",
       "      <th>Elevator</th>\n",
       "      <th>Address</th>\n",
       "      <th>Price</th>\n",
       "      <th>Price(USD)</th>\n",
       "    </tr>\n",
       "  </thead>\n",
       "  <tbody>\n",
       "    <tr>\n",
       "      <th>2723</th>\n",
       "      <td>83</td>\n",
       "      <td>2</td>\n",
       "      <td>False</td>\n",
       "      <td>False</td>\n",
       "      <td>True</td>\n",
       "      <td>Parand</td>\n",
       "      <td>5.000000e+08</td>\n",
       "      <td>16666.67</td>\n",
       "    </tr>\n",
       "    <tr>\n",
       "      <th>2911</th>\n",
       "      <td>45</td>\n",
       "      <td>1</td>\n",
       "      <td>False</td>\n",
       "      <td>False</td>\n",
       "      <td>False</td>\n",
       "      <td>Karoon</td>\n",
       "      <td>6.800000e+08</td>\n",
       "      <td>22666.67</td>\n",
       "    </tr>\n",
       "    <tr>\n",
       "      <th>123</th>\n",
       "      <td>78</td>\n",
       "      <td>2</td>\n",
       "      <td>False</td>\n",
       "      <td>False</td>\n",
       "      <td>True</td>\n",
       "      <td>Parand</td>\n",
       "      <td>3.700000e+08</td>\n",
       "      <td>12333.33</td>\n",
       "    </tr>\n",
       "    <tr>\n",
       "      <th>2297</th>\n",
       "      <td>86</td>\n",
       "      <td>2</td>\n",
       "      <td>True</td>\n",
       "      <td>True</td>\n",
       "      <td>False</td>\n",
       "      <td>Firoozkooh Kuhsar</td>\n",
       "      <td>7.500000e+08</td>\n",
       "      <td>25000.00</td>\n",
       "    </tr>\n",
       "    <tr>\n",
       "      <th>341</th>\n",
       "      <td>192</td>\n",
       "      <td>3</td>\n",
       "      <td>True</td>\n",
       "      <td>True</td>\n",
       "      <td>True</td>\n",
       "      <td>Saadat Abad</td>\n",
       "      <td>1.950000e+10</td>\n",
       "      <td>650000.00</td>\n",
       "    </tr>\n",
       "  </tbody>\n",
       "</table>\n",
       "</div>"
      ],
      "text/plain": [
       "     Area  Room  Parking  Warehouse  Elevator            Address  \\\n",
       "2723   83     2    False      False      True             Parand   \n",
       "2911   45     1    False      False     False             Karoon   \n",
       "123    78     2    False      False      True             Parand   \n",
       "2297   86     2     True       True     False  Firoozkooh Kuhsar   \n",
       "341   192     3     True       True      True        Saadat Abad   \n",
       "\n",
       "             Price  Price(USD)  \n",
       "2723  5.000000e+08    16666.67  \n",
       "2911  6.800000e+08    22666.67  \n",
       "123   3.700000e+08    12333.33  \n",
       "2297  7.500000e+08    25000.00  \n",
       "341   1.950000e+10   650000.00  "
      ]
     },
     "execution_count": 7,
     "metadata": {},
     "output_type": "execute_result"
    }
   ],
   "source": [
    "df = pd.read_csv('../input/house-price-tehran-iran/housePrice.csv')\n",
    "df.sample(5)"
   ]
  },
  {
   "cell_type": "code",
   "execution_count": 8,
   "id": "7b471991",
   "metadata": {
    "execution": {
     "iopub.execute_input": "2024-05-28T19:21:38.543851Z",
     "iopub.status.busy": "2024-05-28T19:21:38.542381Z",
     "iopub.status.idle": "2024-05-28T19:21:38.561068Z",
     "shell.execute_reply": "2024-05-28T19:21:38.559249Z"
    },
    "papermill": {
     "duration": 0.036764,
     "end_time": "2024-05-28T19:21:38.563959",
     "exception": false,
     "start_time": "2024-05-28T19:21:38.527195",
     "status": "completed"
    },
    "tags": []
   },
   "outputs": [
    {
     "name": "stdout",
     "output_type": "stream",
     "text": [
      "<class 'pandas.core.frame.DataFrame'>\n",
      "RangeIndex: 3479 entries, 0 to 3478\n",
      "Data columns (total 8 columns):\n",
      " #   Column      Non-Null Count  Dtype  \n",
      "---  ------      --------------  -----  \n",
      " 0   Area        3479 non-null   object \n",
      " 1   Room        3479 non-null   int64  \n",
      " 2   Parking     3479 non-null   bool   \n",
      " 3   Warehouse   3479 non-null   bool   \n",
      " 4   Elevator    3479 non-null   bool   \n",
      " 5   Address     3456 non-null   object \n",
      " 6   Price       3479 non-null   float64\n",
      " 7   Price(USD)  3479 non-null   float64\n",
      "dtypes: bool(3), float64(2), int64(1), object(2)\n",
      "memory usage: 146.2+ KB\n"
     ]
    }
   ],
   "source": [
    "df.info()"
   ]
  },
  {
   "cell_type": "code",
   "execution_count": 9,
   "id": "89d6ce31",
   "metadata": {
    "execution": {
     "iopub.execute_input": "2024-05-28T19:21:38.594924Z",
     "iopub.status.busy": "2024-05-28T19:21:38.594520Z",
     "iopub.status.idle": "2024-05-28T19:21:38.602001Z",
     "shell.execute_reply": "2024-05-28T19:21:38.600475Z"
    },
    "papermill": {
     "duration": 0.025675,
     "end_time": "2024-05-28T19:21:38.604775",
     "exception": false,
     "start_time": "2024-05-28T19:21:38.579100",
     "status": "completed"
    },
    "tags": []
   },
   "outputs": [],
   "source": [
    "df.drop('Price(USD)', axis=1, inplace=True)"
   ]
  },
  {
   "cell_type": "code",
   "execution_count": 10,
   "id": "0cafdc18",
   "metadata": {
    "execution": {
     "iopub.execute_input": "2024-05-28T19:21:38.636614Z",
     "iopub.status.busy": "2024-05-28T19:21:38.635841Z",
     "iopub.status.idle": "2024-05-28T19:21:46.187668Z",
     "shell.execute_reply": "2024-05-28T19:21:46.186612Z"
    },
    "papermill": {
     "duration": 7.570135,
     "end_time": "2024-05-28T19:21:46.190469",
     "exception": false,
     "start_time": "2024-05-28T19:21:38.620334",
     "status": "completed"
    },
    "tags": []
   },
   "outputs": [
    {
     "data": {
      "text/html": [
       "<style type=\"text/css\">\n",
       "#T_ab46d_row10_col1, #T_ab46d_row16_col1 {\n",
       "  background-color: lightgreen;\n",
       "}\n",
       "</style>\n",
       "<table id=\"T_ab46d\">\n",
       "  <thead>\n",
       "    <tr>\n",
       "      <th class=\"blank level0\" >&nbsp;</th>\n",
       "      <th id=\"T_ab46d_level0_col0\" class=\"col_heading level0 col0\" >Description</th>\n",
       "      <th id=\"T_ab46d_level0_col1\" class=\"col_heading level0 col1\" >Value</th>\n",
       "    </tr>\n",
       "  </thead>\n",
       "  <tbody>\n",
       "    <tr>\n",
       "      <th id=\"T_ab46d_level0_row0\" class=\"row_heading level0 row0\" >0</th>\n",
       "      <td id=\"T_ab46d_row0_col0\" class=\"data row0 col0\" >Session id</td>\n",
       "      <td id=\"T_ab46d_row0_col1\" class=\"data row0 col1\" >85</td>\n",
       "    </tr>\n",
       "    <tr>\n",
       "      <th id=\"T_ab46d_level0_row1\" class=\"row_heading level0 row1\" >1</th>\n",
       "      <td id=\"T_ab46d_row1_col0\" class=\"data row1 col0\" >Target</td>\n",
       "      <td id=\"T_ab46d_row1_col1\" class=\"data row1 col1\" >Price</td>\n",
       "    </tr>\n",
       "    <tr>\n",
       "      <th id=\"T_ab46d_level0_row2\" class=\"row_heading level0 row2\" >2</th>\n",
       "      <td id=\"T_ab46d_row2_col0\" class=\"data row2 col0\" >Target type</td>\n",
       "      <td id=\"T_ab46d_row2_col1\" class=\"data row2 col1\" >Regression</td>\n",
       "    </tr>\n",
       "    <tr>\n",
       "      <th id=\"T_ab46d_level0_row3\" class=\"row_heading level0 row3\" >3</th>\n",
       "      <td id=\"T_ab46d_row3_col0\" class=\"data row3 col0\" >Original data shape</td>\n",
       "      <td id=\"T_ab46d_row3_col1\" class=\"data row3 col1\" >(3479, 7)</td>\n",
       "    </tr>\n",
       "    <tr>\n",
       "      <th id=\"T_ab46d_level0_row4\" class=\"row_heading level0 row4\" >4</th>\n",
       "      <td id=\"T_ab46d_row4_col0\" class=\"data row4 col0\" >Transformed data shape</td>\n",
       "      <td id=\"T_ab46d_row4_col1\" class=\"data row4 col1\" >(3357, 7)</td>\n",
       "    </tr>\n",
       "    <tr>\n",
       "      <th id=\"T_ab46d_level0_row5\" class=\"row_heading level0 row5\" >5</th>\n",
       "      <td id=\"T_ab46d_row5_col0\" class=\"data row5 col0\" >Transformed train set shape</td>\n",
       "      <td id=\"T_ab46d_row5_col1\" class=\"data row5 col1\" >(2313, 7)</td>\n",
       "    </tr>\n",
       "    <tr>\n",
       "      <th id=\"T_ab46d_level0_row6\" class=\"row_heading level0 row6\" >6</th>\n",
       "      <td id=\"T_ab46d_row6_col0\" class=\"data row6 col0\" >Transformed test set shape</td>\n",
       "      <td id=\"T_ab46d_row6_col1\" class=\"data row6 col1\" >(1044, 7)</td>\n",
       "    </tr>\n",
       "    <tr>\n",
       "      <th id=\"T_ab46d_level0_row7\" class=\"row_heading level0 row7\" >7</th>\n",
       "      <td id=\"T_ab46d_row7_col0\" class=\"data row7 col0\" >Numeric features</td>\n",
       "      <td id=\"T_ab46d_row7_col1\" class=\"data row7 col1\" >1</td>\n",
       "    </tr>\n",
       "    <tr>\n",
       "      <th id=\"T_ab46d_level0_row8\" class=\"row_heading level0 row8\" >8</th>\n",
       "      <td id=\"T_ab46d_row8_col0\" class=\"data row8 col0\" >Categorical features</td>\n",
       "      <td id=\"T_ab46d_row8_col1\" class=\"data row8 col1\" >2</td>\n",
       "    </tr>\n",
       "    <tr>\n",
       "      <th id=\"T_ab46d_level0_row9\" class=\"row_heading level0 row9\" >9</th>\n",
       "      <td id=\"T_ab46d_row9_col0\" class=\"data row9 col0\" >Rows with missing values</td>\n",
       "      <td id=\"T_ab46d_row9_col1\" class=\"data row9 col1\" >0.7%</td>\n",
       "    </tr>\n",
       "    <tr>\n",
       "      <th id=\"T_ab46d_level0_row10\" class=\"row_heading level0 row10\" >10</th>\n",
       "      <td id=\"T_ab46d_row10_col0\" class=\"data row10 col0\" >Preprocess</td>\n",
       "      <td id=\"T_ab46d_row10_col1\" class=\"data row10 col1\" >True</td>\n",
       "    </tr>\n",
       "    <tr>\n",
       "      <th id=\"T_ab46d_level0_row11\" class=\"row_heading level0 row11\" >11</th>\n",
       "      <td id=\"T_ab46d_row11_col0\" class=\"data row11 col0\" >Imputation type</td>\n",
       "      <td id=\"T_ab46d_row11_col1\" class=\"data row11 col1\" >simple</td>\n",
       "    </tr>\n",
       "    <tr>\n",
       "      <th id=\"T_ab46d_level0_row12\" class=\"row_heading level0 row12\" >12</th>\n",
       "      <td id=\"T_ab46d_row12_col0\" class=\"data row12 col0\" >Numeric imputation</td>\n",
       "      <td id=\"T_ab46d_row12_col1\" class=\"data row12 col1\" >mean</td>\n",
       "    </tr>\n",
       "    <tr>\n",
       "      <th id=\"T_ab46d_level0_row13\" class=\"row_heading level0 row13\" >13</th>\n",
       "      <td id=\"T_ab46d_row13_col0\" class=\"data row13 col0\" >Categorical imputation</td>\n",
       "      <td id=\"T_ab46d_row13_col1\" class=\"data row13 col1\" >mode</td>\n",
       "    </tr>\n",
       "    <tr>\n",
       "      <th id=\"T_ab46d_level0_row14\" class=\"row_heading level0 row14\" >14</th>\n",
       "      <td id=\"T_ab46d_row14_col0\" class=\"data row14 col0\" >Maximum one-hot encoding</td>\n",
       "      <td id=\"T_ab46d_row14_col1\" class=\"data row14 col1\" >25</td>\n",
       "    </tr>\n",
       "    <tr>\n",
       "      <th id=\"T_ab46d_level0_row15\" class=\"row_heading level0 row15\" >15</th>\n",
       "      <td id=\"T_ab46d_row15_col0\" class=\"data row15 col0\" >Encoding method</td>\n",
       "      <td id=\"T_ab46d_row15_col1\" class=\"data row15 col1\" >None</td>\n",
       "    </tr>\n",
       "    <tr>\n",
       "      <th id=\"T_ab46d_level0_row16\" class=\"row_heading level0 row16\" >16</th>\n",
       "      <td id=\"T_ab46d_row16_col0\" class=\"data row16 col0\" >Remove outliers</td>\n",
       "      <td id=\"T_ab46d_row16_col1\" class=\"data row16 col1\" >True</td>\n",
       "    </tr>\n",
       "    <tr>\n",
       "      <th id=\"T_ab46d_level0_row17\" class=\"row_heading level0 row17\" >17</th>\n",
       "      <td id=\"T_ab46d_row17_col0\" class=\"data row17 col0\" >Outliers threshold</td>\n",
       "      <td id=\"T_ab46d_row17_col1\" class=\"data row17 col1\" >0.050000</td>\n",
       "    </tr>\n",
       "    <tr>\n",
       "      <th id=\"T_ab46d_level0_row18\" class=\"row_heading level0 row18\" >18</th>\n",
       "      <td id=\"T_ab46d_row18_col0\" class=\"data row18 col0\" >Fold Generator</td>\n",
       "      <td id=\"T_ab46d_row18_col1\" class=\"data row18 col1\" >KFold</td>\n",
       "    </tr>\n",
       "    <tr>\n",
       "      <th id=\"T_ab46d_level0_row19\" class=\"row_heading level0 row19\" >19</th>\n",
       "      <td id=\"T_ab46d_row19_col0\" class=\"data row19 col0\" >Fold Number</td>\n",
       "      <td id=\"T_ab46d_row19_col1\" class=\"data row19 col1\" >10</td>\n",
       "    </tr>\n",
       "    <tr>\n",
       "      <th id=\"T_ab46d_level0_row20\" class=\"row_heading level0 row20\" >20</th>\n",
       "      <td id=\"T_ab46d_row20_col0\" class=\"data row20 col0\" >CPU Jobs</td>\n",
       "      <td id=\"T_ab46d_row20_col1\" class=\"data row20 col1\" >-1</td>\n",
       "    </tr>\n",
       "    <tr>\n",
       "      <th id=\"T_ab46d_level0_row21\" class=\"row_heading level0 row21\" >21</th>\n",
       "      <td id=\"T_ab46d_row21_col0\" class=\"data row21 col0\" >Use GPU</td>\n",
       "      <td id=\"T_ab46d_row21_col1\" class=\"data row21 col1\" >False</td>\n",
       "    </tr>\n",
       "    <tr>\n",
       "      <th id=\"T_ab46d_level0_row22\" class=\"row_heading level0 row22\" >22</th>\n",
       "      <td id=\"T_ab46d_row22_col0\" class=\"data row22 col0\" >Log Experiment</td>\n",
       "      <td id=\"T_ab46d_row22_col1\" class=\"data row22 col1\" >False</td>\n",
       "    </tr>\n",
       "    <tr>\n",
       "      <th id=\"T_ab46d_level0_row23\" class=\"row_heading level0 row23\" >23</th>\n",
       "      <td id=\"T_ab46d_row23_col0\" class=\"data row23 col0\" >Experiment Name</td>\n",
       "      <td id=\"T_ab46d_row23_col1\" class=\"data row23 col1\" >reg-default-name</td>\n",
       "    </tr>\n",
       "    <tr>\n",
       "      <th id=\"T_ab46d_level0_row24\" class=\"row_heading level0 row24\" >24</th>\n",
       "      <td id=\"T_ab46d_row24_col0\" class=\"data row24 col0\" >USI</td>\n",
       "      <td id=\"T_ab46d_row24_col1\" class=\"data row24 col1\" >8d71</td>\n",
       "    </tr>\n",
       "  </tbody>\n",
       "</table>\n"
      ],
      "text/plain": [
       "<pandas.io.formats.style.Styler at 0x7c314dba7850>"
      ]
     },
     "metadata": {},
     "output_type": "display_data"
    },
    {
     "data": {
      "text/plain": [
       "<pycaret.regression.oop.RegressionExperiment at 0x7c318afd6cb0>"
      ]
     },
     "execution_count": 10,
     "metadata": {},
     "output_type": "execute_result"
    }
   ],
   "source": [
    "setup(df, target='Price', session_id=85, remove_outliers=True)"
   ]
  },
  {
   "cell_type": "code",
   "execution_count": 11,
   "id": "1a16bf35",
   "metadata": {
    "execution": {
     "iopub.execute_input": "2024-05-28T19:21:46.222221Z",
     "iopub.status.busy": "2024-05-28T19:21:46.221800Z",
     "iopub.status.idle": "2024-05-28T19:23:05.063754Z",
     "shell.execute_reply": "2024-05-28T19:23:05.062436Z"
    },
    "papermill": {
     "duration": 78.86074,
     "end_time": "2024-05-28T19:23:05.066595",
     "exception": false,
     "start_time": "2024-05-28T19:21:46.205855",
     "status": "completed"
    },
    "tags": []
   },
   "outputs": [
    {
     "data": {
      "text/html": [],
      "text/plain": [
       "<IPython.core.display.HTML object>"
      ]
     },
     "metadata": {},
     "output_type": "display_data"
    },
    {
     "data": {
      "text/html": [
       "<style type=\"text/css\">\n",
       "#T_f39ff th {\n",
       "  text-align: left;\n",
       "}\n",
       "#T_f39ff_row0_col0, #T_f39ff_row0_col1, #T_f39ff_row0_col5, #T_f39ff_row0_col6, #T_f39ff_row1_col0, #T_f39ff_row1_col1, #T_f39ff_row1_col2, #T_f39ff_row1_col3, #T_f39ff_row1_col4, #T_f39ff_row1_col5, #T_f39ff_row1_col6, #T_f39ff_row2_col0, #T_f39ff_row2_col1, #T_f39ff_row2_col2, #T_f39ff_row2_col3, #T_f39ff_row2_col4, #T_f39ff_row2_col6, #T_f39ff_row3_col0, #T_f39ff_row3_col2, #T_f39ff_row3_col3, #T_f39ff_row3_col4, #T_f39ff_row3_col5, #T_f39ff_row4_col0, #T_f39ff_row4_col1, #T_f39ff_row4_col2, #T_f39ff_row4_col3, #T_f39ff_row4_col4, #T_f39ff_row4_col5, #T_f39ff_row4_col6, #T_f39ff_row5_col0, #T_f39ff_row5_col1, #T_f39ff_row5_col2, #T_f39ff_row5_col3, #T_f39ff_row5_col4, #T_f39ff_row5_col5, #T_f39ff_row5_col6, #T_f39ff_row6_col0, #T_f39ff_row6_col1, #T_f39ff_row6_col2, #T_f39ff_row6_col3, #T_f39ff_row6_col4, #T_f39ff_row6_col5, #T_f39ff_row6_col6, #T_f39ff_row7_col0, #T_f39ff_row7_col1, #T_f39ff_row7_col2, #T_f39ff_row7_col3, #T_f39ff_row7_col4, #T_f39ff_row7_col5, #T_f39ff_row7_col6, #T_f39ff_row8_col0, #T_f39ff_row8_col1, #T_f39ff_row8_col2, #T_f39ff_row8_col3, #T_f39ff_row8_col4, #T_f39ff_row8_col5, #T_f39ff_row8_col6, #T_f39ff_row9_col0, #T_f39ff_row9_col1, #T_f39ff_row9_col2, #T_f39ff_row9_col3, #T_f39ff_row9_col4, #T_f39ff_row9_col5, #T_f39ff_row9_col6, #T_f39ff_row10_col0, #T_f39ff_row10_col1, #T_f39ff_row10_col2, #T_f39ff_row10_col3, #T_f39ff_row10_col4, #T_f39ff_row10_col5, #T_f39ff_row10_col6, #T_f39ff_row11_col0, #T_f39ff_row11_col1, #T_f39ff_row11_col2, #T_f39ff_row11_col3, #T_f39ff_row11_col4, #T_f39ff_row11_col5, #T_f39ff_row11_col6, #T_f39ff_row12_col0, #T_f39ff_row12_col1, #T_f39ff_row12_col2, #T_f39ff_row12_col3, #T_f39ff_row12_col4, #T_f39ff_row12_col5, #T_f39ff_row12_col6, #T_f39ff_row13_col0, #T_f39ff_row13_col1, #T_f39ff_row13_col2, #T_f39ff_row13_col3, #T_f39ff_row13_col4, #T_f39ff_row13_col5, #T_f39ff_row13_col6, #T_f39ff_row14_col0, #T_f39ff_row14_col1, #T_f39ff_row14_col2, #T_f39ff_row14_col3, #T_f39ff_row14_col4, #T_f39ff_row14_col5, #T_f39ff_row14_col6, #T_f39ff_row15_col0, #T_f39ff_row15_col1, #T_f39ff_row15_col2, #T_f39ff_row15_col3, #T_f39ff_row15_col4, #T_f39ff_row15_col5, #T_f39ff_row15_col6, #T_f39ff_row16_col0, #T_f39ff_row16_col1, #T_f39ff_row16_col2, #T_f39ff_row16_col3, #T_f39ff_row16_col4, #T_f39ff_row16_col5, #T_f39ff_row16_col6, #T_f39ff_row17_col0, #T_f39ff_row17_col1, #T_f39ff_row17_col2, #T_f39ff_row17_col3, #T_f39ff_row17_col4, #T_f39ff_row17_col5, #T_f39ff_row17_col6, #T_f39ff_row18_col0, #T_f39ff_row18_col1, #T_f39ff_row18_col2, #T_f39ff_row18_col3, #T_f39ff_row18_col4, #T_f39ff_row18_col5, #T_f39ff_row18_col6, #T_f39ff_row19_col0, #T_f39ff_row19_col1, #T_f39ff_row19_col2, #T_f39ff_row19_col3, #T_f39ff_row19_col4, #T_f39ff_row19_col5, #T_f39ff_row19_col6 {\n",
       "  text-align: left;\n",
       "}\n",
       "#T_f39ff_row0_col2, #T_f39ff_row0_col3, #T_f39ff_row0_col4, #T_f39ff_row2_col5, #T_f39ff_row3_col1, #T_f39ff_row3_col6 {\n",
       "  text-align: left;\n",
       "  background-color: yellow;\n",
       "}\n",
       "#T_f39ff_row0_col7, #T_f39ff_row1_col7, #T_f39ff_row2_col7, #T_f39ff_row3_col7, #T_f39ff_row4_col7, #T_f39ff_row5_col7, #T_f39ff_row6_col7, #T_f39ff_row7_col7, #T_f39ff_row8_col7, #T_f39ff_row9_col7, #T_f39ff_row10_col7, #T_f39ff_row11_col7, #T_f39ff_row12_col7, #T_f39ff_row13_col7, #T_f39ff_row16_col7, #T_f39ff_row17_col7, #T_f39ff_row18_col7, #T_f39ff_row19_col7 {\n",
       "  text-align: left;\n",
       "  background-color: lightgrey;\n",
       "}\n",
       "#T_f39ff_row14_col7, #T_f39ff_row15_col7 {\n",
       "  text-align: left;\n",
       "  background-color: yellow;\n",
       "  background-color: lightgrey;\n",
       "}\n",
       "</style>\n",
       "<table id=\"T_f39ff\">\n",
       "  <thead>\n",
       "    <tr>\n",
       "      <th class=\"blank level0\" >&nbsp;</th>\n",
       "      <th id=\"T_f39ff_level0_col0\" class=\"col_heading level0 col0\" >Model</th>\n",
       "      <th id=\"T_f39ff_level0_col1\" class=\"col_heading level0 col1\" >MAE</th>\n",
       "      <th id=\"T_f39ff_level0_col2\" class=\"col_heading level0 col2\" >MSE</th>\n",
       "      <th id=\"T_f39ff_level0_col3\" class=\"col_heading level0 col3\" >RMSE</th>\n",
       "      <th id=\"T_f39ff_level0_col4\" class=\"col_heading level0 col4\" >R2</th>\n",
       "      <th id=\"T_f39ff_level0_col5\" class=\"col_heading level0 col5\" >RMSLE</th>\n",
       "      <th id=\"T_f39ff_level0_col6\" class=\"col_heading level0 col6\" >MAPE</th>\n",
       "      <th id=\"T_f39ff_level0_col7\" class=\"col_heading level0 col7\" >TT (Sec)</th>\n",
       "    </tr>\n",
       "  </thead>\n",
       "  <tbody>\n",
       "    <tr>\n",
       "      <th id=\"T_f39ff_level0_row0\" class=\"row_heading level0 row0\" >catboost</th>\n",
       "      <td id=\"T_f39ff_row0_col0\" class=\"data row0 col0\" >CatBoost Regressor</td>\n",
       "      <td id=\"T_f39ff_row0_col1\" class=\"data row0 col1\" >1787068166.2256</td>\n",
       "      <td id=\"T_f39ff_row0_col2\" class=\"data row0 col2\" >32607070379028836352.0000</td>\n",
       "      <td id=\"T_f39ff_row0_col3\" class=\"data row0 col3\" >5370151218.8995</td>\n",
       "      <td id=\"T_f39ff_row0_col4\" class=\"data row0 col4\" >0.5414</td>\n",
       "      <td id=\"T_f39ff_row0_col5\" class=\"data row0 col5\" >0.5069</td>\n",
       "      <td id=\"T_f39ff_row0_col6\" class=\"data row0 col6\" >0.4474</td>\n",
       "      <td id=\"T_f39ff_row0_col7\" class=\"data row0 col7\" >1.9200</td>\n",
       "    </tr>\n",
       "    <tr>\n",
       "      <th id=\"T_f39ff_level0_row1\" class=\"row_heading level0 row1\" >et</th>\n",
       "      <td id=\"T_f39ff_row1_col0\" class=\"data row1 col0\" >Extra Trees Regressor</td>\n",
       "      <td id=\"T_f39ff_row1_col1\" class=\"data row1 col1\" >1823696328.6765</td>\n",
       "      <td id=\"T_f39ff_row1_col2\" class=\"data row1 col2\" >33692139050886713344.0000</td>\n",
       "      <td id=\"T_f39ff_row1_col3\" class=\"data row1 col3\" >5418666552.5989</td>\n",
       "      <td id=\"T_f39ff_row1_col4\" class=\"data row1 col4\" >0.5371</td>\n",
       "      <td id=\"T_f39ff_row1_col5\" class=\"data row1 col5\" >0.5173</td>\n",
       "      <td id=\"T_f39ff_row1_col6\" class=\"data row1 col6\" >0.4336</td>\n",
       "      <td id=\"T_f39ff_row1_col7\" class=\"data row1 col7\" >0.3400</td>\n",
       "    </tr>\n",
       "    <tr>\n",
       "      <th id=\"T_f39ff_level0_row2\" class=\"row_heading level0 row2\" >lightgbm</th>\n",
       "      <td id=\"T_f39ff_row2_col0\" class=\"data row2 col0\" >Light Gradient Boosting Machine</td>\n",
       "      <td id=\"T_f39ff_row2_col1\" class=\"data row2 col1\" >1850921317.1389</td>\n",
       "      <td id=\"T_f39ff_row2_col2\" class=\"data row2 col2\" >33901565516324040704.0000</td>\n",
       "      <td id=\"T_f39ff_row2_col3\" class=\"data row2 col3\" >5473993468.5078</td>\n",
       "      <td id=\"T_f39ff_row2_col4\" class=\"data row2 col4\" >0.5246</td>\n",
       "      <td id=\"T_f39ff_row2_col5\" class=\"data row2 col5\" >0.4909</td>\n",
       "      <td id=\"T_f39ff_row2_col6\" class=\"data row2 col6\" >0.4263</td>\n",
       "      <td id=\"T_f39ff_row2_col7\" class=\"data row2 col7\" >0.6090</td>\n",
       "    </tr>\n",
       "    <tr>\n",
       "      <th id=\"T_f39ff_level0_row3\" class=\"row_heading level0 row3\" >xgboost</th>\n",
       "      <td id=\"T_f39ff_row3_col0\" class=\"data row3 col0\" >Extreme Gradient Boosting</td>\n",
       "      <td id=\"T_f39ff_row3_col1\" class=\"data row3 col1\" >1771836281.6000</td>\n",
       "      <td id=\"T_f39ff_row3_col2\" class=\"data row3 col2\" >33832566550434308096.0000</td>\n",
       "      <td id=\"T_f39ff_row3_col3\" class=\"data row3 col3\" >5487361638.4000</td>\n",
       "      <td id=\"T_f39ff_row3_col4\" class=\"data row3 col4\" >0.5216</td>\n",
       "      <td id=\"T_f39ff_row3_col5\" class=\"data row3 col5\" >0.5159</td>\n",
       "      <td id=\"T_f39ff_row3_col6\" class=\"data row3 col6\" >0.4102</td>\n",
       "      <td id=\"T_f39ff_row3_col7\" class=\"data row3 col7\" >0.3610</td>\n",
       "    </tr>\n",
       "    <tr>\n",
       "      <th id=\"T_f39ff_level0_row4\" class=\"row_heading level0 row4\" >gbr</th>\n",
       "      <td id=\"T_f39ff_row4_col0\" class=\"data row4 col0\" >Gradient Boosting Regressor</td>\n",
       "      <td id=\"T_f39ff_row4_col1\" class=\"data row4 col1\" >1869451000.9279</td>\n",
       "      <td id=\"T_f39ff_row4_col2\" class=\"data row4 col2\" >32768195979990835200.0000</td>\n",
       "      <td id=\"T_f39ff_row4_col3\" class=\"data row4 col3\" >5451537576.2650</td>\n",
       "      <td id=\"T_f39ff_row4_col4\" class=\"data row4 col4\" >0.5212</td>\n",
       "      <td id=\"T_f39ff_row4_col5\" class=\"data row4 col5\" >0.5211</td>\n",
       "      <td id=\"T_f39ff_row4_col6\" class=\"data row4 col6\" >0.4815</td>\n",
       "      <td id=\"T_f39ff_row4_col7\" class=\"data row4 col7\" >0.2280</td>\n",
       "    </tr>\n",
       "    <tr>\n",
       "      <th id=\"T_f39ff_level0_row5\" class=\"row_heading level0 row5\" >rf</th>\n",
       "      <td id=\"T_f39ff_row5_col0\" class=\"data row5 col0\" >Random Forest Regressor</td>\n",
       "      <td id=\"T_f39ff_row5_col1\" class=\"data row5 col1\" >1836202243.8133</td>\n",
       "      <td id=\"T_f39ff_row5_col2\" class=\"data row5 col2\" >35120587005921230848.0000</td>\n",
       "      <td id=\"T_f39ff_row5_col3\" class=\"data row5 col3\" >5551883571.7572</td>\n",
       "      <td id=\"T_f39ff_row5_col4\" class=\"data row5 col4\" >0.5134</td>\n",
       "      <td id=\"T_f39ff_row5_col5\" class=\"data row5 col5\" >0.5016</td>\n",
       "      <td id=\"T_f39ff_row5_col6\" class=\"data row5 col6\" >0.4147</td>\n",
       "      <td id=\"T_f39ff_row5_col7\" class=\"data row5 col7\" >0.3990</td>\n",
       "    </tr>\n",
       "    <tr>\n",
       "      <th id=\"T_f39ff_level0_row6\" class=\"row_heading level0 row6\" >knn</th>\n",
       "      <td id=\"T_f39ff_row6_col0\" class=\"data row6 col0\" >K Neighbors Regressor</td>\n",
       "      <td id=\"T_f39ff_row6_col1\" class=\"data row6 col1\" >2037582374.4000</td>\n",
       "      <td id=\"T_f39ff_row6_col2\" class=\"data row6 col2\" >37219049279796019200.0000</td>\n",
       "      <td id=\"T_f39ff_row6_col3\" class=\"data row6 col3\" >5751254720.0000</td>\n",
       "      <td id=\"T_f39ff_row6_col4\" class=\"data row6 col4\" >0.4772</td>\n",
       "      <td id=\"T_f39ff_row6_col5\" class=\"data row6 col5\" >0.5646</td>\n",
       "      <td id=\"T_f39ff_row6_col6\" class=\"data row6 col6\" >0.5148</td>\n",
       "      <td id=\"T_f39ff_row6_col7\" class=\"data row6 col7\" >0.2080</td>\n",
       "    </tr>\n",
       "    <tr>\n",
       "      <th id=\"T_f39ff_level0_row7\" class=\"row_heading level0 row7\" >lasso</th>\n",
       "      <td id=\"T_f39ff_row7_col0\" class=\"data row7 col0\" >Lasso Regression</td>\n",
       "      <td id=\"T_f39ff_row7_col1\" class=\"data row7 col1\" >2601293612.7778</td>\n",
       "      <td id=\"T_f39ff_row7_col2\" class=\"data row7 col2\" >36766955829048868864.0000</td>\n",
       "      <td id=\"T_f39ff_row7_col3\" class=\"data row7 col3\" >5814135261.6413</td>\n",
       "      <td id=\"T_f39ff_row7_col4\" class=\"data row7 col4\" >0.4616</td>\n",
       "      <td id=\"T_f39ff_row7_col5\" class=\"data row7 col5\" >0.9709</td>\n",
       "      <td id=\"T_f39ff_row7_col6\" class=\"data row7 col6\" >1.0037</td>\n",
       "      <td id=\"T_f39ff_row7_col7\" class=\"data row7 col7\" >0.1640</td>\n",
       "    </tr>\n",
       "    <tr>\n",
       "      <th id=\"T_f39ff_level0_row8\" class=\"row_heading level0 row8\" >lr</th>\n",
       "      <td id=\"T_f39ff_row8_col0\" class=\"data row8 col0\" >Linear Regression</td>\n",
       "      <td id=\"T_f39ff_row8_col1\" class=\"data row8 col1\" >2601293587.3264</td>\n",
       "      <td id=\"T_f39ff_row8_col2\" class=\"data row8 col2\" >36766955675486199808.0000</td>\n",
       "      <td id=\"T_f39ff_row8_col3\" class=\"data row8 col3\" >5814135244.9921</td>\n",
       "      <td id=\"T_f39ff_row8_col4\" class=\"data row8 col4\" >0.4616</td>\n",
       "      <td id=\"T_f39ff_row8_col5\" class=\"data row8 col5\" >0.9709</td>\n",
       "      <td id=\"T_f39ff_row8_col6\" class=\"data row8 col6\" >1.0037</td>\n",
       "      <td id=\"T_f39ff_row8_col7\" class=\"data row8 col7\" >0.7840</td>\n",
       "    </tr>\n",
       "    <tr>\n",
       "      <th id=\"T_f39ff_level0_row9\" class=\"row_heading level0 row9\" >llar</th>\n",
       "      <td id=\"T_f39ff_row9_col0\" class=\"data row9 col0\" >Lasso Least Angle Regression</td>\n",
       "      <td id=\"T_f39ff_row9_col1\" class=\"data row9 col1\" >2601293612.7778</td>\n",
       "      <td id=\"T_f39ff_row9_col2\" class=\"data row9 col2\" >36766955829048868864.0000</td>\n",
       "      <td id=\"T_f39ff_row9_col3\" class=\"data row9 col3\" >5814135261.6413</td>\n",
       "      <td id=\"T_f39ff_row9_col4\" class=\"data row9 col4\" >0.4616</td>\n",
       "      <td id=\"T_f39ff_row9_col5\" class=\"data row9 col5\" >0.9709</td>\n",
       "      <td id=\"T_f39ff_row9_col6\" class=\"data row9 col6\" >1.0037</td>\n",
       "      <td id=\"T_f39ff_row9_col7\" class=\"data row9 col7\" >0.1640</td>\n",
       "    </tr>\n",
       "    <tr>\n",
       "      <th id=\"T_f39ff_level0_row10\" class=\"row_heading level0 row10\" >lar</th>\n",
       "      <td id=\"T_f39ff_row10_col0\" class=\"data row10 col0\" >Least Angle Regression</td>\n",
       "      <td id=\"T_f39ff_row10_col1\" class=\"data row10 col1\" >2601293612.5708</td>\n",
       "      <td id=\"T_f39ff_row10_col2\" class=\"data row10 col2\" >36766955824392609792.0000</td>\n",
       "      <td id=\"T_f39ff_row10_col3\" class=\"data row10 col3\" >5814135261.2644</td>\n",
       "      <td id=\"T_f39ff_row10_col4\" class=\"data row10 col4\" >0.4616</td>\n",
       "      <td id=\"T_f39ff_row10_col5\" class=\"data row10 col5\" >0.9709</td>\n",
       "      <td id=\"T_f39ff_row10_col6\" class=\"data row10 col6\" >1.0037</td>\n",
       "      <td id=\"T_f39ff_row10_col7\" class=\"data row10 col7\" >0.1610</td>\n",
       "    </tr>\n",
       "    <tr>\n",
       "      <th id=\"T_f39ff_level0_row11\" class=\"row_heading level0 row11\" >ridge</th>\n",
       "      <td id=\"T_f39ff_row11_col0\" class=\"data row11 col0\" >Ridge Regression</td>\n",
       "      <td id=\"T_f39ff_row11_col1\" class=\"data row11 col1\" >2601407924.0968</td>\n",
       "      <td id=\"T_f39ff_row11_col2\" class=\"data row11 col2\" >36770395167551950848.0000</td>\n",
       "      <td id=\"T_f39ff_row11_col3\" class=\"data row11 col3\" >5814406574.8093</td>\n",
       "      <td id=\"T_f39ff_row11_col4\" class=\"data row11 col4\" >0.4615</td>\n",
       "      <td id=\"T_f39ff_row11_col5\" class=\"data row11 col5\" >0.9685</td>\n",
       "      <td id=\"T_f39ff_row11_col6\" class=\"data row11 col6\" >1.0038</td>\n",
       "      <td id=\"T_f39ff_row11_col7\" class=\"data row11 col7\" >0.1810</td>\n",
       "    </tr>\n",
       "    <tr>\n",
       "      <th id=\"T_f39ff_level0_row12\" class=\"row_heading level0 row12\" >dt</th>\n",
       "      <td id=\"T_f39ff_row12_col0\" class=\"data row12 col0\" >Decision Tree Regressor</td>\n",
       "      <td id=\"T_f39ff_row12_col1\" class=\"data row12 col1\" >2037379064.3410</td>\n",
       "      <td id=\"T_f39ff_row12_col2\" class=\"data row12 col2\" >38229392647171932160.0000</td>\n",
       "      <td id=\"T_f39ff_row12_col3\" class=\"data row12 col3\" >5868916353.4252</td>\n",
       "      <td id=\"T_f39ff_row12_col4\" class=\"data row12 col4\" >0.4555</td>\n",
       "      <td id=\"T_f39ff_row12_col5\" class=\"data row12 col5\" >0.5911</td>\n",
       "      <td id=\"T_f39ff_row12_col6\" class=\"data row12 col6\" >0.4640</td>\n",
       "      <td id=\"T_f39ff_row12_col7\" class=\"data row12 col7\" >0.1610</td>\n",
       "    </tr>\n",
       "    <tr>\n",
       "      <th id=\"T_f39ff_level0_row13\" class=\"row_heading level0 row13\" >en</th>\n",
       "      <td id=\"T_f39ff_row13_col0\" class=\"data row13 col0\" >Elastic Net</td>\n",
       "      <td id=\"T_f39ff_row13_col1\" class=\"data row13 col1\" >2674066561.1712</td>\n",
       "      <td id=\"T_f39ff_row13_col2\" class=\"data row13 col2\" >38251844718070562816.0000</td>\n",
       "      <td id=\"T_f39ff_row13_col3\" class=\"data row13 col3\" >5932820359.7560</td>\n",
       "      <td id=\"T_f39ff_row13_col4\" class=\"data row13 col4\" >0.4389</td>\n",
       "      <td id=\"T_f39ff_row13_col5\" class=\"data row13 col5\" >0.9617</td>\n",
       "      <td id=\"T_f39ff_row13_col6\" class=\"data row13 col6\" >1.0739</td>\n",
       "      <td id=\"T_f39ff_row13_col7\" class=\"data row13 col7\" >0.1640</td>\n",
       "    </tr>\n",
       "    <tr>\n",
       "      <th id=\"T_f39ff_level0_row14\" class=\"row_heading level0 row14\" >br</th>\n",
       "      <td id=\"T_f39ff_row14_col0\" class=\"data row14 col0\" >Bayesian Ridge</td>\n",
       "      <td id=\"T_f39ff_row14_col1\" class=\"data row14 col1\" >2736982279.0990</td>\n",
       "      <td id=\"T_f39ff_row14_col2\" class=\"data row14 col2\" >39281545036914688000.0000</td>\n",
       "      <td id=\"T_f39ff_row14_col3\" class=\"data row14 col3\" >6015645878.1027</td>\n",
       "      <td id=\"T_f39ff_row14_col4\" class=\"data row14 col4\" >0.4226</td>\n",
       "      <td id=\"T_f39ff_row14_col5\" class=\"data row14 col5\" >0.9722</td>\n",
       "      <td id=\"T_f39ff_row14_col6\" class=\"data row14 col6\" >1.1318</td>\n",
       "      <td id=\"T_f39ff_row14_col7\" class=\"data row14 col7\" >0.1590</td>\n",
       "    </tr>\n",
       "    <tr>\n",
       "      <th id=\"T_f39ff_level0_row15\" class=\"row_heading level0 row15\" >omp</th>\n",
       "      <td id=\"T_f39ff_row15_col0\" class=\"data row15 col0\" >Orthogonal Matching Pursuit</td>\n",
       "      <td id=\"T_f39ff_row15_col1\" class=\"data row15 col1\" >2913330797.2689</td>\n",
       "      <td id=\"T_f39ff_row15_col2\" class=\"data row15 col2\" >44353011085509238784.0000</td>\n",
       "      <td id=\"T_f39ff_row15_col3\" class=\"data row15 col3\" >6434106571.4685</td>\n",
       "      <td id=\"T_f39ff_row15_col4\" class=\"data row15 col4\" >0.3304</td>\n",
       "      <td id=\"T_f39ff_row15_col5\" class=\"data row15 col5\" >0.8428</td>\n",
       "      <td id=\"T_f39ff_row15_col6\" class=\"data row15 col6\" >1.0414</td>\n",
       "      <td id=\"T_f39ff_row15_col7\" class=\"data row15 col7\" >0.1590</td>\n",
       "    </tr>\n",
       "    <tr>\n",
       "      <th id=\"T_f39ff_level0_row16\" class=\"row_heading level0 row16\" >huber</th>\n",
       "      <td id=\"T_f39ff_row16_col0\" class=\"data row16 col0\" >Huber Regressor</td>\n",
       "      <td id=\"T_f39ff_row16_col1\" class=\"data row16 col1\" >2746601965.1450</td>\n",
       "      <td id=\"T_f39ff_row16_col2\" class=\"data row16 col2\" >47458616307519750144.0000</td>\n",
       "      <td id=\"T_f39ff_row16_col3\" class=\"data row16 col3\" >6620884818.1256</td>\n",
       "      <td id=\"T_f39ff_row16_col4\" class=\"data row16 col4\" >0.3011</td>\n",
       "      <td id=\"T_f39ff_row16_col5\" class=\"data row16 col5\" >0.7681</td>\n",
       "      <td id=\"T_f39ff_row16_col6\" class=\"data row16 col6\" >0.9247</td>\n",
       "      <td id=\"T_f39ff_row16_col7\" class=\"data row16 col7\" >0.1690</td>\n",
       "    </tr>\n",
       "    <tr>\n",
       "      <th id=\"T_f39ff_level0_row17\" class=\"row_heading level0 row17\" >ada</th>\n",
       "      <td id=\"T_f39ff_row17_col0\" class=\"data row17 col0\" >AdaBoost Regressor</td>\n",
       "      <td id=\"T_f39ff_row17_col1\" class=\"data row17 col1\" >3738757338.4261</td>\n",
       "      <td id=\"T_f39ff_row17_col2\" class=\"data row17 col2\" >46493374504845705216.0000</td>\n",
       "      <td id=\"T_f39ff_row17_col3\" class=\"data row17 col3\" >6706538210.1199</td>\n",
       "      <td id=\"T_f39ff_row17_col4\" class=\"data row17 col4\" >0.2159</td>\n",
       "      <td id=\"T_f39ff_row17_col5\" class=\"data row17 col5\" >1.1143</td>\n",
       "      <td id=\"T_f39ff_row17_col6\" class=\"data row17 col6\" >2.2123</td>\n",
       "      <td id=\"T_f39ff_row17_col7\" class=\"data row17 col7\" >0.2090</td>\n",
       "    </tr>\n",
       "    <tr>\n",
       "      <th id=\"T_f39ff_level0_row18\" class=\"row_heading level0 row18\" >par</th>\n",
       "      <td id=\"T_f39ff_row18_col0\" class=\"data row18 col0\" >Passive Aggressive Regressor</td>\n",
       "      <td id=\"T_f39ff_row18_col1\" class=\"data row18 col1\" >3260248555.0962</td>\n",
       "      <td id=\"T_f39ff_row18_col2\" class=\"data row18 col2\" >51205862272745406464.0000</td>\n",
       "      <td id=\"T_f39ff_row18_col3\" class=\"data row18 col3\" >6923112901.7749</td>\n",
       "      <td id=\"T_f39ff_row18_col4\" class=\"data row18 col4\" >0.2131</td>\n",
       "      <td id=\"T_f39ff_row18_col5\" class=\"data row18 col5\" >0.8597</td>\n",
       "      <td id=\"T_f39ff_row18_col6\" class=\"data row18 col6\" >1.0795</td>\n",
       "      <td id=\"T_f39ff_row18_col7\" class=\"data row18 col7\" >0.1610</td>\n",
       "    </tr>\n",
       "    <tr>\n",
       "      <th id=\"T_f39ff_level0_row19\" class=\"row_heading level0 row19\" >dummy</th>\n",
       "      <td id=\"T_f39ff_row19_col0\" class=\"data row19 col0\" >Dummy Regressor</td>\n",
       "      <td id=\"T_f39ff_row19_col1\" class=\"data row19 col1\" >4360709888.0000</td>\n",
       "      <td id=\"T_f39ff_row19_col2\" class=\"data row19 col2\" >65199411370298392576.0000</td>\n",
       "      <td id=\"T_f39ff_row19_col3\" class=\"data row19 col3\" >7862235084.8000</td>\n",
       "      <td id=\"T_f39ff_row19_col4\" class=\"data row19 col4\" >-0.0098</td>\n",
       "      <td id=\"T_f39ff_row19_col5\" class=\"data row19 col5\" >1.2137</td>\n",
       "      <td id=\"T_f39ff_row19_col6\" class=\"data row19 col6\" >2.2683</td>\n",
       "      <td id=\"T_f39ff_row19_col7\" class=\"data row19 col7\" >0.3980</td>\n",
       "    </tr>\n",
       "  </tbody>\n",
       "</table>\n"
      ],
      "text/plain": [
       "<pandas.io.formats.style.Styler at 0x7c314d1f5b10>"
      ]
     },
     "metadata": {},
     "output_type": "display_data"
    },
    {
     "data": {
      "application/vnd.jupyter.widget-view+json": {
       "model_id": "5e46d59c4e2d45d79a9f9e19dc2fbb44",
       "version_major": 2,
       "version_minor": 0
      },
      "text/plain": [
       "Processing:   0%|          | 0/85 [00:00<?, ?it/s]"
      ]
     },
     "metadata": {},
     "output_type": "display_data"
    },
    {
     "data": {
      "text/plain": [
       "<catboost.core.CatBoostRegressor at 0x7c314d1f40d0>"
      ]
     },
     "execution_count": 11,
     "metadata": {},
     "output_type": "execute_result"
    }
   ],
   "source": [
    "compare_models()"
   ]
  },
  {
   "cell_type": "code",
   "execution_count": 12,
   "id": "a7f378d7",
   "metadata": {
    "execution": {
     "iopub.execute_input": "2024-05-28T19:23:05.098122Z",
     "iopub.status.busy": "2024-05-28T19:23:05.097733Z",
     "iopub.status.idle": "2024-05-28T19:23:14.016880Z",
     "shell.execute_reply": "2024-05-28T19:23:14.015646Z"
    },
    "papermill": {
     "duration": 8.938679,
     "end_time": "2024-05-28T19:23:14.019894",
     "exception": false,
     "start_time": "2024-05-28T19:23:05.081215",
     "status": "completed"
    },
    "tags": []
   },
   "outputs": [
    {
     "data": {
      "text/html": [],
      "text/plain": [
       "<IPython.core.display.HTML object>"
      ]
     },
     "metadata": {},
     "output_type": "display_data"
    },
    {
     "data": {
      "text/html": [
       "<style type=\"text/css\">\n",
       "#T_8ea22_row10_col0, #T_8ea22_row10_col1, #T_8ea22_row10_col2, #T_8ea22_row10_col3, #T_8ea22_row10_col4, #T_8ea22_row10_col5 {\n",
       "  background: yellow;\n",
       "}\n",
       "</style>\n",
       "<table id=\"T_8ea22\">\n",
       "  <thead>\n",
       "    <tr>\n",
       "      <th class=\"blank level0\" >&nbsp;</th>\n",
       "      <th id=\"T_8ea22_level0_col0\" class=\"col_heading level0 col0\" >MAE</th>\n",
       "      <th id=\"T_8ea22_level0_col1\" class=\"col_heading level0 col1\" >MSE</th>\n",
       "      <th id=\"T_8ea22_level0_col2\" class=\"col_heading level0 col2\" >RMSE</th>\n",
       "      <th id=\"T_8ea22_level0_col3\" class=\"col_heading level0 col3\" >R2</th>\n",
       "      <th id=\"T_8ea22_level0_col4\" class=\"col_heading level0 col4\" >RMSLE</th>\n",
       "      <th id=\"T_8ea22_level0_col5\" class=\"col_heading level0 col5\" >MAPE</th>\n",
       "    </tr>\n",
       "    <tr>\n",
       "      <th class=\"index_name level0\" >Fold</th>\n",
       "      <th class=\"blank col0\" >&nbsp;</th>\n",
       "      <th class=\"blank col1\" >&nbsp;</th>\n",
       "      <th class=\"blank col2\" >&nbsp;</th>\n",
       "      <th class=\"blank col3\" >&nbsp;</th>\n",
       "      <th class=\"blank col4\" >&nbsp;</th>\n",
       "      <th class=\"blank col5\" >&nbsp;</th>\n",
       "    </tr>\n",
       "  </thead>\n",
       "  <tbody>\n",
       "    <tr>\n",
       "      <th id=\"T_8ea22_level0_row0\" class=\"row_heading level0 row0\" >0</th>\n",
       "      <td id=\"T_8ea22_row0_col0\" class=\"data row0 col0\" >2436407040.0000</td>\n",
       "      <td id=\"T_8ea22_row0_col1\" class=\"data row0 col1\" >52291330457770917888.0000</td>\n",
       "      <td id=\"T_8ea22_row0_col2\" class=\"data row0 col2\" >7231274496.0000</td>\n",
       "      <td id=\"T_8ea22_row0_col3\" class=\"data row0 col3\" >0.4934</td>\n",
       "      <td id=\"T_8ea22_row0_col4\" class=\"data row0 col4\" >0.6176</td>\n",
       "      <td id=\"T_8ea22_row0_col5\" class=\"data row0 col5\" >0.5137</td>\n",
       "    </tr>\n",
       "    <tr>\n",
       "      <th id=\"T_8ea22_level0_row1\" class=\"row_heading level0 row1\" >1</th>\n",
       "      <td id=\"T_8ea22_row1_col0\" class=\"data row1 col0\" >1794569600.0000</td>\n",
       "      <td id=\"T_8ea22_row1_col1\" class=\"data row1 col1\" >47927109322383818752.0000</td>\n",
       "      <td id=\"T_8ea22_row1_col2\" class=\"data row1 col2\" >6922940928.0000</td>\n",
       "      <td id=\"T_8ea22_row1_col3\" class=\"data row1 col3\" >0.4853</td>\n",
       "      <td id=\"T_8ea22_row1_col4\" class=\"data row1 col4\" >0.4728</td>\n",
       "      <td id=\"T_8ea22_row1_col5\" class=\"data row1 col5\" >0.3674</td>\n",
       "    </tr>\n",
       "    <tr>\n",
       "      <th id=\"T_8ea22_level0_row2\" class=\"row_heading level0 row2\" >2</th>\n",
       "      <td id=\"T_8ea22_row2_col0\" class=\"data row2 col0\" >1438750976.0000</td>\n",
       "      <td id=\"T_8ea22_row2_col1\" class=\"data row2 col1\" >19944804477298540544.0000</td>\n",
       "      <td id=\"T_8ea22_row2_col2\" class=\"data row2 col2\" >4465960448.0000</td>\n",
       "      <td id=\"T_8ea22_row2_col3\" class=\"data row2 col3\" >0.5474</td>\n",
       "      <td id=\"T_8ea22_row2_col4\" class=\"data row2 col4\" >0.5287</td>\n",
       "      <td id=\"T_8ea22_row2_col5\" class=\"data row2 col5\" >0.5112</td>\n",
       "    </tr>\n",
       "    <tr>\n",
       "      <th id=\"T_8ea22_level0_row3\" class=\"row_heading level0 row3\" >3</th>\n",
       "      <td id=\"T_8ea22_row3_col0\" class=\"data row3 col0\" >1848169600.0000</td>\n",
       "      <td id=\"T_8ea22_row3_col1\" class=\"data row3 col1\" >51038063123966722048.0000</td>\n",
       "      <td id=\"T_8ea22_row3_col2\" class=\"data row3 col2\" >7144092672.0000</td>\n",
       "      <td id=\"T_8ea22_row3_col3\" class=\"data row3 col3\" >0.3295</td>\n",
       "      <td id=\"T_8ea22_row3_col4\" class=\"data row3 col4\" >0.5467</td>\n",
       "      <td id=\"T_8ea22_row3_col5\" class=\"data row3 col5\" >0.3775</td>\n",
       "    </tr>\n",
       "    <tr>\n",
       "      <th id=\"T_8ea22_level0_row4\" class=\"row_heading level0 row4\" >4</th>\n",
       "      <td id=\"T_8ea22_row4_col0\" class=\"data row4 col0\" >1939670016.0000</td>\n",
       "      <td id=\"T_8ea22_row4_col1\" class=\"data row4 col1\" >36721247451904737280.0000</td>\n",
       "      <td id=\"T_8ea22_row4_col2\" class=\"data row4 col2\" >6059805696.0000</td>\n",
       "      <td id=\"T_8ea22_row4_col3\" class=\"data row4 col3\" >0.4617</td>\n",
       "      <td id=\"T_8ea22_row4_col4\" class=\"data row4 col4\" >0.4852</td>\n",
       "      <td id=\"T_8ea22_row4_col5\" class=\"data row4 col5\" >0.3741</td>\n",
       "    </tr>\n",
       "    <tr>\n",
       "      <th id=\"T_8ea22_level0_row5\" class=\"row_heading level0 row5\" >5</th>\n",
       "      <td id=\"T_8ea22_row5_col0\" class=\"data row5 col0\" >2389075968.0000</td>\n",
       "      <td id=\"T_8ea22_row5_col1\" class=\"data row5 col1\" >52432015169568112640.0000</td>\n",
       "      <td id=\"T_8ea22_row5_col2\" class=\"data row5 col2\" >7240995328.0000</td>\n",
       "      <td id=\"T_8ea22_row5_col3\" class=\"data row5 col3\" >0.3583</td>\n",
       "      <td id=\"T_8ea22_row5_col4\" class=\"data row5 col4\" >0.5344</td>\n",
       "      <td id=\"T_8ea22_row5_col5\" class=\"data row5 col5\" >0.4125</td>\n",
       "    </tr>\n",
       "    <tr>\n",
       "      <th id=\"T_8ea22_level0_row6\" class=\"row_heading level0 row6\" >6</th>\n",
       "      <td id=\"T_8ea22_row6_col0\" class=\"data row6 col0\" >1986535296.0000</td>\n",
       "      <td id=\"T_8ea22_row6_col1\" class=\"data row6 col1\" >51242990101151612928.0000</td>\n",
       "      <td id=\"T_8ea22_row6_col2\" class=\"data row6 col2\" >7158420992.0000</td>\n",
       "      <td id=\"T_8ea22_row6_col3\" class=\"data row6 col3\" >0.4293</td>\n",
       "      <td id=\"T_8ea22_row6_col4\" class=\"data row6 col4\" >0.4705</td>\n",
       "      <td id=\"T_8ea22_row6_col5\" class=\"data row6 col5\" >0.3673</td>\n",
       "    </tr>\n",
       "    <tr>\n",
       "      <th id=\"T_8ea22_level0_row7\" class=\"row_heading level0 row7\" >7</th>\n",
       "      <td id=\"T_8ea22_row7_col0\" class=\"data row7 col0\" >1348971392.0000</td>\n",
       "      <td id=\"T_8ea22_row7_col1\" class=\"data row7 col1\" >11585915761201250304.0000</td>\n",
       "      <td id=\"T_8ea22_row7_col2\" class=\"data row7 col2\" >3403809024.0000</td>\n",
       "      <td id=\"T_8ea22_row7_col3\" class=\"data row7 col3\" >0.5758</td>\n",
       "      <td id=\"T_8ea22_row7_col4\" class=\"data row7 col4\" >0.4715</td>\n",
       "      <td id=\"T_8ea22_row7_col5\" class=\"data row7 col5\" >0.3761</td>\n",
       "    </tr>\n",
       "    <tr>\n",
       "      <th id=\"T_8ea22_level0_row8\" class=\"row_heading level0 row8\" >8</th>\n",
       "      <td id=\"T_8ea22_row8_col0\" class=\"data row8 col0\" >1515776000.0000</td>\n",
       "      <td id=\"T_8ea22_row8_col1\" class=\"data row8 col1\" >11929438378090561536.0000</td>\n",
       "      <td id=\"T_8ea22_row8_col2\" class=\"data row8 col2\" >3453901824.0000</td>\n",
       "      <td id=\"T_8ea22_row8_col3\" class=\"data row8 col3\" >0.6574</td>\n",
       "      <td id=\"T_8ea22_row8_col4\" class=\"data row8 col4\" >0.4999</td>\n",
       "      <td id=\"T_8ea22_row8_col5\" class=\"data row8 col5\" >0.4015</td>\n",
       "    </tr>\n",
       "    <tr>\n",
       "      <th id=\"T_8ea22_level0_row9\" class=\"row_heading level0 row9\" >9</th>\n",
       "      <td id=\"T_8ea22_row9_col0\" class=\"data row9 col0\" >1020436928.0000</td>\n",
       "      <td id=\"T_8ea22_row9_col1\" class=\"data row9 col1\" >3212751261006823424.0000</td>\n",
       "      <td id=\"T_8ea22_row9_col2\" class=\"data row9 col2\" >1792414976.0000</td>\n",
       "      <td id=\"T_8ea22_row9_col3\" class=\"data row9 col3\" >0.8784</td>\n",
       "      <td id=\"T_8ea22_row9_col4\" class=\"data row9 col4\" >0.5317</td>\n",
       "      <td id=\"T_8ea22_row9_col5\" class=\"data row9 col5\" >0.4005</td>\n",
       "    </tr>\n",
       "    <tr>\n",
       "      <th id=\"T_8ea22_level0_row10\" class=\"row_heading level0 row10\" >Mean</th>\n",
       "      <td id=\"T_8ea22_row10_col0\" class=\"data row10 col0\" >1771836281.6000</td>\n",
       "      <td id=\"T_8ea22_row10_col1\" class=\"data row10 col1\" >33832566550434308096.0000</td>\n",
       "      <td id=\"T_8ea22_row10_col2\" class=\"data row10 col2\" >5487361638.4000</td>\n",
       "      <td id=\"T_8ea22_row10_col3\" class=\"data row10 col3\" >0.5216</td>\n",
       "      <td id=\"T_8ea22_row10_col4\" class=\"data row10 col4\" >0.5159</td>\n",
       "      <td id=\"T_8ea22_row10_col5\" class=\"data row10 col5\" >0.4102</td>\n",
       "    </tr>\n",
       "    <tr>\n",
       "      <th id=\"T_8ea22_level0_row11\" class=\"row_heading level0 row11\" >Std</th>\n",
       "      <td id=\"T_8ea22_row11_col0\" class=\"data row11 col0\" >426986524.8348</td>\n",
       "      <td id=\"T_8ea22_row11_col1\" class=\"data row11 col1\" >18968187964619919360.0000</td>\n",
       "      <td id=\"T_8ea22_row11_col2\" class=\"data row11 col2\" >1929100357.4839</td>\n",
       "      <td id=\"T_8ea22_row11_col3\" class=\"data row11 col3\" >0.1507</td>\n",
       "      <td id=\"T_8ea22_row11_col4\" class=\"data row11 col4\" >0.0437</td>\n",
       "      <td id=\"T_8ea22_row11_col5\" class=\"data row11 col5\" >0.0532</td>\n",
       "    </tr>\n",
       "  </tbody>\n",
       "</table>\n"
      ],
      "text/plain": [
       "<pandas.io.formats.style.Styler at 0x7c314dba5de0>"
      ]
     },
     "metadata": {},
     "output_type": "display_data"
    },
    {
     "data": {
      "application/vnd.jupyter.widget-view+json": {
       "model_id": "9c2ee9d6e22446179b3b97229ef0fd64",
       "version_major": 2,
       "version_minor": 0
      },
      "text/plain": [
       "Processing:   0%|          | 0/4 [00:00<?, ?it/s]"
      ]
     },
     "metadata": {},
     "output_type": "display_data"
    }
   ],
   "source": [
    "my_model = create_model('xgboost')"
   ]
  },
  {
   "cell_type": "code",
   "execution_count": 13,
   "id": "9fdbd372",
   "metadata": {
    "execution": {
     "iopub.execute_input": "2024-05-28T19:23:14.055102Z",
     "iopub.status.busy": "2024-05-28T19:23:14.054602Z",
     "iopub.status.idle": "2024-05-28T19:23:14.070777Z",
     "shell.execute_reply": "2024-05-28T19:23:14.069377Z"
    },
    "papermill": {
     "duration": 0.036653,
     "end_time": "2024-05-28T19:23:14.073350",
     "exception": false,
     "start_time": "2024-05-28T19:23:14.036697",
     "status": "completed"
    },
    "tags": []
   },
   "outputs": [
    {
     "data": {
      "text/html": [
       "<div>\n",
       "<style scoped>\n",
       "    .dataframe tbody tr th:only-of-type {\n",
       "        vertical-align: middle;\n",
       "    }\n",
       "\n",
       "    .dataframe tbody tr th {\n",
       "        vertical-align: top;\n",
       "    }\n",
       "\n",
       "    .dataframe thead th {\n",
       "        text-align: right;\n",
       "    }\n",
       "</style>\n",
       "<table border=\"1\" class=\"dataframe\">\n",
       "  <thead>\n",
       "    <tr style=\"text-align: right;\">\n",
       "      <th></th>\n",
       "      <th>Area</th>\n",
       "      <th>Room</th>\n",
       "      <th>Parking</th>\n",
       "      <th>Warehouse</th>\n",
       "      <th>Elevator</th>\n",
       "      <th>Address</th>\n",
       "      <th>Price</th>\n",
       "    </tr>\n",
       "  </thead>\n",
       "  <tbody>\n",
       "    <tr>\n",
       "      <th>2932</th>\n",
       "      <td>103</td>\n",
       "      <td>2</td>\n",
       "      <td>True</td>\n",
       "      <td>True</td>\n",
       "      <td>True</td>\n",
       "      <td>Feiz Garden</td>\n",
       "      <td>4.000000e+09</td>\n",
       "    </tr>\n",
       "    <tr>\n",
       "      <th>2092</th>\n",
       "      <td>70</td>\n",
       "      <td>2</td>\n",
       "      <td>False</td>\n",
       "      <td>True</td>\n",
       "      <td>True</td>\n",
       "      <td>Elm-o-Sanat</td>\n",
       "      <td>1.800000e+09</td>\n",
       "    </tr>\n",
       "    <tr>\n",
       "      <th>1847</th>\n",
       "      <td>75</td>\n",
       "      <td>2</td>\n",
       "      <td>True</td>\n",
       "      <td>True</td>\n",
       "      <td>False</td>\n",
       "      <td>West Ferdows Boulevard</td>\n",
       "      <td>2.500000e+09</td>\n",
       "    </tr>\n",
       "  </tbody>\n",
       "</table>\n",
       "</div>"
      ],
      "text/plain": [
       "     Area  Room  Parking  Warehouse  Elevator                 Address  \\\n",
       "2932  103     2     True       True      True             Feiz Garden   \n",
       "2092   70     2    False       True      True             Elm-o-Sanat   \n",
       "1847   75     2     True       True     False  West Ferdows Boulevard   \n",
       "\n",
       "             Price  \n",
       "2932  4.000000e+09  \n",
       "2092  1.800000e+09  \n",
       "1847  2.500000e+09  "
      ]
     },
     "execution_count": 13,
     "metadata": {},
     "output_type": "execute_result"
    }
   ],
   "source": [
    "df.sample(3)"
   ]
  },
  {
   "cell_type": "code",
   "execution_count": 14,
   "id": "bd153c4a",
   "metadata": {
    "execution": {
     "iopub.execute_input": "2024-05-28T19:23:14.106793Z",
     "iopub.status.busy": "2024-05-28T19:23:14.106378Z",
     "iopub.status.idle": "2024-05-28T19:23:14.124585Z",
     "shell.execute_reply": "2024-05-28T19:23:14.123312Z"
    },
    "papermill": {
     "duration": 0.03767,
     "end_time": "2024-05-28T19:23:14.126739",
     "exception": false,
     "start_time": "2024-05-28T19:23:14.089069",
     "status": "completed"
    },
    "tags": []
   },
   "outputs": [
    {
     "data": {
      "text/html": [
       "<div>\n",
       "<style scoped>\n",
       "    .dataframe tbody tr th:only-of-type {\n",
       "        vertical-align: middle;\n",
       "    }\n",
       "\n",
       "    .dataframe tbody tr th {\n",
       "        vertical-align: top;\n",
       "    }\n",
       "\n",
       "    .dataframe thead th {\n",
       "        text-align: right;\n",
       "    }\n",
       "</style>\n",
       "<table border=\"1\" class=\"dataframe\">\n",
       "  <thead>\n",
       "    <tr style=\"text-align: right;\">\n",
       "      <th></th>\n",
       "      <th>Room</th>\n",
       "      <th>Price</th>\n",
       "    </tr>\n",
       "  </thead>\n",
       "  <tbody>\n",
       "    <tr>\n",
       "      <th>count</th>\n",
       "      <td>3479.000000</td>\n",
       "      <td>3.479000e+03</td>\n",
       "    </tr>\n",
       "    <tr>\n",
       "      <th>mean</th>\n",
       "      <td>2.079908</td>\n",
       "      <td>5.359023e+09</td>\n",
       "    </tr>\n",
       "    <tr>\n",
       "      <th>std</th>\n",
       "      <td>0.758275</td>\n",
       "      <td>8.099935e+09</td>\n",
       "    </tr>\n",
       "    <tr>\n",
       "      <th>min</th>\n",
       "      <td>0.000000</td>\n",
       "      <td>3.600000e+06</td>\n",
       "    </tr>\n",
       "    <tr>\n",
       "      <th>25%</th>\n",
       "      <td>2.000000</td>\n",
       "      <td>1.418250e+09</td>\n",
       "    </tr>\n",
       "    <tr>\n",
       "      <th>50%</th>\n",
       "      <td>2.000000</td>\n",
       "      <td>2.900000e+09</td>\n",
       "    </tr>\n",
       "    <tr>\n",
       "      <th>75%</th>\n",
       "      <td>2.000000</td>\n",
       "      <td>6.000000e+09</td>\n",
       "    </tr>\n",
       "    <tr>\n",
       "      <th>max</th>\n",
       "      <td>5.000000</td>\n",
       "      <td>9.240000e+10</td>\n",
       "    </tr>\n",
       "  </tbody>\n",
       "</table>\n",
       "</div>"
      ],
      "text/plain": [
       "              Room         Price\n",
       "count  3479.000000  3.479000e+03\n",
       "mean      2.079908  5.359023e+09\n",
       "std       0.758275  8.099935e+09\n",
       "min       0.000000  3.600000e+06\n",
       "25%       2.000000  1.418250e+09\n",
       "50%       2.000000  2.900000e+09\n",
       "75%       2.000000  6.000000e+09\n",
       "max       5.000000  9.240000e+10"
      ]
     },
     "execution_count": 14,
     "metadata": {},
     "output_type": "execute_result"
    }
   ],
   "source": [
    "df.describe()"
   ]
  },
  {
   "cell_type": "code",
   "execution_count": 15,
   "id": "b046c049",
   "metadata": {
    "execution": {
     "iopub.execute_input": "2024-05-28T19:23:14.159993Z",
     "iopub.status.busy": "2024-05-28T19:23:14.159527Z",
     "iopub.status.idle": "2024-05-28T19:23:22.289173Z",
     "shell.execute_reply": "2024-05-28T19:23:22.288299Z"
    },
    "papermill": {
     "duration": 8.149815,
     "end_time": "2024-05-28T19:23:22.292021",
     "exception": false,
     "start_time": "2024-05-28T19:23:14.142206",
     "status": "completed"
    },
    "tags": []
   },
   "outputs": [
    {
     "data": {
      "image/png": "[encoded data removed]",
      "text/plain": [
       "<Figure size 800x390 with 2 Axes>"
      ]
     },
     "metadata": {},
     "output_type": "display_data"
    }
   ],
   "source": [
    "interpret_model(my_model)"
   ]
  },
  {
   "cell_type": "code",
   "execution_count": 16,
   "id": "eed68f40",
   "metadata": {
    "execution": {
     "iopub.execute_input": "2024-05-28T19:23:22.329831Z",
     "iopub.status.busy": "2024-05-28T19:23:22.328369Z",
     "iopub.status.idle": "2024-05-28T19:23:23.025309Z",
     "shell.execute_reply": "2024-05-28T19:23:23.024078Z"
    },
    "papermill": {
     "duration": 0.719341,
     "end_time": "2024-05-28T19:23:23.028586",
     "exception": false,
     "start_time": "2024-05-28T19:23:22.309245",
     "status": "completed"
    },
    "tags": []
   },
   "outputs": [
    {
     "data": {
      "text/html": [],
      "text/plain": [
       "<IPython.core.display.HTML object>"
      ]
     },
     "metadata": {},
     "output_type": "display_data"
    },
    {
     "data": {
      "image/png": "[encoded data removed]",
      "text/plain": [
       "<Figure size 800x500 with 1 Axes>"
      ]
     },
     "metadata": {},
     "output_type": "display_data"
    }
   ],
   "source": [
    "plot_model(estimator=my_model, plot='feature')"
   ]
  },
  {
   "cell_type": "code",
   "execution_count": 17,
   "id": "1e7ffe45",
   "metadata": {
    "execution": {
     "iopub.execute_input": "2024-05-28T19:23:23.067850Z",
     "iopub.status.busy": "2024-05-28T19:23:23.066334Z",
     "iopub.status.idle": "2024-05-28T19:23:23.083874Z",
     "shell.execute_reply": "2024-05-28T19:23:23.082590Z"
    },
    "papermill": {
     "duration": 0.040356,
     "end_time": "2024-05-28T19:23:23.087126",
     "exception": false,
     "start_time": "2024-05-28T19:23:23.046770",
     "status": "completed"
    },
    "tags": []
   },
   "outputs": [],
   "source": [
    "df.Area = df.Area.apply(lambda x: re.sub(',', '', x))\n",
    "df.Area = pd.to_numeric(df.Area, errors='coerce')"
   ]
  },
  {
   "cell_type": "code",
   "execution_count": 18,
   "id": "2ee1b98b",
   "metadata": {
    "execution": {
     "iopub.execute_input": "2024-05-28T19:23:23.125703Z",
     "iopub.status.busy": "2024-05-28T19:23:23.125282Z",
     "iopub.status.idle": "2024-05-28T19:23:23.139284Z",
     "shell.execute_reply": "2024-05-28T19:23:23.137943Z"
    },
    "papermill": {
     "duration": 0.037614,
     "end_time": "2024-05-28T19:23:23.143266",
     "exception": false,
     "start_time": "2024-05-28T19:23:23.105652",
     "status": "completed"
    },
    "tags": []
   },
   "outputs": [
    {
     "name": "stdout",
     "output_type": "stream",
     "text": [
      "<class 'pandas.core.frame.DataFrame'>\n",
      "RangeIndex: 3479 entries, 0 to 3478\n",
      "Data columns (total 7 columns):\n",
      " #   Column     Non-Null Count  Dtype  \n",
      "---  ------     --------------  -----  \n",
      " 0   Area       3479 non-null   int64  \n",
      " 1   Room       3479 non-null   int64  \n",
      " 2   Parking    3479 non-null   bool   \n",
      " 3   Warehouse  3479 non-null   bool   \n",
      " 4   Elevator   3479 non-null   bool   \n",
      " 5   Address    3456 non-null   object \n",
      " 6   Price      3479 non-null   float64\n",
      "dtypes: bool(3), float64(1), int64(2), object(1)\n",
      "memory usage: 119.0+ KB\n"
     ]
    }
   ],
   "source": [
    "df.info()"
   ]
  },
  {
   "cell_type": "code",
   "execution_count": 19,
   "id": "b5e8c76a",
   "metadata": {
    "execution": {
     "iopub.execute_input": "2024-05-28T19:23:23.182235Z",
     "iopub.status.busy": "2024-05-28T19:23:23.180957Z",
     "iopub.status.idle": "2024-05-28T19:23:23.202549Z",
     "shell.execute_reply": "2024-05-28T19:23:23.201282Z"
    },
    "papermill": {
     "duration": 0.043681,
     "end_time": "2024-05-28T19:23:23.205127",
     "exception": false,
     "start_time": "2024-05-28T19:23:23.161446",
     "status": "completed"
    },
    "tags": []
   },
   "outputs": [
    {
     "data": {
      "text/html": [
       "<div>\n",
       "<style scoped>\n",
       "    .dataframe tbody tr th:only-of-type {\n",
       "        vertical-align: middle;\n",
       "    }\n",
       "\n",
       "    .dataframe tbody tr th {\n",
       "        vertical-align: top;\n",
       "    }\n",
       "\n",
       "    .dataframe thead th {\n",
       "        text-align: right;\n",
       "    }\n",
       "</style>\n",
       "<table border=\"1\" class=\"dataframe\">\n",
       "  <thead>\n",
       "    <tr style=\"text-align: right;\">\n",
       "      <th></th>\n",
       "      <th>Area</th>\n",
       "      <th>Room</th>\n",
       "      <th>Price</th>\n",
       "    </tr>\n",
       "  </thead>\n",
       "  <tbody>\n",
       "    <tr>\n",
       "      <th>count</th>\n",
       "      <td>3.479000e+03</td>\n",
       "      <td>3479.000000</td>\n",
       "      <td>3.479000e+03</td>\n",
       "    </tr>\n",
       "    <tr>\n",
       "      <th>mean</th>\n",
       "      <td>8.744000e+06</td>\n",
       "      <td>2.079908</td>\n",
       "      <td>5.359023e+09</td>\n",
       "    </tr>\n",
       "    <tr>\n",
       "      <th>std</th>\n",
       "      <td>3.167266e+08</td>\n",
       "      <td>0.758275</td>\n",
       "      <td>8.099935e+09</td>\n",
       "    </tr>\n",
       "    <tr>\n",
       "      <th>min</th>\n",
       "      <td>3.000000e+01</td>\n",
       "      <td>0.000000</td>\n",
       "      <td>3.600000e+06</td>\n",
       "    </tr>\n",
       "    <tr>\n",
       "      <th>25%</th>\n",
       "      <td>6.900000e+01</td>\n",
       "      <td>2.000000</td>\n",
       "      <td>1.418250e+09</td>\n",
       "    </tr>\n",
       "    <tr>\n",
       "      <th>50%</th>\n",
       "      <td>9.000000e+01</td>\n",
       "      <td>2.000000</td>\n",
       "      <td>2.900000e+09</td>\n",
       "    </tr>\n",
       "    <tr>\n",
       "      <th>75%</th>\n",
       "      <td>1.200000e+02</td>\n",
       "      <td>2.000000</td>\n",
       "      <td>6.000000e+09</td>\n",
       "    </tr>\n",
       "    <tr>\n",
       "      <th>max</th>\n",
       "      <td>1.616000e+10</td>\n",
       "      <td>5.000000</td>\n",
       "      <td>9.240000e+10</td>\n",
       "    </tr>\n",
       "  </tbody>\n",
       "</table>\n",
       "</div>"
      ],
      "text/plain": [
       "               Area         Room         Price\n",
       "count  3.479000e+03  3479.000000  3.479000e+03\n",
       "mean   8.744000e+06     2.079908  5.359023e+09\n",
       "std    3.167266e+08     0.758275  8.099935e+09\n",
       "min    3.000000e+01     0.000000  3.600000e+06\n",
       "25%    6.900000e+01     2.000000  1.418250e+09\n",
       "50%    9.000000e+01     2.000000  2.900000e+09\n",
       "75%    1.200000e+02     2.000000  6.000000e+09\n",
       "max    1.616000e+10     5.000000  9.240000e+10"
      ]
     },
     "execution_count": 19,
     "metadata": {},
     "output_type": "execute_result"
    }
   ],
   "source": [
    "df.describe()"
   ]
  },
  {
   "cell_type": "code",
   "execution_count": 20,
   "id": "1fee96a9",
   "metadata": {
    "execution": {
     "iopub.execute_input": "2024-05-28T19:23:23.244266Z",
     "iopub.status.busy": "2024-05-28T19:23:23.243319Z",
     "iopub.status.idle": "2024-05-28T19:23:23.256483Z",
     "shell.execute_reply": "2024-05-28T19:23:23.255385Z"
    },
    "papermill": {
     "duration": 0.035186,
     "end_time": "2024-05-28T19:23:23.258702",
     "exception": false,
     "start_time": "2024-05-28T19:23:23.223516",
     "status": "completed"
    },
    "tags": []
   },
   "outputs": [
    {
     "data": {
      "text/plain": [
       "Area          0\n",
       "Room          0\n",
       "Parking       0\n",
       "Warehouse     0\n",
       "Elevator      0\n",
       "Address      23\n",
       "Price         0\n",
       "dtype: int64"
      ]
     },
     "execution_count": 20,
     "metadata": {},
     "output_type": "execute_result"
    }
   ],
   "source": [
    "df.isnull().sum()"
   ]
  },
  {
   "cell_type": "code",
   "execution_count": 21,
   "id": "469ca121",
   "metadata": {
    "execution": {
     "iopub.execute_input": "2024-05-28T19:23:23.296453Z",
     "iopub.status.busy": "2024-05-28T19:23:23.296045Z",
     "iopub.status.idle": "2024-05-28T19:23:23.304527Z",
     "shell.execute_reply": "2024-05-28T19:23:23.303271Z"
    },
    "papermill": {
     "duration": 0.030302,
     "end_time": "2024-05-28T19:23:23.307392",
     "exception": false,
     "start_time": "2024-05-28T19:23:23.277090",
     "status": "completed"
    },
    "tags": []
   },
   "outputs": [],
   "source": [
    "df.dropna(inplace=True)"
   ]
  },
  {
   "cell_type": "code",
   "execution_count": 22,
   "id": "158f5f71",
   "metadata": {
    "execution": {
     "iopub.execute_input": "2024-05-28T19:23:23.347201Z",
     "iopub.status.busy": "2024-05-28T19:23:23.346216Z",
     "iopub.status.idle": "2024-05-28T19:23:23.359691Z",
     "shell.execute_reply": "2024-05-28T19:23:23.358309Z"
    },
    "papermill": {
     "duration": 0.036566,
     "end_time": "2024-05-28T19:23:23.362586",
     "exception": false,
     "start_time": "2024-05-28T19:23:23.326020",
     "status": "completed"
    },
    "tags": []
   },
   "outputs": [
    {
     "name": "stdout",
     "output_type": "stream",
     "text": [
      "<class 'pandas.core.frame.DataFrame'>\n",
      "Index: 3456 entries, 0 to 3478\n",
      "Data columns (total 7 columns):\n",
      " #   Column     Non-Null Count  Dtype  \n",
      "---  ------     --------------  -----  \n",
      " 0   Area       3456 non-null   int64  \n",
      " 1   Room       3456 non-null   int64  \n",
      " 2   Parking    3456 non-null   bool   \n",
      " 3   Warehouse  3456 non-null   bool   \n",
      " 4   Elevator   3456 non-null   bool   \n",
      " 5   Address    3456 non-null   object \n",
      " 6   Price      3456 non-null   float64\n",
      "dtypes: bool(3), float64(1), int64(2), object(1)\n",
      "memory usage: 145.1+ KB\n"
     ]
    }
   ],
   "source": [
    "df.info()"
   ]
  },
  {
   "cell_type": "code",
   "execution_count": 23,
   "id": "0076b825",
   "metadata": {
    "execution": {
     "iopub.execute_input": "2024-05-28T19:23:23.401903Z",
     "iopub.status.busy": "2024-05-28T19:23:23.401516Z",
     "iopub.status.idle": "2024-05-28T19:23:23.411544Z",
     "shell.execute_reply": "2024-05-28T19:23:23.410155Z"
    },
    "papermill": {
     "duration": 0.032848,
     "end_time": "2024-05-28T19:23:23.414059",
     "exception": false,
     "start_time": "2024-05-28T19:23:23.381211",
     "status": "completed"
    },
    "tags": []
   },
   "outputs": [
    {
     "data": {
      "text/plain": [
       "Parking\n",
       "True     84.751157\n",
       "False    15.248843\n",
       "Name: proportion, dtype: float64"
      ]
     },
     "execution_count": 23,
     "metadata": {},
     "output_type": "execute_result"
    }
   ],
   "source": [
    "df.Parking.value_counts(normalize=True) * 100"
   ]
  },
  {
   "cell_type": "code",
   "execution_count": 24,
   "id": "0eb146d4",
   "metadata": {
    "execution": {
     "iopub.execute_input": "2024-05-28T19:23:23.453656Z",
     "iopub.status.busy": "2024-05-28T19:23:23.452693Z",
     "iopub.status.idle": "2024-05-28T19:23:23.475639Z",
     "shell.execute_reply": "2024-05-28T19:23:23.474653Z"
    },
    "papermill": {
     "duration": 0.045667,
     "end_time": "2024-05-28T19:23:23.478538",
     "exception": false,
     "start_time": "2024-05-28T19:23:23.432871",
     "status": "completed"
    },
    "tags": []
   },
   "outputs": [
    {
     "data": {
      "text/html": [
       "<div>\n",
       "<style scoped>\n",
       "    .dataframe tbody tr th:only-of-type {\n",
       "        vertical-align: middle;\n",
       "    }\n",
       "\n",
       "    .dataframe tbody tr th {\n",
       "        vertical-align: top;\n",
       "    }\n",
       "\n",
       "    .dataframe thead th {\n",
       "        text-align: right;\n",
       "    }\n",
       "</style>\n",
       "<table border=\"1\" class=\"dataframe\">\n",
       "  <thead>\n",
       "    <tr style=\"text-align: right;\">\n",
       "      <th>Room</th>\n",
       "      <th>0</th>\n",
       "      <th>1</th>\n",
       "      <th>2</th>\n",
       "      <th>3</th>\n",
       "      <th>4</th>\n",
       "      <th>5</th>\n",
       "    </tr>\n",
       "    <tr>\n",
       "      <th>Parking</th>\n",
       "      <th></th>\n",
       "      <th></th>\n",
       "      <th></th>\n",
       "      <th></th>\n",
       "      <th></th>\n",
       "      <th></th>\n",
       "    </tr>\n",
       "  </thead>\n",
       "  <tbody>\n",
       "    <tr>\n",
       "      <th>False</th>\n",
       "      <td>8</td>\n",
       "      <td>243</td>\n",
       "      <td>244</td>\n",
       "      <td>26</td>\n",
       "      <td>1</td>\n",
       "      <td>5</td>\n",
       "    </tr>\n",
       "    <tr>\n",
       "      <th>True</th>\n",
       "      <td>2</td>\n",
       "      <td>426</td>\n",
       "      <td>1699</td>\n",
       "      <td>705</td>\n",
       "      <td>69</td>\n",
       "      <td>28</td>\n",
       "    </tr>\n",
       "  </tbody>\n",
       "</table>\n",
       "</div>"
      ],
      "text/plain": [
       "Room     0    1     2    3   4   5\n",
       "Parking                           \n",
       "False    8  243   244   26   1   5\n",
       "True     2  426  1699  705  69  28"
      ]
     },
     "execution_count": 24,
     "metadata": {},
     "output_type": "execute_result"
    }
   ],
   "source": [
    "pd.crosstab(df.Parking, df.Room)"
   ]
  },
  {
   "cell_type": "code",
   "execution_count": 25,
   "id": "617491ea",
   "metadata": {
    "execution": {
     "iopub.execute_input": "2024-05-28T19:23:23.616934Z",
     "iopub.status.busy": "2024-05-28T19:23:23.616498Z",
     "iopub.status.idle": "2024-05-28T19:23:23.628206Z",
     "shell.execute_reply": "2024-05-28T19:23:23.627168Z"
    },
    "papermill": {
     "duration": 0.133441,
     "end_time": "2024-05-28T19:23:23.630956",
     "exception": false,
     "start_time": "2024-05-28T19:23:23.497515",
     "status": "completed"
    },
    "tags": []
   },
   "outputs": [
    {
     "data": {
      "text/plain": [
       "1522"
      ]
     },
     "execution_count": 25,
     "metadata": {},
     "output_type": "execute_result"
    }
   ],
   "source": [
    "below_85_area = df[df.Area <= 85]\n",
    "len(below_85_area)"
   ]
  },
  {
   "cell_type": "code",
   "execution_count": 26,
   "id": "b56d4592",
   "metadata": {
    "execution": {
     "iopub.execute_input": "2024-05-28T19:23:23.671842Z",
     "iopub.status.busy": "2024-05-28T19:23:23.671439Z",
     "iopub.status.idle": "2024-05-28T19:23:23.681753Z",
     "shell.execute_reply": "2024-05-28T19:23:23.680332Z"
    },
    "papermill": {
     "duration": 0.0344,
     "end_time": "2024-05-28T19:23:23.684651",
     "exception": false,
     "start_time": "2024-05-28T19:23:23.650251",
     "status": "completed"
    },
    "tags": []
   },
   "outputs": [
    {
     "data": {
      "text/plain": [
       "Parking\n",
       "True     72.536137\n",
       "False    27.463863\n",
       "Name: proportion, dtype: float64"
      ]
     },
     "execution_count": 26,
     "metadata": {},
     "output_type": "execute_result"
    }
   ],
   "source": [
    "below_85_area.Parking.value_counts(normalize=True) * 100"
   ]
  },
  {
   "cell_type": "code",
   "execution_count": 27,
   "id": "cd195fa0",
   "metadata": {
    "execution": {
     "iopub.execute_input": "2024-05-28T19:23:23.725509Z",
     "iopub.status.busy": "2024-05-28T19:23:23.725087Z",
     "iopub.status.idle": "2024-05-28T19:23:23.736291Z",
     "shell.execute_reply": "2024-05-28T19:23:23.735248Z"
    },
    "papermill": {
     "duration": 0.034852,
     "end_time": "2024-05-28T19:23:23.739185",
     "exception": false,
     "start_time": "2024-05-28T19:23:23.704333",
     "status": "completed"
    },
    "tags": []
   },
   "outputs": [
    {
     "data": {
      "text/plain": [
       "192"
      ]
     },
     "execution_count": 27,
     "metadata": {},
     "output_type": "execute_result"
    }
   ],
   "source": [
    "df.Address.unique().size"
   ]
  },
  {
   "cell_type": "code",
   "execution_count": 28,
   "id": "dce661ce",
   "metadata": {
    "execution": {
     "iopub.execute_input": "2024-05-28T19:23:23.778848Z",
     "iopub.status.busy": "2024-05-28T19:23:23.778456Z",
     "iopub.status.idle": "2024-05-28T19:23:23.784446Z",
     "shell.execute_reply": "2024-05-28T19:23:23.783047Z"
    },
    "papermill": {
     "duration": 0.028952,
     "end_time": "2024-05-28T19:23:23.786926",
     "exception": false,
     "start_time": "2024-05-28T19:23:23.757974",
     "status": "completed"
    },
    "tags": []
   },
   "outputs": [],
   "source": [
    "pd.set_option('display.float_format', lambda x : '%.f' % x)"
   ]
  },
  {
   "cell_type": "code",
   "execution_count": 29,
   "id": "52a74772",
   "metadata": {
    "execution": {
     "iopub.execute_input": "2024-05-28T19:23:23.826816Z",
     "iopub.status.busy": "2024-05-28T19:23:23.826438Z",
     "iopub.status.idle": "2024-05-28T19:23:23.836138Z",
     "shell.execute_reply": "2024-05-28T19:23:23.834883Z"
    },
    "papermill": {
     "duration": 0.032329,
     "end_time": "2024-05-28T19:23:23.838732",
     "exception": false,
     "start_time": "2024-05-28T19:23:23.806403",
     "status": "completed"
    },
    "tags": []
   },
   "outputs": [
    {
     "data": {
      "text/plain": [
       "Room\n",
       "0    7860500000\n",
       "1    1707480867\n",
       "2    3330303037\n",
       "3   10938692886\n",
       "4   25600328571\n",
       "5   33734393939\n",
       "Name: Price, dtype: float64"
      ]
     },
     "execution_count": 29,
     "metadata": {},
     "output_type": "execute_result"
    }
   ],
   "source": [
    "#pd.set_option('display.float_format', lambda x : f\"{x:,}\")\n",
    "df.groupby('Room')['Price'].mean()"
   ]
  },
  {
   "cell_type": "code",
   "execution_count": 30,
   "id": "93d28f0b",
   "metadata": {
    "execution": {
     "iopub.execute_input": "2024-05-28T19:23:23.879075Z",
     "iopub.status.busy": "2024-05-28T19:23:23.878491Z",
     "iopub.status.idle": "2024-05-28T19:23:23.896241Z",
     "shell.execute_reply": "2024-05-28T19:23:23.895029Z"
    },
    "papermill": {
     "duration": 0.041602,
     "end_time": "2024-05-28T19:23:23.899251",
     "exception": false,
     "start_time": "2024-05-28T19:23:23.857649",
     "status": "completed"
    },
    "tags": []
   },
   "outputs": [
    {
     "data": {
      "text/html": [
       "<div>\n",
       "<style scoped>\n",
       "    .dataframe tbody tr th:only-of-type {\n",
       "        vertical-align: middle;\n",
       "    }\n",
       "\n",
       "    .dataframe tbody tr th {\n",
       "        vertical-align: top;\n",
       "    }\n",
       "\n",
       "    .dataframe thead th {\n",
       "        text-align: right;\n",
       "    }\n",
       "</style>\n",
       "<table border=\"1\" class=\"dataframe\">\n",
       "  <thead>\n",
       "    <tr style=\"text-align: right;\">\n",
       "      <th></th>\n",
       "      <th>Room</th>\n",
       "      <th>Parking</th>\n",
       "      <th>Price</th>\n",
       "    </tr>\n",
       "  </thead>\n",
       "  <tbody>\n",
       "    <tr>\n",
       "      <th>0</th>\n",
       "      <td>0</td>\n",
       "      <td>False</td>\n",
       "      <td>9769750000</td>\n",
       "    </tr>\n",
       "    <tr>\n",
       "      <th>1</th>\n",
       "      <td>0</td>\n",
       "      <td>True</td>\n",
       "      <td>223500000</td>\n",
       "    </tr>\n",
       "    <tr>\n",
       "      <th>2</th>\n",
       "      <td>1</td>\n",
       "      <td>False</td>\n",
       "      <td>1139677778</td>\n",
       "    </tr>\n",
       "    <tr>\n",
       "      <th>3</th>\n",
       "      <td>1</td>\n",
       "      <td>True</td>\n",
       "      <td>2031368545</td>\n",
       "    </tr>\n",
       "    <tr>\n",
       "      <th>4</th>\n",
       "      <td>2</td>\n",
       "      <td>False</td>\n",
       "      <td>1501674180</td>\n",
       "    </tr>\n",
       "    <tr>\n",
       "      <th>5</th>\n",
       "      <td>2</td>\n",
       "      <td>True</td>\n",
       "      <td>3592919541</td>\n",
       "    </tr>\n",
       "    <tr>\n",
       "      <th>6</th>\n",
       "      <td>3</td>\n",
       "      <td>False</td>\n",
       "      <td>5107865385</td>\n",
       "    </tr>\n",
       "    <tr>\n",
       "      <th>7</th>\n",
       "      <td>3</td>\n",
       "      <td>True</td>\n",
       "      <td>11153730496</td>\n",
       "    </tr>\n",
       "    <tr>\n",
       "      <th>8</th>\n",
       "      <td>4</td>\n",
       "      <td>False</td>\n",
       "      <td>6200000000</td>\n",
       "    </tr>\n",
       "    <tr>\n",
       "      <th>9</th>\n",
       "      <td>4</td>\n",
       "      <td>True</td>\n",
       "      <td>25881492754</td>\n",
       "    </tr>\n",
       "    <tr>\n",
       "      <th>10</th>\n",
       "      <td>5</td>\n",
       "      <td>False</td>\n",
       "      <td>9999000000</td>\n",
       "    </tr>\n",
       "    <tr>\n",
       "      <th>11</th>\n",
       "      <td>5</td>\n",
       "      <td>True</td>\n",
       "      <td>37972857143</td>\n",
       "    </tr>\n",
       "  </tbody>\n",
       "</table>\n",
       "</div>"
      ],
      "text/plain": [
       "    Room  Parking       Price\n",
       "0      0    False  9769750000\n",
       "1      0     True   223500000\n",
       "2      1    False  1139677778\n",
       "3      1     True  2031368545\n",
       "4      2    False  1501674180\n",
       "5      2     True  3592919541\n",
       "6      3    False  5107865385\n",
       "7      3     True 11153730496\n",
       "8      4    False  6200000000\n",
       "9      4     True 25881492754\n",
       "10     5    False  9999000000\n",
       "11     5     True 37972857143"
      ]
     },
     "execution_count": 30,
     "metadata": {},
     "output_type": "execute_result"
    }
   ],
   "source": [
    "room_parking_room_mean_df = df.groupby(['Room', 'Parking'])['Price'].mean().reset_index()\n",
    "room_parking_room_mean_df"
   ]
  },
  {
   "cell_type": "code",
   "execution_count": 31,
   "id": "a34b3be4",
   "metadata": {
    "execution": {
     "iopub.execute_input": "2024-05-28T19:23:23.941765Z",
     "iopub.status.busy": "2024-05-28T19:23:23.941350Z",
     "iopub.status.idle": "2024-05-28T19:23:23.947364Z",
     "shell.execute_reply": "2024-05-28T19:23:23.946206Z"
    },
    "papermill": {
     "duration": 0.030546,
     "end_time": "2024-05-28T19:23:23.950142",
     "exception": false,
     "start_time": "2024-05-28T19:23:23.919596",
     "status": "completed"
    },
    "tags": []
   },
   "outputs": [],
   "source": [
    "df_2 = df.copy()"
   ]
  },
  {
   "cell_type": "code",
   "execution_count": 32,
   "id": "c7df2418",
   "metadata": {
    "execution": {
     "iopub.execute_input": "2024-05-28T19:23:23.992641Z",
     "iopub.status.busy": "2024-05-28T19:23:23.992193Z",
     "iopub.status.idle": "2024-05-28T19:23:24.015104Z",
     "shell.execute_reply": "2024-05-28T19:23:24.013646Z"
    },
    "papermill": {
     "duration": 0.046866,
     "end_time": "2024-05-28T19:23:24.017504",
     "exception": false,
     "start_time": "2024-05-28T19:23:23.970638",
     "status": "completed"
    },
    "tags": []
   },
   "outputs": [
    {
     "data": {
      "text/html": [
       "<div>\n",
       "<style scoped>\n",
       "    .dataframe tbody tr th:only-of-type {\n",
       "        vertical-align: middle;\n",
       "    }\n",
       "\n",
       "    .dataframe tbody tr th {\n",
       "        vertical-align: top;\n",
       "    }\n",
       "\n",
       "    .dataframe thead th {\n",
       "        text-align: right;\n",
       "    }\n",
       "</style>\n",
       "<table border=\"1\" class=\"dataframe\">\n",
       "  <thead>\n",
       "    <tr style=\"text-align: right;\">\n",
       "      <th></th>\n",
       "      <th>Area</th>\n",
       "      <th>Room</th>\n",
       "      <th>Parking</th>\n",
       "      <th>Warehouse</th>\n",
       "      <th>Elevator</th>\n",
       "      <th>Address</th>\n",
       "      <th>Price</th>\n",
       "    </tr>\n",
       "  </thead>\n",
       "  <tbody>\n",
       "    <tr>\n",
       "      <th>0</th>\n",
       "      <td>63</td>\n",
       "      <td>1</td>\n",
       "      <td>True</td>\n",
       "      <td>True</td>\n",
       "      <td>True</td>\n",
       "      <td>Shahran</td>\n",
       "      <td>1,850,000,000</td>\n",
       "    </tr>\n",
       "    <tr>\n",
       "      <th>1</th>\n",
       "      <td>60</td>\n",
       "      <td>1</td>\n",
       "      <td>True</td>\n",
       "      <td>True</td>\n",
       "      <td>True</td>\n",
       "      <td>Shahran</td>\n",
       "      <td>1,850,000,000</td>\n",
       "    </tr>\n",
       "    <tr>\n",
       "      <th>2</th>\n",
       "      <td>79</td>\n",
       "      <td>2</td>\n",
       "      <td>True</td>\n",
       "      <td>True</td>\n",
       "      <td>True</td>\n",
       "      <td>Pardis</td>\n",
       "      <td>550,000,000</td>\n",
       "    </tr>\n",
       "    <tr>\n",
       "      <th>3</th>\n",
       "      <td>95</td>\n",
       "      <td>2</td>\n",
       "      <td>True</td>\n",
       "      <td>True</td>\n",
       "      <td>True</td>\n",
       "      <td>Shahrake Qods</td>\n",
       "      <td>902,500,000</td>\n",
       "    </tr>\n",
       "    <tr>\n",
       "      <th>4</th>\n",
       "      <td>123</td>\n",
       "      <td>2</td>\n",
       "      <td>True</td>\n",
       "      <td>True</td>\n",
       "      <td>True</td>\n",
       "      <td>Shahrake Gharb</td>\n",
       "      <td>7,000,000,000</td>\n",
       "    </tr>\n",
       "    <tr>\n",
       "      <th>...</th>\n",
       "      <td>...</td>\n",
       "      <td>...</td>\n",
       "      <td>...</td>\n",
       "      <td>...</td>\n",
       "      <td>...</td>\n",
       "      <td>...</td>\n",
       "      <td>...</td>\n",
       "    </tr>\n",
       "    <tr>\n",
       "      <th>3474</th>\n",
       "      <td>86</td>\n",
       "      <td>2</td>\n",
       "      <td>True</td>\n",
       "      <td>True</td>\n",
       "      <td>True</td>\n",
       "      <td>Southern Janatabad</td>\n",
       "      <td>3,500,000,000</td>\n",
       "    </tr>\n",
       "    <tr>\n",
       "      <th>3475</th>\n",
       "      <td>83</td>\n",
       "      <td>2</td>\n",
       "      <td>True</td>\n",
       "      <td>True</td>\n",
       "      <td>True</td>\n",
       "      <td>Niavaran</td>\n",
       "      <td>6,800,000,000</td>\n",
       "    </tr>\n",
       "    <tr>\n",
       "      <th>3476</th>\n",
       "      <td>75</td>\n",
       "      <td>2</td>\n",
       "      <td>False</td>\n",
       "      <td>False</td>\n",
       "      <td>False</td>\n",
       "      <td>Parand</td>\n",
       "      <td>365,000,000</td>\n",
       "    </tr>\n",
       "    <tr>\n",
       "      <th>3477</th>\n",
       "      <td>105</td>\n",
       "      <td>2</td>\n",
       "      <td>True</td>\n",
       "      <td>True</td>\n",
       "      <td>True</td>\n",
       "      <td>Dorous</td>\n",
       "      <td>5,600,000,000</td>\n",
       "    </tr>\n",
       "    <tr>\n",
       "      <th>3478</th>\n",
       "      <td>82</td>\n",
       "      <td>2</td>\n",
       "      <td>False</td>\n",
       "      <td>True</td>\n",
       "      <td>True</td>\n",
       "      <td>Parand</td>\n",
       "      <td>360,000,000</td>\n",
       "    </tr>\n",
       "  </tbody>\n",
       "</table>\n",
       "<p>3456 rows × 7 columns</p>\n",
       "</div>"
      ],
      "text/plain": [
       "      Area  Room  Parking  Warehouse  Elevator             Address  \\\n",
       "0       63     1     True       True      True             Shahran   \n",
       "1       60     1     True       True      True             Shahran   \n",
       "2       79     2     True       True      True              Pardis   \n",
       "3       95     2     True       True      True       Shahrake Qods   \n",
       "4      123     2     True       True      True      Shahrake Gharb   \n",
       "...    ...   ...      ...        ...       ...                 ...   \n",
       "3474    86     2     True       True      True  Southern Janatabad   \n",
       "3475    83     2     True       True      True            Niavaran   \n",
       "3476    75     2    False      False     False              Parand   \n",
       "3477   105     2     True       True      True              Dorous   \n",
       "3478    82     2    False       True      True              Parand   \n",
       "\n",
       "              Price  \n",
       "0     1,850,000,000  \n",
       "1     1,850,000,000  \n",
       "2       550,000,000  \n",
       "3       902,500,000  \n",
       "4     7,000,000,000  \n",
       "...             ...  \n",
       "3474  3,500,000,000  \n",
       "3475  6,800,000,000  \n",
       "3476    365,000,000  \n",
       "3477  5,600,000,000  \n",
       "3478    360,000,000  \n",
       "\n",
       "[3456 rows x 7 columns]"
      ]
     },
     "execution_count": 32,
     "metadata": {},
     "output_type": "execute_result"
    }
   ],
   "source": [
    "df_2.loc[:, 'Price'] = df.Price.map(\"{:,.0f}\".format)\n",
    "df_2"
   ]
  },
  {
   "cell_type": "code",
   "execution_count": 33,
   "id": "6ad8ff92",
   "metadata": {
    "execution": {
     "iopub.execute_input": "2024-05-28T19:23:24.059488Z",
     "iopub.status.busy": "2024-05-28T19:23:24.059078Z",
     "iopub.status.idle": "2024-05-28T19:23:24.680676Z",
     "shell.execute_reply": "2024-05-28T19:23:24.679442Z"
    },
    "papermill": {
     "duration": 0.6461,
     "end_time": "2024-05-28T19:23:24.683143",
     "exception": false,
     "start_time": "2024-05-28T19:23:24.037043",
     "status": "completed"
    },
    "tags": []
   },
   "outputs": [
    {
     "data": {
      "text/plain": [
       "<Figure size 800x600 with 0 Axes>"
      ]
     },
     "metadata": {},
     "output_type": "display_data"
    },
    {
     "data": {
      "image/png": "[encoded data removed]",
      "text/plain": [
       "<Figure size 500x500 with 1 Axes>"
      ]
     },
     "metadata": {},
     "output_type": "display_data"
    }
   ],
   "source": [
    "plt.figure(figsize=(8, 6))\n",
    "sns.displot(df.Price, bins=30, kde=True)\n",
    "plt.show()"
   ]
  },
  {
   "cell_type": "code",
   "execution_count": 34,
   "id": "6282831c",
   "metadata": {
    "execution": {
     "iopub.execute_input": "2024-05-28T19:23:24.725634Z",
     "iopub.status.busy": "2024-05-28T19:23:24.725227Z",
     "iopub.status.idle": "2024-05-28T19:23:25.164302Z",
     "shell.execute_reply": "2024-05-28T19:23:25.162834Z"
    },
    "papermill": {
     "duration": 0.463743,
     "end_time": "2024-05-28T19:23:25.167074",
     "exception": false,
     "start_time": "2024-05-28T19:23:24.703331",
     "status": "completed"
    },
    "tags": []
   },
   "outputs": [
    {
     "data": {
      "image/png": "[encoded data removed]",
      "text/plain": [
       "<Figure size 800x550 with 2 Axes>"
      ]
     },
     "metadata": {},
     "output_type": "display_data"
    }
   ],
   "source": [
    "sns.heatmap(df.drop('Address', axis=1).corr(), annot=True, cmap='RdYlGn')\n",
    "plt.show()"
   ]
  },
  {
   "cell_type": "code",
   "execution_count": 35,
   "id": "293f7521",
   "metadata": {
    "execution": {
     "iopub.execute_input": "2024-05-28T19:23:25.211491Z",
     "iopub.status.busy": "2024-05-28T19:23:25.211089Z",
     "iopub.status.idle": "2024-05-28T19:23:25.923285Z",
     "shell.execute_reply": "2024-05-28T19:23:25.922087Z"
    },
    "papermill": {
     "duration": 0.73768,
     "end_time": "2024-05-28T19:23:25.926203",
     "exception": false,
     "start_time": "2024-05-28T19:23:25.188523",
     "status": "completed"
    },
    "tags": []
   },
   "outputs": [
    {
     "data": {
      "image/png": "[encoded data removed]",
      "text/plain": [
       "<Figure size 1800x600 with 3 Axes>"
      ]
     },
     "metadata": {},
     "output_type": "display_data"
    }
   ],
   "source": [
    "fig, ax = plt.subplots(ncols=3, figsize=(18,6))\n",
    "\n",
    "colors = [['#ADEFD1FF', '#00203FFF'], ['#97BC62FF', '#2C5F2D'], ['#F5C7B8FF', '#FFA177FF']]\n",
    "explode = [0, 0.2]\n",
    "columns = ['Parking', 'Warehouse', 'Elevator']\n",
    "\n",
    "for i in range(3):\n",
    "        data = df[columns[i]].value_counts()\n",
    "        ax[i].pie(data, labels=data.values, explode=explode, colors=colors[i], shadow=True)\n",
    "        ax[i].legend(labels=data.index, fontsize='large')\n",
    "        ax[i].set_title('{} distribution'.format(columns[i]))"
   ]
  },
  {
   "cell_type": "code",
   "execution_count": 36,
   "id": "19ce7f29",
   "metadata": {
    "execution": {
     "iopub.execute_input": "2024-05-28T19:23:25.979098Z",
     "iopub.status.busy": "2024-05-28T19:23:25.978380Z",
     "iopub.status.idle": "2024-05-28T19:23:25.991073Z",
     "shell.execute_reply": "2024-05-28T19:23:25.989743Z"
    },
    "papermill": {
     "duration": 0.04378,
     "end_time": "2024-05-28T19:23:25.994005",
     "exception": false,
     "start_time": "2024-05-28T19:23:25.950225",
     "status": "completed"
    },
    "tags": []
   },
   "outputs": [
    {
     "data": {
      "text/plain": [
       "Address\n",
       "Punak                     161\n",
       "Pardis                    146\n",
       "West Ferdows Boulevard    145\n",
       "Gheitarieh                141\n",
       "Shahran                   130\n",
       "Saadat Abad               129\n",
       "Parand                    127\n",
       "Shahr-e-Ziba              109\n",
       "Name: count, dtype: int64"
      ]
     },
     "execution_count": 36,
     "metadata": {},
     "output_type": "execute_result"
    }
   ],
   "source": [
    "df3_address = df.Address.value_counts().copy()\n",
    "df3_address = df3_address[:8]\n",
    "df3_address"
   ]
  },
  {
   "cell_type": "code",
   "execution_count": 37,
   "id": "5176ddf6",
   "metadata": {
    "execution": {
     "iopub.execute_input": "2024-05-28T19:23:26.044136Z",
     "iopub.status.busy": "2024-05-28T19:23:26.043695Z",
     "iopub.status.idle": "2024-05-28T19:23:26.440379Z",
     "shell.execute_reply": "2024-05-28T19:23:26.438892Z"
    },
    "papermill": {
     "duration": 0.42497,
     "end_time": "2024-05-28T19:23:26.443510",
     "exception": false,
     "start_time": "2024-05-28T19:23:26.018540",
     "status": "completed"
    },
    "tags": []
   },
   "outputs": [
    {
     "data": {
      "image/png": "[encoded data removed]",
      "text/plain": [
       "<Figure size 600x1000 with 1 Axes>"
      ]
     },
     "metadata": {},
     "output_type": "display_data"
    }
   ],
   "source": [
    "fig, ax = plt.subplots(figsize=(6,10))\n",
    "sns.barplot(x=df3_address.values, y=df3_address.index, ax=ax)\n",
    "plt.xlabel('Numerical amount of flats')\n",
    "plt.title('Number of flats in location')\n",
    "plt.show()"
   ]
  },
  {
   "cell_type": "code",
   "execution_count": 38,
   "id": "8db4fd25",
   "metadata": {
    "execution": {
     "iopub.execute_input": "2024-05-28T19:23:26.495224Z",
     "iopub.status.busy": "2024-05-28T19:23:26.494768Z",
     "iopub.status.idle": "2024-05-28T19:23:26.513168Z",
     "shell.execute_reply": "2024-05-28T19:23:26.511937Z"
    },
    "papermill": {
     "duration": 0.047838,
     "end_time": "2024-05-28T19:23:26.515978",
     "exception": false,
     "start_time": "2024-05-28T19:23:26.468140",
     "status": "completed"
    },
    "tags": []
   },
   "outputs": [
    {
     "data": {
      "text/html": [
       "<div>\n",
       "<style scoped>\n",
       "    .dataframe tbody tr th:only-of-type {\n",
       "        vertical-align: middle;\n",
       "    }\n",
       "\n",
       "    .dataframe tbody tr th {\n",
       "        vertical-align: top;\n",
       "    }\n",
       "\n",
       "    .dataframe thead th {\n",
       "        text-align: right;\n",
       "    }\n",
       "</style>\n",
       "<table border=\"1\" class=\"dataframe\">\n",
       "  <thead>\n",
       "    <tr style=\"text-align: right;\">\n",
       "      <th></th>\n",
       "      <th>Address</th>\n",
       "      <th>Price</th>\n",
       "    </tr>\n",
       "  </thead>\n",
       "  <tbody>\n",
       "    <tr>\n",
       "      <th>1707</th>\n",
       "      <td>Zaferanieh</td>\n",
       "      <td>92400000000</td>\n",
       "    </tr>\n",
       "    <tr>\n",
       "      <th>1810</th>\n",
       "      <td>Abazar</td>\n",
       "      <td>91000000000</td>\n",
       "    </tr>\n",
       "    <tr>\n",
       "      <th>430</th>\n",
       "      <td>Lavasan</td>\n",
       "      <td>85000000000</td>\n",
       "    </tr>\n",
       "    <tr>\n",
       "      <th>819</th>\n",
       "      <td>Ekhtiarieh</td>\n",
       "      <td>81600000000</td>\n",
       "    </tr>\n",
       "    <tr>\n",
       "      <th>1332</th>\n",
       "      <td>Niavaran</td>\n",
       "      <td>80500000000</td>\n",
       "    </tr>\n",
       "    <tr>\n",
       "      <th>1694</th>\n",
       "      <td>Zafar</td>\n",
       "      <td>80000000000</td>\n",
       "    </tr>\n",
       "    <tr>\n",
       "      <th>3051</th>\n",
       "      <td>Dorous</td>\n",
       "      <td>79500000000</td>\n",
       "    </tr>\n",
       "    <tr>\n",
       "      <th>3107</th>\n",
       "      <td>Tajrish</td>\n",
       "      <td>75600000000</td>\n",
       "    </tr>\n",
       "    <tr>\n",
       "      <th>831</th>\n",
       "      <td>Mahmoudieh</td>\n",
       "      <td>75000000000</td>\n",
       "    </tr>\n",
       "    <tr>\n",
       "      <th>2394</th>\n",
       "      <td>Aqdasieh</td>\n",
       "      <td>74400000000</td>\n",
       "    </tr>\n",
       "  </tbody>\n",
       "</table>\n",
       "</div>"
      ],
      "text/plain": [
       "         Address       Price\n",
       "1707  Zaferanieh 92400000000\n",
       "1810      Abazar 91000000000\n",
       "430      Lavasan 85000000000\n",
       "819   Ekhtiarieh 81600000000\n",
       "1332    Niavaran 80500000000\n",
       "1694       Zafar 80000000000\n",
       "3051      Dorous 79500000000\n",
       "3107     Tajrish 75600000000\n",
       "831   Mahmoudieh 75000000000\n",
       "2394    Aqdasieh 74400000000"
      ]
     },
     "execution_count": 38,
     "metadata": {},
     "output_type": "execute_result"
    }
   ],
   "source": [
    "df.sort_values('Price', ascending=False)[['Address', 'Price']].head(10)"
   ]
  },
  {
   "cell_type": "code",
   "execution_count": null,
   "id": "0bb9664f",
   "metadata": {
    "papermill": {
     "duration": 0.023935,
     "end_time": "2024-05-28T19:23:26.564911",
     "exception": false,
     "start_time": "2024-05-28T19:23:26.540976",
     "status": "completed"
    },
    "tags": []
   },
   "outputs": [],
   "source": []
  }
 ],
 "metadata": {
  "kaggle": {
   "accelerator": "none",
   "dataSources": [
    {
     "datasetId": 1573831,
     "sourceId": 2590700,
     "sourceType": "datasetVersion"
    }
   ],
   "dockerImageVersionId": 30698,
   "isGpuEnabled": false,
   "isInternetEnabled": true,
   "language": "python",
   "sourceType": "notebook"
  },
  "kernelspec": {
   "display_name": "Python 3",
   "language": "python",
   "name": "python3"
  },
  "language_info": {
   "codemirror_mode": {
    "name": "ipython",
    "version": 3
   },
   "file_extension": ".py",
   "mimetype": "text/x-python",
   "name": "python",
   "nbconvert_exporter": "python",
   "pygments_lexer": "ipython3",
   "version": "3.10.13"
  },
  "papermill": {
   "default_parameters": {},
   "duration": 205.039419,
   "end_time": "2024-05-28T19:23:29.213456",
   "environment_variables": {},
   "exception": null,
   "input_path": "__notebook__.ipynb",
   "output_path": "__notebook__.ipynb",
   "parameters": {},
   "start_time": "2024-05-28T19:20:04.174037",
   "version": "2.5.0"
  },
  "widgets": {
   "application/vnd.jupyter.widget-state+json": {
    "state": {
     "009046b787754a6cb1c054a70c0edd25": {
      "model_module": "@jupyter-widgets/controls",
      "model_module_version": "1.5.0",
      "model_name": "HTMLModel",
      "state": {
       "_dom_classes": [],
       "_model_module": "@jupyter-widgets/controls",
       "_model_module_version": "1.5.0",
       "_model_name": "HTMLModel",
       "_view_count": null,
       "_view_module": "@jupyter-widgets/controls",
       "_view_module_version": "1.5.0",
       "_view_name": "HTMLView",
       "description": "",
       "description_tooltip": null,
       "layout": "IPY_MODEL_95390cd94f6e4edc8bd6ad4786138e01",
       "placeholder": "​",
       "style": "IPY_MODEL_36902a7ec7c84f379ecfa15ec583f870",
       "value": "Processing: 100%"
      }
     },
     "02882e2399064f68a4b129249e07dd9a": {
      "model_module": "@jupyter-widgets/controls",
      "model_module_version": "1.5.0",
      "model_name": "HTMLModel",
      "state": {
       "_dom_classes": [],
       "_model_module": "@jupyter-widgets/controls",
       "_model_module_version": "1.5.0",
       "_model_name": "HTMLModel",
       "_view_count": null,
       "_view_module": "@jupyter-widgets/controls",
       "_view_module_version": "1.5.0",
       "_view_name": "HTMLView",
       "description": "",
       "description_tooltip": null,
       "layout": "IPY_MODEL_0449ad2ee2454ffabe72abe66734c41e",
       "placeholder": "​",
       "style": "IPY_MODEL_e53ee141e2b4488695712e1d490fa9cc",
       "value": " 4/4 [00:08&lt;00:00,  2.04s/it]"
      }
     },
     "030f2438d3f045adb4ba540ad1dcc329": {
      "model_module": "@jupyter-widgets/base",
      "model_module_version": "1.2.0",
      "model_name": "LayoutModel",
      "state": {
       "_model_module": "@jupyter-widgets/base",
       "_model_module_version": "1.2.0",
       "_model_name": "LayoutModel",
       "_view_count": null,
       "_view_module": "@jupyter-widgets/base",
       "_view_module_version": "1.2.0",
       "_view_name": "LayoutView",
       "align_content": null,
       "align_items": null,
       "align_self": null,
       "border": null,
       "bottom": null,
       "display": null,
       "flex": null,
       "flex_flow": null,
       "grid_area": null,
       "grid_auto_columns": null,
       "grid_auto_flow": null,
       "grid_auto_rows": null,
       "grid_column": null,
       "grid_gap": null,
       "grid_row": null,
       "grid_template_areas": null,
       "grid_template_columns": null,
       "grid_template_rows": null,
       "height": null,
       "justify_content": null,
       "justify_items": null,
       "left": null,
       "margin": null,
       "max_height": null,
       "max_width": null,
       "min_height": null,
       "min_width": null,
       "object_fit": null,
       "object_position": null,
       "order": null,
       "overflow": null,
       "overflow_x": null,
       "overflow_y": null,
       "padding": null,
       "right": null,
       "top": null,
       "visibility": null,
       "width": null
      }
     },
     "0449ad2ee2454ffabe72abe66734c41e": {
      "model_module": "@jupyter-widgets/base",
      "model_module_version": "1.2.0",
      "model_name": "LayoutModel",
      "state": {
       "_model_module": "@jupyter-widgets/base",
       "_model_module_version": "1.2.0",
       "_model_name": "LayoutModel",
       "_view_count": null,
       "_view_module": "@jupyter-widgets/base",
       "_view_module_version": "1.2.0",
       "_view_name": "LayoutView",
       "align_content": null,
       "align_items": null,
       "align_self": null,
       "border": null,
       "bottom": null,
       "display": null,
       "flex": null,
       "flex_flow": null,
       "grid_area": null,
       "grid_auto_columns": null,
       "grid_auto_flow": null,
       "grid_auto_rows": null,
       "grid_column": null,
       "grid_gap": null,
       "grid_row": null,
       "grid_template_areas": null,
       "grid_template_columns": null,
       "grid_template_rows": null,
       "height": null,
       "justify_content": null,
       "justify_items": null,
       "left": null,
       "margin": null,
       "max_height": null,
       "max_width": null,
       "min_height": null,
       "min_width": null,
       "object_fit": null,
       "object_position": null,
       "order": null,
       "overflow": null,
       "overflow_x": null,
       "overflow_y": null,
       "padding": null,
       "right": null,
       "top": null,
       "visibility": null,
       "width": null
      }
     },
     "08da4d84b4c843a491061235530d0f2b": {
      "model_module": "@jupyter-widgets/controls",
      "model_module_version": "1.5.0",
      "model_name": "DescriptionStyleModel",
      "state": {
       "_model_module": "@jupyter-widgets/controls",
       "_model_module_version": "1.5.0",
       "_model_name": "DescriptionStyleModel",
       "_view_count": null,
       "_view_module": "@jupyter-widgets/base",
       "_view_module_version": "1.2.0",
       "_view_name": "StyleView",
       "description_width": ""
      }
     },
     "36902a7ec7c84f379ecfa15ec583f870": {
      "model_module": "@jupyter-widgets/controls",
      "model_module_version": "1.5.0",
      "model_name": "DescriptionStyleModel",
      "state": {
       "_model_module": "@jupyter-widgets/controls",
       "_model_module_version": "1.5.0",
       "_model_name": "DescriptionStyleModel",
       "_view_count": null,
       "_view_module": "@jupyter-widgets/base",
       "_view_module_version": "1.2.0",
       "_view_name": "StyleView",
       "description_width": ""
      }
     },
     "37d6221154c8423fac57b3d1e0477566": {
      "model_module": "@jupyter-widgets/controls",
      "model_module_version": "1.5.0",
      "model_name": "HTMLModel",
      "state": {
       "_dom_classes": [],
       "_model_module": "@jupyter-widgets/controls",
       "_model_module_version": "1.5.0",
       "_model_name": "HTMLModel",
       "_view_count": null,
       "_view_module": "@jupyter-widgets/controls",
       "_view_module_version": "1.5.0",
       "_view_name": "HTMLView",
       "description": "",
       "description_tooltip": null,
       "layout": "IPY_MODEL_d332813a7e5744ab8bf5b4d6204d1726",
       "placeholder": "​",
       "style": "IPY_MODEL_5e4f453bd3c945d5b59da1afd19ea6b3",
       "value": " 85/85 [01:18&lt;00:00,  1.47s/it]"
      }
     },
     "5e46d59c4e2d45d79a9f9e19dc2fbb44": {
      "model_module": "@jupyter-widgets/controls",
      "model_module_version": "1.5.0",
      "model_name": "HBoxModel",
      "state": {
       "_dom_classes": [],
       "_model_module": "@jupyter-widgets/controls",
       "_model_module_version": "1.5.0",
       "_model_name": "HBoxModel",
       "_view_count": null,
       "_view_module": "@jupyter-widgets/controls",
       "_view_module_version": "1.5.0",
       "_view_name": "HBoxView",
       "box_style": "",
       "children": [
        "IPY_MODEL_009046b787754a6cb1c054a70c0edd25",
        "IPY_MODEL_d3ba07329d714a888406c1fd781ae7c9",
        "IPY_MODEL_37d6221154c8423fac57b3d1e0477566"
       ],
       "layout": "IPY_MODEL_d2a5efbe06ef4da1b589a5f87b9da443"
      }
     },
     "5e4f453bd3c945d5b59da1afd19ea6b3": {
      "model_module": "@jupyter-widgets/controls",
      "model_module_version": "1.5.0",
      "model_name": "DescriptionStyleModel",
      "state": {
       "_model_module": "@jupyter-widgets/controls",
       "_model_module_version": "1.5.0",
       "_model_name": "DescriptionStyleModel",
       "_view_count": null,
       "_view_module": "@jupyter-widgets/base",
       "_view_module_version": "1.2.0",
       "_view_name": "StyleView",
       "description_width": ""
      }
     },
     "67a734901f8a4e3893fe0d823dad3374": {
      "model_module": "@jupyter-widgets/base",
      "model_module_version": "1.2.0",
      "model_name": "LayoutModel",
      "state": {
       "_model_module": "@jupyter-widgets/base",
       "_model_module_version": "1.2.0",
       "_model_name": "LayoutModel",
       "_view_count": null,
       "_view_module": "@jupyter-widgets/base",
       "_view_module_version": "1.2.0",
       "_view_name": "LayoutView",
       "align_content": null,
       "align_items": null,
       "align_self": null,
       "border": null,
       "bottom": null,
       "display": null,
       "flex": null,
       "flex_flow": null,
       "grid_area": null,
       "grid_auto_columns": null,
       "grid_auto_flow": null,
       "grid_auto_rows": null,
       "grid_column": null,
       "grid_gap": null,
       "grid_row": null,
       "grid_template_areas": null,
       "grid_template_columns": null,
       "grid_template_rows": null,
       "height": null,
       "justify_content": null,
       "justify_items": null,
       "left": null,
       "margin": null,
       "max_height": null,
       "max_width": null,
       "min_height": null,
       "min_width": null,
       "object_fit": null,
       "object_position": null,
       "order": null,
       "overflow": null,
       "overflow_x": null,
       "overflow_y": null,
       "padding": null,
       "right": null,
       "top": null,
       "visibility": null,
       "width": null
      }
     },
     "6dc0fcbee380448f8f230a557bca0d8d": {
      "model_module": "@jupyter-widgets/controls",
      "model_module_version": "1.5.0",
      "model_name": "HTMLModel",
      "state": {
       "_dom_classes": [],
       "_model_module": "@jupyter-widgets/controls",
       "_model_module_version": "1.5.0",
       "_model_name": "HTMLModel",
       "_view_count": null,
       "_view_module": "@jupyter-widgets/controls",
       "_view_module_version": "1.5.0",
       "_view_name": "HTMLView",
       "description": "",
       "description_tooltip": null,
       "layout": "IPY_MODEL_866d3b55b52c44efbc7b18cf25124f20",
       "placeholder": "​",
       "style": "IPY_MODEL_08da4d84b4c843a491061235530d0f2b",
       "value": "Processing: 100%"
      }
     },
     "866d3b55b52c44efbc7b18cf25124f20": {
      "model_module": "@jupyter-widgets/base",
      "model_module_version": "1.2.0",
      "model_name": "LayoutModel",
      "state": {
       "_model_module": "@jupyter-widgets/base",
       "_model_module_version": "1.2.0",
       "_model_name": "LayoutModel",
       "_view_count": null,
       "_view_module": "@jupyter-widgets/base",
       "_view_module_version": "1.2.0",
       "_view_name": "LayoutView",
       "align_content": null,
       "align_items": null,
       "align_self": null,
       "border": null,
       "bottom": null,
       "display": null,
       "flex": null,
       "flex_flow": null,
       "grid_area": null,
       "grid_auto_columns": null,
       "grid_auto_flow": null,
       "grid_auto_rows": null,
       "grid_column": null,
       "grid_gap": null,
       "grid_row": null,
       "grid_template_areas": null,
       "grid_template_columns": null,
       "grid_template_rows": null,
       "height": null,
       "justify_content": null,
       "justify_items": null,
       "left": null,
       "margin": null,
       "max_height": null,
       "max_width": null,
       "min_height": null,
       "min_width": null,
       "object_fit": null,
       "object_position": null,
       "order": null,
       "overflow": null,
       "overflow_x": null,
       "overflow_y": null,
       "padding": null,
       "right": null,
       "top": null,
       "visibility": null,
       "width": null
      }
     },
     "95390cd94f6e4edc8bd6ad4786138e01": {
      "model_module": "@jupyter-widgets/base",
      "model_module_version": "1.2.0",
      "model_name": "LayoutModel",
      "state": {
       "_model_module": "@jupyter-widgets/base",
       "_model_module_version": "1.2.0",
       "_model_name": "LayoutModel",
       "_view_count": null,
       "_view_module": "@jupyter-widgets/base",
       "_view_module_version": "1.2.0",
       "_view_name": "LayoutView",
       "align_content": null,
       "align_items": null,
       "align_self": null,
       "border": null,
       "bottom": null,
       "display": null,
       "flex": null,
       "flex_flow": null,
       "grid_area": null,
       "grid_auto_columns": null,
       "grid_auto_flow": null,
       "grid_auto_rows": null,
       "grid_column": null,
       "grid_gap": null,
       "grid_row": null,
       "grid_template_areas": null,
       "grid_template_columns": null,
       "grid_template_rows": null,
       "height": null,
       "justify_content": null,
       "justify_items": null,
       "left": null,
       "margin": null,
       "max_height": null,
       "max_width": null,
       "min_height": null,
       "min_width": null,
       "object_fit": null,
       "object_position": null,
       "order": null,
       "overflow": null,
       "overflow_x": null,
       "overflow_y": null,
       "padding": null,
       "right": null,
       "top": null,
       "visibility": null,
       "width": null
      }
     },
     "969e57c1f35a4dad9e59c342b72ed726": {
      "model_module": "@jupyter-widgets/controls",
      "model_module_version": "1.5.0",
      "model_name": "ProgressStyleModel",
      "state": {
       "_model_module": "@jupyter-widgets/controls",
       "_model_module_version": "1.5.0",
       "_model_name": "ProgressStyleModel",
       "_view_count": null,
       "_view_module": "@jupyter-widgets/base",
       "_view_module_version": "1.2.0",
       "_view_name": "StyleView",
       "bar_color": null,
       "description_width": ""
      }
     },
     "9c2ee9d6e22446179b3b97229ef0fd64": {
      "model_module": "@jupyter-widgets/controls",
      "model_module_version": "1.5.0",
      "model_name": "HBoxModel",
      "state": {
       "_dom_classes": [],
       "_model_module": "@jupyter-widgets/controls",
       "_model_module_version": "1.5.0",
       "_model_name": "HBoxModel",
       "_view_count": null,
       "_view_module": "@jupyter-widgets/controls",
       "_view_module_version": "1.5.0",
       "_view_name": "HBoxView",
       "box_style": "",
       "children": [
        "IPY_MODEL_6dc0fcbee380448f8f230a557bca0d8d",
        "IPY_MODEL_f28b5d55066c438d8872e96fb148a022",
        "IPY_MODEL_02882e2399064f68a4b129249e07dd9a"
       ],
       "layout": "IPY_MODEL_dc4afe4cf22048169b76be3d6c1dcd6d"
      }
     },
     "a5013fb5d65540dbaf17f342ae450548": {
      "model_module": "@jupyter-widgets/controls",
      "model_module_version": "1.5.0",
      "model_name": "ProgressStyleModel",
      "state": {
       "_model_module": "@jupyter-widgets/controls",
       "_model_module_version": "1.5.0",
       "_model_name": "ProgressStyleModel",
       "_view_count": null,
       "_view_module": "@jupyter-widgets/base",
       "_view_module_version": "1.2.0",
       "_view_name": "StyleView",
       "bar_color": null,
       "description_width": ""
      }
     },
     "d2a5efbe06ef4da1b589a5f87b9da443": {
      "model_module": "@jupyter-widgets/base",
      "model_module_version": "1.2.0",
      "model_name": "LayoutModel",
      "state": {
       "_model_module": "@jupyter-widgets/base",
       "_model_module_version": "1.2.0",
       "_model_name": "LayoutModel",
       "_view_count": null,
       "_view_module": "@jupyter-widgets/base",
       "_view_module_version": "1.2.0",
       "_view_name": "LayoutView",
       "align_content": null,
       "align_items": null,
       "align_self": null,
       "border": null,
       "bottom": null,
       "display": null,
       "flex": null,
       "flex_flow": null,
       "grid_area": null,
       "grid_auto_columns": null,
       "grid_auto_flow": null,
       "grid_auto_rows": null,
       "grid_column": null,
       "grid_gap": null,
       "grid_row": null,
       "grid_template_areas": null,
       "grid_template_columns": null,
       "grid_template_rows": null,
       "height": null,
       "justify_content": null,
       "justify_items": null,
       "left": null,
       "margin": null,
       "max_height": null,
       "max_width": null,
       "min_height": null,
       "min_width": null,
       "object_fit": null,
       "object_position": null,
       "order": null,
       "overflow": null,
       "overflow_x": null,
       "overflow_y": null,
       "padding": null,
       "right": null,
       "top": null,
       "visibility": "hidden",
       "width": null
      }
     },
     "d332813a7e5744ab8bf5b4d6204d1726": {
      "model_module": "@jupyter-widgets/base",
      "model_module_version": "1.2.0",
      "model_name": "LayoutModel",
      "state": {
       "_model_module": "@jupyter-widgets/base",
       "_model_module_version": "1.2.0",
       "_model_name": "LayoutModel",
       "_view_count": null,
       "_view_module": "@jupyter-widgets/base",
       "_view_module_version": "1.2.0",
       "_view_name": "LayoutView",
       "align_content": null,
       "align_items": null,
       "align_self": null,
       "border": null,
       "bottom": null,
       "display": null,
       "flex": null,
       "flex_flow": null,
       "grid_area": null,
       "grid_auto_columns": null,
       "grid_auto_flow": null,
       "grid_auto_rows": null,
       "grid_column": null,
       "grid_gap": null,
       "grid_row": null,
       "grid_template_areas": null,
       "grid_template_columns": null,
       "grid_template_rows": null,
       "height": null,
       "justify_content": null,
       "justify_items": null,
       "left": null,
       "margin": null,
       "max_height": null,
       "max_width": null,
       "min_height": null,
       "min_width": null,
       "object_fit": null,
       "object_position": null,
       "order": null,
       "overflow": null,
       "overflow_x": null,
       "overflow_y": null,
       "padding": null,
       "right": null,
       "top": null,
       "visibility": null,
       "width": null
      }
     },
     "d3ba07329d714a888406c1fd781ae7c9": {
      "model_module": "@jupyter-widgets/controls",
      "model_module_version": "1.5.0",
      "model_name": "FloatProgressModel",
      "state": {
       "_dom_classes": [],
       "_model_module": "@jupyter-widgets/controls",
       "_model_module_version": "1.5.0",
       "_model_name": "FloatProgressModel",
       "_view_count": null,
       "_view_module": "@jupyter-widgets/controls",
       "_view_module_version": "1.5.0",
       "_view_name": "ProgressView",
       "bar_style": "",
       "description": "",
       "description_tooltip": null,
       "layout": "IPY_MODEL_030f2438d3f045adb4ba540ad1dcc329",
       "max": 85.0,
       "min": 0.0,
       "orientation": "horizontal",
       "style": "IPY_MODEL_a5013fb5d65540dbaf17f342ae450548",
       "value": 85.0
      }
     },
     "dc4afe4cf22048169b76be3d6c1dcd6d": {
      "model_module": "@jupyter-widgets/base",
      "model_module_version": "1.2.0",
      "model_name": "LayoutModel",
      "state": {
       "_model_module": "@jupyter-widgets/base",
       "_model_module_version": "1.2.0",
       "_model_name": "LayoutModel",
       "_view_count": null,
       "_view_module": "@jupyter-widgets/base",
       "_view_module_version": "1.2.0",
       "_view_name": "LayoutView",
       "align_content": null,
       "align_items": null,
       "align_self": null,
       "border": null,
       "bottom": null,
       "display": null,
       "flex": null,
       "flex_flow": null,
       "grid_area": null,
       "grid_auto_columns": null,
       "grid_auto_flow": null,
       "grid_auto_rows": null,
       "grid_column": null,
       "grid_gap": null,
       "grid_row": null,
       "grid_template_areas": null,
       "grid_template_columns": null,
       "grid_template_rows": null,
       "height": null,
       "justify_content": null,
       "justify_items": null,
       "left": null,
       "margin": null,
       "max_height": null,
       "max_width": null,
       "min_height": null,
       "min_width": null,
       "object_fit": null,
       "object_position": null,
       "order": null,
       "overflow": null,
       "overflow_x": null,
       "overflow_y": null,
       "padding": null,
       "right": null,
       "top": null,
       "visibility": "hidden",
       "width": null
      }
     },
     "e53ee141e2b4488695712e1d490fa9cc": {
      "model_module": "@jupyter-widgets/controls",
      "model_module_version": "1.5.0",
      "model_name": "DescriptionStyleModel",
      "state": {
       "_model_module": "@jupyter-widgets/controls",
       "_model_module_version": "1.5.0",
       "_model_name": "DescriptionStyleModel",
       "_view_count": null,
       "_view_module": "@jupyter-widgets/base",
       "_view_module_version": "1.2.0",
       "_view_name": "StyleView",
       "description_width": ""
      }
     },
     "f28b5d55066c438d8872e96fb148a022": {
      "model_module": "@jupyter-widgets/controls",
      "model_module_version": "1.5.0",
      "model_name": "FloatProgressModel",
      "state": {
       "_dom_classes": [],
       "_model_module": "@jupyter-widgets/controls",
       "_model_module_version": "1.5.0",
       "_model_name": "FloatProgressModel",
       "_view_count": null,
       "_view_module": "@jupyter-widgets/controls",
       "_view_module_version": "1.5.0",
       "_view_name": "ProgressView",
       "bar_style": "",
       "description": "",
       "description_tooltip": null,
       "layout": "IPY_MODEL_67a734901f8a4e3893fe0d823dad3374",
       "max": 4.0,
       "min": 0.0,
       "orientation": "horizontal",
       "style": "IPY_MODEL_969e57c1f35a4dad9e59c342b72ed726",
       "value": 4.0
      }
     }
    },
    "version_major": 2,
    "version_minor": 0
   }
  }
 },
 "nbformat": 4,
 "nbformat_minor": 5
}
