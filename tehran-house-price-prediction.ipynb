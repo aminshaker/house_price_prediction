{
 "cells": [
  {
   "cell_type": "code",
   "execution_count": 1,
   "id": "9edf720e",
   "metadata": {
    "_cell_guid": "b1076dfc-b9ad-4769-8c92-a6c4dae69d19",
    "_uuid": "8f2839f25d086af736a60e9eeb907d3b93b6e0e5",
    "execution": {
     "iopub.execute_input": "2024-05-29T18:37:46.872514Z",
     "iopub.status.busy": "2024-05-29T18:37:46.871619Z",
     "iopub.status.idle": "2024-05-29T18:38:41.722592Z",
     "shell.execute_reply": "2024-05-29T18:38:41.720955Z"
    },
    "papermill": {
     "duration": 54.875488,
     "end_time": "2024-05-29T18:38:41.725253",
     "exception": false,
     "start_time": "2024-05-29T18:37:46.849765",
     "status": "completed"
    },
    "tags": []
   },
   "outputs": [
    {
     "name": "stdout",
     "output_type": "stream",
     "text": [
      "\u001b[31mERROR: pip's dependency resolver does not currently take into account all the packages that are installed. This behaviour is the source of the following dependency conflicts.\r\n",
      "beatrix-jupyterlab 2023.128.151533 requires jupyterlab~=3.6.0, but you have jupyterlab 4.1.6 which is incompatible.\r\n",
      "libpysal 4.9.2 requires packaging>=22, but you have packaging 21.3 which is incompatible.\r\n",
      "libpysal 4.9.2 requires shapely>=2.0.1, but you have shapely 1.8.5.post1 which is incompatible.\r\n",
      "momepy 0.7.0 requires shapely>=2, but you have shapely 1.8.5.post1 which is incompatible.\r\n",
      "osmnx 1.9.2 requires shapely>=2.0, but you have shapely 1.8.5.post1 which is incompatible.\r\n",
      "spopt 0.6.0 requires shapely>=2.0.1, but you have shapely 1.8.5.post1 which is incompatible.\r\n",
      "xarray 2024.3.0 requires packaging>=22, but you have packaging 21.3 which is incompatible.\r\n",
      "ydata-profiling 4.6.4 requires numpy<1.26,>=1.16.0, but you have numpy 1.26.4 which is incompatible.\u001b[0m\u001b[31m\r\n",
      "\u001b[0mNote: you may need to restart the kernel to use updated packages.\n"
     ]
    }
   ],
   "source": [
    "pip install pycaret -q"
   ]
  },
  {
   "cell_type": "code",
   "execution_count": 2,
   "id": "c334275b",
   "metadata": {
    "execution": {
     "iopub.execute_input": "2024-05-29T18:38:41.776390Z",
     "iopub.status.busy": "2024-05-29T18:38:41.775790Z",
     "iopub.status.idle": "2024-05-29T18:38:41.784662Z",
     "shell.execute_reply": "2024-05-29T18:38:41.782293Z"
    },
    "papermill": {
     "duration": 0.043423,
     "end_time": "2024-05-29T18:38:41.788307",
     "exception": false,
     "start_time": "2024-05-29T18:38:41.744884",
     "status": "completed"
    },
    "tags": []
   },
   "outputs": [],
   "source": [
    "# pip install autoviz -q"
   ]
  },
  {
   "cell_type": "code",
   "execution_count": 3,
   "id": "9d3db742",
   "metadata": {
    "execution": {
     "iopub.execute_input": "2024-05-29T18:38:41.837577Z",
     "iopub.status.busy": "2024-05-29T18:38:41.837160Z",
     "iopub.status.idle": "2024-05-29T18:38:44.381942Z",
     "shell.execute_reply": "2024-05-29T18:38:44.380650Z"
    },
    "papermill": {
     "duration": 2.572966,
     "end_time": "2024-05-29T18:38:44.385034",
     "exception": false,
     "start_time": "2024-05-29T18:38:41.812068",
     "status": "completed"
    },
    "tags": []
   },
   "outputs": [],
   "source": [
    "import re\n",
    "import time\n",
    "import joblib\n",
    "import warnings\n",
    "import numpy as np\n",
    "import pandas as pd\n",
    "import seaborn as sns\n",
    "import matplotlib.pyplot as plt\n",
    "\n",
    "from sklearn.model_selection import train_test_split, cross_validate, KFold, GridSearchCV\n",
    "from sklearn.metrics import mean_squared_error, mean_absolute_error, r2_score\n",
    "\n",
    "from sklearn.ensemble import RandomForestRegressor\n",
    "from sklearn.linear_model import ElasticNet, Lasso, LinearRegression, Ridge\n",
    "from sklearn.neighbors import KNeighborsRegressor\n",
    "from sklearn.tree import DecisionTreeRegressor\n",
    "\n",
    "from xgboost import XGBRegressor"
   ]
  },
  {
   "cell_type": "code",
   "execution_count": 4,
   "id": "f2c5e190",
   "metadata": {
    "execution": {
     "iopub.execute_input": "2024-05-29T18:38:44.425762Z",
     "iopub.status.busy": "2024-05-29T18:38:44.424748Z",
     "iopub.status.idle": "2024-05-29T18:38:44.432232Z",
     "shell.execute_reply": "2024-05-29T18:38:44.430955Z"
    },
    "papermill": {
     "duration": 0.030777,
     "end_time": "2024-05-29T18:38:44.434971",
     "exception": false,
     "start_time": "2024-05-29T18:38:44.404194",
     "status": "completed"
    },
    "tags": []
   },
   "outputs": [],
   "source": [
    "%matplotlib inline"
   ]
  },
  {
   "cell_type": "code",
   "execution_count": 5,
   "id": "a0d24a0d",
   "metadata": {
    "execution": {
     "iopub.execute_input": "2024-05-29T18:38:44.477173Z",
     "iopub.status.busy": "2024-05-29T18:38:44.476359Z",
     "iopub.status.idle": "2024-05-29T18:38:44.481907Z",
     "shell.execute_reply": "2024-05-29T18:38:44.480962Z"
    },
    "papermill": {
     "duration": 0.029804,
     "end_time": "2024-05-29T18:38:44.484759",
     "exception": false,
     "start_time": "2024-05-29T18:38:44.454955",
     "status": "completed"
    },
    "tags": []
   },
   "outputs": [],
   "source": [
    "warnings.filterwarnings('ignore')"
   ]
  },
  {
   "cell_type": "code",
   "execution_count": 6,
   "id": "c162a220",
   "metadata": {
    "execution": {
     "iopub.execute_input": "2024-05-29T18:38:44.526236Z",
     "iopub.status.busy": "2024-05-29T18:38:44.525375Z",
     "iopub.status.idle": "2024-05-29T18:38:48.518269Z",
     "shell.execute_reply": "2024-05-29T18:38:48.517209Z"
    },
    "papermill": {
     "duration": 4.017354,
     "end_time": "2024-05-29T18:38:48.521051",
     "exception": false,
     "start_time": "2024-05-29T18:38:44.503697",
     "status": "completed"
    },
    "tags": []
   },
   "outputs": [],
   "source": [
    "from pycaret.regression import *"
   ]
  },
  {
   "cell_type": "code",
   "execution_count": 7,
   "id": "fbe1c227",
   "metadata": {
    "execution": {
     "iopub.execute_input": "2024-05-29T18:38:48.561968Z",
     "iopub.status.busy": "2024-05-29T18:38:48.560636Z",
     "iopub.status.idle": "2024-05-29T18:38:48.615810Z",
     "shell.execute_reply": "2024-05-29T18:38:48.614276Z"
    },
    "papermill": {
     "duration": 0.079003,
     "end_time": "2024-05-29T18:38:48.619049",
     "exception": false,
     "start_time": "2024-05-29T18:38:48.540046",
     "status": "completed"
    },
    "tags": []
   },
   "outputs": [
    {
     "data": {
      "text/html": [
       "<div>\n",
       "<style scoped>\n",
       "    .dataframe tbody tr th:only-of-type {\n",
       "        vertical-align: middle;\n",
       "    }\n",
       "\n",
       "    .dataframe tbody tr th {\n",
       "        vertical-align: top;\n",
       "    }\n",
       "\n",
       "    .dataframe thead th {\n",
       "        text-align: right;\n",
       "    }\n",
       "</style>\n",
       "<table border=\"1\" class=\"dataframe\">\n",
       "  <thead>\n",
       "    <tr style=\"text-align: right;\">\n",
       "      <th></th>\n",
       "      <th>Area</th>\n",
       "      <th>Room</th>\n",
       "      <th>Parking</th>\n",
       "      <th>Warehouse</th>\n",
       "      <th>Elevator</th>\n",
       "      <th>Address</th>\n",
       "      <th>Price</th>\n",
       "      <th>Price(USD)</th>\n",
       "    </tr>\n",
       "  </thead>\n",
       "  <tbody>\n",
       "    <tr>\n",
       "      <th>3026</th>\n",
       "      <td>108</td>\n",
       "      <td>2</td>\n",
       "      <td>True</td>\n",
       "      <td>True</td>\n",
       "      <td>True</td>\n",
       "      <td>Shahr-e-Ziba</td>\n",
       "      <td>5.100000e+09</td>\n",
       "      <td>170000.00</td>\n",
       "    </tr>\n",
       "    <tr>\n",
       "      <th>3153</th>\n",
       "      <td>77</td>\n",
       "      <td>2</td>\n",
       "      <td>False</td>\n",
       "      <td>True</td>\n",
       "      <td>True</td>\n",
       "      <td>Azarbaijan</td>\n",
       "      <td>1.800000e+09</td>\n",
       "      <td>60000.00</td>\n",
       "    </tr>\n",
       "    <tr>\n",
       "      <th>3275</th>\n",
       "      <td>112</td>\n",
       "      <td>2</td>\n",
       "      <td>True</td>\n",
       "      <td>True</td>\n",
       "      <td>True</td>\n",
       "      <td>Shahran</td>\n",
       "      <td>5.400000e+09</td>\n",
       "      <td>180000.00</td>\n",
       "    </tr>\n",
       "    <tr>\n",
       "      <th>1494</th>\n",
       "      <td>80</td>\n",
       "      <td>2</td>\n",
       "      <td>True</td>\n",
       "      <td>True</td>\n",
       "      <td>True</td>\n",
       "      <td>Jeyhoon</td>\n",
       "      <td>1.500000e+09</td>\n",
       "      <td>50000.00</td>\n",
       "    </tr>\n",
       "    <tr>\n",
       "      <th>2401</th>\n",
       "      <td>220</td>\n",
       "      <td>5</td>\n",
       "      <td>True</td>\n",
       "      <td>False</td>\n",
       "      <td>False</td>\n",
       "      <td>Andisheh</td>\n",
       "      <td>6.500000e+09</td>\n",
       "      <td>216666.67</td>\n",
       "    </tr>\n",
       "  </tbody>\n",
       "</table>\n",
       "</div>"
      ],
      "text/plain": [
       "     Area  Room  Parking  Warehouse  Elevator       Address         Price  \\\n",
       "3026  108     2     True       True      True  Shahr-e-Ziba  5.100000e+09   \n",
       "3153   77     2    False       True      True    Azarbaijan  1.800000e+09   \n",
       "3275  112     2     True       True      True       Shahran  5.400000e+09   \n",
       "1494   80     2     True       True      True       Jeyhoon  1.500000e+09   \n",
       "2401  220     5     True      False     False      Andisheh  6.500000e+09   \n",
       "\n",
       "      Price(USD)  \n",
       "3026   170000.00  \n",
       "3153    60000.00  \n",
       "3275   180000.00  \n",
       "1494    50000.00  \n",
       "2401   216666.67  "
      ]
     },
     "execution_count": 7,
     "metadata": {},
     "output_type": "execute_result"
    }
   ],
   "source": [
    "df = pd.read_csv('../input/house-price-tehran-iran/housePrice.csv')\n",
    "df.sample(5)"
   ]
  },
  {
   "cell_type": "code",
   "execution_count": 8,
   "id": "b862129b",
   "metadata": {
    "execution": {
     "iopub.execute_input": "2024-05-29T18:38:48.660445Z",
     "iopub.status.busy": "2024-05-29T18:38:48.659988Z",
     "iopub.status.idle": "2024-05-29T18:38:48.677976Z",
     "shell.execute_reply": "2024-05-29T18:38:48.675840Z"
    },
    "papermill": {
     "duration": 0.042238,
     "end_time": "2024-05-29T18:38:48.680881",
     "exception": false,
     "start_time": "2024-05-29T18:38:48.638643",
     "status": "completed"
    },
    "tags": []
   },
   "outputs": [
    {
     "name": "stdout",
     "output_type": "stream",
     "text": [
      "<class 'pandas.core.frame.DataFrame'>\n",
      "RangeIndex: 3479 entries, 0 to 3478\n",
      "Data columns (total 8 columns):\n",
      " #   Column      Non-Null Count  Dtype  \n",
      "---  ------      --------------  -----  \n",
      " 0   Area        3479 non-null   object \n",
      " 1   Room        3479 non-null   int64  \n",
      " 2   Parking     3479 non-null   bool   \n",
      " 3   Warehouse   3479 non-null   bool   \n",
      " 4   Elevator    3479 non-null   bool   \n",
      " 5   Address     3456 non-null   object \n",
      " 6   Price       3479 non-null   float64\n",
      " 7   Price(USD)  3479 non-null   float64\n",
      "dtypes: bool(3), float64(2), int64(1), object(2)\n",
      "memory usage: 146.2+ KB\n"
     ]
    }
   ],
   "source": [
    "df.info()"
   ]
  },
  {
   "cell_type": "code",
   "execution_count": 9,
   "id": "302bdf13",
   "metadata": {
    "execution": {
     "iopub.execute_input": "2024-05-29T18:38:48.724453Z",
     "iopub.status.busy": "2024-05-29T18:38:48.723955Z",
     "iopub.status.idle": "2024-05-29T18:38:48.731058Z",
     "shell.execute_reply": "2024-05-29T18:38:48.729842Z"
    },
    "papermill": {
     "duration": 0.03229,
     "end_time": "2024-05-29T18:38:48.733809",
     "exception": false,
     "start_time": "2024-05-29T18:38:48.701519",
     "status": "completed"
    },
    "tags": []
   },
   "outputs": [],
   "source": [
    "df.drop('Price(USD)', axis=1, inplace=True)"
   ]
  },
  {
   "cell_type": "code",
   "execution_count": 10,
   "id": "d575d1e0",
   "metadata": {
    "execution": {
     "iopub.execute_input": "2024-05-29T18:38:48.776588Z",
     "iopub.status.busy": "2024-05-29T18:38:48.775185Z",
     "iopub.status.idle": "2024-05-29T18:38:56.459742Z",
     "shell.execute_reply": "2024-05-29T18:38:56.458350Z"
    },
    "papermill": {
     "duration": 7.708711,
     "end_time": "2024-05-29T18:38:56.462523",
     "exception": false,
     "start_time": "2024-05-29T18:38:48.753812",
     "status": "completed"
    },
    "tags": []
   },
   "outputs": [
    {
     "data": {
      "text/html": [
       "<style type=\"text/css\">\n",
       "#T_65030_row10_col1, #T_65030_row16_col1 {\n",
       "  background-color: lightgreen;\n",
       "}\n",
       "</style>\n",
       "<table id=\"T_65030\">\n",
       "  <thead>\n",
       "    <tr>\n",
       "      <th class=\"blank level0\" >&nbsp;</th>\n",
       "      <th id=\"T_65030_level0_col0\" class=\"col_heading level0 col0\" >Description</th>\n",
       "      <th id=\"T_65030_level0_col1\" class=\"col_heading level0 col1\" >Value</th>\n",
       "    </tr>\n",
       "  </thead>\n",
       "  <tbody>\n",
       "    <tr>\n",
       "      <th id=\"T_65030_level0_row0\" class=\"row_heading level0 row0\" >0</th>\n",
       "      <td id=\"T_65030_row0_col0\" class=\"data row0 col0\" >Session id</td>\n",
       "      <td id=\"T_65030_row0_col1\" class=\"data row0 col1\" >85</td>\n",
       "    </tr>\n",
       "    <tr>\n",
       "      <th id=\"T_65030_level0_row1\" class=\"row_heading level0 row1\" >1</th>\n",
       "      <td id=\"T_65030_row1_col0\" class=\"data row1 col0\" >Target</td>\n",
       "      <td id=\"T_65030_row1_col1\" class=\"data row1 col1\" >Price</td>\n",
       "    </tr>\n",
       "    <tr>\n",
       "      <th id=\"T_65030_level0_row2\" class=\"row_heading level0 row2\" >2</th>\n",
       "      <td id=\"T_65030_row2_col0\" class=\"data row2 col0\" >Target type</td>\n",
       "      <td id=\"T_65030_row2_col1\" class=\"data row2 col1\" >Regression</td>\n",
       "    </tr>\n",
       "    <tr>\n",
       "      <th id=\"T_65030_level0_row3\" class=\"row_heading level0 row3\" >3</th>\n",
       "      <td id=\"T_65030_row3_col0\" class=\"data row3 col0\" >Original data shape</td>\n",
       "      <td id=\"T_65030_row3_col1\" class=\"data row3 col1\" >(3479, 7)</td>\n",
       "    </tr>\n",
       "    <tr>\n",
       "      <th id=\"T_65030_level0_row4\" class=\"row_heading level0 row4\" >4</th>\n",
       "      <td id=\"T_65030_row4_col0\" class=\"data row4 col0\" >Transformed data shape</td>\n",
       "      <td id=\"T_65030_row4_col1\" class=\"data row4 col1\" >(3357, 7)</td>\n",
       "    </tr>\n",
       "    <tr>\n",
       "      <th id=\"T_65030_level0_row5\" class=\"row_heading level0 row5\" >5</th>\n",
       "      <td id=\"T_65030_row5_col0\" class=\"data row5 col0\" >Transformed train set shape</td>\n",
       "      <td id=\"T_65030_row5_col1\" class=\"data row5 col1\" >(2313, 7)</td>\n",
       "    </tr>\n",
       "    <tr>\n",
       "      <th id=\"T_65030_level0_row6\" class=\"row_heading level0 row6\" >6</th>\n",
       "      <td id=\"T_65030_row6_col0\" class=\"data row6 col0\" >Transformed test set shape</td>\n",
       "      <td id=\"T_65030_row6_col1\" class=\"data row6 col1\" >(1044, 7)</td>\n",
       "    </tr>\n",
       "    <tr>\n",
       "      <th id=\"T_65030_level0_row7\" class=\"row_heading level0 row7\" >7</th>\n",
       "      <td id=\"T_65030_row7_col0\" class=\"data row7 col0\" >Numeric features</td>\n",
       "      <td id=\"T_65030_row7_col1\" class=\"data row7 col1\" >1</td>\n",
       "    </tr>\n",
       "    <tr>\n",
       "      <th id=\"T_65030_level0_row8\" class=\"row_heading level0 row8\" >8</th>\n",
       "      <td id=\"T_65030_row8_col0\" class=\"data row8 col0\" >Categorical features</td>\n",
       "      <td id=\"T_65030_row8_col1\" class=\"data row8 col1\" >2</td>\n",
       "    </tr>\n",
       "    <tr>\n",
       "      <th id=\"T_65030_level0_row9\" class=\"row_heading level0 row9\" >9</th>\n",
       "      <td id=\"T_65030_row9_col0\" class=\"data row9 col0\" >Rows with missing values</td>\n",
       "      <td id=\"T_65030_row9_col1\" class=\"data row9 col1\" >0.7%</td>\n",
       "    </tr>\n",
       "    <tr>\n",
       "      <th id=\"T_65030_level0_row10\" class=\"row_heading level0 row10\" >10</th>\n",
       "      <td id=\"T_65030_row10_col0\" class=\"data row10 col0\" >Preprocess</td>\n",
       "      <td id=\"T_65030_row10_col1\" class=\"data row10 col1\" >True</td>\n",
       "    </tr>\n",
       "    <tr>\n",
       "      <th id=\"T_65030_level0_row11\" class=\"row_heading level0 row11\" >11</th>\n",
       "      <td id=\"T_65030_row11_col0\" class=\"data row11 col0\" >Imputation type</td>\n",
       "      <td id=\"T_65030_row11_col1\" class=\"data row11 col1\" >simple</td>\n",
       "    </tr>\n",
       "    <tr>\n",
       "      <th id=\"T_65030_level0_row12\" class=\"row_heading level0 row12\" >12</th>\n",
       "      <td id=\"T_65030_row12_col0\" class=\"data row12 col0\" >Numeric imputation</td>\n",
       "      <td id=\"T_65030_row12_col1\" class=\"data row12 col1\" >mean</td>\n",
       "    </tr>\n",
       "    <tr>\n",
       "      <th id=\"T_65030_level0_row13\" class=\"row_heading level0 row13\" >13</th>\n",
       "      <td id=\"T_65030_row13_col0\" class=\"data row13 col0\" >Categorical imputation</td>\n",
       "      <td id=\"T_65030_row13_col1\" class=\"data row13 col1\" >mode</td>\n",
       "    </tr>\n",
       "    <tr>\n",
       "      <th id=\"T_65030_level0_row14\" class=\"row_heading level0 row14\" >14</th>\n",
       "      <td id=\"T_65030_row14_col0\" class=\"data row14 col0\" >Maximum one-hot encoding</td>\n",
       "      <td id=\"T_65030_row14_col1\" class=\"data row14 col1\" >25</td>\n",
       "    </tr>\n",
       "    <tr>\n",
       "      <th id=\"T_65030_level0_row15\" class=\"row_heading level0 row15\" >15</th>\n",
       "      <td id=\"T_65030_row15_col0\" class=\"data row15 col0\" >Encoding method</td>\n",
       "      <td id=\"T_65030_row15_col1\" class=\"data row15 col1\" >None</td>\n",
       "    </tr>\n",
       "    <tr>\n",
       "      <th id=\"T_65030_level0_row16\" class=\"row_heading level0 row16\" >16</th>\n",
       "      <td id=\"T_65030_row16_col0\" class=\"data row16 col0\" >Remove outliers</td>\n",
       "      <td id=\"T_65030_row16_col1\" class=\"data row16 col1\" >True</td>\n",
       "    </tr>\n",
       "    <tr>\n",
       "      <th id=\"T_65030_level0_row17\" class=\"row_heading level0 row17\" >17</th>\n",
       "      <td id=\"T_65030_row17_col0\" class=\"data row17 col0\" >Outliers threshold</td>\n",
       "      <td id=\"T_65030_row17_col1\" class=\"data row17 col1\" >0.050000</td>\n",
       "    </tr>\n",
       "    <tr>\n",
       "      <th id=\"T_65030_level0_row18\" class=\"row_heading level0 row18\" >18</th>\n",
       "      <td id=\"T_65030_row18_col0\" class=\"data row18 col0\" >Fold Generator</td>\n",
       "      <td id=\"T_65030_row18_col1\" class=\"data row18 col1\" >KFold</td>\n",
       "    </tr>\n",
       "    <tr>\n",
       "      <th id=\"T_65030_level0_row19\" class=\"row_heading level0 row19\" >19</th>\n",
       "      <td id=\"T_65030_row19_col0\" class=\"data row19 col0\" >Fold Number</td>\n",
       "      <td id=\"T_65030_row19_col1\" class=\"data row19 col1\" >10</td>\n",
       "    </tr>\n",
       "    <tr>\n",
       "      <th id=\"T_65030_level0_row20\" class=\"row_heading level0 row20\" >20</th>\n",
       "      <td id=\"T_65030_row20_col0\" class=\"data row20 col0\" >CPU Jobs</td>\n",
       "      <td id=\"T_65030_row20_col1\" class=\"data row20 col1\" >-1</td>\n",
       "    </tr>\n",
       "    <tr>\n",
       "      <th id=\"T_65030_level0_row21\" class=\"row_heading level0 row21\" >21</th>\n",
       "      <td id=\"T_65030_row21_col0\" class=\"data row21 col0\" >Use GPU</td>\n",
       "      <td id=\"T_65030_row21_col1\" class=\"data row21 col1\" >False</td>\n",
       "    </tr>\n",
       "    <tr>\n",
       "      <th id=\"T_65030_level0_row22\" class=\"row_heading level0 row22\" >22</th>\n",
       "      <td id=\"T_65030_row22_col0\" class=\"data row22 col0\" >Log Experiment</td>\n",
       "      <td id=\"T_65030_row22_col1\" class=\"data row22 col1\" >False</td>\n",
       "    </tr>\n",
       "    <tr>\n",
       "      <th id=\"T_65030_level0_row23\" class=\"row_heading level0 row23\" >23</th>\n",
       "      <td id=\"T_65030_row23_col0\" class=\"data row23 col0\" >Experiment Name</td>\n",
       "      <td id=\"T_65030_row23_col1\" class=\"data row23 col1\" >reg-default-name</td>\n",
       "    </tr>\n",
       "    <tr>\n",
       "      <th id=\"T_65030_level0_row24\" class=\"row_heading level0 row24\" >24</th>\n",
       "      <td id=\"T_65030_row24_col0\" class=\"data row24 col0\" >USI</td>\n",
       "      <td id=\"T_65030_row24_col1\" class=\"data row24 col1\" >cc1f</td>\n",
       "    </tr>\n",
       "  </tbody>\n",
       "</table>\n"
      ],
      "text/plain": [
       "<pandas.io.formats.style.Styler at 0x7a08e3611360>"
      ]
     },
     "metadata": {},
     "output_type": "display_data"
    },
    {
     "data": {
      "text/plain": [
       "<pycaret.regression.oop.RegressionExperiment at 0x7a08ea4127a0>"
      ]
     },
     "execution_count": 10,
     "metadata": {},
     "output_type": "execute_result"
    }
   ],
   "source": [
    "setup(df, target='Price', session_id=85, remove_outliers=True)"
   ]
  },
  {
   "cell_type": "code",
   "execution_count": 11,
   "id": "5eb1229d",
   "metadata": {
    "execution": {
     "iopub.execute_input": "2024-05-29T18:38:56.506064Z",
     "iopub.status.busy": "2024-05-29T18:38:56.505549Z",
     "iopub.status.idle": "2024-05-29T18:40:16.917710Z",
     "shell.execute_reply": "2024-05-29T18:40:16.916113Z"
    },
    "papermill": {
     "duration": 80.437088,
     "end_time": "2024-05-29T18:40:16.920571",
     "exception": false,
     "start_time": "2024-05-29T18:38:56.483483",
     "status": "completed"
    },
    "tags": []
   },
   "outputs": [
    {
     "data": {
      "text/html": [],
      "text/plain": [
       "<IPython.core.display.HTML object>"
      ]
     },
     "metadata": {},
     "output_type": "display_data"
    },
    {
     "data": {
      "text/html": [
       "<style type=\"text/css\">\n",
       "#T_acd53 th {\n",
       "  text-align: left;\n",
       "}\n",
       "#T_acd53_row0_col0, #T_acd53_row0_col1, #T_acd53_row0_col5, #T_acd53_row0_col6, #T_acd53_row1_col0, #T_acd53_row1_col1, #T_acd53_row1_col2, #T_acd53_row1_col3, #T_acd53_row1_col4, #T_acd53_row1_col5, #T_acd53_row1_col6, #T_acd53_row2_col0, #T_acd53_row2_col1, #T_acd53_row2_col2, #T_acd53_row2_col3, #T_acd53_row2_col4, #T_acd53_row2_col6, #T_acd53_row3_col0, #T_acd53_row3_col1, #T_acd53_row3_col2, #T_acd53_row3_col3, #T_acd53_row3_col4, #T_acd53_row3_col5, #T_acd53_row3_col6, #T_acd53_row4_col0, #T_acd53_row4_col2, #T_acd53_row4_col3, #T_acd53_row4_col4, #T_acd53_row4_col5, #T_acd53_row4_col6, #T_acd53_row5_col0, #T_acd53_row5_col1, #T_acd53_row5_col2, #T_acd53_row5_col3, #T_acd53_row5_col4, #T_acd53_row5_col5, #T_acd53_row6_col0, #T_acd53_row6_col1, #T_acd53_row6_col2, #T_acd53_row6_col3, #T_acd53_row6_col4, #T_acd53_row6_col5, #T_acd53_row6_col6, #T_acd53_row7_col0, #T_acd53_row7_col1, #T_acd53_row7_col2, #T_acd53_row7_col3, #T_acd53_row7_col4, #T_acd53_row7_col5, #T_acd53_row7_col6, #T_acd53_row8_col0, #T_acd53_row8_col1, #T_acd53_row8_col2, #T_acd53_row8_col3, #T_acd53_row8_col4, #T_acd53_row8_col5, #T_acd53_row8_col6, #T_acd53_row9_col0, #T_acd53_row9_col1, #T_acd53_row9_col2, #T_acd53_row9_col3, #T_acd53_row9_col4, #T_acd53_row9_col5, #T_acd53_row9_col6, #T_acd53_row10_col0, #T_acd53_row10_col1, #T_acd53_row10_col2, #T_acd53_row10_col3, #T_acd53_row10_col4, #T_acd53_row10_col5, #T_acd53_row10_col6, #T_acd53_row11_col0, #T_acd53_row11_col1, #T_acd53_row11_col2, #T_acd53_row11_col3, #T_acd53_row11_col4, #T_acd53_row11_col5, #T_acd53_row11_col6, #T_acd53_row12_col0, #T_acd53_row12_col1, #T_acd53_row12_col2, #T_acd53_row12_col3, #T_acd53_row12_col4, #T_acd53_row12_col5, #T_acd53_row12_col6, #T_acd53_row13_col0, #T_acd53_row13_col1, #T_acd53_row13_col2, #T_acd53_row13_col3, #T_acd53_row13_col4, #T_acd53_row13_col5, #T_acd53_row13_col6, #T_acd53_row14_col0, #T_acd53_row14_col1, #T_acd53_row14_col2, #T_acd53_row14_col3, #T_acd53_row14_col4, #T_acd53_row14_col5, #T_acd53_row14_col6, #T_acd53_row15_col0, #T_acd53_row15_col1, #T_acd53_row15_col2, #T_acd53_row15_col3, #T_acd53_row15_col4, #T_acd53_row15_col5, #T_acd53_row15_col6, #T_acd53_row16_col0, #T_acd53_row16_col1, #T_acd53_row16_col2, #T_acd53_row16_col3, #T_acd53_row16_col4, #T_acd53_row16_col5, #T_acd53_row16_col6, #T_acd53_row17_col0, #T_acd53_row17_col1, #T_acd53_row17_col2, #T_acd53_row17_col3, #T_acd53_row17_col4, #T_acd53_row17_col5, #T_acd53_row17_col6, #T_acd53_row18_col0, #T_acd53_row18_col1, #T_acd53_row18_col2, #T_acd53_row18_col3, #T_acd53_row18_col4, #T_acd53_row18_col5, #T_acd53_row18_col6, #T_acd53_row19_col0, #T_acd53_row19_col1, #T_acd53_row19_col2, #T_acd53_row19_col3, #T_acd53_row19_col4, #T_acd53_row19_col5, #T_acd53_row19_col6 {\n",
       "  text-align: left;\n",
       "}\n",
       "#T_acd53_row0_col2, #T_acd53_row0_col3, #T_acd53_row0_col4, #T_acd53_row2_col5, #T_acd53_row4_col1, #T_acd53_row5_col6 {\n",
       "  text-align: left;\n",
       "  background-color: yellow;\n",
       "}\n",
       "#T_acd53_row0_col7, #T_acd53_row1_col7, #T_acd53_row2_col7, #T_acd53_row3_col7, #T_acd53_row4_col7, #T_acd53_row5_col7, #T_acd53_row6_col7, #T_acd53_row7_col7, #T_acd53_row8_col7, #T_acd53_row9_col7, #T_acd53_row10_col7, #T_acd53_row12_col7, #T_acd53_row13_col7, #T_acd53_row14_col7, #T_acd53_row15_col7, #T_acd53_row16_col7, #T_acd53_row17_col7, #T_acd53_row18_col7, #T_acd53_row19_col7 {\n",
       "  text-align: left;\n",
       "  background-color: lightgrey;\n",
       "}\n",
       "#T_acd53_row11_col7 {\n",
       "  text-align: left;\n",
       "  background-color: yellow;\n",
       "  background-color: lightgrey;\n",
       "}\n",
       "</style>\n",
       "<table id=\"T_acd53\">\n",
       "  <thead>\n",
       "    <tr>\n",
       "      <th class=\"blank level0\" >&nbsp;</th>\n",
       "      <th id=\"T_acd53_level0_col0\" class=\"col_heading level0 col0\" >Model</th>\n",
       "      <th id=\"T_acd53_level0_col1\" class=\"col_heading level0 col1\" >MAE</th>\n",
       "      <th id=\"T_acd53_level0_col2\" class=\"col_heading level0 col2\" >MSE</th>\n",
       "      <th id=\"T_acd53_level0_col3\" class=\"col_heading level0 col3\" >RMSE</th>\n",
       "      <th id=\"T_acd53_level0_col4\" class=\"col_heading level0 col4\" >R2</th>\n",
       "      <th id=\"T_acd53_level0_col5\" class=\"col_heading level0 col5\" >RMSLE</th>\n",
       "      <th id=\"T_acd53_level0_col6\" class=\"col_heading level0 col6\" >MAPE</th>\n",
       "      <th id=\"T_acd53_level0_col7\" class=\"col_heading level0 col7\" >TT (Sec)</th>\n",
       "    </tr>\n",
       "  </thead>\n",
       "  <tbody>\n",
       "    <tr>\n",
       "      <th id=\"T_acd53_level0_row0\" class=\"row_heading level0 row0\" >catboost</th>\n",
       "      <td id=\"T_acd53_row0_col0\" class=\"data row0 col0\" >CatBoost Regressor</td>\n",
       "      <td id=\"T_acd53_row0_col1\" class=\"data row0 col1\" >1787068166.2256</td>\n",
       "      <td id=\"T_acd53_row0_col2\" class=\"data row0 col2\" >32607070379028836352.0000</td>\n",
       "      <td id=\"T_acd53_row0_col3\" class=\"data row0 col3\" >5370151218.8995</td>\n",
       "      <td id=\"T_acd53_row0_col4\" class=\"data row0 col4\" >0.5414</td>\n",
       "      <td id=\"T_acd53_row0_col5\" class=\"data row0 col5\" >0.5069</td>\n",
       "      <td id=\"T_acd53_row0_col6\" class=\"data row0 col6\" >0.4474</td>\n",
       "      <td id=\"T_acd53_row0_col7\" class=\"data row0 col7\" >2.0080</td>\n",
       "    </tr>\n",
       "    <tr>\n",
       "      <th id=\"T_acd53_level0_row1\" class=\"row_heading level0 row1\" >et</th>\n",
       "      <td id=\"T_acd53_row1_col0\" class=\"data row1 col0\" >Extra Trees Regressor</td>\n",
       "      <td id=\"T_acd53_row1_col1\" class=\"data row1 col1\" >1823696328.6765</td>\n",
       "      <td id=\"T_acd53_row1_col2\" class=\"data row1 col2\" >33692139050886713344.0000</td>\n",
       "      <td id=\"T_acd53_row1_col3\" class=\"data row1 col3\" >5418666552.5989</td>\n",
       "      <td id=\"T_acd53_row1_col4\" class=\"data row1 col4\" >0.5371</td>\n",
       "      <td id=\"T_acd53_row1_col5\" class=\"data row1 col5\" >0.5173</td>\n",
       "      <td id=\"T_acd53_row1_col6\" class=\"data row1 col6\" >0.4336</td>\n",
       "      <td id=\"T_acd53_row1_col7\" class=\"data row1 col7\" >0.3930</td>\n",
       "    </tr>\n",
       "    <tr>\n",
       "      <th id=\"T_acd53_level0_row2\" class=\"row_heading level0 row2\" >lightgbm</th>\n",
       "      <td id=\"T_acd53_row2_col0\" class=\"data row2 col0\" >Light Gradient Boosting Machine</td>\n",
       "      <td id=\"T_acd53_row2_col1\" class=\"data row2 col1\" >1850921317.1389</td>\n",
       "      <td id=\"T_acd53_row2_col2\" class=\"data row2 col2\" >33901565516324040704.0000</td>\n",
       "      <td id=\"T_acd53_row2_col3\" class=\"data row2 col3\" >5473993468.5078</td>\n",
       "      <td id=\"T_acd53_row2_col4\" class=\"data row2 col4\" >0.5246</td>\n",
       "      <td id=\"T_acd53_row2_col5\" class=\"data row2 col5\" >0.4909</td>\n",
       "      <td id=\"T_acd53_row2_col6\" class=\"data row2 col6\" >0.4263</td>\n",
       "      <td id=\"T_acd53_row2_col7\" class=\"data row2 col7\" >0.6490</td>\n",
       "    </tr>\n",
       "    <tr>\n",
       "      <th id=\"T_acd53_level0_row3\" class=\"row_heading level0 row3\" >gbr</th>\n",
       "      <td id=\"T_acd53_row3_col0\" class=\"data row3 col0\" >Gradient Boosting Regressor</td>\n",
       "      <td id=\"T_acd53_row3_col1\" class=\"data row3 col1\" >1869451000.9279</td>\n",
       "      <td id=\"T_acd53_row3_col2\" class=\"data row3 col2\" >32768195979990835200.0000</td>\n",
       "      <td id=\"T_acd53_row3_col3\" class=\"data row3 col3\" >5451537576.2650</td>\n",
       "      <td id=\"T_acd53_row3_col4\" class=\"data row3 col4\" >0.5212</td>\n",
       "      <td id=\"T_acd53_row3_col5\" class=\"data row3 col5\" >0.5211</td>\n",
       "      <td id=\"T_acd53_row3_col6\" class=\"data row3 col6\" >0.4815</td>\n",
       "      <td id=\"T_acd53_row3_col7\" class=\"data row3 col7\" >0.2260</td>\n",
       "    </tr>\n",
       "    <tr>\n",
       "      <th id=\"T_acd53_level0_row4\" class=\"row_heading level0 row4\" >xgboost</th>\n",
       "      <td id=\"T_acd53_row4_col0\" class=\"data row4 col0\" >Extreme Gradient Boosting</td>\n",
       "      <td id=\"T_acd53_row4_col1\" class=\"data row4 col1\" >1786040678.4000</td>\n",
       "      <td id=\"T_acd53_row4_col2\" class=\"data row4 col2\" >33936436864154492928.0000</td>\n",
       "      <td id=\"T_acd53_row4_col3\" class=\"data row4 col3\" >5497413017.6000</td>\n",
       "      <td id=\"T_acd53_row4_col4\" class=\"data row4 col4\" >0.5201</td>\n",
       "      <td id=\"T_acd53_row4_col5\" class=\"data row4 col5\" >0.5249</td>\n",
       "      <td id=\"T_acd53_row4_col6\" class=\"data row4 col6\" >0.4220</td>\n",
       "      <td id=\"T_acd53_row4_col7\" class=\"data row4 col7\" >0.2070</td>\n",
       "    </tr>\n",
       "    <tr>\n",
       "      <th id=\"T_acd53_level0_row5\" class=\"row_heading level0 row5\" >rf</th>\n",
       "      <td id=\"T_acd53_row5_col0\" class=\"data row5 col0\" >Random Forest Regressor</td>\n",
       "      <td id=\"T_acd53_row5_col1\" class=\"data row5 col1\" >1836202243.8133</td>\n",
       "      <td id=\"T_acd53_row5_col2\" class=\"data row5 col2\" >35120587005921230848.0000</td>\n",
       "      <td id=\"T_acd53_row5_col3\" class=\"data row5 col3\" >5551883571.7572</td>\n",
       "      <td id=\"T_acd53_row5_col4\" class=\"data row5 col4\" >0.5134</td>\n",
       "      <td id=\"T_acd53_row5_col5\" class=\"data row5 col5\" >0.5016</td>\n",
       "      <td id=\"T_acd53_row5_col6\" class=\"data row5 col6\" >0.4147</td>\n",
       "      <td id=\"T_acd53_row5_col7\" class=\"data row5 col7\" >0.4100</td>\n",
       "    </tr>\n",
       "    <tr>\n",
       "      <th id=\"T_acd53_level0_row6\" class=\"row_heading level0 row6\" >knn</th>\n",
       "      <td id=\"T_acd53_row6_col0\" class=\"data row6 col0\" >K Neighbors Regressor</td>\n",
       "      <td id=\"T_acd53_row6_col1\" class=\"data row6 col1\" >2037582374.4000</td>\n",
       "      <td id=\"T_acd53_row6_col2\" class=\"data row6 col2\" >37219049279796019200.0000</td>\n",
       "      <td id=\"T_acd53_row6_col3\" class=\"data row6 col3\" >5751254720.0000</td>\n",
       "      <td id=\"T_acd53_row6_col4\" class=\"data row6 col4\" >0.4772</td>\n",
       "      <td id=\"T_acd53_row6_col5\" class=\"data row6 col5\" >0.5646</td>\n",
       "      <td id=\"T_acd53_row6_col6\" class=\"data row6 col6\" >0.5148</td>\n",
       "      <td id=\"T_acd53_row6_col7\" class=\"data row6 col7\" >0.1680</td>\n",
       "    </tr>\n",
       "    <tr>\n",
       "      <th id=\"T_acd53_level0_row7\" class=\"row_heading level0 row7\" >lasso</th>\n",
       "      <td id=\"T_acd53_row7_col0\" class=\"data row7 col0\" >Lasso Regression</td>\n",
       "      <td id=\"T_acd53_row7_col1\" class=\"data row7 col1\" >2601293612.7778</td>\n",
       "      <td id=\"T_acd53_row7_col2\" class=\"data row7 col2\" >36766955829048868864.0000</td>\n",
       "      <td id=\"T_acd53_row7_col3\" class=\"data row7 col3\" >5814135261.6413</td>\n",
       "      <td id=\"T_acd53_row7_col4\" class=\"data row7 col4\" >0.4616</td>\n",
       "      <td id=\"T_acd53_row7_col5\" class=\"data row7 col5\" >0.9709</td>\n",
       "      <td id=\"T_acd53_row7_col6\" class=\"data row7 col6\" >1.0037</td>\n",
       "      <td id=\"T_acd53_row7_col7\" class=\"data row7 col7\" >0.1650</td>\n",
       "    </tr>\n",
       "    <tr>\n",
       "      <th id=\"T_acd53_level0_row8\" class=\"row_heading level0 row8\" >lr</th>\n",
       "      <td id=\"T_acd53_row8_col0\" class=\"data row8 col0\" >Linear Regression</td>\n",
       "      <td id=\"T_acd53_row8_col1\" class=\"data row8 col1\" >2601293587.3264</td>\n",
       "      <td id=\"T_acd53_row8_col2\" class=\"data row8 col2\" >36766955675486199808.0000</td>\n",
       "      <td id=\"T_acd53_row8_col3\" class=\"data row8 col3\" >5814135244.9921</td>\n",
       "      <td id=\"T_acd53_row8_col4\" class=\"data row8 col4\" >0.4616</td>\n",
       "      <td id=\"T_acd53_row8_col5\" class=\"data row8 col5\" >0.9709</td>\n",
       "      <td id=\"T_acd53_row8_col6\" class=\"data row8 col6\" >1.0037</td>\n",
       "      <td id=\"T_acd53_row8_col7\" class=\"data row8 col7\" >0.8630</td>\n",
       "    </tr>\n",
       "    <tr>\n",
       "      <th id=\"T_acd53_level0_row9\" class=\"row_heading level0 row9\" >llar</th>\n",
       "      <td id=\"T_acd53_row9_col0\" class=\"data row9 col0\" >Lasso Least Angle Regression</td>\n",
       "      <td id=\"T_acd53_row9_col1\" class=\"data row9 col1\" >2601293612.7778</td>\n",
       "      <td id=\"T_acd53_row9_col2\" class=\"data row9 col2\" >36766955829048868864.0000</td>\n",
       "      <td id=\"T_acd53_row9_col3\" class=\"data row9 col3\" >5814135261.6413</td>\n",
       "      <td id=\"T_acd53_row9_col4\" class=\"data row9 col4\" >0.4616</td>\n",
       "      <td id=\"T_acd53_row9_col5\" class=\"data row9 col5\" >0.9709</td>\n",
       "      <td id=\"T_acd53_row9_col6\" class=\"data row9 col6\" >1.0037</td>\n",
       "      <td id=\"T_acd53_row9_col7\" class=\"data row9 col7\" >0.1640</td>\n",
       "    </tr>\n",
       "    <tr>\n",
       "      <th id=\"T_acd53_level0_row10\" class=\"row_heading level0 row10\" >lar</th>\n",
       "      <td id=\"T_acd53_row10_col0\" class=\"data row10 col0\" >Least Angle Regression</td>\n",
       "      <td id=\"T_acd53_row10_col1\" class=\"data row10 col1\" >2601293612.5708</td>\n",
       "      <td id=\"T_acd53_row10_col2\" class=\"data row10 col2\" >36766955824392609792.0000</td>\n",
       "      <td id=\"T_acd53_row10_col3\" class=\"data row10 col3\" >5814135261.2644</td>\n",
       "      <td id=\"T_acd53_row10_col4\" class=\"data row10 col4\" >0.4616</td>\n",
       "      <td id=\"T_acd53_row10_col5\" class=\"data row10 col5\" >0.9709</td>\n",
       "      <td id=\"T_acd53_row10_col6\" class=\"data row10 col6\" >1.0037</td>\n",
       "      <td id=\"T_acd53_row10_col7\" class=\"data row10 col7\" >0.1700</td>\n",
       "    </tr>\n",
       "    <tr>\n",
       "      <th id=\"T_acd53_level0_row11\" class=\"row_heading level0 row11\" >ridge</th>\n",
       "      <td id=\"T_acd53_row11_col0\" class=\"data row11 col0\" >Ridge Regression</td>\n",
       "      <td id=\"T_acd53_row11_col1\" class=\"data row11 col1\" >2601407924.0968</td>\n",
       "      <td id=\"T_acd53_row11_col2\" class=\"data row11 col2\" >36770395167551950848.0000</td>\n",
       "      <td id=\"T_acd53_row11_col3\" class=\"data row11 col3\" >5814406574.8093</td>\n",
       "      <td id=\"T_acd53_row11_col4\" class=\"data row11 col4\" >0.4615</td>\n",
       "      <td id=\"T_acd53_row11_col5\" class=\"data row11 col5\" >0.9685</td>\n",
       "      <td id=\"T_acd53_row11_col6\" class=\"data row11 col6\" >1.0038</td>\n",
       "      <td id=\"T_acd53_row11_col7\" class=\"data row11 col7\" >0.1580</td>\n",
       "    </tr>\n",
       "    <tr>\n",
       "      <th id=\"T_acd53_level0_row12\" class=\"row_heading level0 row12\" >dt</th>\n",
       "      <td id=\"T_acd53_row12_col0\" class=\"data row12 col0\" >Decision Tree Regressor</td>\n",
       "      <td id=\"T_acd53_row12_col1\" class=\"data row12 col1\" >2037379064.3410</td>\n",
       "      <td id=\"T_acd53_row12_col2\" class=\"data row12 col2\" >38229392647171932160.0000</td>\n",
       "      <td id=\"T_acd53_row12_col3\" class=\"data row12 col3\" >5868916353.4252</td>\n",
       "      <td id=\"T_acd53_row12_col4\" class=\"data row12 col4\" >0.4555</td>\n",
       "      <td id=\"T_acd53_row12_col5\" class=\"data row12 col5\" >0.5911</td>\n",
       "      <td id=\"T_acd53_row12_col6\" class=\"data row12 col6\" >0.4640</td>\n",
       "      <td id=\"T_acd53_row12_col7\" class=\"data row12 col7\" >0.1650</td>\n",
       "    </tr>\n",
       "    <tr>\n",
       "      <th id=\"T_acd53_level0_row13\" class=\"row_heading level0 row13\" >en</th>\n",
       "      <td id=\"T_acd53_row13_col0\" class=\"data row13 col0\" >Elastic Net</td>\n",
       "      <td id=\"T_acd53_row13_col1\" class=\"data row13 col1\" >2674066561.1712</td>\n",
       "      <td id=\"T_acd53_row13_col2\" class=\"data row13 col2\" >38251844718070562816.0000</td>\n",
       "      <td id=\"T_acd53_row13_col3\" class=\"data row13 col3\" >5932820359.7560</td>\n",
       "      <td id=\"T_acd53_row13_col4\" class=\"data row13 col4\" >0.4389</td>\n",
       "      <td id=\"T_acd53_row13_col5\" class=\"data row13 col5\" >0.9617</td>\n",
       "      <td id=\"T_acd53_row13_col6\" class=\"data row13 col6\" >1.0739</td>\n",
       "      <td id=\"T_acd53_row13_col7\" class=\"data row13 col7\" >0.1780</td>\n",
       "    </tr>\n",
       "    <tr>\n",
       "      <th id=\"T_acd53_level0_row14\" class=\"row_heading level0 row14\" >br</th>\n",
       "      <td id=\"T_acd53_row14_col0\" class=\"data row14 col0\" >Bayesian Ridge</td>\n",
       "      <td id=\"T_acd53_row14_col1\" class=\"data row14 col1\" >2736982279.0990</td>\n",
       "      <td id=\"T_acd53_row14_col2\" class=\"data row14 col2\" >39281545036914688000.0000</td>\n",
       "      <td id=\"T_acd53_row14_col3\" class=\"data row14 col3\" >6015645878.1027</td>\n",
       "      <td id=\"T_acd53_row14_col4\" class=\"data row14 col4\" >0.4226</td>\n",
       "      <td id=\"T_acd53_row14_col5\" class=\"data row14 col5\" >0.9722</td>\n",
       "      <td id=\"T_acd53_row14_col6\" class=\"data row14 col6\" >1.1318</td>\n",
       "      <td id=\"T_acd53_row14_col7\" class=\"data row14 col7\" >0.1600</td>\n",
       "    </tr>\n",
       "    <tr>\n",
       "      <th id=\"T_acd53_level0_row15\" class=\"row_heading level0 row15\" >omp</th>\n",
       "      <td id=\"T_acd53_row15_col0\" class=\"data row15 col0\" >Orthogonal Matching Pursuit</td>\n",
       "      <td id=\"T_acd53_row15_col1\" class=\"data row15 col1\" >2913330797.2689</td>\n",
       "      <td id=\"T_acd53_row15_col2\" class=\"data row15 col2\" >44353011085509238784.0000</td>\n",
       "      <td id=\"T_acd53_row15_col3\" class=\"data row15 col3\" >6434106571.4685</td>\n",
       "      <td id=\"T_acd53_row15_col4\" class=\"data row15 col4\" >0.3304</td>\n",
       "      <td id=\"T_acd53_row15_col5\" class=\"data row15 col5\" >0.8428</td>\n",
       "      <td id=\"T_acd53_row15_col6\" class=\"data row15 col6\" >1.0414</td>\n",
       "      <td id=\"T_acd53_row15_col7\" class=\"data row15 col7\" >0.1590</td>\n",
       "    </tr>\n",
       "    <tr>\n",
       "      <th id=\"T_acd53_level0_row16\" class=\"row_heading level0 row16\" >huber</th>\n",
       "      <td id=\"T_acd53_row16_col0\" class=\"data row16 col0\" >Huber Regressor</td>\n",
       "      <td id=\"T_acd53_row16_col1\" class=\"data row16 col1\" >2746601965.1450</td>\n",
       "      <td id=\"T_acd53_row16_col2\" class=\"data row16 col2\" >47458616307519750144.0000</td>\n",
       "      <td id=\"T_acd53_row16_col3\" class=\"data row16 col3\" >6620884818.1256</td>\n",
       "      <td id=\"T_acd53_row16_col4\" class=\"data row16 col4\" >0.3011</td>\n",
       "      <td id=\"T_acd53_row16_col5\" class=\"data row16 col5\" >0.7681</td>\n",
       "      <td id=\"T_acd53_row16_col6\" class=\"data row16 col6\" >0.9247</td>\n",
       "      <td id=\"T_acd53_row16_col7\" class=\"data row16 col7\" >0.1710</td>\n",
       "    </tr>\n",
       "    <tr>\n",
       "      <th id=\"T_acd53_level0_row17\" class=\"row_heading level0 row17\" >ada</th>\n",
       "      <td id=\"T_acd53_row17_col0\" class=\"data row17 col0\" >AdaBoost Regressor</td>\n",
       "      <td id=\"T_acd53_row17_col1\" class=\"data row17 col1\" >3738757338.4261</td>\n",
       "      <td id=\"T_acd53_row17_col2\" class=\"data row17 col2\" >46493374504845705216.0000</td>\n",
       "      <td id=\"T_acd53_row17_col3\" class=\"data row17 col3\" >6706538210.1199</td>\n",
       "      <td id=\"T_acd53_row17_col4\" class=\"data row17 col4\" >0.2159</td>\n",
       "      <td id=\"T_acd53_row17_col5\" class=\"data row17 col5\" >1.1143</td>\n",
       "      <td id=\"T_acd53_row17_col6\" class=\"data row17 col6\" >2.2123</td>\n",
       "      <td id=\"T_acd53_row17_col7\" class=\"data row17 col7\" >0.2140</td>\n",
       "    </tr>\n",
       "    <tr>\n",
       "      <th id=\"T_acd53_level0_row18\" class=\"row_heading level0 row18\" >par</th>\n",
       "      <td id=\"T_acd53_row18_col0\" class=\"data row18 col0\" >Passive Aggressive Regressor</td>\n",
       "      <td id=\"T_acd53_row18_col1\" class=\"data row18 col1\" >3260248555.0962</td>\n",
       "      <td id=\"T_acd53_row18_col2\" class=\"data row18 col2\" >51205862272745406464.0000</td>\n",
       "      <td id=\"T_acd53_row18_col3\" class=\"data row18 col3\" >6923112901.7749</td>\n",
       "      <td id=\"T_acd53_row18_col4\" class=\"data row18 col4\" >0.2131</td>\n",
       "      <td id=\"T_acd53_row18_col5\" class=\"data row18 col5\" >0.8597</td>\n",
       "      <td id=\"T_acd53_row18_col6\" class=\"data row18 col6\" >1.0795</td>\n",
       "      <td id=\"T_acd53_row18_col7\" class=\"data row18 col7\" >0.1610</td>\n",
       "    </tr>\n",
       "    <tr>\n",
       "      <th id=\"T_acd53_level0_row19\" class=\"row_heading level0 row19\" >dummy</th>\n",
       "      <td id=\"T_acd53_row19_col0\" class=\"data row19 col0\" >Dummy Regressor</td>\n",
       "      <td id=\"T_acd53_row19_col1\" class=\"data row19 col1\" >4360709888.0000</td>\n",
       "      <td id=\"T_acd53_row19_col2\" class=\"data row19 col2\" >65199411370298392576.0000</td>\n",
       "      <td id=\"T_acd53_row19_col3\" class=\"data row19 col3\" >7862235084.8000</td>\n",
       "      <td id=\"T_acd53_row19_col4\" class=\"data row19 col4\" >-0.0098</td>\n",
       "      <td id=\"T_acd53_row19_col5\" class=\"data row19 col5\" >1.2137</td>\n",
       "      <td id=\"T_acd53_row19_col6\" class=\"data row19 col6\" >2.2683</td>\n",
       "      <td id=\"T_acd53_row19_col7\" class=\"data row19 col7\" >0.4350</td>\n",
       "    </tr>\n",
       "  </tbody>\n",
       "</table>\n"
      ],
      "text/plain": [
       "<pandas.io.formats.style.Styler at 0x7a08e3def940>"
      ]
     },
     "metadata": {},
     "output_type": "display_data"
    },
    {
     "data": {
      "application/vnd.jupyter.widget-view+json": {
       "model_id": "998dca22441a475aba9a0785d104f247",
       "version_major": 2,
       "version_minor": 0
      },
      "text/plain": [
       "Processing:   0%|          | 0/85 [00:00<?, ?it/s]"
      ]
     },
     "metadata": {},
     "output_type": "display_data"
    },
    {
     "data": {
      "text/plain": [
       "<catboost.core.CatBoostRegressor at 0x7a08e3c72ad0>"
      ]
     },
     "execution_count": 11,
     "metadata": {},
     "output_type": "execute_result"
    }
   ],
   "source": [
    "compare_models()"
   ]
  },
  {
   "cell_type": "code",
   "execution_count": 12,
   "id": "328915e1",
   "metadata": {
    "execution": {
     "iopub.execute_input": "2024-05-29T18:40:16.965698Z",
     "iopub.status.busy": "2024-05-29T18:40:16.965278Z",
     "iopub.status.idle": "2024-05-29T18:40:23.316824Z",
     "shell.execute_reply": "2024-05-29T18:40:23.315297Z"
    },
    "papermill": {
     "duration": 6.378225,
     "end_time": "2024-05-29T18:40:23.319769",
     "exception": false,
     "start_time": "2024-05-29T18:40:16.941544",
     "status": "completed"
    },
    "tags": []
   },
   "outputs": [
    {
     "data": {
      "text/html": [],
      "text/plain": [
       "<IPython.core.display.HTML object>"
      ]
     },
     "metadata": {},
     "output_type": "display_data"
    },
    {
     "data": {
      "text/html": [
       "<style type=\"text/css\">\n",
       "#T_ec6a8_row10_col0, #T_ec6a8_row10_col1, #T_ec6a8_row10_col2, #T_ec6a8_row10_col3, #T_ec6a8_row10_col4, #T_ec6a8_row10_col5 {\n",
       "  background: yellow;\n",
       "}\n",
       "</style>\n",
       "<table id=\"T_ec6a8\">\n",
       "  <thead>\n",
       "    <tr>\n",
       "      <th class=\"blank level0\" >&nbsp;</th>\n",
       "      <th id=\"T_ec6a8_level0_col0\" class=\"col_heading level0 col0\" >MAE</th>\n",
       "      <th id=\"T_ec6a8_level0_col1\" class=\"col_heading level0 col1\" >MSE</th>\n",
       "      <th id=\"T_ec6a8_level0_col2\" class=\"col_heading level0 col2\" >RMSE</th>\n",
       "      <th id=\"T_ec6a8_level0_col3\" class=\"col_heading level0 col3\" >R2</th>\n",
       "      <th id=\"T_ec6a8_level0_col4\" class=\"col_heading level0 col4\" >RMSLE</th>\n",
       "      <th id=\"T_ec6a8_level0_col5\" class=\"col_heading level0 col5\" >MAPE</th>\n",
       "    </tr>\n",
       "    <tr>\n",
       "      <th class=\"index_name level0\" >Fold</th>\n",
       "      <th class=\"blank col0\" >&nbsp;</th>\n",
       "      <th class=\"blank col1\" >&nbsp;</th>\n",
       "      <th class=\"blank col2\" >&nbsp;</th>\n",
       "      <th class=\"blank col3\" >&nbsp;</th>\n",
       "      <th class=\"blank col4\" >&nbsp;</th>\n",
       "      <th class=\"blank col5\" >&nbsp;</th>\n",
       "    </tr>\n",
       "  </thead>\n",
       "  <tbody>\n",
       "    <tr>\n",
       "      <th id=\"T_ec6a8_level0_row0\" class=\"row_heading level0 row0\" >0</th>\n",
       "      <td id=\"T_ec6a8_row0_col0\" class=\"data row0 col0\" >2479386880.0000</td>\n",
       "      <td id=\"T_ec6a8_row0_col1\" class=\"data row0 col1\" >51988542547667451904.0000</td>\n",
       "      <td id=\"T_ec6a8_row0_col2\" class=\"data row0 col2\" >7210308096.0000</td>\n",
       "      <td id=\"T_ec6a8_row0_col3\" class=\"data row0 col3\" >0.4964</td>\n",
       "      <td id=\"T_ec6a8_row0_col4\" class=\"data row0 col4\" >0.6233</td>\n",
       "      <td id=\"T_ec6a8_row0_col5\" class=\"data row0 col5\" >0.4693</td>\n",
       "    </tr>\n",
       "    <tr>\n",
       "      <th id=\"T_ec6a8_level0_row1\" class=\"row_heading level0 row1\" >1</th>\n",
       "      <td id=\"T_ec6a8_row1_col0\" class=\"data row1 col0\" >1815818112.0000</td>\n",
       "      <td id=\"T_ec6a8_row1_col1\" class=\"data row1 col1\" >46944933177477562368.0000</td>\n",
       "      <td id=\"T_ec6a8_row1_col2\" class=\"data row1 col2\" >6851637248.0000</td>\n",
       "      <td id=\"T_ec6a8_row1_col3\" class=\"data row1 col3\" >0.4959</td>\n",
       "      <td id=\"T_ec6a8_row1_col4\" class=\"data row1 col4\" >0.4994</td>\n",
       "      <td id=\"T_ec6a8_row1_col5\" class=\"data row1 col5\" >0.4204</td>\n",
       "    </tr>\n",
       "    <tr>\n",
       "      <th id=\"T_ec6a8_level0_row2\" class=\"row_heading level0 row2\" >2</th>\n",
       "      <td id=\"T_ec6a8_row2_col0\" class=\"data row2 col0\" >1499436288.0000</td>\n",
       "      <td id=\"T_ec6a8_row2_col1\" class=\"data row2 col1\" >21151434925898989568.0000</td>\n",
       "      <td id=\"T_ec6a8_row2_col2\" class=\"data row2 col2\" >4599068672.0000</td>\n",
       "      <td id=\"T_ec6a8_row2_col3\" class=\"data row2 col3\" >0.5200</td>\n",
       "      <td id=\"T_ec6a8_row2_col4\" class=\"data row2 col4\" >0.5420</td>\n",
       "      <td id=\"T_ec6a8_row2_col5\" class=\"data row2 col5\" >0.5832</td>\n",
       "    </tr>\n",
       "    <tr>\n",
       "      <th id=\"T_ec6a8_level0_row3\" class=\"row_heading level0 row3\" >3</th>\n",
       "      <td id=\"T_ec6a8_row3_col0\" class=\"data row3 col0\" >1790795264.0000</td>\n",
       "      <td id=\"T_ec6a8_row3_col1\" class=\"data row3 col1\" >51692290134679486464.0000</td>\n",
       "      <td id=\"T_ec6a8_row3_col2\" class=\"data row3 col2\" >7189734912.0000</td>\n",
       "      <td id=\"T_ec6a8_row3_col3\" class=\"data row3 col3\" >0.3209</td>\n",
       "      <td id=\"T_ec6a8_row3_col4\" class=\"data row3 col4\" >0.5222</td>\n",
       "      <td id=\"T_ec6a8_row3_col5\" class=\"data row3 col5\" >0.3671</td>\n",
       "    </tr>\n",
       "    <tr>\n",
       "      <th id=\"T_ec6a8_level0_row4\" class=\"row_heading level0 row4\" >4</th>\n",
       "      <td id=\"T_ec6a8_row4_col0\" class=\"data row4 col0\" >2119836928.0000</td>\n",
       "      <td id=\"T_ec6a8_row4_col1\" class=\"data row4 col1\" >40256159743018532864.0000</td>\n",
       "      <td id=\"T_ec6a8_row4_col2\" class=\"data row4 col2\" >6344774144.0000</td>\n",
       "      <td id=\"T_ec6a8_row4_col3\" class=\"data row4 col3\" >0.4099</td>\n",
       "      <td id=\"T_ec6a8_row4_col4\" class=\"data row4 col4\" >0.4992</td>\n",
       "      <td id=\"T_ec6a8_row4_col5\" class=\"data row4 col5\" >0.4068</td>\n",
       "    </tr>\n",
       "    <tr>\n",
       "      <th id=\"T_ec6a8_level0_row5\" class=\"row_heading level0 row5\" >5</th>\n",
       "      <td id=\"T_ec6a8_row5_col0\" class=\"data row5 col0\" >2285190656.0000</td>\n",
       "      <td id=\"T_ec6a8_row5_col1\" class=\"data row5 col1\" >48404011495815380992.0000</td>\n",
       "      <td id=\"T_ec6a8_row5_col2\" class=\"data row5 col2\" >6957299200.0000</td>\n",
       "      <td id=\"T_ec6a8_row5_col3\" class=\"data row5 col3\" >0.4076</td>\n",
       "      <td id=\"T_ec6a8_row5_col4\" class=\"data row5 col4\" >0.5484</td>\n",
       "      <td id=\"T_ec6a8_row5_col5\" class=\"data row5 col5\" >0.4099</td>\n",
       "    </tr>\n",
       "    <tr>\n",
       "      <th id=\"T_ec6a8_level0_row6\" class=\"row_heading level0 row6\" >6</th>\n",
       "      <td id=\"T_ec6a8_row6_col0\" class=\"data row6 col0\" >2065661824.0000</td>\n",
       "      <td id=\"T_ec6a8_row6_col1\" class=\"data row6 col1\" >53211520535149674496.0000</td>\n",
       "      <td id=\"T_ec6a8_row6_col2\" class=\"data row6 col2\" >7294622720.0000</td>\n",
       "      <td id=\"T_ec6a8_row6_col3\" class=\"data row6 col3\" >0.4073</td>\n",
       "      <td id=\"T_ec6a8_row6_col4\" class=\"data row6 col4\" >0.4827</td>\n",
       "      <td id=\"T_ec6a8_row6_col5\" class=\"data row6 col5\" >0.3888</td>\n",
       "    </tr>\n",
       "    <tr>\n",
       "      <th id=\"T_ec6a8_level0_row7\" class=\"row_heading level0 row7\" >7</th>\n",
       "      <td id=\"T_ec6a8_row7_col0\" class=\"data row7 col0\" >1316253696.0000</td>\n",
       "      <td id=\"T_ec6a8_row7_col1\" class=\"data row7 col1\" >11084802341726060544.0000</td>\n",
       "      <td id=\"T_ec6a8_row7_col2\" class=\"data row7 col2\" >3329384704.0000</td>\n",
       "      <td id=\"T_ec6a8_row7_col3\" class=\"data row7 col3\" >0.5942</td>\n",
       "      <td id=\"T_ec6a8_row7_col4\" class=\"data row7 col4\" >0.4347</td>\n",
       "      <td id=\"T_ec6a8_row7_col5\" class=\"data row7 col5\" >0.3541</td>\n",
       "    </tr>\n",
       "    <tr>\n",
       "      <th id=\"T_ec6a8_level0_row8\" class=\"row_heading level0 row8\" >8</th>\n",
       "      <td id=\"T_ec6a8_row8_col0\" class=\"data row8 col0\" >1466868096.0000</td>\n",
       "      <td id=\"T_ec6a8_row8_col1\" class=\"data row8 col1\" >11212805286408486912.0000</td>\n",
       "      <td id=\"T_ec6a8_row8_col2\" class=\"data row8 col2\" >3348552704.0000</td>\n",
       "      <td id=\"T_ec6a8_row8_col3\" class=\"data row8 col3\" >0.6780</td>\n",
       "      <td id=\"T_ec6a8_row8_col4\" class=\"data row8 col4\" >0.5097</td>\n",
       "      <td id=\"T_ec6a8_row8_col5\" class=\"data row8 col5\" >0.4051</td>\n",
       "    </tr>\n",
       "    <tr>\n",
       "      <th id=\"T_ec6a8_level0_row9\" class=\"row_heading level0 row9\" >9</th>\n",
       "      <td id=\"T_ec6a8_row9_col0\" class=\"data row9 col0\" >1021159040.0000</td>\n",
       "      <td id=\"T_ec6a8_row9_col1\" class=\"data row9 col1\" >3417868453703319552.0000</td>\n",
       "      <td id=\"T_ec6a8_row9_col2\" class=\"data row9 col2\" >1848747776.0000</td>\n",
       "      <td id=\"T_ec6a8_row9_col3\" class=\"data row9 col3\" >0.8706</td>\n",
       "      <td id=\"T_ec6a8_row9_col4\" class=\"data row9 col4\" >0.5873</td>\n",
       "      <td id=\"T_ec6a8_row9_col5\" class=\"data row9 col5\" >0.4151</td>\n",
       "    </tr>\n",
       "    <tr>\n",
       "      <th id=\"T_ec6a8_level0_row10\" class=\"row_heading level0 row10\" >Mean</th>\n",
       "      <td id=\"T_ec6a8_row10_col0\" class=\"data row10 col0\" >1786040678.4000</td>\n",
       "      <td id=\"T_ec6a8_row10_col1\" class=\"data row10 col1\" >33936436864154492928.0000</td>\n",
       "      <td id=\"T_ec6a8_row10_col2\" class=\"data row10 col2\" >5497413017.6000</td>\n",
       "      <td id=\"T_ec6a8_row10_col3\" class=\"data row10 col3\" >0.5201</td>\n",
       "      <td id=\"T_ec6a8_row10_col4\" class=\"data row10 col4\" >0.5249</td>\n",
       "      <td id=\"T_ec6a8_row10_col5\" class=\"data row10 col5\" >0.4220</td>\n",
       "    </tr>\n",
       "    <tr>\n",
       "      <th id=\"T_ec6a8_level0_row11\" class=\"row_heading level0 row11\" >Std</th>\n",
       "      <td id=\"T_ec6a8_row11_col0\" class=\"data row11 col0\" >437053065.6462</td>\n",
       "      <td id=\"T_ec6a8_row11_col1\" class=\"data row11 col1\" >18880011148384997376.0000</td>\n",
       "      <td id=\"T_ec6a8_row11_col2\" class=\"data row11 col2\" >1927404096.0069</td>\n",
       "      <td id=\"T_ec6a8_row11_col3\" class=\"data row11 col3\" >0.1522</td>\n",
       "      <td id=\"T_ec6a8_row11_col4\" class=\"data row11 col4\" >0.0509</td>\n",
       "      <td id=\"T_ec6a8_row11_col5\" class=\"data row11 col5\" >0.0614</td>\n",
       "    </tr>\n",
       "  </tbody>\n",
       "</table>\n"
      ],
      "text/plain": [
       "<pandas.io.formats.style.Styler at 0x7a08e3c72c50>"
      ]
     },
     "metadata": {},
     "output_type": "display_data"
    },
    {
     "data": {
      "application/vnd.jupyter.widget-view+json": {
       "model_id": "94543b4e3348451e99f83882dc018201",
       "version_major": 2,
       "version_minor": 0
      },
      "text/plain": [
       "Processing:   0%|          | 0/4 [00:00<?, ?it/s]"
      ]
     },
     "metadata": {},
     "output_type": "display_data"
    }
   ],
   "source": [
    "my_model = create_model('xgboost')"
   ]
  },
  {
   "cell_type": "code",
   "execution_count": 13,
   "id": "1461888a",
   "metadata": {
    "execution": {
     "iopub.execute_input": "2024-05-29T18:40:23.369266Z",
     "iopub.status.busy": "2024-05-29T18:40:23.368775Z",
     "iopub.status.idle": "2024-05-29T18:40:23.386087Z",
     "shell.execute_reply": "2024-05-29T18:40:23.384935Z"
    },
    "papermill": {
     "duration": 0.046837,
     "end_time": "2024-05-29T18:40:23.389138",
     "exception": false,
     "start_time": "2024-05-29T18:40:23.342301",
     "status": "completed"
    },
    "tags": []
   },
   "outputs": [
    {
     "data": {
      "text/html": [
       "<div>\n",
       "<style scoped>\n",
       "    .dataframe tbody tr th:only-of-type {\n",
       "        vertical-align: middle;\n",
       "    }\n",
       "\n",
       "    .dataframe tbody tr th {\n",
       "        vertical-align: top;\n",
       "    }\n",
       "\n",
       "    .dataframe thead th {\n",
       "        text-align: right;\n",
       "    }\n",
       "</style>\n",
       "<table border=\"1\" class=\"dataframe\">\n",
       "  <thead>\n",
       "    <tr style=\"text-align: right;\">\n",
       "      <th></th>\n",
       "      <th>Area</th>\n",
       "      <th>Room</th>\n",
       "      <th>Parking</th>\n",
       "      <th>Warehouse</th>\n",
       "      <th>Elevator</th>\n",
       "      <th>Address</th>\n",
       "      <th>Price</th>\n",
       "    </tr>\n",
       "  </thead>\n",
       "  <tbody>\n",
       "    <tr>\n",
       "      <th>2932</th>\n",
       "      <td>103</td>\n",
       "      <td>2</td>\n",
       "      <td>True</td>\n",
       "      <td>True</td>\n",
       "      <td>True</td>\n",
       "      <td>Feiz Garden</td>\n",
       "      <td>4.000000e+09</td>\n",
       "    </tr>\n",
       "    <tr>\n",
       "      <th>2092</th>\n",
       "      <td>70</td>\n",
       "      <td>2</td>\n",
       "      <td>False</td>\n",
       "      <td>True</td>\n",
       "      <td>True</td>\n",
       "      <td>Elm-o-Sanat</td>\n",
       "      <td>1.800000e+09</td>\n",
       "    </tr>\n",
       "    <tr>\n",
       "      <th>1847</th>\n",
       "      <td>75</td>\n",
       "      <td>2</td>\n",
       "      <td>True</td>\n",
       "      <td>True</td>\n",
       "      <td>False</td>\n",
       "      <td>West Ferdows Boulevard</td>\n",
       "      <td>2.500000e+09</td>\n",
       "    </tr>\n",
       "  </tbody>\n",
       "</table>\n",
       "</div>"
      ],
      "text/plain": [
       "     Area  Room  Parking  Warehouse  Elevator                 Address  \\\n",
       "2932  103     2     True       True      True             Feiz Garden   \n",
       "2092   70     2    False       True      True             Elm-o-Sanat   \n",
       "1847   75     2     True       True     False  West Ferdows Boulevard   \n",
       "\n",
       "             Price  \n",
       "2932  4.000000e+09  \n",
       "2092  1.800000e+09  \n",
       "1847  2.500000e+09  "
      ]
     },
     "execution_count": 13,
     "metadata": {},
     "output_type": "execute_result"
    }
   ],
   "source": [
    "df.sample(3)"
   ]
  },
  {
   "cell_type": "code",
   "execution_count": 14,
   "id": "03c2760f",
   "metadata": {
    "execution": {
     "iopub.execute_input": "2024-05-29T18:40:23.435586Z",
     "iopub.status.busy": "2024-05-29T18:40:23.434824Z",
     "iopub.status.idle": "2024-05-29T18:40:23.452918Z",
     "shell.execute_reply": "2024-05-29T18:40:23.451740Z"
    },
    "papermill": {
     "duration": 0.044237,
     "end_time": "2024-05-29T18:40:23.455386",
     "exception": false,
     "start_time": "2024-05-29T18:40:23.411149",
     "status": "completed"
    },
    "tags": []
   },
   "outputs": [
    {
     "data": {
      "text/html": [
       "<div>\n",
       "<style scoped>\n",
       "    .dataframe tbody tr th:only-of-type {\n",
       "        vertical-align: middle;\n",
       "    }\n",
       "\n",
       "    .dataframe tbody tr th {\n",
       "        vertical-align: top;\n",
       "    }\n",
       "\n",
       "    .dataframe thead th {\n",
       "        text-align: right;\n",
       "    }\n",
       "</style>\n",
       "<table border=\"1\" class=\"dataframe\">\n",
       "  <thead>\n",
       "    <tr style=\"text-align: right;\">\n",
       "      <th></th>\n",
       "      <th>Room</th>\n",
       "      <th>Price</th>\n",
       "    </tr>\n",
       "  </thead>\n",
       "  <tbody>\n",
       "    <tr>\n",
       "      <th>count</th>\n",
       "      <td>3479.000000</td>\n",
       "      <td>3.479000e+03</td>\n",
       "    </tr>\n",
       "    <tr>\n",
       "      <th>mean</th>\n",
       "      <td>2.079908</td>\n",
       "      <td>5.359023e+09</td>\n",
       "    </tr>\n",
       "    <tr>\n",
       "      <th>std</th>\n",
       "      <td>0.758275</td>\n",
       "      <td>8.099935e+09</td>\n",
       "    </tr>\n",
       "    <tr>\n",
       "      <th>min</th>\n",
       "      <td>0.000000</td>\n",
       "      <td>3.600000e+06</td>\n",
       "    </tr>\n",
       "    <tr>\n",
       "      <th>25%</th>\n",
       "      <td>2.000000</td>\n",
       "      <td>1.418250e+09</td>\n",
       "    </tr>\n",
       "    <tr>\n",
       "      <th>50%</th>\n",
       "      <td>2.000000</td>\n",
       "      <td>2.900000e+09</td>\n",
       "    </tr>\n",
       "    <tr>\n",
       "      <th>75%</th>\n",
       "      <td>2.000000</td>\n",
       "      <td>6.000000e+09</td>\n",
       "    </tr>\n",
       "    <tr>\n",
       "      <th>max</th>\n",
       "      <td>5.000000</td>\n",
       "      <td>9.240000e+10</td>\n",
       "    </tr>\n",
       "  </tbody>\n",
       "</table>\n",
       "</div>"
      ],
      "text/plain": [
       "              Room         Price\n",
       "count  3479.000000  3.479000e+03\n",
       "mean      2.079908  5.359023e+09\n",
       "std       0.758275  8.099935e+09\n",
       "min       0.000000  3.600000e+06\n",
       "25%       2.000000  1.418250e+09\n",
       "50%       2.000000  2.900000e+09\n",
       "75%       2.000000  6.000000e+09\n",
       "max       5.000000  9.240000e+10"
      ]
     },
     "execution_count": 14,
     "metadata": {},
     "output_type": "execute_result"
    }
   ],
   "source": [
    "df.describe()"
   ]
  },
  {
   "cell_type": "code",
   "execution_count": 15,
   "id": "e3d9d132",
   "metadata": {
    "execution": {
     "iopub.execute_input": "2024-05-29T18:40:23.502040Z",
     "iopub.status.busy": "2024-05-29T18:40:23.501305Z",
     "iopub.status.idle": "2024-05-29T18:40:32.559025Z",
     "shell.execute_reply": "2024-05-29T18:40:32.557262Z"
    },
    "papermill": {
     "duration": 9.084465,
     "end_time": "2024-05-29T18:40:32.561963",
     "exception": false,
     "start_time": "2024-05-29T18:40:23.477498",
     "status": "completed"
    },
    "tags": []
   },
   "outputs": [
    {
     "data": {
      "image/png": "[encoded data removed]",
      "text/plain": [
       "<Figure size 800x390 with 2 Axes>"
      ]
     },
     "metadata": {},
     "output_type": "display_data"
    }
   ],
   "source": [
    "interpret_model(my_model)"
   ]
  },
  {
   "cell_type": "code",
   "execution_count": 16,
   "id": "aebea768",
   "metadata": {
    "execution": {
     "iopub.execute_input": "2024-05-29T18:40:32.610567Z",
     "iopub.status.busy": "2024-05-29T18:40:32.609699Z",
     "iopub.status.idle": "2024-05-29T18:40:33.423822Z",
     "shell.execute_reply": "2024-05-29T18:40:33.422025Z"
    },
    "papermill": {
     "duration": 0.841892,
     "end_time": "2024-05-29T18:40:33.427097",
     "exception": false,
     "start_time": "2024-05-29T18:40:32.585205",
     "status": "completed"
    },
    "tags": []
   },
   "outputs": [
    {
     "data": {
      "text/html": [],
      "text/plain": [
       "<IPython.core.display.HTML object>"
      ]
     },
     "metadata": {},
     "output_type": "display_data"
    },
    {
     "data": {
      "image/png": "[encoded data removed]",
      "text/plain": [
       "<Figure size 800x500 with 1 Axes>"
      ]
     },
     "metadata": {},
     "output_type": "display_data"
    }
   ],
   "source": [
    "plot_model(estimator=my_model, plot='feature')"
   ]
  },
  {
   "cell_type": "code",
   "execution_count": 17,
   "id": "63c9f11f",
   "metadata": {
    "execution": {
     "iopub.execute_input": "2024-05-29T18:40:33.479453Z",
     "iopub.status.busy": "2024-05-29T18:40:33.478300Z",
     "iopub.status.idle": "2024-05-29T18:40:33.497564Z",
     "shell.execute_reply": "2024-05-29T18:40:33.496397Z"
    },
    "papermill": {
     "duration": 0.048422,
     "end_time": "2024-05-29T18:40:33.500363",
     "exception": false,
     "start_time": "2024-05-29T18:40:33.451941",
     "status": "completed"
    },
    "tags": []
   },
   "outputs": [],
   "source": [
    "df.Area = df.Area.apply(lambda x: re.sub(',', '', x))\n",
    "df.Area = pd.to_numeric(df.Area, errors='coerce')"
   ]
  },
  {
   "cell_type": "code",
   "execution_count": 18,
   "id": "fb6dc015",
   "metadata": {
    "execution": {
     "iopub.execute_input": "2024-05-29T18:40:33.550147Z",
     "iopub.status.busy": "2024-05-29T18:40:33.549686Z",
     "iopub.status.idle": "2024-05-29T18:40:33.563235Z",
     "shell.execute_reply": "2024-05-29T18:40:33.562179Z"
    },
    "papermill": {
     "duration": 0.042138,
     "end_time": "2024-05-29T18:40:33.566152",
     "exception": false,
     "start_time": "2024-05-29T18:40:33.524014",
     "status": "completed"
    },
    "tags": []
   },
   "outputs": [
    {
     "name": "stdout",
     "output_type": "stream",
     "text": [
      "<class 'pandas.core.frame.DataFrame'>\n",
      "RangeIndex: 3479 entries, 0 to 3478\n",
      "Data columns (total 7 columns):\n",
      " #   Column     Non-Null Count  Dtype  \n",
      "---  ------     --------------  -----  \n",
      " 0   Area       3479 non-null   int64  \n",
      " 1   Room       3479 non-null   int64  \n",
      " 2   Parking    3479 non-null   bool   \n",
      " 3   Warehouse  3479 non-null   bool   \n",
      " 4   Elevator   3479 non-null   bool   \n",
      " 5   Address    3456 non-null   object \n",
      " 6   Price      3479 non-null   float64\n",
      "dtypes: bool(3), float64(1), int64(2), object(1)\n",
      "memory usage: 119.0+ KB\n"
     ]
    }
   ],
   "source": [
    "df.info()"
   ]
  },
  {
   "cell_type": "code",
   "execution_count": 19,
   "id": "8567ce85",
   "metadata": {
    "execution": {
     "iopub.execute_input": "2024-05-29T18:40:33.619407Z",
     "iopub.status.busy": "2024-05-29T18:40:33.618420Z",
     "iopub.status.idle": "2024-05-29T18:40:33.641813Z",
     "shell.execute_reply": "2024-05-29T18:40:33.640287Z"
    },
    "papermill": {
     "duration": 0.053929,
     "end_time": "2024-05-29T18:40:33.644696",
     "exception": false,
     "start_time": "2024-05-29T18:40:33.590767",
     "status": "completed"
    },
    "tags": []
   },
   "outputs": [
    {
     "data": {
      "text/html": [
       "<div>\n",
       "<style scoped>\n",
       "    .dataframe tbody tr th:only-of-type {\n",
       "        vertical-align: middle;\n",
       "    }\n",
       "\n",
       "    .dataframe tbody tr th {\n",
       "        vertical-align: top;\n",
       "    }\n",
       "\n",
       "    .dataframe thead th {\n",
       "        text-align: right;\n",
       "    }\n",
       "</style>\n",
       "<table border=\"1\" class=\"dataframe\">\n",
       "  <thead>\n",
       "    <tr style=\"text-align: right;\">\n",
       "      <th></th>\n",
       "      <th>Area</th>\n",
       "      <th>Room</th>\n",
       "      <th>Price</th>\n",
       "    </tr>\n",
       "  </thead>\n",
       "  <tbody>\n",
       "    <tr>\n",
       "      <th>count</th>\n",
       "      <td>3.479000e+03</td>\n",
       "      <td>3479.000000</td>\n",
       "      <td>3.479000e+03</td>\n",
       "    </tr>\n",
       "    <tr>\n",
       "      <th>mean</th>\n",
       "      <td>8.744000e+06</td>\n",
       "      <td>2.079908</td>\n",
       "      <td>5.359023e+09</td>\n",
       "    </tr>\n",
       "    <tr>\n",
       "      <th>std</th>\n",
       "      <td>3.167266e+08</td>\n",
       "      <td>0.758275</td>\n",
       "      <td>8.099935e+09</td>\n",
       "    </tr>\n",
       "    <tr>\n",
       "      <th>min</th>\n",
       "      <td>3.000000e+01</td>\n",
       "      <td>0.000000</td>\n",
       "      <td>3.600000e+06</td>\n",
       "    </tr>\n",
       "    <tr>\n",
       "      <th>25%</th>\n",
       "      <td>6.900000e+01</td>\n",
       "      <td>2.000000</td>\n",
       "      <td>1.418250e+09</td>\n",
       "    </tr>\n",
       "    <tr>\n",
       "      <th>50%</th>\n",
       "      <td>9.000000e+01</td>\n",
       "      <td>2.000000</td>\n",
       "      <td>2.900000e+09</td>\n",
       "    </tr>\n",
       "    <tr>\n",
       "      <th>75%</th>\n",
       "      <td>1.200000e+02</td>\n",
       "      <td>2.000000</td>\n",
       "      <td>6.000000e+09</td>\n",
       "    </tr>\n",
       "    <tr>\n",
       "      <th>max</th>\n",
       "      <td>1.616000e+10</td>\n",
       "      <td>5.000000</td>\n",
       "      <td>9.240000e+10</td>\n",
       "    </tr>\n",
       "  </tbody>\n",
       "</table>\n",
       "</div>"
      ],
      "text/plain": [
       "               Area         Room         Price\n",
       "count  3.479000e+03  3479.000000  3.479000e+03\n",
       "mean   8.744000e+06     2.079908  5.359023e+09\n",
       "std    3.167266e+08     0.758275  8.099935e+09\n",
       "min    3.000000e+01     0.000000  3.600000e+06\n",
       "25%    6.900000e+01     2.000000  1.418250e+09\n",
       "50%    9.000000e+01     2.000000  2.900000e+09\n",
       "75%    1.200000e+02     2.000000  6.000000e+09\n",
       "max    1.616000e+10     5.000000  9.240000e+10"
      ]
     },
     "execution_count": 19,
     "metadata": {},
     "output_type": "execute_result"
    }
   ],
   "source": [
    "df.describe()"
   ]
  },
  {
   "cell_type": "code",
   "execution_count": 20,
   "id": "ee1bb8ba",
   "metadata": {
    "execution": {
     "iopub.execute_input": "2024-05-29T18:40:33.769626Z",
     "iopub.status.busy": "2024-05-29T18:40:33.768717Z",
     "iopub.status.idle": "2024-05-29T18:40:33.779609Z",
     "shell.execute_reply": "2024-05-29T18:40:33.778070Z"
    },
    "papermill": {
     "duration": 0.03977,
     "end_time": "2024-05-29T18:40:33.782334",
     "exception": false,
     "start_time": "2024-05-29T18:40:33.742564",
     "status": "completed"
    },
    "tags": []
   },
   "outputs": [
    {
     "data": {
      "text/plain": [
       "Area          0\n",
       "Room          0\n",
       "Parking       0\n",
       "Warehouse     0\n",
       "Elevator      0\n",
       "Address      23\n",
       "Price         0\n",
       "dtype: int64"
      ]
     },
     "execution_count": 20,
     "metadata": {},
     "output_type": "execute_result"
    }
   ],
   "source": [
    "df.isnull().sum()"
   ]
  },
  {
   "cell_type": "code",
   "execution_count": 21,
   "id": "9ef50f22",
   "metadata": {
    "execution": {
     "iopub.execute_input": "2024-05-29T18:40:33.833905Z",
     "iopub.status.busy": "2024-05-29T18:40:33.833403Z",
     "iopub.status.idle": "2024-05-29T18:40:33.842876Z",
     "shell.execute_reply": "2024-05-29T18:40:33.841323Z"
    },
    "papermill": {
     "duration": 0.039535,
     "end_time": "2024-05-29T18:40:33.846182",
     "exception": false,
     "start_time": "2024-05-29T18:40:33.806647",
     "status": "completed"
    },
    "tags": []
   },
   "outputs": [],
   "source": [
    "df.dropna(inplace=True)"
   ]
  },
  {
   "cell_type": "code",
   "execution_count": 22,
   "id": "107cf375",
   "metadata": {
    "execution": {
     "iopub.execute_input": "2024-05-29T18:40:33.900890Z",
     "iopub.status.busy": "2024-05-29T18:40:33.899638Z",
     "iopub.status.idle": "2024-05-29T18:40:33.913513Z",
     "shell.execute_reply": "2024-05-29T18:40:33.912496Z"
    },
    "papermill": {
     "duration": 0.044616,
     "end_time": "2024-05-29T18:40:33.916128",
     "exception": false,
     "start_time": "2024-05-29T18:40:33.871512",
     "status": "completed"
    },
    "tags": []
   },
   "outputs": [
    {
     "name": "stdout",
     "output_type": "stream",
     "text": [
      "<class 'pandas.core.frame.DataFrame'>\n",
      "Index: 3456 entries, 0 to 3478\n",
      "Data columns (total 7 columns):\n",
      " #   Column     Non-Null Count  Dtype  \n",
      "---  ------     --------------  -----  \n",
      " 0   Area       3456 non-null   int64  \n",
      " 1   Room       3456 non-null   int64  \n",
      " 2   Parking    3456 non-null   bool   \n",
      " 3   Warehouse  3456 non-null   bool   \n",
      " 4   Elevator   3456 non-null   bool   \n",
      " 5   Address    3456 non-null   object \n",
      " 6   Price      3456 non-null   float64\n",
      "dtypes: bool(3), float64(1), int64(2), object(1)\n",
      "memory usage: 145.1+ KB\n"
     ]
    }
   ],
   "source": [
    "df.info()"
   ]
  },
  {
   "cell_type": "code",
   "execution_count": 23,
   "id": "e9149224",
   "metadata": {
    "execution": {
     "iopub.execute_input": "2024-05-29T18:40:33.967628Z",
     "iopub.status.busy": "2024-05-29T18:40:33.967107Z",
     "iopub.status.idle": "2024-05-29T18:40:33.979375Z",
     "shell.execute_reply": "2024-05-29T18:40:33.977813Z"
    },
    "papermill": {
     "duration": 0.041039,
     "end_time": "2024-05-29T18:40:33.981810",
     "exception": false,
     "start_time": "2024-05-29T18:40:33.940771",
     "status": "completed"
    },
    "tags": []
   },
   "outputs": [
    {
     "data": {
      "text/plain": [
       "Parking\n",
       "True     84.751157\n",
       "False    15.248843\n",
       "Name: proportion, dtype: float64"
      ]
     },
     "execution_count": 23,
     "metadata": {},
     "output_type": "execute_result"
    }
   ],
   "source": [
    "df.Parking.value_counts(normalize=True) * 100"
   ]
  },
  {
   "cell_type": "code",
   "execution_count": 24,
   "id": "54f26dde",
   "metadata": {
    "execution": {
     "iopub.execute_input": "2024-05-29T18:40:34.034314Z",
     "iopub.status.busy": "2024-05-29T18:40:34.033696Z",
     "iopub.status.idle": "2024-05-29T18:40:34.060260Z",
     "shell.execute_reply": "2024-05-29T18:40:34.058950Z"
    },
    "papermill": {
     "duration": 0.056453,
     "end_time": "2024-05-29T18:40:34.063257",
     "exception": false,
     "start_time": "2024-05-29T18:40:34.006804",
     "status": "completed"
    },
    "tags": []
   },
   "outputs": [
    {
     "data": {
      "text/html": [
       "<div>\n",
       "<style scoped>\n",
       "    .dataframe tbody tr th:only-of-type {\n",
       "        vertical-align: middle;\n",
       "    }\n",
       "\n",
       "    .dataframe tbody tr th {\n",
       "        vertical-align: top;\n",
       "    }\n",
       "\n",
       "    .dataframe thead th {\n",
       "        text-align: right;\n",
       "    }\n",
       "</style>\n",
       "<table border=\"1\" class=\"dataframe\">\n",
       "  <thead>\n",
       "    <tr style=\"text-align: right;\">\n",
       "      <th>Room</th>\n",
       "      <th>0</th>\n",
       "      <th>1</th>\n",
       "      <th>2</th>\n",
       "      <th>3</th>\n",
       "      <th>4</th>\n",
       "      <th>5</th>\n",
       "    </tr>\n",
       "    <tr>\n",
       "      <th>Parking</th>\n",
       "      <th></th>\n",
       "      <th></th>\n",
       "      <th></th>\n",
       "      <th></th>\n",
       "      <th></th>\n",
       "      <th></th>\n",
       "    </tr>\n",
       "  </thead>\n",
       "  <tbody>\n",
       "    <tr>\n",
       "      <th>False</th>\n",
       "      <td>8</td>\n",
       "      <td>243</td>\n",
       "      <td>244</td>\n",
       "      <td>26</td>\n",
       "      <td>1</td>\n",
       "      <td>5</td>\n",
       "    </tr>\n",
       "    <tr>\n",
       "      <th>True</th>\n",
       "      <td>2</td>\n",
       "      <td>426</td>\n",
       "      <td>1699</td>\n",
       "      <td>705</td>\n",
       "      <td>69</td>\n",
       "      <td>28</td>\n",
       "    </tr>\n",
       "  </tbody>\n",
       "</table>\n",
       "</div>"
      ],
      "text/plain": [
       "Room     0    1     2    3   4   5\n",
       "Parking                           \n",
       "False    8  243   244   26   1   5\n",
       "True     2  426  1699  705  69  28"
      ]
     },
     "execution_count": 24,
     "metadata": {},
     "output_type": "execute_result"
    }
   ],
   "source": [
    "pd.crosstab(df.Parking, df.Room)"
   ]
  },
  {
   "cell_type": "code",
   "execution_count": 25,
   "id": "91cb138f",
   "metadata": {
    "execution": {
     "iopub.execute_input": "2024-05-29T18:40:34.121022Z",
     "iopub.status.busy": "2024-05-29T18:40:34.119577Z",
     "iopub.status.idle": "2024-05-29T18:40:34.131290Z",
     "shell.execute_reply": "2024-05-29T18:40:34.129538Z"
    },
    "papermill": {
     "duration": 0.043172,
     "end_time": "2024-05-29T18:40:34.134194",
     "exception": false,
     "start_time": "2024-05-29T18:40:34.091022",
     "status": "completed"
    },
    "tags": []
   },
   "outputs": [
    {
     "data": {
      "text/plain": [
       "1522"
      ]
     },
     "execution_count": 25,
     "metadata": {},
     "output_type": "execute_result"
    }
   ],
   "source": [
    "below_85_area = df[df.Area <= 85]\n",
    "len(below_85_area)"
   ]
  },
  {
   "cell_type": "code",
   "execution_count": 26,
   "id": "f4eaf4ab",
   "metadata": {
    "execution": {
     "iopub.execute_input": "2024-05-29T18:40:34.191405Z",
     "iopub.status.busy": "2024-05-29T18:40:34.189792Z",
     "iopub.status.idle": "2024-05-29T18:40:34.202287Z",
     "shell.execute_reply": "2024-05-29T18:40:34.200969Z"
    },
    "papermill": {
     "duration": 0.043742,
     "end_time": "2024-05-29T18:40:34.205312",
     "exception": false,
     "start_time": "2024-05-29T18:40:34.161570",
     "status": "completed"
    },
    "tags": []
   },
   "outputs": [
    {
     "data": {
      "text/plain": [
       "Parking\n",
       "True     72.536137\n",
       "False    27.463863\n",
       "Name: proportion, dtype: float64"
      ]
     },
     "execution_count": 26,
     "metadata": {},
     "output_type": "execute_result"
    }
   ],
   "source": [
    "below_85_area.Parking.value_counts(normalize=True) * 100"
   ]
  },
  {
   "cell_type": "code",
   "execution_count": 27,
   "id": "743f355b",
   "metadata": {
    "execution": {
     "iopub.execute_input": "2024-05-29T18:40:34.261843Z",
     "iopub.status.busy": "2024-05-29T18:40:34.261353Z",
     "iopub.status.idle": "2024-05-29T18:40:34.269708Z",
     "shell.execute_reply": "2024-05-29T18:40:34.268354Z"
    },
    "papermill": {
     "duration": 0.038988,
     "end_time": "2024-05-29T18:40:34.272066",
     "exception": false,
     "start_time": "2024-05-29T18:40:34.233078",
     "status": "completed"
    },
    "tags": []
   },
   "outputs": [
    {
     "data": {
      "text/plain": [
       "192"
      ]
     },
     "execution_count": 27,
     "metadata": {},
     "output_type": "execute_result"
    }
   ],
   "source": [
    "df.Address.unique().size"
   ]
  },
  {
   "cell_type": "code",
   "execution_count": 28,
   "id": "202d88e7",
   "metadata": {
    "execution": {
     "iopub.execute_input": "2024-05-29T18:40:34.326193Z",
     "iopub.status.busy": "2024-05-29T18:40:34.324893Z",
     "iopub.status.idle": "2024-05-29T18:40:34.330375Z",
     "shell.execute_reply": "2024-05-29T18:40:34.329481Z"
    },
    "papermill": {
     "duration": 0.035281,
     "end_time": "2024-05-29T18:40:34.332921",
     "exception": false,
     "start_time": "2024-05-29T18:40:34.297640",
     "status": "completed"
    },
    "tags": []
   },
   "outputs": [],
   "source": [
    "pd.set_option('display.float_format', lambda x : '%.f' % x)"
   ]
  },
  {
   "cell_type": "code",
   "execution_count": 29,
   "id": "9f03dc3a",
   "metadata": {
    "execution": {
     "iopub.execute_input": "2024-05-29T18:40:34.387189Z",
     "iopub.status.busy": "2024-05-29T18:40:34.385835Z",
     "iopub.status.idle": "2024-05-29T18:40:34.397909Z",
     "shell.execute_reply": "2024-05-29T18:40:34.396232Z"
    },
    "papermill": {
     "duration": 0.041911,
     "end_time": "2024-05-29T18:40:34.400686",
     "exception": false,
     "start_time": "2024-05-29T18:40:34.358775",
     "status": "completed"
    },
    "tags": []
   },
   "outputs": [
    {
     "data": {
      "text/plain": [
       "Room\n",
       "0    7860500000\n",
       "1    1707480867\n",
       "2    3330303037\n",
       "3   10938692886\n",
       "4   25600328571\n",
       "5   33734393939\n",
       "Name: Price, dtype: float64"
      ]
     },
     "execution_count": 29,
     "metadata": {},
     "output_type": "execute_result"
    }
   ],
   "source": [
    "#pd.set_option('display.float_format', lambda x : f\"{x:,}\")\n",
    "df.groupby('Room')['Price'].mean()"
   ]
  },
  {
   "cell_type": "code",
   "execution_count": 30,
   "id": "9c566b4d",
   "metadata": {
    "execution": {
     "iopub.execute_input": "2024-05-29T18:40:34.456605Z",
     "iopub.status.busy": "2024-05-29T18:40:34.456019Z",
     "iopub.status.idle": "2024-05-29T18:40:34.473466Z",
     "shell.execute_reply": "2024-05-29T18:40:34.472431Z"
    },
    "papermill": {
     "duration": 0.047567,
     "end_time": "2024-05-29T18:40:34.475964",
     "exception": false,
     "start_time": "2024-05-29T18:40:34.428397",
     "status": "completed"
    },
    "tags": []
   },
   "outputs": [
    {
     "data": {
      "text/html": [
       "<div>\n",
       "<style scoped>\n",
       "    .dataframe tbody tr th:only-of-type {\n",
       "        vertical-align: middle;\n",
       "    }\n",
       "\n",
       "    .dataframe tbody tr th {\n",
       "        vertical-align: top;\n",
       "    }\n",
       "\n",
       "    .dataframe thead th {\n",
       "        text-align: right;\n",
       "    }\n",
       "</style>\n",
       "<table border=\"1\" class=\"dataframe\">\n",
       "  <thead>\n",
       "    <tr style=\"text-align: right;\">\n",
       "      <th></th>\n",
       "      <th>Room</th>\n",
       "      <th>Parking</th>\n",
       "      <th>Price</th>\n",
       "    </tr>\n",
       "  </thead>\n",
       "  <tbody>\n",
       "    <tr>\n",
       "      <th>0</th>\n",
       "      <td>0</td>\n",
       "      <td>False</td>\n",
       "      <td>9769750000</td>\n",
       "    </tr>\n",
       "    <tr>\n",
       "      <th>1</th>\n",
       "      <td>0</td>\n",
       "      <td>True</td>\n",
       "      <td>223500000</td>\n",
       "    </tr>\n",
       "    <tr>\n",
       "      <th>2</th>\n",
       "      <td>1</td>\n",
       "      <td>False</td>\n",
       "      <td>1139677778</td>\n",
       "    </tr>\n",
       "    <tr>\n",
       "      <th>3</th>\n",
       "      <td>1</td>\n",
       "      <td>True</td>\n",
       "      <td>2031368545</td>\n",
       "    </tr>\n",
       "    <tr>\n",
       "      <th>4</th>\n",
       "      <td>2</td>\n",
       "      <td>False</td>\n",
       "      <td>1501674180</td>\n",
       "    </tr>\n",
       "    <tr>\n",
       "      <th>5</th>\n",
       "      <td>2</td>\n",
       "      <td>True</td>\n",
       "      <td>3592919541</td>\n",
       "    </tr>\n",
       "    <tr>\n",
       "      <th>6</th>\n",
       "      <td>3</td>\n",
       "      <td>False</td>\n",
       "      <td>5107865385</td>\n",
       "    </tr>\n",
       "    <tr>\n",
       "      <th>7</th>\n",
       "      <td>3</td>\n",
       "      <td>True</td>\n",
       "      <td>11153730496</td>\n",
       "    </tr>\n",
       "    <tr>\n",
       "      <th>8</th>\n",
       "      <td>4</td>\n",
       "      <td>False</td>\n",
       "      <td>6200000000</td>\n",
       "    </tr>\n",
       "    <tr>\n",
       "      <th>9</th>\n",
       "      <td>4</td>\n",
       "      <td>True</td>\n",
       "      <td>25881492754</td>\n",
       "    </tr>\n",
       "    <tr>\n",
       "      <th>10</th>\n",
       "      <td>5</td>\n",
       "      <td>False</td>\n",
       "      <td>9999000000</td>\n",
       "    </tr>\n",
       "    <tr>\n",
       "      <th>11</th>\n",
       "      <td>5</td>\n",
       "      <td>True</td>\n",
       "      <td>37972857143</td>\n",
       "    </tr>\n",
       "  </tbody>\n",
       "</table>\n",
       "</div>"
      ],
      "text/plain": [
       "    Room  Parking       Price\n",
       "0      0    False  9769750000\n",
       "1      0     True   223500000\n",
       "2      1    False  1139677778\n",
       "3      1     True  2031368545\n",
       "4      2    False  1501674180\n",
       "5      2     True  3592919541\n",
       "6      3    False  5107865385\n",
       "7      3     True 11153730496\n",
       "8      4    False  6200000000\n",
       "9      4     True 25881492754\n",
       "10     5    False  9999000000\n",
       "11     5     True 37972857143"
      ]
     },
     "execution_count": 30,
     "metadata": {},
     "output_type": "execute_result"
    }
   ],
   "source": [
    "room_parking_room_mean_df = df.groupby(['Room', 'Parking'])['Price'].mean().reset_index()\n",
    "room_parking_room_mean_df"
   ]
  },
  {
   "cell_type": "code",
   "execution_count": 31,
   "id": "a315aa21",
   "metadata": {
    "execution": {
     "iopub.execute_input": "2024-05-29T18:40:34.530589Z",
     "iopub.status.busy": "2024-05-29T18:40:34.529295Z",
     "iopub.status.idle": "2024-05-29T18:40:34.535802Z",
     "shell.execute_reply": "2024-05-29T18:40:34.534742Z"
    },
    "papermill": {
     "duration": 0.036611,
     "end_time": "2024-05-29T18:40:34.538392",
     "exception": false,
     "start_time": "2024-05-29T18:40:34.501781",
     "status": "completed"
    },
    "tags": []
   },
   "outputs": [],
   "source": [
    "df_2 = df.copy()"
   ]
  },
  {
   "cell_type": "code",
   "execution_count": 32,
   "id": "a63dcf15",
   "metadata": {
    "execution": {
     "iopub.execute_input": "2024-05-29T18:40:34.594717Z",
     "iopub.status.busy": "2024-05-29T18:40:34.593716Z",
     "iopub.status.idle": "2024-05-29T18:40:34.618374Z",
     "shell.execute_reply": "2024-05-29T18:40:34.617277Z"
    },
    "papermill": {
     "duration": 0.056336,
     "end_time": "2024-05-29T18:40:34.621282",
     "exception": false,
     "start_time": "2024-05-29T18:40:34.564946",
     "status": "completed"
    },
    "tags": []
   },
   "outputs": [
    {
     "data": {
      "text/html": [
       "<div>\n",
       "<style scoped>\n",
       "    .dataframe tbody tr th:only-of-type {\n",
       "        vertical-align: middle;\n",
       "    }\n",
       "\n",
       "    .dataframe tbody tr th {\n",
       "        vertical-align: top;\n",
       "    }\n",
       "\n",
       "    .dataframe thead th {\n",
       "        text-align: right;\n",
       "    }\n",
       "</style>\n",
       "<table border=\"1\" class=\"dataframe\">\n",
       "  <thead>\n",
       "    <tr style=\"text-align: right;\">\n",
       "      <th></th>\n",
       "      <th>Area</th>\n",
       "      <th>Room</th>\n",
       "      <th>Parking</th>\n",
       "      <th>Warehouse</th>\n",
       "      <th>Elevator</th>\n",
       "      <th>Address</th>\n",
       "      <th>Price</th>\n",
       "    </tr>\n",
       "  </thead>\n",
       "  <tbody>\n",
       "    <tr>\n",
       "      <th>0</th>\n",
       "      <td>63</td>\n",
       "      <td>1</td>\n",
       "      <td>True</td>\n",
       "      <td>True</td>\n",
       "      <td>True</td>\n",
       "      <td>Shahran</td>\n",
       "      <td>1,850,000,000</td>\n",
       "    </tr>\n",
       "    <tr>\n",
       "      <th>1</th>\n",
       "      <td>60</td>\n",
       "      <td>1</td>\n",
       "      <td>True</td>\n",
       "      <td>True</td>\n",
       "      <td>True</td>\n",
       "      <td>Shahran</td>\n",
       "      <td>1,850,000,000</td>\n",
       "    </tr>\n",
       "    <tr>\n",
       "      <th>2</th>\n",
       "      <td>79</td>\n",
       "      <td>2</td>\n",
       "      <td>True</td>\n",
       "      <td>True</td>\n",
       "      <td>True</td>\n",
       "      <td>Pardis</td>\n",
       "      <td>550,000,000</td>\n",
       "    </tr>\n",
       "    <tr>\n",
       "      <th>3</th>\n",
       "      <td>95</td>\n",
       "      <td>2</td>\n",
       "      <td>True</td>\n",
       "      <td>True</td>\n",
       "      <td>True</td>\n",
       "      <td>Shahrake Qods</td>\n",
       "      <td>902,500,000</td>\n",
       "    </tr>\n",
       "    <tr>\n",
       "      <th>4</th>\n",
       "      <td>123</td>\n",
       "      <td>2</td>\n",
       "      <td>True</td>\n",
       "      <td>True</td>\n",
       "      <td>True</td>\n",
       "      <td>Shahrake Gharb</td>\n",
       "      <td>7,000,000,000</td>\n",
       "    </tr>\n",
       "    <tr>\n",
       "      <th>...</th>\n",
       "      <td>...</td>\n",
       "      <td>...</td>\n",
       "      <td>...</td>\n",
       "      <td>...</td>\n",
       "      <td>...</td>\n",
       "      <td>...</td>\n",
       "      <td>...</td>\n",
       "    </tr>\n",
       "    <tr>\n",
       "      <th>3474</th>\n",
       "      <td>86</td>\n",
       "      <td>2</td>\n",
       "      <td>True</td>\n",
       "      <td>True</td>\n",
       "      <td>True</td>\n",
       "      <td>Southern Janatabad</td>\n",
       "      <td>3,500,000,000</td>\n",
       "    </tr>\n",
       "    <tr>\n",
       "      <th>3475</th>\n",
       "      <td>83</td>\n",
       "      <td>2</td>\n",
       "      <td>True</td>\n",
       "      <td>True</td>\n",
       "      <td>True</td>\n",
       "      <td>Niavaran</td>\n",
       "      <td>6,800,000,000</td>\n",
       "    </tr>\n",
       "    <tr>\n",
       "      <th>3476</th>\n",
       "      <td>75</td>\n",
       "      <td>2</td>\n",
       "      <td>False</td>\n",
       "      <td>False</td>\n",
       "      <td>False</td>\n",
       "      <td>Parand</td>\n",
       "      <td>365,000,000</td>\n",
       "    </tr>\n",
       "    <tr>\n",
       "      <th>3477</th>\n",
       "      <td>105</td>\n",
       "      <td>2</td>\n",
       "      <td>True</td>\n",
       "      <td>True</td>\n",
       "      <td>True</td>\n",
       "      <td>Dorous</td>\n",
       "      <td>5,600,000,000</td>\n",
       "    </tr>\n",
       "    <tr>\n",
       "      <th>3478</th>\n",
       "      <td>82</td>\n",
       "      <td>2</td>\n",
       "      <td>False</td>\n",
       "      <td>True</td>\n",
       "      <td>True</td>\n",
       "      <td>Parand</td>\n",
       "      <td>360,000,000</td>\n",
       "    </tr>\n",
       "  </tbody>\n",
       "</table>\n",
       "<p>3456 rows × 7 columns</p>\n",
       "</div>"
      ],
      "text/plain": [
       "      Area  Room  Parking  Warehouse  Elevator             Address  \\\n",
       "0       63     1     True       True      True             Shahran   \n",
       "1       60     1     True       True      True             Shahran   \n",
       "2       79     2     True       True      True              Pardis   \n",
       "3       95     2     True       True      True       Shahrake Qods   \n",
       "4      123     2     True       True      True      Shahrake Gharb   \n",
       "...    ...   ...      ...        ...       ...                 ...   \n",
       "3474    86     2     True       True      True  Southern Janatabad   \n",
       "3475    83     2     True       True      True            Niavaran   \n",
       "3476    75     2    False      False     False              Parand   \n",
       "3477   105     2     True       True      True              Dorous   \n",
       "3478    82     2    False       True      True              Parand   \n",
       "\n",
       "              Price  \n",
       "0     1,850,000,000  \n",
       "1     1,850,000,000  \n",
       "2       550,000,000  \n",
       "3       902,500,000  \n",
       "4     7,000,000,000  \n",
       "...             ...  \n",
       "3474  3,500,000,000  \n",
       "3475  6,800,000,000  \n",
       "3476    365,000,000  \n",
       "3477  5,600,000,000  \n",
       "3478    360,000,000  \n",
       "\n",
       "[3456 rows x 7 columns]"
      ]
     },
     "execution_count": 32,
     "metadata": {},
     "output_type": "execute_result"
    }
   ],
   "source": [
    "df_2.loc[:, 'Price'] = df.Price.map(\"{:,.0f}\".format)\n",
    "df_2"
   ]
  },
  {
   "cell_type": "code",
   "execution_count": 33,
   "id": "320a244f",
   "metadata": {
    "execution": {
     "iopub.execute_input": "2024-05-29T18:40:34.679888Z",
     "iopub.status.busy": "2024-05-29T18:40:34.678919Z",
     "iopub.status.idle": "2024-05-29T18:40:35.371121Z",
     "shell.execute_reply": "2024-05-29T18:40:35.369653Z"
    },
    "papermill": {
     "duration": 0.725698,
     "end_time": "2024-05-29T18:40:35.374304",
     "exception": false,
     "start_time": "2024-05-29T18:40:34.648606",
     "status": "completed"
    },
    "tags": []
   },
   "outputs": [
    {
     "data": {
      "text/plain": [
       "<Figure size 800x600 with 0 Axes>"
      ]
     },
     "metadata": {},
     "output_type": "display_data"
    },
    {
     "data": {
      "image/png": "[encoded data removed]",
      "text/plain": [
       "<Figure size 500x500 with 1 Axes>"
      ]
     },
     "metadata": {},
     "output_type": "display_data"
    }
   ],
   "source": [
    "plt.figure(figsize=(8, 6))\n",
    "sns.displot(df.Price, bins=30, kde=True)\n",
    "plt.show()"
   ]
  },
  {
   "cell_type": "code",
   "execution_count": 34,
   "id": "82ea476c",
   "metadata": {
    "execution": {
     "iopub.execute_input": "2024-05-29T18:40:35.436989Z",
     "iopub.status.busy": "2024-05-29T18:40:35.435925Z",
     "iopub.status.idle": "2024-05-29T18:40:35.899617Z",
     "shell.execute_reply": "2024-05-29T18:40:35.898301Z"
    },
    "papermill": {
     "duration": 0.49929,
     "end_time": "2024-05-29T18:40:35.902778",
     "exception": false,
     "start_time": "2024-05-29T18:40:35.403488",
     "status": "completed"
    },
    "tags": []
   },
   "outputs": [
    {
     "data": {
      "image/png": "[encoded data removed]",
      "text/plain": [
       "<Figure size 800x550 with 2 Axes>"
      ]
     },
     "metadata": {},
     "output_type": "display_data"
    }
   ],
   "source": [
    "sns.heatmap(df.drop('Address', axis=1).corr(), annot=True, cmap='RdYlGn')\n",
    "plt.show()"
   ]
  },
  {
   "cell_type": "code",
   "execution_count": 35,
   "id": "5b7cdd50",
   "metadata": {
    "execution": {
     "iopub.execute_input": "2024-05-29T18:40:35.961899Z",
     "iopub.status.busy": "2024-05-29T18:40:35.961451Z",
     "iopub.status.idle": "2024-05-29T18:40:36.702539Z",
     "shell.execute_reply": "2024-05-29T18:40:36.701415Z"
    },
    "papermill": {
     "duration": 0.774299,
     "end_time": "2024-05-29T18:40:36.705335",
     "exception": false,
     "start_time": "2024-05-29T18:40:35.931036",
     "status": "completed"
    },
    "tags": []
   },
   "outputs": [
    {
     "data": {
      "image/png": "[encoded data removed]",
      "text/plain": [
       "<Figure size 1800x600 with 3 Axes>"
      ]
     },
     "metadata": {},
     "output_type": "display_data"
    }
   ],
   "source": [
    "fig, ax = plt.subplots(ncols=3, figsize=(18,6))\n",
    "\n",
    "colors = [['#ADEFD1FF', '#00203FFF'], ['#97BC62FF', '#2C5F2D'], ['#F5C7B8FF', '#FFA177FF']]\n",
    "explode = [0, 0.2]\n",
    "columns = ['Parking', 'Warehouse', 'Elevator']\n",
    "\n",
    "for i in range(3):\n",
    "        data = df[columns[i]].value_counts()\n",
    "        ax[i].pie(data, labels=data.values, explode=explode, colors=colors[i], shadow=True)\n",
    "        ax[i].legend(labels=data.index, fontsize='large')\n",
    "        ax[i].set_title('{} distribution'.format(columns[i]))"
   ]
  },
  {
   "cell_type": "code",
   "execution_count": 36,
   "id": "67ae9cfb",
   "metadata": {
    "execution": {
     "iopub.execute_input": "2024-05-29T18:40:36.765772Z",
     "iopub.status.busy": "2024-05-29T18:40:36.765387Z",
     "iopub.status.idle": "2024-05-29T18:40:36.780472Z",
     "shell.execute_reply": "2024-05-29T18:40:36.779358Z"
    },
    "papermill": {
     "duration": 0.048405,
     "end_time": "2024-05-29T18:40:36.783405",
     "exception": false,
     "start_time": "2024-05-29T18:40:36.735000",
     "status": "completed"
    },
    "tags": []
   },
   "outputs": [
    {
     "data": {
      "text/plain": [
       "Address\n",
       "Punak                     161\n",
       "Pardis                    146\n",
       "West Ferdows Boulevard    145\n",
       "Gheitarieh                141\n",
       "Shahran                   130\n",
       "Saadat Abad               129\n",
       "Parand                    127\n",
       "Shahr-e-Ziba              109\n",
       "Name: count, dtype: int64"
      ]
     },
     "execution_count": 36,
     "metadata": {},
     "output_type": "execute_result"
    }
   ],
   "source": [
    "df3_address = df.Address.value_counts().copy()\n",
    "df3_address = df3_address[:8]\n",
    "df3_address"
   ]
  },
  {
   "cell_type": "code",
   "execution_count": 37,
   "id": "f96807ff",
   "metadata": {
    "execution": {
     "iopub.execute_input": "2024-05-29T18:40:36.843523Z",
     "iopub.status.busy": "2024-05-29T18:40:36.843107Z",
     "iopub.status.idle": "2024-05-29T18:40:37.237332Z",
     "shell.execute_reply": "2024-05-29T18:40:37.235905Z"
    },
    "papermill": {
     "duration": 0.428485,
     "end_time": "2024-05-29T18:40:37.241006",
     "exception": false,
     "start_time": "2024-05-29T18:40:36.812521",
     "status": "completed"
    },
    "tags": []
   },
   "outputs": [
    {
     "data": {
      "image/png": "[encoded data removed]",
      "text/plain": [
       "<Figure size 600x1000 with 1 Axes>"
      ]
     },
     "metadata": {},
     "output_type": "display_data"
    }
   ],
   "source": [
    "fig, ax = plt.subplots(figsize=(6,10))\n",
    "sns.barplot(x=df3_address.values, y=df3_address.index, ax=ax)\n",
    "plt.xlabel('Numerical amount of flats')\n",
    "plt.title('Number of flats in location')\n",
    "plt.show()"
   ]
  },
  {
   "cell_type": "code",
   "execution_count": 38,
   "id": "0db2d35f",
   "metadata": {
    "execution": {
     "iopub.execute_input": "2024-05-29T18:40:37.311825Z",
     "iopub.status.busy": "2024-05-29T18:40:37.311326Z",
     "iopub.status.idle": "2024-05-29T18:40:37.329362Z",
     "shell.execute_reply": "2024-05-29T18:40:37.327817Z"
    },
    "papermill": {
     "duration": 0.05478,
     "end_time": "2024-05-29T18:40:37.332368",
     "exception": false,
     "start_time": "2024-05-29T18:40:37.277588",
     "status": "completed"
    },
    "tags": []
   },
   "outputs": [
    {
     "data": {
      "text/html": [
       "<div>\n",
       "<style scoped>\n",
       "    .dataframe tbody tr th:only-of-type {\n",
       "        vertical-align: middle;\n",
       "    }\n",
       "\n",
       "    .dataframe tbody tr th {\n",
       "        vertical-align: top;\n",
       "    }\n",
       "\n",
       "    .dataframe thead th {\n",
       "        text-align: right;\n",
       "    }\n",
       "</style>\n",
       "<table border=\"1\" class=\"dataframe\">\n",
       "  <thead>\n",
       "    <tr style=\"text-align: right;\">\n",
       "      <th></th>\n",
       "      <th>Address</th>\n",
       "      <th>Price</th>\n",
       "    </tr>\n",
       "  </thead>\n",
       "  <tbody>\n",
       "    <tr>\n",
       "      <th>1707</th>\n",
       "      <td>Zaferanieh</td>\n",
       "      <td>92400000000</td>\n",
       "    </tr>\n",
       "    <tr>\n",
       "      <th>1810</th>\n",
       "      <td>Abazar</td>\n",
       "      <td>91000000000</td>\n",
       "    </tr>\n",
       "    <tr>\n",
       "      <th>430</th>\n",
       "      <td>Lavasan</td>\n",
       "      <td>85000000000</td>\n",
       "    </tr>\n",
       "    <tr>\n",
       "      <th>819</th>\n",
       "      <td>Ekhtiarieh</td>\n",
       "      <td>81600000000</td>\n",
       "    </tr>\n",
       "    <tr>\n",
       "      <th>1332</th>\n",
       "      <td>Niavaran</td>\n",
       "      <td>80500000000</td>\n",
       "    </tr>\n",
       "    <tr>\n",
       "      <th>1694</th>\n",
       "      <td>Zafar</td>\n",
       "      <td>80000000000</td>\n",
       "    </tr>\n",
       "    <tr>\n",
       "      <th>3051</th>\n",
       "      <td>Dorous</td>\n",
       "      <td>79500000000</td>\n",
       "    </tr>\n",
       "    <tr>\n",
       "      <th>3107</th>\n",
       "      <td>Tajrish</td>\n",
       "      <td>75600000000</td>\n",
       "    </tr>\n",
       "    <tr>\n",
       "      <th>831</th>\n",
       "      <td>Mahmoudieh</td>\n",
       "      <td>75000000000</td>\n",
       "    </tr>\n",
       "    <tr>\n",
       "      <th>2394</th>\n",
       "      <td>Aqdasieh</td>\n",
       "      <td>74400000000</td>\n",
       "    </tr>\n",
       "  </tbody>\n",
       "</table>\n",
       "</div>"
      ],
      "text/plain": [
       "         Address       Price\n",
       "1707  Zaferanieh 92400000000\n",
       "1810      Abazar 91000000000\n",
       "430      Lavasan 85000000000\n",
       "819   Ekhtiarieh 81600000000\n",
       "1332    Niavaran 80500000000\n",
       "1694       Zafar 80000000000\n",
       "3051      Dorous 79500000000\n",
       "3107     Tajrish 75600000000\n",
       "831   Mahmoudieh 75000000000\n",
       "2394    Aqdasieh 74400000000"
      ]
     },
     "execution_count": 38,
     "metadata": {},
     "output_type": "execute_result"
    }
   ],
   "source": [
    "df.sort_values('Price', ascending=False)[['Address', 'Price']].head(10)"
   ]
  },
  {
   "cell_type": "code",
   "execution_count": 39,
   "id": "ce10bea8",
   "metadata": {
    "execution": {
     "iopub.execute_input": "2024-05-29T18:40:37.400091Z",
     "iopub.status.busy": "2024-05-29T18:40:37.399554Z",
     "iopub.status.idle": "2024-05-29T18:40:37.412629Z",
     "shell.execute_reply": "2024-05-29T18:40:37.410953Z"
    },
    "papermill": {
     "duration": 0.059263,
     "end_time": "2024-05-29T18:40:37.423695",
     "exception": false,
     "start_time": "2024-05-29T18:40:37.364432",
     "status": "completed"
    },
    "tags": []
   },
   "outputs": [
    {
     "data": {
      "text/plain": [
       "Area         0\n",
       "Room         0\n",
       "Parking      0\n",
       "Warehouse    0\n",
       "Elevator     0\n",
       "Address      0\n",
       "Price        0\n",
       "dtype: int64"
      ]
     },
     "execution_count": 39,
     "metadata": {},
     "output_type": "execute_result"
    }
   ],
   "source": [
    "df.isnull().sum()"
   ]
  },
  {
   "cell_type": "code",
   "execution_count": 40,
   "id": "4a6a8b67",
   "metadata": {
    "execution": {
     "iopub.execute_input": "2024-05-29T18:40:37.504565Z",
     "iopub.status.busy": "2024-05-29T18:40:37.504185Z",
     "iopub.status.idle": "2024-05-29T18:40:37.523485Z",
     "shell.execute_reply": "2024-05-29T18:40:37.522320Z"
    },
    "papermill": {
     "duration": 0.055806,
     "end_time": "2024-05-29T18:40:37.526465",
     "exception": false,
     "start_time": "2024-05-29T18:40:37.470659",
     "status": "completed"
    },
    "tags": []
   },
   "outputs": [
    {
     "data": {
      "text/html": [
       "<div>\n",
       "<style scoped>\n",
       "    .dataframe tbody tr th:only-of-type {\n",
       "        vertical-align: middle;\n",
       "    }\n",
       "\n",
       "    .dataframe tbody tr th {\n",
       "        vertical-align: top;\n",
       "    }\n",
       "\n",
       "    .dataframe thead th {\n",
       "        text-align: right;\n",
       "    }\n",
       "</style>\n",
       "<table border=\"1\" class=\"dataframe\">\n",
       "  <thead>\n",
       "    <tr style=\"text-align: right;\">\n",
       "      <th></th>\n",
       "      <th>Area</th>\n",
       "      <th>Room</th>\n",
       "      <th>Parking</th>\n",
       "      <th>Warehouse</th>\n",
       "      <th>Elevator</th>\n",
       "      <th>Address</th>\n",
       "      <th>Price</th>\n",
       "    </tr>\n",
       "  </thead>\n",
       "  <tbody>\n",
       "    <tr>\n",
       "      <th>0</th>\n",
       "      <td>63</td>\n",
       "      <td>1</td>\n",
       "      <td>True</td>\n",
       "      <td>True</td>\n",
       "      <td>True</td>\n",
       "      <td>Shahran</td>\n",
       "      <td>1850000000</td>\n",
       "    </tr>\n",
       "    <tr>\n",
       "      <th>1</th>\n",
       "      <td>60</td>\n",
       "      <td>1</td>\n",
       "      <td>True</td>\n",
       "      <td>True</td>\n",
       "      <td>True</td>\n",
       "      <td>Shahran</td>\n",
       "      <td>1850000000</td>\n",
       "    </tr>\n",
       "    <tr>\n",
       "      <th>2</th>\n",
       "      <td>79</td>\n",
       "      <td>2</td>\n",
       "      <td>True</td>\n",
       "      <td>True</td>\n",
       "      <td>True</td>\n",
       "      <td>Pardis</td>\n",
       "      <td>550000000</td>\n",
       "    </tr>\n",
       "    <tr>\n",
       "      <th>3</th>\n",
       "      <td>95</td>\n",
       "      <td>2</td>\n",
       "      <td>True</td>\n",
       "      <td>True</td>\n",
       "      <td>True</td>\n",
       "      <td>Shahrake Qods</td>\n",
       "      <td>902500000</td>\n",
       "    </tr>\n",
       "    <tr>\n",
       "      <th>4</th>\n",
       "      <td>123</td>\n",
       "      <td>2</td>\n",
       "      <td>True</td>\n",
       "      <td>True</td>\n",
       "      <td>True</td>\n",
       "      <td>Shahrake Gharb</td>\n",
       "      <td>7000000000</td>\n",
       "    </tr>\n",
       "    <tr>\n",
       "      <th>...</th>\n",
       "      <td>...</td>\n",
       "      <td>...</td>\n",
       "      <td>...</td>\n",
       "      <td>...</td>\n",
       "      <td>...</td>\n",
       "      <td>...</td>\n",
       "      <td>...</td>\n",
       "    </tr>\n",
       "    <tr>\n",
       "      <th>3474</th>\n",
       "      <td>86</td>\n",
       "      <td>2</td>\n",
       "      <td>True</td>\n",
       "      <td>True</td>\n",
       "      <td>True</td>\n",
       "      <td>Southern Janatabad</td>\n",
       "      <td>3500000000</td>\n",
       "    </tr>\n",
       "    <tr>\n",
       "      <th>3475</th>\n",
       "      <td>83</td>\n",
       "      <td>2</td>\n",
       "      <td>True</td>\n",
       "      <td>True</td>\n",
       "      <td>True</td>\n",
       "      <td>Niavaran</td>\n",
       "      <td>6800000000</td>\n",
       "    </tr>\n",
       "    <tr>\n",
       "      <th>3476</th>\n",
       "      <td>75</td>\n",
       "      <td>2</td>\n",
       "      <td>False</td>\n",
       "      <td>False</td>\n",
       "      <td>False</td>\n",
       "      <td>Parand</td>\n",
       "      <td>365000000</td>\n",
       "    </tr>\n",
       "    <tr>\n",
       "      <th>3477</th>\n",
       "      <td>105</td>\n",
       "      <td>2</td>\n",
       "      <td>True</td>\n",
       "      <td>True</td>\n",
       "      <td>True</td>\n",
       "      <td>Dorous</td>\n",
       "      <td>5600000000</td>\n",
       "    </tr>\n",
       "    <tr>\n",
       "      <th>3478</th>\n",
       "      <td>82</td>\n",
       "      <td>2</td>\n",
       "      <td>False</td>\n",
       "      <td>True</td>\n",
       "      <td>True</td>\n",
       "      <td>Parand</td>\n",
       "      <td>360000000</td>\n",
       "    </tr>\n",
       "  </tbody>\n",
       "</table>\n",
       "<p>3456 rows × 7 columns</p>\n",
       "</div>"
      ],
      "text/plain": [
       "      Area  Room  Parking  Warehouse  Elevator             Address      Price\n",
       "0       63     1     True       True      True             Shahran 1850000000\n",
       "1       60     1     True       True      True             Shahran 1850000000\n",
       "2       79     2     True       True      True              Pardis  550000000\n",
       "3       95     2     True       True      True       Shahrake Qods  902500000\n",
       "4      123     2     True       True      True      Shahrake Gharb 7000000000\n",
       "...    ...   ...      ...        ...       ...                 ...        ...\n",
       "3474    86     2     True       True      True  Southern Janatabad 3500000000\n",
       "3475    83     2     True       True      True            Niavaran 6800000000\n",
       "3476    75     2    False      False     False              Parand  365000000\n",
       "3477   105     2     True       True      True              Dorous 5600000000\n",
       "3478    82     2    False       True      True              Parand  360000000\n",
       "\n",
       "[3456 rows x 7 columns]"
      ]
     },
     "execution_count": 40,
     "metadata": {},
     "output_type": "execute_result"
    }
   ],
   "source": [
    "df"
   ]
  },
  {
   "cell_type": "code",
   "execution_count": 41,
   "id": "feed395d",
   "metadata": {
    "execution": {
     "iopub.execute_input": "2024-05-29T18:40:37.600099Z",
     "iopub.status.busy": "2024-05-29T18:40:37.599652Z",
     "iopub.status.idle": "2024-05-29T18:40:37.619744Z",
     "shell.execute_reply": "2024-05-29T18:40:37.618468Z"
    },
    "papermill": {
     "duration": 0.057064,
     "end_time": "2024-05-29T18:40:37.622786",
     "exception": false,
     "start_time": "2024-05-29T18:40:37.565722",
     "status": "completed"
    },
    "tags": []
   },
   "outputs": [
    {
     "name": "stdout",
     "output_type": "stream",
     "text": [
      "<class 'pandas.core.frame.DataFrame'>\n",
      "Index: 3456 entries, 0 to 3478\n",
      "Data columns (total 7 columns):\n",
      " #   Column     Non-Null Count  Dtype  \n",
      "---  ------     --------------  -----  \n",
      " 0   Area       3456 non-null   int64  \n",
      " 1   Room       3456 non-null   int64  \n",
      " 2   Parking    3456 non-null   int64  \n",
      " 3   Warehouse  3456 non-null   int64  \n",
      " 4   Elevator   3456 non-null   int64  \n",
      " 5   Address    3456 non-null   object \n",
      " 6   Price      3456 non-null   float64\n",
      "dtypes: float64(1), int64(5), object(1)\n",
      "memory usage: 216.0+ KB\n"
     ]
    }
   ],
   "source": [
    "boolean_features = ['Parking', 'Warehouse', 'Elevator']\n",
    "df[boolean_features] = df[boolean_features].astype('int64')\n",
    "df.info()"
   ]
  },
  {
   "cell_type": "code",
   "execution_count": 42,
   "id": "e3e5e886",
   "metadata": {
    "execution": {
     "iopub.execute_input": "2024-05-29T18:40:37.704922Z",
     "iopub.status.busy": "2024-05-29T18:40:37.704116Z",
     "iopub.status.idle": "2024-05-29T18:40:37.725085Z",
     "shell.execute_reply": "2024-05-29T18:40:37.723781Z"
    },
    "papermill": {
     "duration": 0.065912,
     "end_time": "2024-05-29T18:40:37.728381",
     "exception": false,
     "start_time": "2024-05-29T18:40:37.662469",
     "status": "completed"
    },
    "tags": []
   },
   "outputs": [
    {
     "data": {
      "text/html": [
       "<div>\n",
       "<style scoped>\n",
       "    .dataframe tbody tr th:only-of-type {\n",
       "        vertical-align: middle;\n",
       "    }\n",
       "\n",
       "    .dataframe tbody tr th {\n",
       "        vertical-align: top;\n",
       "    }\n",
       "\n",
       "    .dataframe thead th {\n",
       "        text-align: right;\n",
       "    }\n",
       "</style>\n",
       "<table border=\"1\" class=\"dataframe\">\n",
       "  <thead>\n",
       "    <tr style=\"text-align: right;\">\n",
       "      <th></th>\n",
       "      <th>Area</th>\n",
       "      <th>Room</th>\n",
       "      <th>Parking</th>\n",
       "      <th>Warehouse</th>\n",
       "      <th>Elevator</th>\n",
       "      <th>Address</th>\n",
       "      <th>Price</th>\n",
       "    </tr>\n",
       "  </thead>\n",
       "  <tbody>\n",
       "    <tr>\n",
       "      <th>0</th>\n",
       "      <td>63</td>\n",
       "      <td>1</td>\n",
       "      <td>1</td>\n",
       "      <td>1</td>\n",
       "      <td>1</td>\n",
       "      <td>Shahran</td>\n",
       "      <td>1850000000</td>\n",
       "    </tr>\n",
       "    <tr>\n",
       "      <th>1</th>\n",
       "      <td>60</td>\n",
       "      <td>1</td>\n",
       "      <td>1</td>\n",
       "      <td>1</td>\n",
       "      <td>1</td>\n",
       "      <td>Shahran</td>\n",
       "      <td>1850000000</td>\n",
       "    </tr>\n",
       "    <tr>\n",
       "      <th>2</th>\n",
       "      <td>79</td>\n",
       "      <td>2</td>\n",
       "      <td>1</td>\n",
       "      <td>1</td>\n",
       "      <td>1</td>\n",
       "      <td>Pardis</td>\n",
       "      <td>550000000</td>\n",
       "    </tr>\n",
       "    <tr>\n",
       "      <th>3</th>\n",
       "      <td>95</td>\n",
       "      <td>2</td>\n",
       "      <td>1</td>\n",
       "      <td>1</td>\n",
       "      <td>1</td>\n",
       "      <td>Shahrake Qods</td>\n",
       "      <td>902500000</td>\n",
       "    </tr>\n",
       "    <tr>\n",
       "      <th>4</th>\n",
       "      <td>123</td>\n",
       "      <td>2</td>\n",
       "      <td>1</td>\n",
       "      <td>1</td>\n",
       "      <td>1</td>\n",
       "      <td>Shahrake Gharb</td>\n",
       "      <td>7000000000</td>\n",
       "    </tr>\n",
       "  </tbody>\n",
       "</table>\n",
       "</div>"
      ],
      "text/plain": [
       "   Area  Room  Parking  Warehouse  Elevator         Address      Price\n",
       "0    63     1        1          1         1         Shahran 1850000000\n",
       "1    60     1        1          1         1         Shahran 1850000000\n",
       "2    79     2        1          1         1          Pardis  550000000\n",
       "3    95     2        1          1         1   Shahrake Qods  902500000\n",
       "4   123     2        1          1         1  Shahrake Gharb 7000000000"
      ]
     },
     "execution_count": 42,
     "metadata": {},
     "output_type": "execute_result"
    }
   ],
   "source": [
    "df.head()"
   ]
  },
  {
   "cell_type": "code",
   "execution_count": 43,
   "id": "bd18d623",
   "metadata": {
    "execution": {
     "iopub.execute_input": "2024-05-29T18:40:37.796494Z",
     "iopub.status.busy": "2024-05-29T18:40:37.795719Z",
     "iopub.status.idle": "2024-05-29T18:40:37.805462Z",
     "shell.execute_reply": "2024-05-29T18:40:37.804242Z"
    },
    "papermill": {
     "duration": 0.045865,
     "end_time": "2024-05-29T18:40:37.808788",
     "exception": false,
     "start_time": "2024-05-29T18:40:37.762923",
     "status": "completed"
    },
    "tags": []
   },
   "outputs": [
    {
     "name": "stdout",
     "output_type": "stream",
     "text": [
      "Skewness of feautres:\n",
      "Area        44\n",
      "Room         1\n",
      "Parking     -2\n",
      "Warehouse   -3\n",
      "Elevator    -1\n",
      "Price        5\n",
      "dtype: float64\n"
     ]
    }
   ],
   "source": [
    "print(f\"Skewness of feautres:\\n{df.drop('Address', axis=1).skew()}\")"
   ]
  },
  {
   "cell_type": "code",
   "execution_count": 44,
   "id": "79bb7cfb",
   "metadata": {
    "execution": {
     "iopub.execute_input": "2024-05-29T18:40:37.874788Z",
     "iopub.status.busy": "2024-05-29T18:40:37.874315Z",
     "iopub.status.idle": "2024-05-29T18:40:38.291975Z",
     "shell.execute_reply": "2024-05-29T18:40:38.290555Z"
    },
    "papermill": {
     "duration": 0.454446,
     "end_time": "2024-05-29T18:40:38.294651",
     "exception": false,
     "start_time": "2024-05-29T18:40:37.840205",
     "status": "completed"
    },
    "tags": []
   },
   "outputs": [
    {
     "data": {
      "image/png": "[encoded data removed]",
      "text/plain": [
       "<Figure size 1600x800 with 2 Axes>"
      ]
     },
     "metadata": {},
     "output_type": "display_data"
    }
   ],
   "source": [
    "plt.figure(figsize=(16, 8))\n",
    "\n",
    "plt.subplot(2, 1, 1)\n",
    "sns.boxplot(x=df.Area)\n",
    "\n",
    "plt.subplot(2, 1, 2)\n",
    "sns.boxplot(x=df.Price)\n",
    "\n",
    "plt.show()"
   ]
  },
  {
   "cell_type": "code",
   "execution_count": 45,
   "id": "dd5788d0",
   "metadata": {
    "execution": {
     "iopub.execute_input": "2024-05-29T18:40:38.360662Z",
     "iopub.status.busy": "2024-05-29T18:40:38.360276Z",
     "iopub.status.idle": "2024-05-29T18:40:38.366974Z",
     "shell.execute_reply": "2024-05-29T18:40:38.365525Z"
    },
    "papermill": {
     "duration": 0.042763,
     "end_time": "2024-05-29T18:40:38.369476",
     "exception": false,
     "start_time": "2024-05-29T18:40:38.326713",
     "status": "completed"
    },
    "tags": []
   },
   "outputs": [],
   "source": [
    "def lower_upper(x):\n",
    "    Q1 = np.percentile(x, 25)\n",
    "    Q3 = np.percentile(x, 75)\n",
    "    \n",
    "    IQR = Q3 - Q1\n",
    "    \n",
    "    lower = Q1 - 1.5 * IQR\n",
    "    upper = Q3 + 1.5 * IQR\n",
    "    \n",
    "    return lower, upper"
   ]
  },
  {
   "cell_type": "code",
   "execution_count": 46,
   "id": "2ece4b4a",
   "metadata": {
    "execution": {
     "iopub.execute_input": "2024-05-29T18:40:38.439221Z",
     "iopub.status.busy": "2024-05-29T18:40:38.438734Z",
     "iopub.status.idle": "2024-05-29T18:40:38.449794Z",
     "shell.execute_reply": "2024-05-29T18:40:38.447955Z"
    },
    "papermill": {
     "duration": 0.050927,
     "end_time": "2024-05-29T18:40:38.452564",
     "exception": false,
     "start_time": "2024-05-29T18:40:38.401637",
     "status": "completed"
    },
    "tags": []
   },
   "outputs": [
    {
     "name": "stdout",
     "output_type": "stream",
     "text": [
      "Lower limit for area: -9.00\n",
      "Upper limit for area: 199.00\n",
      "Lower limit for price: -5,450,000,000.0\n",
      "Upper limit for price: 12,870,000,000.0\n"
     ]
    }
   ],
   "source": [
    "lower_area, upper_area = lower_upper(df.Area)\n",
    "lower_price, upper_price = lower_upper(df.Price)\n",
    "\n",
    "print(f\"Lower limit for area: {lower_area:0.2f}\")\n",
    "print(f\"Upper limit for area: {upper_area:0.2f}\")\n",
    "print(f\"Lower limit for price: {lower_price:,}\")\n",
    "print(f\"Upper limit for price: {upper_price:,}\")"
   ]
  },
  {
   "cell_type": "code",
   "execution_count": 47,
   "id": "05f93536",
   "metadata": {
    "execution": {
     "iopub.execute_input": "2024-05-29T18:40:38.518320Z",
     "iopub.status.busy": "2024-05-29T18:40:38.517884Z",
     "iopub.status.idle": "2024-05-29T18:40:38.529446Z",
     "shell.execute_reply": "2024-05-29T18:40:38.527856Z"
    },
    "papermill": {
     "duration": 0.047491,
     "end_time": "2024-05-29T18:40:38.532241",
     "exception": false,
     "start_time": "2024-05-29T18:40:38.484750",
     "status": "completed"
    },
    "tags": []
   },
   "outputs": [
    {
     "name": "stdout",
     "output_type": "stream",
     "text": [
      "Number of area outliers: 237\n",
      "Number of price outliers: 310\n",
      "Number of outliers: 366\n"
     ]
    }
   ],
   "source": [
    "area_outliers = np.where(df['Area'] > upper_area)\n",
    "price_outliers = np.where(df['Price'] > upper_price)\n",
    "total_outliers = np.union1d(area_outliers, price_outliers)\n",
    "\n",
    "print(f\"Number of area outliers: {len(df.iloc[area_outliers])}\")\n",
    "print(f\"Number of price outliers: {len(df.iloc[price_outliers])}\")\n",
    "print(f\"Number of outliers: {len(df.iloc[total_outliers])}\")"
   ]
  },
  {
   "cell_type": "code",
   "execution_count": 48,
   "id": "f190e48c",
   "metadata": {
    "execution": {
     "iopub.execute_input": "2024-05-29T18:40:38.598678Z",
     "iopub.status.busy": "2024-05-29T18:40:38.598274Z",
     "iopub.status.idle": "2024-05-29T18:40:38.642527Z",
     "shell.execute_reply": "2024-05-29T18:40:38.640945Z"
    },
    "papermill": {
     "duration": 0.08109,
     "end_time": "2024-05-29T18:40:38.645833",
     "exception": false,
     "start_time": "2024-05-29T18:40:38.564743",
     "status": "completed"
    },
    "tags": []
   },
   "outputs": [
    {
     "data": {
      "text/html": [
       "<div>\n",
       "<style scoped>\n",
       "    .dataframe tbody tr th:only-of-type {\n",
       "        vertical-align: middle;\n",
       "    }\n",
       "\n",
       "    .dataframe tbody tr th {\n",
       "        vertical-align: top;\n",
       "    }\n",
       "\n",
       "    .dataframe thead th {\n",
       "        text-align: right;\n",
       "    }\n",
       "</style>\n",
       "<table border=\"1\" class=\"dataframe\">\n",
       "  <thead>\n",
       "    <tr style=\"text-align: right;\">\n",
       "      <th></th>\n",
       "      <th>Area</th>\n",
       "      <th>Room</th>\n",
       "      <th>Parking</th>\n",
       "      <th>Warehouse</th>\n",
       "      <th>Elevator</th>\n",
       "      <th>Price</th>\n",
       "      <th>Abazar</th>\n",
       "      <th>Abbasabad</th>\n",
       "      <th>Absard</th>\n",
       "      <th>Abuzar</th>\n",
       "      <th>...</th>\n",
       "      <th>Waterfall</th>\n",
       "      <th>West Ferdows Boulevard</th>\n",
       "      <th>West Pars</th>\n",
       "      <th>Yaftabad</th>\n",
       "      <th>Yakhchiabad</th>\n",
       "      <th>Yousef Abad</th>\n",
       "      <th>Zafar</th>\n",
       "      <th>Zaferanieh</th>\n",
       "      <th>Zargandeh</th>\n",
       "      <th>Zibadasht</th>\n",
       "    </tr>\n",
       "  </thead>\n",
       "  <tbody>\n",
       "    <tr>\n",
       "      <th>0</th>\n",
       "      <td>63</td>\n",
       "      <td>1</td>\n",
       "      <td>1</td>\n",
       "      <td>1</td>\n",
       "      <td>1</td>\n",
       "      <td>1850000000</td>\n",
       "      <td>0</td>\n",
       "      <td>0</td>\n",
       "      <td>0</td>\n",
       "      <td>0</td>\n",
       "      <td>...</td>\n",
       "      <td>0</td>\n",
       "      <td>0</td>\n",
       "      <td>0</td>\n",
       "      <td>0</td>\n",
       "      <td>0</td>\n",
       "      <td>0</td>\n",
       "      <td>0</td>\n",
       "      <td>0</td>\n",
       "      <td>0</td>\n",
       "      <td>0</td>\n",
       "    </tr>\n",
       "    <tr>\n",
       "      <th>1</th>\n",
       "      <td>60</td>\n",
       "      <td>1</td>\n",
       "      <td>1</td>\n",
       "      <td>1</td>\n",
       "      <td>1</td>\n",
       "      <td>1850000000</td>\n",
       "      <td>0</td>\n",
       "      <td>0</td>\n",
       "      <td>0</td>\n",
       "      <td>0</td>\n",
       "      <td>...</td>\n",
       "      <td>0</td>\n",
       "      <td>0</td>\n",
       "      <td>0</td>\n",
       "      <td>0</td>\n",
       "      <td>0</td>\n",
       "      <td>0</td>\n",
       "      <td>0</td>\n",
       "      <td>0</td>\n",
       "      <td>0</td>\n",
       "      <td>0</td>\n",
       "    </tr>\n",
       "    <tr>\n",
       "      <th>2</th>\n",
       "      <td>79</td>\n",
       "      <td>2</td>\n",
       "      <td>1</td>\n",
       "      <td>1</td>\n",
       "      <td>1</td>\n",
       "      <td>550000000</td>\n",
       "      <td>0</td>\n",
       "      <td>0</td>\n",
       "      <td>0</td>\n",
       "      <td>0</td>\n",
       "      <td>...</td>\n",
       "      <td>0</td>\n",
       "      <td>0</td>\n",
       "      <td>0</td>\n",
       "      <td>0</td>\n",
       "      <td>0</td>\n",
       "      <td>0</td>\n",
       "      <td>0</td>\n",
       "      <td>0</td>\n",
       "      <td>0</td>\n",
       "      <td>0</td>\n",
       "    </tr>\n",
       "    <tr>\n",
       "      <th>3</th>\n",
       "      <td>95</td>\n",
       "      <td>2</td>\n",
       "      <td>1</td>\n",
       "      <td>1</td>\n",
       "      <td>1</td>\n",
       "      <td>902500000</td>\n",
       "      <td>0</td>\n",
       "      <td>0</td>\n",
       "      <td>0</td>\n",
       "      <td>0</td>\n",
       "      <td>...</td>\n",
       "      <td>0</td>\n",
       "      <td>0</td>\n",
       "      <td>0</td>\n",
       "      <td>0</td>\n",
       "      <td>0</td>\n",
       "      <td>0</td>\n",
       "      <td>0</td>\n",
       "      <td>0</td>\n",
       "      <td>0</td>\n",
       "      <td>0</td>\n",
       "    </tr>\n",
       "    <tr>\n",
       "      <th>4</th>\n",
       "      <td>123</td>\n",
       "      <td>2</td>\n",
       "      <td>1</td>\n",
       "      <td>1</td>\n",
       "      <td>1</td>\n",
       "      <td>7000000000</td>\n",
       "      <td>0</td>\n",
       "      <td>0</td>\n",
       "      <td>0</td>\n",
       "      <td>0</td>\n",
       "      <td>...</td>\n",
       "      <td>0</td>\n",
       "      <td>0</td>\n",
       "      <td>0</td>\n",
       "      <td>0</td>\n",
       "      <td>0</td>\n",
       "      <td>0</td>\n",
       "      <td>0</td>\n",
       "      <td>0</td>\n",
       "      <td>0</td>\n",
       "      <td>0</td>\n",
       "    </tr>\n",
       "    <tr>\n",
       "      <th>...</th>\n",
       "      <td>...</td>\n",
       "      <td>...</td>\n",
       "      <td>...</td>\n",
       "      <td>...</td>\n",
       "      <td>...</td>\n",
       "      <td>...</td>\n",
       "      <td>...</td>\n",
       "      <td>...</td>\n",
       "      <td>...</td>\n",
       "      <td>...</td>\n",
       "      <td>...</td>\n",
       "      <td>...</td>\n",
       "      <td>...</td>\n",
       "      <td>...</td>\n",
       "      <td>...</td>\n",
       "      <td>...</td>\n",
       "      <td>...</td>\n",
       "      <td>...</td>\n",
       "      <td>...</td>\n",
       "      <td>...</td>\n",
       "      <td>...</td>\n",
       "    </tr>\n",
       "    <tr>\n",
       "      <th>3474</th>\n",
       "      <td>86</td>\n",
       "      <td>2</td>\n",
       "      <td>1</td>\n",
       "      <td>1</td>\n",
       "      <td>1</td>\n",
       "      <td>3500000000</td>\n",
       "      <td>0</td>\n",
       "      <td>0</td>\n",
       "      <td>0</td>\n",
       "      <td>0</td>\n",
       "      <td>...</td>\n",
       "      <td>0</td>\n",
       "      <td>0</td>\n",
       "      <td>0</td>\n",
       "      <td>0</td>\n",
       "      <td>0</td>\n",
       "      <td>0</td>\n",
       "      <td>0</td>\n",
       "      <td>0</td>\n",
       "      <td>0</td>\n",
       "      <td>0</td>\n",
       "    </tr>\n",
       "    <tr>\n",
       "      <th>3475</th>\n",
       "      <td>83</td>\n",
       "      <td>2</td>\n",
       "      <td>1</td>\n",
       "      <td>1</td>\n",
       "      <td>1</td>\n",
       "      <td>6800000000</td>\n",
       "      <td>0</td>\n",
       "      <td>0</td>\n",
       "      <td>0</td>\n",
       "      <td>0</td>\n",
       "      <td>...</td>\n",
       "      <td>0</td>\n",
       "      <td>0</td>\n",
       "      <td>0</td>\n",
       "      <td>0</td>\n",
       "      <td>0</td>\n",
       "      <td>0</td>\n",
       "      <td>0</td>\n",
       "      <td>0</td>\n",
       "      <td>0</td>\n",
       "      <td>0</td>\n",
       "    </tr>\n",
       "    <tr>\n",
       "      <th>3476</th>\n",
       "      <td>75</td>\n",
       "      <td>2</td>\n",
       "      <td>0</td>\n",
       "      <td>0</td>\n",
       "      <td>0</td>\n",
       "      <td>365000000</td>\n",
       "      <td>0</td>\n",
       "      <td>0</td>\n",
       "      <td>0</td>\n",
       "      <td>0</td>\n",
       "      <td>...</td>\n",
       "      <td>0</td>\n",
       "      <td>0</td>\n",
       "      <td>0</td>\n",
       "      <td>0</td>\n",
       "      <td>0</td>\n",
       "      <td>0</td>\n",
       "      <td>0</td>\n",
       "      <td>0</td>\n",
       "      <td>0</td>\n",
       "      <td>0</td>\n",
       "    </tr>\n",
       "    <tr>\n",
       "      <th>3477</th>\n",
       "      <td>105</td>\n",
       "      <td>2</td>\n",
       "      <td>1</td>\n",
       "      <td>1</td>\n",
       "      <td>1</td>\n",
       "      <td>5600000000</td>\n",
       "      <td>0</td>\n",
       "      <td>0</td>\n",
       "      <td>0</td>\n",
       "      <td>0</td>\n",
       "      <td>...</td>\n",
       "      <td>0</td>\n",
       "      <td>0</td>\n",
       "      <td>0</td>\n",
       "      <td>0</td>\n",
       "      <td>0</td>\n",
       "      <td>0</td>\n",
       "      <td>0</td>\n",
       "      <td>0</td>\n",
       "      <td>0</td>\n",
       "      <td>0</td>\n",
       "    </tr>\n",
       "    <tr>\n",
       "      <th>3478</th>\n",
       "      <td>82</td>\n",
       "      <td>2</td>\n",
       "      <td>0</td>\n",
       "      <td>1</td>\n",
       "      <td>1</td>\n",
       "      <td>360000000</td>\n",
       "      <td>0</td>\n",
       "      <td>0</td>\n",
       "      <td>0</td>\n",
       "      <td>0</td>\n",
       "      <td>...</td>\n",
       "      <td>0</td>\n",
       "      <td>0</td>\n",
       "      <td>0</td>\n",
       "      <td>0</td>\n",
       "      <td>0</td>\n",
       "      <td>0</td>\n",
       "      <td>0</td>\n",
       "      <td>0</td>\n",
       "      <td>0</td>\n",
       "      <td>0</td>\n",
       "    </tr>\n",
       "  </tbody>\n",
       "</table>\n",
       "<p>3456 rows × 198 columns</p>\n",
       "</div>"
      ],
      "text/plain": [
       "      Area  Room  Parking  Warehouse  Elevator      Price  Abazar  Abbasabad  \\\n",
       "0       63     1        1          1         1 1850000000       0          0   \n",
       "1       60     1        1          1         1 1850000000       0          0   \n",
       "2       79     2        1          1         1  550000000       0          0   \n",
       "3       95     2        1          1         1  902500000       0          0   \n",
       "4      123     2        1          1         1 7000000000       0          0   \n",
       "...    ...   ...      ...        ...       ...        ...     ...        ...   \n",
       "3474    86     2        1          1         1 3500000000       0          0   \n",
       "3475    83     2        1          1         1 6800000000       0          0   \n",
       "3476    75     2        0          0         0  365000000       0          0   \n",
       "3477   105     2        1          1         1 5600000000       0          0   \n",
       "3478    82     2        0          1         1  360000000       0          0   \n",
       "\n",
       "      Absard  Abuzar  ...  Waterfall  West Ferdows Boulevard  West Pars  \\\n",
       "0          0       0  ...          0                       0          0   \n",
       "1          0       0  ...          0                       0          0   \n",
       "2          0       0  ...          0                       0          0   \n",
       "3          0       0  ...          0                       0          0   \n",
       "4          0       0  ...          0                       0          0   \n",
       "...      ...     ...  ...        ...                     ...        ...   \n",
       "3474       0       0  ...          0                       0          0   \n",
       "3475       0       0  ...          0                       0          0   \n",
       "3476       0       0  ...          0                       0          0   \n",
       "3477       0       0  ...          0                       0          0   \n",
       "3478       0       0  ...          0                       0          0   \n",
       "\n",
       "      Yaftabad  Yakhchiabad  Yousef Abad  Zafar  Zaferanieh  Zargandeh  \\\n",
       "0            0            0            0      0           0          0   \n",
       "1            0            0            0      0           0          0   \n",
       "2            0            0            0      0           0          0   \n",
       "3            0            0            0      0           0          0   \n",
       "4            0            0            0      0           0          0   \n",
       "...        ...          ...          ...    ...         ...        ...   \n",
       "3474         0            0            0      0           0          0   \n",
       "3475         0            0            0      0           0          0   \n",
       "3476         0            0            0      0           0          0   \n",
       "3477         0            0            0      0           0          0   \n",
       "3478         0            0            0      0           0          0   \n",
       "\n",
       "      Zibadasht  \n",
       "0             0  \n",
       "1             0  \n",
       "2             0  \n",
       "3             0  \n",
       "4             0  \n",
       "...         ...  \n",
       "3474          0  \n",
       "3475          0  \n",
       "3476          0  \n",
       "3477          0  \n",
       "3478          0  \n",
       "\n",
       "[3456 rows x 198 columns]"
      ]
     },
     "execution_count": 48,
     "metadata": {},
     "output_type": "execute_result"
    }
   ],
   "source": [
    "address_dummy = pd.get_dummies(df.Address).astype('int64')\n",
    "\n",
    "df_final = df.merge(address_dummy, left_index=True, right_index=True)\n",
    "df_final.drop('Address', axis=1, inplace=True)\n",
    "df_final"
   ]
  },
  {
   "cell_type": "code",
   "execution_count": 49,
   "id": "371134b7",
   "metadata": {
    "execution": {
     "iopub.execute_input": "2024-05-29T18:40:38.712771Z",
     "iopub.status.busy": "2024-05-29T18:40:38.712385Z",
     "iopub.status.idle": "2024-05-29T18:40:38.733629Z",
     "shell.execute_reply": "2024-05-29T18:40:38.731594Z"
    },
    "papermill": {
     "duration": 0.058013,
     "end_time": "2024-05-29T18:40:38.736408",
     "exception": false,
     "start_time": "2024-05-29T18:40:38.678395",
     "status": "completed"
    },
    "tags": []
   },
   "outputs": [
    {
     "name": "stdout",
     "output_type": "stream",
     "text": [
      "Shape of X train: (2764, 197)\n",
      "Shape of y train: (2764,)\n",
      "Shape of X test: (692, 197)\n",
      "Shape of y train: (692,)\n"
     ]
    }
   ],
   "source": [
    "X = df_final.drop(columns = 'Price')\n",
    "y = df_final['Price']\n",
    "\n",
    "X_train, X_test, y_train, y_test = train_test_split(X, y, test_size = 0.2, random_state = 0)\n",
    "\n",
    "print(f\"Shape of X train: {X_train.shape}\")\n",
    "print(f\"Shape of y train: {y_train.shape}\")\n",
    "print(f\"Shape of X test: {X_test.shape}\")\n",
    "print(f\"Shape of y train: {y_test.shape}\")"
   ]
  },
  {
   "cell_type": "code",
   "execution_count": 50,
   "id": "c90cbdf9",
   "metadata": {
    "execution": {
     "iopub.execute_input": "2024-05-29T18:40:38.805588Z",
     "iopub.status.busy": "2024-05-29T18:40:38.805193Z",
     "iopub.status.idle": "2024-05-29T18:40:38.817743Z",
     "shell.execute_reply": "2024-05-29T18:40:38.816413Z"
    },
    "papermill": {
     "duration": 0.051567,
     "end_time": "2024-05-29T18:40:38.820746",
     "exception": false,
     "start_time": "2024-05-29T18:40:38.769179",
     "status": "completed"
    },
    "tags": []
   },
   "outputs": [],
   "source": [
    "def parameter_finder(model, parameters):\n",
    "    start = time.time()\n",
    "    \n",
    "    grid = GridSearchCV(model, param_grid=parameters, refit=True, cv=KFold(shuffle=True, random_state=1), n_jobs=-1)\n",
    "    grid.fit(X_train, y_train)\n",
    "    \n",
    "    y_train_pred = grid.predict(X_train)\n",
    "    y_test_pred = grid.predict(X_test)\n",
    "\n",
    "    train_score = grid.score(X_train, y_train)\n",
    "    test_score = grid.score(X_test, y_test)\n",
    "    \n",
    "    RMSE = np.sqrt(mean_squared_error(y_test, y_test_pred))\n",
    "    \n",
    "    model_name = str(model).split('(')[0]\n",
    "    \n",
    "    end = time.time()\n",
    "    \n",
    "    print(f\"The best parameters for {model_name} model is: {grid.best_params_}\")\n",
    "    print(\"--\" * 10)\n",
    "    print(f\"(R2 score) in the training set is {train_score:0.2%} for {model_name} model.\")\n",
    "    print(f\"(R2 score) in the testing set is {test_score:0.2%} for {model_name} model.\")\n",
    "    print(f\"RMSE is {RMSE:,} for {model_name} model.\")\n",
    "    print(\"--\" * 10)\n",
    "    print(f\"Runtime of the program is: {end - start:0.2f}\")\n",
    "    \n",
    "    return train_score, test_score, RMSE"
   ]
  },
  {
   "cell_type": "code",
   "execution_count": 51,
   "id": "b40aaf26",
   "metadata": {
    "execution": {
     "iopub.execute_input": "2024-05-29T18:40:38.888662Z",
     "iopub.status.busy": "2024-05-29T18:40:38.888283Z",
     "iopub.status.idle": "2024-05-29T18:40:40.363596Z",
     "shell.execute_reply": "2024-05-29T18:40:40.361287Z"
    },
    "papermill": {
     "duration": 1.513495,
     "end_time": "2024-05-29T18:40:40.367497",
     "exception": false,
     "start_time": "2024-05-29T18:40:38.854002",
     "status": "completed"
    },
    "tags": []
   },
   "outputs": [
    {
     "name": "stdout",
     "output_type": "stream",
     "text": [
      "The best parameters for LinearRegression model is: {}\n",
      "--------------------\n",
      "(R2 score) in the training set is 60.40% for LinearRegression model.\n",
      "(R2 score) in the testing set is 53.35% for LinearRegression model.\n",
      "RMSE is 6,357,973,664.868129 for LinearRegression model.\n",
      "--------------------\n",
      "Runtime of the program is: 1.46\n"
     ]
    }
   ],
   "source": [
    "lr = LinearRegression(n_jobs=-1)\n",
    "lr_train_score, lr_test_score, lr_RMSE = parameter_finder(lr, {})"
   ]
  },
  {
   "cell_type": "code",
   "execution_count": 52,
   "id": "1fbd74f3",
   "metadata": {
    "execution": {
     "iopub.execute_input": "2024-05-29T18:40:40.485346Z",
     "iopub.status.busy": "2024-05-29T18:40:40.484955Z",
     "iopub.status.idle": "2024-05-29T18:40:44.585383Z",
     "shell.execute_reply": "2024-05-29T18:40:44.582876Z"
    },
    "papermill": {
     "duration": 4.154916,
     "end_time": "2024-05-29T18:40:44.588552",
     "exception": false,
     "start_time": "2024-05-29T18:40:40.433636",
     "status": "completed"
    },
    "tags": []
   },
   "outputs": [
    {
     "name": "stdout",
     "output_type": "stream",
     "text": [
      "The best parameters for Ridge model is: {'alpha': 0.001}\n",
      "--------------------\n",
      "(R2 score) in the training set is 60.40% for Ridge model.\n",
      "(R2 score) in the testing set is 53.36% for Ridge model.\n",
      "RMSE is 6,357,553,945.624988 for Ridge model.\n",
      "--------------------\n",
      "Runtime of the program is: 4.09\n"
     ]
    }
   ],
   "source": [
    "ridge = Ridge(random_state = 1) # Linear least squares with l2 regularization.\n",
    "param_ridge = {'alpha': [0.001, 0.01, 0.1, 1, 10]}\n",
    "\n",
    "ridge_train_score, ridge_test_score, ridge_RMSE = parameter_finder(ridge, param_ridge)"
   ]
  },
  {
   "cell_type": "code",
   "execution_count": 53,
   "id": "aa3ace70",
   "metadata": {
    "execution": {
     "iopub.execute_input": "2024-05-29T18:40:44.659516Z",
     "iopub.status.busy": "2024-05-29T18:40:44.659097Z",
     "iopub.status.idle": "2024-05-29T18:41:19.305123Z",
     "shell.execute_reply": "2024-05-29T18:41:19.302508Z"
    },
    "papermill": {
     "duration": 34.709448,
     "end_time": "2024-05-29T18:41:19.332721",
     "exception": false,
     "start_time": "2024-05-29T18:40:44.623273",
     "status": "completed"
    },
    "tags": []
   },
   "outputs": [
    {
     "name": "stdout",
     "output_type": "stream",
     "text": [
      "The best parameters for Lasso model is: {'alpha': 0.001}\n",
      "--------------------\n",
      "(R2 score) in the training set is 60.40% for Lasso model.\n",
      "(R2 score) in the testing set is 53.35% for Lasso model.\n",
      "RMSE is 6,357,953,517.829563 for Lasso model.\n",
      "--------------------\n",
      "Runtime of the program is: 34.63\n"
     ]
    }
   ],
   "source": [
    "lasso = Lasso(random_state = 1) # Linear Model trained with L1 prior as regularizer.\n",
    "param_lasso = {'alpha': [0.001, 0.01, 0.1]}\n",
    "\n",
    "lasso_train_score, lasso_test_score, lasso_RMSE = parameter_finder(lasso, param_lasso)"
   ]
  },
  {
   "cell_type": "code",
   "execution_count": 54,
   "id": "67ff1d42",
   "metadata": {
    "execution": {
     "iopub.execute_input": "2024-05-29T18:41:19.401541Z",
     "iopub.status.busy": "2024-05-29T18:41:19.401054Z",
     "iopub.status.idle": "2024-05-29T18:41:50.290535Z",
     "shell.execute_reply": "2024-05-29T18:41:50.288102Z"
    },
    "papermill": {
     "duration": 30.950781,
     "end_time": "2024-05-29T18:41:50.316711",
     "exception": false,
     "start_time": "2024-05-29T18:41:19.365930",
     "status": "completed"
    },
    "tags": []
   },
   "outputs": [
    {
     "name": "stdout",
     "output_type": "stream",
     "text": [
      "The best parameters for ElasticNet model is: {'alpha': 0.001, 'l1_ratio': 0.7}\n",
      "--------------------\n",
      "(R2 score) in the training set is 59.51% for ElasticNet model.\n",
      "(R2 score) in the testing set is 55.36% for ElasticNet model.\n",
      "RMSE is 6,219,838,182.729824 for ElasticNet model.\n",
      "--------------------\n",
      "Runtime of the program is: 30.87\n"
     ]
    }
   ],
   "source": [
    "eln = ElasticNet(random_state = 1) # Linear regression with combined L1 and L2 priors as regularizer.\n",
    "param_eln = {'alpha': [0.001, 0.1],\n",
    "            'l1_ratio': [0.3, 0.7]}\n",
    "\n",
    "eln_train_score, eln_test_score, eln_RMSE = parameter_finder(eln, param_eln)"
   ]
  },
  {
   "cell_type": "code",
   "execution_count": 55,
   "id": "248b9fca",
   "metadata": {
    "execution": {
     "iopub.execute_input": "2024-05-29T18:41:50.385719Z",
     "iopub.status.busy": "2024-05-29T18:41:50.385195Z",
     "iopub.status.idle": "2024-05-29T18:41:52.265904Z",
     "shell.execute_reply": "2024-05-29T18:41:52.264476Z"
    },
    "papermill": {
     "duration": 1.918427,
     "end_time": "2024-05-29T18:41:52.268727",
     "exception": false,
     "start_time": "2024-05-29T18:41:50.350300",
     "status": "completed"
    },
    "tags": []
   },
   "outputs": [
    {
     "name": "stdout",
     "output_type": "stream",
     "text": [
      "The best parameters for DecisionTreeRegressor model is: {'min_samples_leaf': 1, 'min_samples_split': 3}\n",
      "--------------------\n",
      "(R2 score) in the training set is 97.91% for DecisionTreeRegressor model.\n",
      "(R2 score) in the testing set is 71.37% for DecisionTreeRegressor model.\n",
      "RMSE is 4,980,876,315.211948 for DecisionTreeRegressor model.\n",
      "--------------------\n",
      "Runtime of the program is: 1.87\n"
     ]
    }
   ],
   "source": [
    "dtr = DecisionTreeRegressor(random_state = 1)\n",
    "param_dtr = {'min_samples_split': [2, 3, 4],\n",
    "            'min_samples_leaf': [1, 2, 3]}\n",
    "\n",
    "dtr_train_score, dtr_test_score, dtr_RMSE = parameter_finder(dtr, param_dtr)"
   ]
  },
  {
   "cell_type": "code",
   "execution_count": 56,
   "id": "16284351",
   "metadata": {
    "execution": {
     "iopub.execute_input": "2024-05-29T18:41:52.342949Z",
     "iopub.status.busy": "2024-05-29T18:41:52.341654Z",
     "iopub.status.idle": "2024-05-29T18:42:30.653356Z",
     "shell.execute_reply": "2024-05-29T18:42:30.651954Z"
    },
    "papermill": {
     "duration": 38.385872,
     "end_time": "2024-05-29T18:42:30.689763",
     "exception": false,
     "start_time": "2024-05-29T18:41:52.303891",
     "status": "completed"
    },
    "tags": []
   },
   "outputs": [
    {
     "name": "stdout",
     "output_type": "stream",
     "text": [
      "The best parameters for RandomForestRegressor model is: {'min_samples_leaf': 1, 'min_samples_split': 3}\n",
      "--------------------\n",
      "(R2 score) in the training set is 94.05% for RandomForestRegressor model.\n",
      "(R2 score) in the testing set is 77.55% for RandomForestRegressor model.\n",
      "RMSE is 4,411,228,714.032563 for RandomForestRegressor model.\n",
      "--------------------\n",
      "Runtime of the program is: 38.30\n"
     ]
    }
   ],
   "source": [
    "rfr = RandomForestRegressor(random_state = 1, n_jobs = -1)\n",
    "param_rfr = {'min_samples_split': [3, 4],\n",
    "            'min_samples_leaf': [1, 2]}\n",
    "\n",
    "rfr_train_score, rfr_test_score, rfr_RMSE = parameter_finder(rfr, param_rfr)"
   ]
  },
  {
   "cell_type": "code",
   "execution_count": 57,
   "id": "ddc8a6a4",
   "metadata": {
    "execution": {
     "iopub.execute_input": "2024-05-29T18:42:30.760341Z",
     "iopub.status.busy": "2024-05-29T18:42:30.759794Z",
     "iopub.status.idle": "2024-05-29T18:42:39.053888Z",
     "shell.execute_reply": "2024-05-29T18:42:39.052335Z"
    },
    "papermill": {
     "duration": 8.333329,
     "end_time": "2024-05-29T18:42:39.056752",
     "exception": false,
     "start_time": "2024-05-29T18:42:30.723423",
     "status": "completed"
    },
    "tags": []
   },
   "outputs": [
    {
     "name": "stdout",
     "output_type": "stream",
     "text": [
      "The best parameters for KNeighborsRegressor model is: {'n_neighbors': 20, 'weights': 'uniform'}\n",
      "--------------------\n",
      "(R2 score) in the training set is 60.39% for KNeighborsRegressor model.\n",
      "(R2 score) in the testing set is 63.99% for KNeighborsRegressor model.\n",
      "RMSE is 5,586,254,776.237762 for KNeighborsRegressor model.\n",
      "--------------------\n",
      "Runtime of the program is: 8.29\n"
     ]
    }
   ],
   "source": [
    "knr = KNeighborsRegressor(n_jobs = -1)\n",
    "param_knr = {'n_neighbors': [5, 10, 15, 20],\n",
    "            'weights': ['uniform', 'distance']}\n",
    "\n",
    "knr_train_score, knr_test_score, knr_RMSE = parameter_finder(knr, param_knr)"
   ]
  },
  {
   "cell_type": "code",
   "execution_count": 58,
   "id": "d77421ef",
   "metadata": {
    "execution": {
     "iopub.execute_input": "2024-05-29T18:42:39.131055Z",
     "iopub.status.busy": "2024-05-29T18:42:39.130565Z",
     "iopub.status.idle": "2024-05-29T18:42:51.966634Z",
     "shell.execute_reply": "2024-05-29T18:42:51.965368Z"
    },
    "papermill": {
     "duration": 12.878722,
     "end_time": "2024-05-29T18:42:51.969262",
     "exception": false,
     "start_time": "2024-05-29T18:42:39.090540",
     "status": "completed"
    },
    "tags": []
   },
   "outputs": [
    {
     "name": "stdout",
     "output_type": "stream",
     "text": [
      "The best parameters for XGBRegressor model is: {'colsample_bytree': 1, 'gamma': 0, 'learning_rate': 0.1, 'max_depth': 5, 'n_estimators': 300, 'subsample': 0.75}\n",
      "--------------------\n",
      "(R2 score) in the training set is 97.31% for XGBRegressor model.\n",
      "(R2 score) in the testing set is 73.46% for XGBRegressor model.\n",
      "RMSE is 4,795,611,652.25946 for XGBRegressor model.\n",
      "--------------------\n",
      "Runtime of the program is: 12.83\n"
     ]
    }
   ],
   "source": [
    "xgboost = XGBRegressor(n_jobs = -1)\n",
    "\n",
    "param_xgboost = {\n",
    "    'n_estimators': [300],\n",
    "    'learning_rate': [0.1],\n",
    "    'subsample': [0.75],\n",
    "    'colsample_bytree': [1],\n",
    "    'max_depth': [3,5],\n",
    "    'gamma': [0]\n",
    "}\n",
    "\n",
    "xgboost_train_score, xgboost_test_score, xgboost_RMSE = parameter_finder(xgboost, param_xgboost)"
   ]
  },
  {
   "cell_type": "code",
   "execution_count": 59,
   "id": "b6ec1c05",
   "metadata": {
    "execution": {
     "iopub.execute_input": "2024-05-29T18:42:52.041612Z",
     "iopub.status.busy": "2024-05-29T18:42:52.041196Z",
     "iopub.status.idle": "2024-05-29T18:42:52.058964Z",
     "shell.execute_reply": "2024-05-29T18:42:52.057660Z"
    },
    "papermill": {
     "duration": 0.058221,
     "end_time": "2024-05-29T18:42:52.061857",
     "exception": false,
     "start_time": "2024-05-29T18:42:52.003636",
     "status": "completed"
    },
    "tags": []
   },
   "outputs": [
    {
     "data": {
      "text/html": [
       "<div>\n",
       "<style scoped>\n",
       "    .dataframe tbody tr th:only-of-type {\n",
       "        vertical-align: middle;\n",
       "    }\n",
       "\n",
       "    .dataframe tbody tr th {\n",
       "        vertical-align: top;\n",
       "    }\n",
       "\n",
       "    .dataframe thead th {\n",
       "        text-align: right;\n",
       "    }\n",
       "</style>\n",
       "<table border=\"1\" class=\"dataframe\">\n",
       "  <thead>\n",
       "    <tr style=\"text-align: right;\">\n",
       "      <th></th>\n",
       "      <th>Training score</th>\n",
       "      <th>Testing score</th>\n",
       "      <th>RMSE</th>\n",
       "    </tr>\n",
       "  </thead>\n",
       "  <tbody>\n",
       "    <tr>\n",
       "      <th>LinearRegression</th>\n",
       "      <td>1</td>\n",
       "      <td>1</td>\n",
       "      <td>6357973665</td>\n",
       "    </tr>\n",
       "    <tr>\n",
       "      <th>Ridge</th>\n",
       "      <td>1</td>\n",
       "      <td>1</td>\n",
       "      <td>6357553946</td>\n",
       "    </tr>\n",
       "    <tr>\n",
       "      <th>Lasso</th>\n",
       "      <td>1</td>\n",
       "      <td>1</td>\n",
       "      <td>6357953518</td>\n",
       "    </tr>\n",
       "    <tr>\n",
       "      <th>ElasticNet</th>\n",
       "      <td>1</td>\n",
       "      <td>1</td>\n",
       "      <td>6219838183</td>\n",
       "    </tr>\n",
       "    <tr>\n",
       "      <th>DecisionTreeRegressor</th>\n",
       "      <td>1</td>\n",
       "      <td>1</td>\n",
       "      <td>4980876315</td>\n",
       "    </tr>\n",
       "    <tr>\n",
       "      <th>RandomForestRegressor</th>\n",
       "      <td>1</td>\n",
       "      <td>1</td>\n",
       "      <td>4411228714</td>\n",
       "    </tr>\n",
       "    <tr>\n",
       "      <th>KNeighborsRegressor</th>\n",
       "      <td>1</td>\n",
       "      <td>1</td>\n",
       "      <td>5586254776</td>\n",
       "    </tr>\n",
       "    <tr>\n",
       "      <th>XGBoostRegressor</th>\n",
       "      <td>1</td>\n",
       "      <td>1</td>\n",
       "      <td>4795611652</td>\n",
       "    </tr>\n",
       "  </tbody>\n",
       "</table>\n",
       "</div>"
      ],
      "text/plain": [
       "                       Training score  Testing score       RMSE\n",
       "LinearRegression                    1              1 6357973665\n",
       "Ridge                               1              1 6357553946\n",
       "Lasso                               1              1 6357953518\n",
       "ElasticNet                          1              1 6219838183\n",
       "DecisionTreeRegressor               1              1 4980876315\n",
       "RandomForestRegressor               1              1 4411228714\n",
       "KNeighborsRegressor                 1              1 5586254776\n",
       "XGBoostRegressor                    1              1 4795611652"
      ]
     },
     "execution_count": 59,
     "metadata": {},
     "output_type": "execute_result"
    }
   ],
   "source": [
    "models_score = pd.DataFrame({'Training score': [lr_train_score, ridge_train_score, lasso_train_score, eln_train_score, dtr_train_score, rfr_train_score, knr_train_score,xgboost_train_score],\n",
    "                             'Testing score': [lr_test_score, ridge_test_score, lasso_test_score, eln_test_score, dtr_test_score, rfr_test_score, knr_test_score,xgboost_test_score],\n",
    "                             'RMSE': [lr_RMSE, ridge_RMSE, lasso_RMSE, eln_RMSE, dtr_RMSE, rfr_RMSE, knr_RMSE,xgboost_RMSE]},\n",
    "                             index = ['LinearRegression', 'Ridge', 'Lasso','ElasticNet', 'DecisionTreeRegressor', 'RandomForestRegressor', 'KNeighborsRegressor','XGBoostRegressor'])\n",
    "\n",
    "models_score"
   ]
  },
  {
   "cell_type": "code",
   "execution_count": 60,
   "id": "fd22b094",
   "metadata": {
    "execution": {
     "iopub.execute_input": "2024-05-29T18:42:52.137461Z",
     "iopub.status.busy": "2024-05-29T18:42:52.137025Z",
     "iopub.status.idle": "2024-05-29T18:42:52.925594Z",
     "shell.execute_reply": "2024-05-29T18:42:52.924511Z"
    },
    "papermill": {
     "duration": 0.829637,
     "end_time": "2024-05-29T18:42:52.929365",
     "exception": false,
     "start_time": "2024-05-29T18:42:52.099728",
     "status": "completed"
    },
    "tags": []
   },
   "outputs": [
    {
     "data": {
      "image/png": "[encoded data removed]",
      "text/plain": [
       "<Figure size 2000x1000 with 2 Axes>"
      ]
     },
     "metadata": {},
     "output_type": "display_data"
    }
   ],
   "source": [
    "fig, ax = plt.subplots(figsize=(20,10))\n",
    "\n",
    "sns.set(style='white')\n",
    "ax.set_title(\"Camparison\", fontsize = 20)\n",
    "ax = sns.barplot(x = list(models_score.index), y = models_score['RMSE']/1000000000, alpha = 0.7, palette='Greens_r')\n",
    "ax.set_ylabel(\"RMSE\\n(billion tomans)\", fontsize = 20)\n",
    "\n",
    "sec_ax = ax.twinx()\n",
    "sec_ax = sns.lineplot(x = list(models_score.index), y = models_score['Training score'], linewidth = 3, color = 'blue')\n",
    "sec_ax = sns.scatterplot(x = list(models_score.index), y = models_score['Training score'], s = 200)\n",
    "sec_ax = sns.lineplot(x = list(models_score.index), y = models_score['Testing score'], linewidth = 3, color = 'red')\n",
    "sec_ax = sns.scatterplot(x = list(models_score.index), y = models_score['Testing score'], s = 200)\n",
    "sec_ax.set_ylabel(\"R2 scores\", fontsize = 20)\n",
    "sec_ax.legend(labels = ['Training score', 'Testing score'], fontsize = 20)\n",
    "\n",
    "sns.despine(offset = 10)\n",
    "plt.show()"
   ]
  },
  {
   "cell_type": "code",
   "execution_count": null,
   "id": "c5b8f50c",
   "metadata": {
    "papermill": {
     "duration": 0.035583,
     "end_time": "2024-05-29T18:42:53.001406",
     "exception": false,
     "start_time": "2024-05-29T18:42:52.965823",
     "status": "completed"
    },
    "tags": []
   },
   "outputs": [],
   "source": []
  }
 ],
 "metadata": {
  "kaggle": {
   "accelerator": "none",
   "dataSources": [
    {
     "datasetId": 1573831,
     "sourceId": 2590700,
     "sourceType": "datasetVersion"
    }
   ],
   "dockerImageVersionId": 30698,
   "isGpuEnabled": false,
   "isInternetEnabled": true,
   "language": "python",
   "sourceType": "notebook"
  },
  "kernelspec": {
   "display_name": "Python 3",
   "language": "python",
   "name": "python3"
  },
  "language_info": {
   "codemirror_mode": {
    "name": "ipython",
    "version": 3
   },
   "file_extension": ".py",
   "mimetype": "text/x-python",
   "name": "python",
   "nbconvert_exporter": "python",
   "pygments_lexer": "ipython3",
   "version": "3.10.13"
  },
  "papermill": {
   "default_parameters": {},
   "duration": 312.594279,
   "end_time": "2024-05-29T18:42:56.039464",
   "environment_variables": {},
   "exception": null,
   "input_path": "__notebook__.ipynb",
   "output_path": "__notebook__.ipynb",
   "parameters": {},
   "start_time": "2024-05-29T18:37:43.445185",
   "version": "2.5.0"
  },
  "widgets": {
   "application/vnd.jupyter.widget-state+json": {
    "state": {
     "078e790befeb470eb1f2af2b4a6868ab": {
      "model_module": "@jupyter-widgets/base",
      "model_module_version": "1.2.0",
      "model_name": "LayoutModel",
      "state": {
       "_model_module": "@jupyter-widgets/base",
       "_model_module_version": "1.2.0",
       "_model_name": "LayoutModel",
       "_view_count": null,
       "_view_module": "@jupyter-widgets/base",
       "_view_module_version": "1.2.0",
       "_view_name": "LayoutView",
       "align_content": null,
       "align_items": null,
       "align_self": null,
       "border": null,
       "bottom": null,
       "display": null,
       "flex": null,
       "flex_flow": null,
       "grid_area": null,
       "grid_auto_columns": null,
       "grid_auto_flow": null,
       "grid_auto_rows": null,
       "grid_column": null,
       "grid_gap": null,
       "grid_row": null,
       "grid_template_areas": null,
       "grid_template_columns": null,
       "grid_template_rows": null,
       "height": null,
       "justify_content": null,
       "justify_items": null,
       "left": null,
       "margin": null,
       "max_height": null,
       "max_width": null,
       "min_height": null,
       "min_width": null,
       "object_fit": null,
       "object_position": null,
       "order": null,
       "overflow": null,
       "overflow_x": null,
       "overflow_y": null,
       "padding": null,
       "right": null,
       "top": null,
       "visibility": null,
       "width": null
      }
     },
     "0a614db846524f2a9d505cdadf918032": {
      "model_module": "@jupyter-widgets/base",
      "model_module_version": "1.2.0",
      "model_name": "LayoutModel",
      "state": {
       "_model_module": "@jupyter-widgets/base",
       "_model_module_version": "1.2.0",
       "_model_name": "LayoutModel",
       "_view_count": null,
       "_view_module": "@jupyter-widgets/base",
       "_view_module_version": "1.2.0",
       "_view_name": "LayoutView",
       "align_content": null,
       "align_items": null,
       "align_self": null,
       "border": null,
       "bottom": null,
       "display": null,
       "flex": null,
       "flex_flow": null,
       "grid_area": null,
       "grid_auto_columns": null,
       "grid_auto_flow": null,
       "grid_auto_rows": null,
       "grid_column": null,
       "grid_gap": null,
       "grid_row": null,
       "grid_template_areas": null,
       "grid_template_columns": null,
       "grid_template_rows": null,
       "height": null,
       "justify_content": null,
       "justify_items": null,
       "left": null,
       "margin": null,
       "max_height": null,
       "max_width": null,
       "min_height": null,
       "min_width": null,
       "object_fit": null,
       "object_position": null,
       "order": null,
       "overflow": null,
       "overflow_x": null,
       "overflow_y": null,
       "padding": null,
       "right": null,
       "top": null,
       "visibility": null,
       "width": null
      }
     },
     "0a6c395b16604d859dd7a5ec47a339b9": {
      "model_module": "@jupyter-widgets/controls",
      "model_module_version": "1.5.0",
      "model_name": "HTMLModel",
      "state": {
       "_dom_classes": [],
       "_model_module": "@jupyter-widgets/controls",
       "_model_module_version": "1.5.0",
       "_model_name": "HTMLModel",
       "_view_count": null,
       "_view_module": "@jupyter-widgets/controls",
       "_view_module_version": "1.5.0",
       "_view_name": "HTMLView",
       "description": "",
       "description_tooltip": null,
       "layout": "IPY_MODEL_993449899ca1440f953462a8c5832643",
       "placeholder": "​",
       "style": "IPY_MODEL_265a33ab1de7439892594c3d540f4cfe",
       "value": " 4/4 [00:06&lt;00:00,  1.41s/it]"
      }
     },
     "0e90c81144ed473683dc980056a1a671": {
      "model_module": "@jupyter-widgets/base",
      "model_module_version": "1.2.0",
      "model_name": "LayoutModel",
      "state": {
       "_model_module": "@jupyter-widgets/base",
       "_model_module_version": "1.2.0",
       "_model_name": "LayoutModel",
       "_view_count": null,
       "_view_module": "@jupyter-widgets/base",
       "_view_module_version": "1.2.0",
       "_view_name": "LayoutView",
       "align_content": null,
       "align_items": null,
       "align_self": null,
       "border": null,
       "bottom": null,
       "display": null,
       "flex": null,
       "flex_flow": null,
       "grid_area": null,
       "grid_auto_columns": null,
       "grid_auto_flow": null,
       "grid_auto_rows": null,
       "grid_column": null,
       "grid_gap": null,
       "grid_row": null,
       "grid_template_areas": null,
       "grid_template_columns": null,
       "grid_template_rows": null,
       "height": null,
       "justify_content": null,
       "justify_items": null,
       "left": null,
       "margin": null,
       "max_height": null,
       "max_width": null,
       "min_height": null,
       "min_width": null,
       "object_fit": null,
       "object_position": null,
       "order": null,
       "overflow": null,
       "overflow_x": null,
       "overflow_y": null,
       "padding": null,
       "right": null,
       "top": null,
       "visibility": null,
       "width": null
      }
     },
     "10041971bd754cdd9f5a3d67aa407510": {
      "model_module": "@jupyter-widgets/controls",
      "model_module_version": "1.5.0",
      "model_name": "ProgressStyleModel",
      "state": {
       "_model_module": "@jupyter-widgets/controls",
       "_model_module_version": "1.5.0",
       "_model_name": "ProgressStyleModel",
       "_view_count": null,
       "_view_module": "@jupyter-widgets/base",
       "_view_module_version": "1.2.0",
       "_view_name": "StyleView",
       "bar_color": null,
       "description_width": ""
      }
     },
     "1c7b3734923743fda7ebf995444f3742": {
      "model_module": "@jupyter-widgets/controls",
      "model_module_version": "1.5.0",
      "model_name": "DescriptionStyleModel",
      "state": {
       "_model_module": "@jupyter-widgets/controls",
       "_model_module_version": "1.5.0",
       "_model_name": "DescriptionStyleModel",
       "_view_count": null,
       "_view_module": "@jupyter-widgets/base",
       "_view_module_version": "1.2.0",
       "_view_name": "StyleView",
       "description_width": ""
      }
     },
     "1f80e05f8288452b8b073d7154d0c40c": {
      "model_module": "@jupyter-widgets/controls",
      "model_module_version": "1.5.0",
      "model_name": "DescriptionStyleModel",
      "state": {
       "_model_module": "@jupyter-widgets/controls",
       "_model_module_version": "1.5.0",
       "_model_name": "DescriptionStyleModel",
       "_view_count": null,
       "_view_module": "@jupyter-widgets/base",
       "_view_module_version": "1.2.0",
       "_view_name": "StyleView",
       "description_width": ""
      }
     },
     "24af89eb41234db39b01effbad14b3ba": {
      "model_module": "@jupyter-widgets/controls",
      "model_module_version": "1.5.0",
      "model_name": "HTMLModel",
      "state": {
       "_dom_classes": [],
       "_model_module": "@jupyter-widgets/controls",
       "_model_module_version": "1.5.0",
       "_model_name": "HTMLModel",
       "_view_count": null,
       "_view_module": "@jupyter-widgets/controls",
       "_view_module_version": "1.5.0",
       "_view_name": "HTMLView",
       "description": "",
       "description_tooltip": null,
       "layout": "IPY_MODEL_078e790befeb470eb1f2af2b4a6868ab",
       "placeholder": "​",
       "style": "IPY_MODEL_1f80e05f8288452b8b073d7154d0c40c",
       "value": "Processing: 100%"
      }
     },
     "265a33ab1de7439892594c3d540f4cfe": {
      "model_module": "@jupyter-widgets/controls",
      "model_module_version": "1.5.0",
      "model_name": "DescriptionStyleModel",
      "state": {
       "_model_module": "@jupyter-widgets/controls",
       "_model_module_version": "1.5.0",
       "_model_name": "DescriptionStyleModel",
       "_view_count": null,
       "_view_module": "@jupyter-widgets/base",
       "_view_module_version": "1.2.0",
       "_view_name": "StyleView",
       "description_width": ""
      }
     },
     "337dba13ab4b4af3a68c6da999530c95": {
      "model_module": "@jupyter-widgets/controls",
      "model_module_version": "1.5.0",
      "model_name": "HTMLModel",
      "state": {
       "_dom_classes": [],
       "_model_module": "@jupyter-widgets/controls",
       "_model_module_version": "1.5.0",
       "_model_name": "HTMLModel",
       "_view_count": null,
       "_view_module": "@jupyter-widgets/controls",
       "_view_module_version": "1.5.0",
       "_view_name": "HTMLView",
       "description": "",
       "description_tooltip": null,
       "layout": "IPY_MODEL_0a614db846524f2a9d505cdadf918032",
       "placeholder": "​",
       "style": "IPY_MODEL_1c7b3734923743fda7ebf995444f3742",
       "value": "Processing: 100%"
      }
     },
     "3adb64e3d2ec4bb28ba5efb4f3d36473": {
      "model_module": "@jupyter-widgets/base",
      "model_module_version": "1.2.0",
      "model_name": "LayoutModel",
      "state": {
       "_model_module": "@jupyter-widgets/base",
       "_model_module_version": "1.2.0",
       "_model_name": "LayoutModel",
       "_view_count": null,
       "_view_module": "@jupyter-widgets/base",
       "_view_module_version": "1.2.0",
       "_view_name": "LayoutView",
       "align_content": null,
       "align_items": null,
       "align_self": null,
       "border": null,
       "bottom": null,
       "display": null,
       "flex": null,
       "flex_flow": null,
       "grid_area": null,
       "grid_auto_columns": null,
       "grid_auto_flow": null,
       "grid_auto_rows": null,
       "grid_column": null,
       "grid_gap": null,
       "grid_row": null,
       "grid_template_areas": null,
       "grid_template_columns": null,
       "grid_template_rows": null,
       "height": null,
       "justify_content": null,
       "justify_items": null,
       "left": null,
       "margin": null,
       "max_height": null,
       "max_width": null,
       "min_height": null,
       "min_width": null,
       "object_fit": null,
       "object_position": null,
       "order": null,
       "overflow": null,
       "overflow_x": null,
       "overflow_y": null,
       "padding": null,
       "right": null,
       "top": null,
       "visibility": null,
       "width": null
      }
     },
     "476fdf552cc746f7b2db2107e73e94b4": {
      "model_module": "@jupyter-widgets/controls",
      "model_module_version": "1.5.0",
      "model_name": "FloatProgressModel",
      "state": {
       "_dom_classes": [],
       "_model_module": "@jupyter-widgets/controls",
       "_model_module_version": "1.5.0",
       "_model_name": "FloatProgressModel",
       "_view_count": null,
       "_view_module": "@jupyter-widgets/controls",
       "_view_module_version": "1.5.0",
       "_view_name": "ProgressView",
       "bar_style": "",
       "description": "",
       "description_tooltip": null,
       "layout": "IPY_MODEL_b5ce7eea7d084f1394ec3caffcb47f97",
       "max": 85.0,
       "min": 0.0,
       "orientation": "horizontal",
       "style": "IPY_MODEL_bac037b84b904f46bfd1980be0712846",
       "value": 85.0
      }
     },
     "66805e59b61941949282032f8b7db609": {
      "model_module": "@jupyter-widgets/controls",
      "model_module_version": "1.5.0",
      "model_name": "DescriptionStyleModel",
      "state": {
       "_model_module": "@jupyter-widgets/controls",
       "_model_module_version": "1.5.0",
       "_model_name": "DescriptionStyleModel",
       "_view_count": null,
       "_view_module": "@jupyter-widgets/base",
       "_view_module_version": "1.2.0",
       "_view_name": "StyleView",
       "description_width": ""
      }
     },
     "72805a7897474f3983eb929d9ff8f8d9": {
      "model_module": "@jupyter-widgets/base",
      "model_module_version": "1.2.0",
      "model_name": "LayoutModel",
      "state": {
       "_model_module": "@jupyter-widgets/base",
       "_model_module_version": "1.2.0",
       "_model_name": "LayoutModel",
       "_view_count": null,
       "_view_module": "@jupyter-widgets/base",
       "_view_module_version": "1.2.0",
       "_view_name": "LayoutView",
       "align_content": null,
       "align_items": null,
       "align_self": null,
       "border": null,
       "bottom": null,
       "display": null,
       "flex": null,
       "flex_flow": null,
       "grid_area": null,
       "grid_auto_columns": null,
       "grid_auto_flow": null,
       "grid_auto_rows": null,
       "grid_column": null,
       "grid_gap": null,
       "grid_row": null,
       "grid_template_areas": null,
       "grid_template_columns": null,
       "grid_template_rows": null,
       "height": null,
       "justify_content": null,
       "justify_items": null,
       "left": null,
       "margin": null,
       "max_height": null,
       "max_width": null,
       "min_height": null,
       "min_width": null,
       "object_fit": null,
       "object_position": null,
       "order": null,
       "overflow": null,
       "overflow_x": null,
       "overflow_y": null,
       "padding": null,
       "right": null,
       "top": null,
       "visibility": "hidden",
       "width": null
      }
     },
     "83150e8f54454954a6a5700cc537d098": {
      "model_module": "@jupyter-widgets/controls",
      "model_module_version": "1.5.0",
      "model_name": "FloatProgressModel",
      "state": {
       "_dom_classes": [],
       "_model_module": "@jupyter-widgets/controls",
       "_model_module_version": "1.5.0",
       "_model_name": "FloatProgressModel",
       "_view_count": null,
       "_view_module": "@jupyter-widgets/controls",
       "_view_module_version": "1.5.0",
       "_view_name": "ProgressView",
       "bar_style": "",
       "description": "",
       "description_tooltip": null,
       "layout": "IPY_MODEL_0e90c81144ed473683dc980056a1a671",
       "max": 4.0,
       "min": 0.0,
       "orientation": "horizontal",
       "style": "IPY_MODEL_10041971bd754cdd9f5a3d67aa407510",
       "value": 4.0
      }
     },
     "94543b4e3348451e99f83882dc018201": {
      "model_module": "@jupyter-widgets/controls",
      "model_module_version": "1.5.0",
      "model_name": "HBoxModel",
      "state": {
       "_dom_classes": [],
       "_model_module": "@jupyter-widgets/controls",
       "_model_module_version": "1.5.0",
       "_model_name": "HBoxModel",
       "_view_count": null,
       "_view_module": "@jupyter-widgets/controls",
       "_view_module_version": "1.5.0",
       "_view_name": "HBoxView",
       "box_style": "",
       "children": [
        "IPY_MODEL_337dba13ab4b4af3a68c6da999530c95",
        "IPY_MODEL_83150e8f54454954a6a5700cc537d098",
        "IPY_MODEL_0a6c395b16604d859dd7a5ec47a339b9"
       ],
       "layout": "IPY_MODEL_ecf3f2a94f4e48679269044c4846251f"
      }
     },
     "993449899ca1440f953462a8c5832643": {
      "model_module": "@jupyter-widgets/base",
      "model_module_version": "1.2.0",
      "model_name": "LayoutModel",
      "state": {
       "_model_module": "@jupyter-widgets/base",
       "_model_module_version": "1.2.0",
       "_model_name": "LayoutModel",
       "_view_count": null,
       "_view_module": "@jupyter-widgets/base",
       "_view_module_version": "1.2.0",
       "_view_name": "LayoutView",
       "align_content": null,
       "align_items": null,
       "align_self": null,
       "border": null,
       "bottom": null,
       "display": null,
       "flex": null,
       "flex_flow": null,
       "grid_area": null,
       "grid_auto_columns": null,
       "grid_auto_flow": null,
       "grid_auto_rows": null,
       "grid_column": null,
       "grid_gap": null,
       "grid_row": null,
       "grid_template_areas": null,
       "grid_template_columns": null,
       "grid_template_rows": null,
       "height": null,
       "justify_content": null,
       "justify_items": null,
       "left": null,
       "margin": null,
       "max_height": null,
       "max_width": null,
       "min_height": null,
       "min_width": null,
       "object_fit": null,
       "object_position": null,
       "order": null,
       "overflow": null,
       "overflow_x": null,
       "overflow_y": null,
       "padding": null,
       "right": null,
       "top": null,
       "visibility": null,
       "width": null
      }
     },
     "998dca22441a475aba9a0785d104f247": {
      "model_module": "@jupyter-widgets/controls",
      "model_module_version": "1.5.0",
      "model_name": "HBoxModel",
      "state": {
       "_dom_classes": [],
       "_model_module": "@jupyter-widgets/controls",
       "_model_module_version": "1.5.0",
       "_model_name": "HBoxModel",
       "_view_count": null,
       "_view_module": "@jupyter-widgets/controls",
       "_view_module_version": "1.5.0",
       "_view_name": "HBoxView",
       "box_style": "",
       "children": [
        "IPY_MODEL_24af89eb41234db39b01effbad14b3ba",
        "IPY_MODEL_476fdf552cc746f7b2db2107e73e94b4",
        "IPY_MODEL_9ceb16453ed6424ba63e6488006ee22f"
       ],
       "layout": "IPY_MODEL_72805a7897474f3983eb929d9ff8f8d9"
      }
     },
     "9ceb16453ed6424ba63e6488006ee22f": {
      "model_module": "@jupyter-widgets/controls",
      "model_module_version": "1.5.0",
      "model_name": "HTMLModel",
      "state": {
       "_dom_classes": [],
       "_model_module": "@jupyter-widgets/controls",
       "_model_module_version": "1.5.0",
       "_model_name": "HTMLModel",
       "_view_count": null,
       "_view_module": "@jupyter-widgets/controls",
       "_view_module_version": "1.5.0",
       "_view_name": "HTMLView",
       "description": "",
       "description_tooltip": null,
       "layout": "IPY_MODEL_3adb64e3d2ec4bb28ba5efb4f3d36473",
       "placeholder": "​",
       "style": "IPY_MODEL_66805e59b61941949282032f8b7db609",
       "value": " 85/85 [01:20&lt;00:00,  1.56s/it]"
      }
     },
     "b5ce7eea7d084f1394ec3caffcb47f97": {
      "model_module": "@jupyter-widgets/base",
      "model_module_version": "1.2.0",
      "model_name": "LayoutModel",
      "state": {
       "_model_module": "@jupyter-widgets/base",
       "_model_module_version": "1.2.0",
       "_model_name": "LayoutModel",
       "_view_count": null,
       "_view_module": "@jupyter-widgets/base",
       "_view_module_version": "1.2.0",
       "_view_name": "LayoutView",
       "align_content": null,
       "align_items": null,
       "align_self": null,
       "border": null,
       "bottom": null,
       "display": null,
       "flex": null,
       "flex_flow": null,
       "grid_area": null,
       "grid_auto_columns": null,
       "grid_auto_flow": null,
       "grid_auto_rows": null,
       "grid_column": null,
       "grid_gap": null,
       "grid_row": null,
       "grid_template_areas": null,
       "grid_template_columns": null,
       "grid_template_rows": null,
       "height": null,
       "justify_content": null,
       "justify_items": null,
       "left": null,
       "margin": null,
       "max_height": null,
       "max_width": null,
       "min_height": null,
       "min_width": null,
       "object_fit": null,
       "object_position": null,
       "order": null,
       "overflow": null,
       "overflow_x": null,
       "overflow_y": null,
       "padding": null,
       "right": null,
       "top": null,
       "visibility": null,
       "width": null
      }
     },
     "bac037b84b904f46bfd1980be0712846": {
      "model_module": "@jupyter-widgets/controls",
      "model_module_version": "1.5.0",
      "model_name": "ProgressStyleModel",
      "state": {
       "_model_module": "@jupyter-widgets/controls",
       "_model_module_version": "1.5.0",
       "_model_name": "ProgressStyleModel",
       "_view_count": null,
       "_view_module": "@jupyter-widgets/base",
       "_view_module_version": "1.2.0",
       "_view_name": "StyleView",
       "bar_color": null,
       "description_width": ""
      }
     },
     "ecf3f2a94f4e48679269044c4846251f": {
      "model_module": "@jupyter-widgets/base",
      "model_module_version": "1.2.0",
      "model_name": "LayoutModel",
      "state": {
       "_model_module": "@jupyter-widgets/base",
       "_model_module_version": "1.2.0",
       "_model_name": "LayoutModel",
       "_view_count": null,
       "_view_module": "@jupyter-widgets/base",
       "_view_module_version": "1.2.0",
       "_view_name": "LayoutView",
       "align_content": null,
       "align_items": null,
       "align_self": null,
       "border": null,
       "bottom": null,
       "display": null,
       "flex": null,
       "flex_flow": null,
       "grid_area": null,
       "grid_auto_columns": null,
       "grid_auto_flow": null,
       "grid_auto_rows": null,
       "grid_column": null,
       "grid_gap": null,
       "grid_row": null,
       "grid_template_areas": null,
       "grid_template_columns": null,
       "grid_template_rows": null,
       "height": null,
       "justify_content": null,
       "justify_items": null,
       "left": null,
       "margin": null,
       "max_height": null,
       "max_width": null,
       "min_height": null,
       "min_width": null,
       "object_fit": null,
       "object_position": null,
       "order": null,
       "overflow": null,
       "overflow_x": null,
       "overflow_y": null,
       "padding": null,
       "right": null,
       "top": null,
       "visibility": "hidden",
       "width": null
      }
     }
    },
    "version_major": 2,
    "version_minor": 0
   }
  }
 },
 "nbformat": 4,
 "nbformat_minor": 5
}
