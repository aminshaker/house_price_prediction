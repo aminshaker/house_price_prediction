{
 "cells": [
  {
   "cell_type": "code",
   "execution_count": 1,
   "id": "0cc9e282",
   "metadata": {
    "_cell_guid": "b1076dfc-b9ad-4769-8c92-a6c4dae69d19",
    "_uuid": "8f2839f25d086af736a60e9eeb907d3b93b6e0e5",
    "execution": {
     "iopub.execute_input": "2024-05-29T19:56:10.961491Z",
     "iopub.status.busy": "2024-05-29T19:56:10.961034Z",
     "iopub.status.idle": "2024-05-29T19:57:01.938709Z",
     "shell.execute_reply": "2024-05-29T19:57:01.937087Z"
    },
    "papermill": {
     "duration": 51.005747,
     "end_time": "2024-05-29T19:57:01.941390",
     "exception": false,
     "start_time": "2024-05-29T19:56:10.935643",
     "status": "completed"
    },
    "tags": []
   },
   "outputs": [
    {
     "name": "stdout",
     "output_type": "stream",
     "text": [
      "\u001b[31mERROR: pip's dependency resolver does not currently take into account all the packages that are installed. This behaviour is the source of the following dependency conflicts.\r\n",
      "beatrix-jupyterlab 2023.128.151533 requires jupyterlab~=3.6.0, but you have jupyterlab 4.1.6 which is incompatible.\r\n",
      "libpysal 4.9.2 requires packaging>=22, but you have packaging 21.3 which is incompatible.\r\n",
      "libpysal 4.9.2 requires shapely>=2.0.1, but you have shapely 1.8.5.post1 which is incompatible.\r\n",
      "momepy 0.7.0 requires shapely>=2, but you have shapely 1.8.5.post1 which is incompatible.\r\n",
      "osmnx 1.9.2 requires shapely>=2.0, but you have shapely 1.8.5.post1 which is incompatible.\r\n",
      "spopt 0.6.0 requires shapely>=2.0.1, but you have shapely 1.8.5.post1 which is incompatible.\r\n",
      "xarray 2024.3.0 requires packaging>=22, but you have packaging 21.3 which is incompatible.\r\n",
      "ydata-profiling 4.6.4 requires numpy<1.26,>=1.16.0, but you have numpy 1.26.4 which is incompatible.\u001b[0m\u001b[31m\r\n",
      "\u001b[0mNote: you may need to restart the kernel to use updated packages.\n"
     ]
    }
   ],
   "source": [
    "pip install pycaret -q"
   ]
  },
  {
   "cell_type": "code",
   "execution_count": 2,
   "id": "d1877d67",
   "metadata": {
    "execution": {
     "iopub.execute_input": "2024-05-29T19:57:01.990062Z",
     "iopub.status.busy": "2024-05-29T19:57:01.989619Z",
     "iopub.status.idle": "2024-05-29T19:57:01.994920Z",
     "shell.execute_reply": "2024-05-29T19:57:01.993825Z"
    },
    "papermill": {
     "duration": 0.031723,
     "end_time": "2024-05-29T19:57:01.997394",
     "exception": false,
     "start_time": "2024-05-29T19:57:01.965671",
     "status": "completed"
    },
    "tags": []
   },
   "outputs": [],
   "source": [
    "# pip install autoviz -q"
   ]
  },
  {
   "cell_type": "code",
   "execution_count": 3,
   "id": "8fb37bd4",
   "metadata": {
    "execution": {
     "iopub.execute_input": "2024-05-29T19:57:02.044755Z",
     "iopub.status.busy": "2024-05-29T19:57:02.044008Z",
     "iopub.status.idle": "2024-05-29T19:57:04.223293Z",
     "shell.execute_reply": "2024-05-29T19:57:04.222142Z"
    },
    "papermill": {
     "duration": 2.206092,
     "end_time": "2024-05-29T19:57:04.226087",
     "exception": false,
     "start_time": "2024-05-29T19:57:02.019995",
     "status": "completed"
    },
    "tags": []
   },
   "outputs": [],
   "source": [
    "import re\n",
    "import time\n",
    "import joblib\n",
    "import warnings\n",
    "import numpy as np\n",
    "import pandas as pd\n",
    "import seaborn as sns\n",
    "import matplotlib.pyplot as plt\n",
    "\n",
    "from sklearn.model_selection import train_test_split, cross_validate, KFold, GridSearchCV\n",
    "from sklearn.metrics import mean_squared_error, mean_absolute_error, r2_score\n",
    "\n",
    "from sklearn.ensemble import RandomForestRegressor\n",
    "from sklearn.linear_model import ElasticNet, Lasso, LinearRegression, Ridge\n",
    "from sklearn.neighbors import KNeighborsRegressor\n",
    "from sklearn.tree import DecisionTreeRegressor\n",
    "\n",
    "from xgboost import XGBRegressor"
   ]
  },
  {
   "cell_type": "code",
   "execution_count": 4,
   "id": "51133bfa",
   "metadata": {
    "execution": {
     "iopub.execute_input": "2024-05-29T19:57:04.272834Z",
     "iopub.status.busy": "2024-05-29T19:57:04.272273Z",
     "iopub.status.idle": "2024-05-29T19:57:04.278687Z",
     "shell.execute_reply": "2024-05-29T19:57:04.277687Z"
    },
    "papermill": {
     "duration": 0.032322,
     "end_time": "2024-05-29T19:57:04.280941",
     "exception": false,
     "start_time": "2024-05-29T19:57:04.248619",
     "status": "completed"
    },
    "tags": []
   },
   "outputs": [],
   "source": [
    "%matplotlib inline"
   ]
  },
  {
   "cell_type": "code",
   "execution_count": 5,
   "id": "8700ceb4",
   "metadata": {
    "execution": {
     "iopub.execute_input": "2024-05-29T19:57:04.327618Z",
     "iopub.status.busy": "2024-05-29T19:57:04.327210Z",
     "iopub.status.idle": "2024-05-29T19:57:04.332409Z",
     "shell.execute_reply": "2024-05-29T19:57:04.331325Z"
    },
    "papermill": {
     "duration": 0.031313,
     "end_time": "2024-05-29T19:57:04.334803",
     "exception": false,
     "start_time": "2024-05-29T19:57:04.303490",
     "status": "completed"
    },
    "tags": []
   },
   "outputs": [],
   "source": [
    "warnings.filterwarnings('ignore')"
   ]
  },
  {
   "cell_type": "code",
   "execution_count": 6,
   "id": "d9dac0f1",
   "metadata": {
    "execution": {
     "iopub.execute_input": "2024-05-29T19:57:04.382221Z",
     "iopub.status.busy": "2024-05-29T19:57:04.381773Z",
     "iopub.status.idle": "2024-05-29T19:57:08.092384Z",
     "shell.execute_reply": "2024-05-29T19:57:08.091139Z"
    },
    "papermill": {
     "duration": 3.737591,
     "end_time": "2024-05-29T19:57:08.095065",
     "exception": false,
     "start_time": "2024-05-29T19:57:04.357474",
     "status": "completed"
    },
    "tags": []
   },
   "outputs": [],
   "source": [
    "from pycaret.regression import *"
   ]
  },
  {
   "cell_type": "code",
   "execution_count": 7,
   "id": "ebbd10a3",
   "metadata": {
    "execution": {
     "iopub.execute_input": "2024-05-29T19:57:08.142188Z",
     "iopub.status.busy": "2024-05-29T19:57:08.141504Z",
     "iopub.status.idle": "2024-05-29T19:57:08.183901Z",
     "shell.execute_reply": "2024-05-29T19:57:08.182773Z"
    },
    "papermill": {
     "duration": 0.068622,
     "end_time": "2024-05-29T19:57:08.186506",
     "exception": false,
     "start_time": "2024-05-29T19:57:08.117884",
     "status": "completed"
    },
    "tags": []
   },
   "outputs": [
    {
     "data": {
      "text/html": [
       "<div>\n",
       "<style scoped>\n",
       "    .dataframe tbody tr th:only-of-type {\n",
       "        vertical-align: middle;\n",
       "    }\n",
       "\n",
       "    .dataframe tbody tr th {\n",
       "        vertical-align: top;\n",
       "    }\n",
       "\n",
       "    .dataframe thead th {\n",
       "        text-align: right;\n",
       "    }\n",
       "</style>\n",
       "<table border=\"1\" class=\"dataframe\">\n",
       "  <thead>\n",
       "    <tr style=\"text-align: right;\">\n",
       "      <th></th>\n",
       "      <th>Area</th>\n",
       "      <th>Room</th>\n",
       "      <th>Parking</th>\n",
       "      <th>Warehouse</th>\n",
       "      <th>Elevator</th>\n",
       "      <th>Address</th>\n",
       "      <th>Price</th>\n",
       "      <th>Price(USD)</th>\n",
       "    </tr>\n",
       "  </thead>\n",
       "  <tbody>\n",
       "    <tr>\n",
       "      <th>102</th>\n",
       "      <td>130</td>\n",
       "      <td>2</td>\n",
       "      <td>True</td>\n",
       "      <td>True</td>\n",
       "      <td>True</td>\n",
       "      <td>Dorous</td>\n",
       "      <td>1.690000e+10</td>\n",
       "      <td>563333.33</td>\n",
       "    </tr>\n",
       "    <tr>\n",
       "      <th>1674</th>\n",
       "      <td>102</td>\n",
       "      <td>2</td>\n",
       "      <td>True</td>\n",
       "      <td>True</td>\n",
       "      <td>True</td>\n",
       "      <td>Shahrake Gharb</td>\n",
       "      <td>9.898000e+09</td>\n",
       "      <td>329933.33</td>\n",
       "    </tr>\n",
       "    <tr>\n",
       "      <th>1279</th>\n",
       "      <td>97</td>\n",
       "      <td>2</td>\n",
       "      <td>True</td>\n",
       "      <td>True</td>\n",
       "      <td>True</td>\n",
       "      <td>Punak</td>\n",
       "      <td>4.700000e+09</td>\n",
       "      <td>156666.67</td>\n",
       "    </tr>\n",
       "    <tr>\n",
       "      <th>885</th>\n",
       "      <td>85</td>\n",
       "      <td>2</td>\n",
       "      <td>True</td>\n",
       "      <td>True</td>\n",
       "      <td>True</td>\n",
       "      <td>Islamshahr</td>\n",
       "      <td>5.650000e+08</td>\n",
       "      <td>18833.33</td>\n",
       "    </tr>\n",
       "    <tr>\n",
       "      <th>1911</th>\n",
       "      <td>105</td>\n",
       "      <td>2</td>\n",
       "      <td>True</td>\n",
       "      <td>True</td>\n",
       "      <td>True</td>\n",
       "      <td>Pardis</td>\n",
       "      <td>8.900000e+08</td>\n",
       "      <td>29666.67</td>\n",
       "    </tr>\n",
       "  </tbody>\n",
       "</table>\n",
       "</div>"
      ],
      "text/plain": [
       "     Area  Room  Parking  Warehouse  Elevator         Address         Price  \\\n",
       "102   130     2     True       True      True          Dorous  1.690000e+10   \n",
       "1674  102     2     True       True      True  Shahrake Gharb  9.898000e+09   \n",
       "1279   97     2     True       True      True           Punak  4.700000e+09   \n",
       "885    85     2     True       True      True      Islamshahr  5.650000e+08   \n",
       "1911  105     2     True       True      True          Pardis  8.900000e+08   \n",
       "\n",
       "      Price(USD)  \n",
       "102    563333.33  \n",
       "1674   329933.33  \n",
       "1279   156666.67  \n",
       "885     18833.33  \n",
       "1911    29666.67  "
      ]
     },
     "execution_count": 7,
     "metadata": {},
     "output_type": "execute_result"
    }
   ],
   "source": [
    "df = pd.read_csv('../input/house-price-tehran-iran/housePrice.csv')\n",
    "df.sample(5)"
   ]
  },
  {
   "cell_type": "code",
   "execution_count": 8,
   "id": "341436ed",
   "metadata": {
    "execution": {
     "iopub.execute_input": "2024-05-29T19:57:08.233894Z",
     "iopub.status.busy": "2024-05-29T19:57:08.233478Z",
     "iopub.status.idle": "2024-05-29T19:57:08.247990Z",
     "shell.execute_reply": "2024-05-29T19:57:08.246964Z"
    },
    "papermill": {
     "duration": 0.041032,
     "end_time": "2024-05-29T19:57:08.250456",
     "exception": false,
     "start_time": "2024-05-29T19:57:08.209424",
     "status": "completed"
    },
    "tags": []
   },
   "outputs": [
    {
     "name": "stdout",
     "output_type": "stream",
     "text": [
      "<class 'pandas.core.frame.DataFrame'>\n",
      "RangeIndex: 3479 entries, 0 to 3478\n",
      "Data columns (total 8 columns):\n",
      " #   Column      Non-Null Count  Dtype  \n",
      "---  ------      --------------  -----  \n",
      " 0   Area        3479 non-null   object \n",
      " 1   Room        3479 non-null   int64  \n",
      " 2   Parking     3479 non-null   bool   \n",
      " 3   Warehouse   3479 non-null   bool   \n",
      " 4   Elevator    3479 non-null   bool   \n",
      " 5   Address     3456 non-null   object \n",
      " 6   Price       3479 non-null   float64\n",
      " 7   Price(USD)  3479 non-null   float64\n",
      "dtypes: bool(3), float64(2), int64(1), object(2)\n",
      "memory usage: 146.2+ KB\n"
     ]
    }
   ],
   "source": [
    "df.info()"
   ]
  },
  {
   "cell_type": "code",
   "execution_count": 9,
   "id": "f17a582d",
   "metadata": {
    "execution": {
     "iopub.execute_input": "2024-05-29T19:57:08.298081Z",
     "iopub.status.busy": "2024-05-29T19:57:08.297612Z",
     "iopub.status.idle": "2024-05-29T19:57:08.304074Z",
     "shell.execute_reply": "2024-05-29T19:57:08.303075Z"
    },
    "papermill": {
     "duration": 0.032996,
     "end_time": "2024-05-29T19:57:08.306438",
     "exception": false,
     "start_time": "2024-05-29T19:57:08.273442",
     "status": "completed"
    },
    "tags": []
   },
   "outputs": [],
   "source": [
    "df.drop('Price(USD)', axis=1, inplace=True)"
   ]
  },
  {
   "cell_type": "code",
   "execution_count": 10,
   "id": "e7258be6",
   "metadata": {
    "execution": {
     "iopub.execute_input": "2024-05-29T19:57:08.354574Z",
     "iopub.status.busy": "2024-05-29T19:57:08.354142Z",
     "iopub.status.idle": "2024-05-29T19:57:15.741680Z",
     "shell.execute_reply": "2024-05-29T19:57:15.740654Z"
    },
    "papermill": {
     "duration": 7.414935,
     "end_time": "2024-05-29T19:57:15.744155",
     "exception": false,
     "start_time": "2024-05-29T19:57:08.329220",
     "status": "completed"
    },
    "tags": []
   },
   "outputs": [
    {
     "data": {
      "text/html": [
       "<style type=\"text/css\">\n",
       "#T_1cc4d_row10_col1, #T_1cc4d_row16_col1 {\n",
       "  background-color: lightgreen;\n",
       "}\n",
       "</style>\n",
       "<table id=\"T_1cc4d\">\n",
       "  <thead>\n",
       "    <tr>\n",
       "      <th class=\"blank level0\" >&nbsp;</th>\n",
       "      <th id=\"T_1cc4d_level0_col0\" class=\"col_heading level0 col0\" >Description</th>\n",
       "      <th id=\"T_1cc4d_level0_col1\" class=\"col_heading level0 col1\" >Value</th>\n",
       "    </tr>\n",
       "  </thead>\n",
       "  <tbody>\n",
       "    <tr>\n",
       "      <th id=\"T_1cc4d_level0_row0\" class=\"row_heading level0 row0\" >0</th>\n",
       "      <td id=\"T_1cc4d_row0_col0\" class=\"data row0 col0\" >Session id</td>\n",
       "      <td id=\"T_1cc4d_row0_col1\" class=\"data row0 col1\" >85</td>\n",
       "    </tr>\n",
       "    <tr>\n",
       "      <th id=\"T_1cc4d_level0_row1\" class=\"row_heading level0 row1\" >1</th>\n",
       "      <td id=\"T_1cc4d_row1_col0\" class=\"data row1 col0\" >Target</td>\n",
       "      <td id=\"T_1cc4d_row1_col1\" class=\"data row1 col1\" >Price</td>\n",
       "    </tr>\n",
       "    <tr>\n",
       "      <th id=\"T_1cc4d_level0_row2\" class=\"row_heading level0 row2\" >2</th>\n",
       "      <td id=\"T_1cc4d_row2_col0\" class=\"data row2 col0\" >Target type</td>\n",
       "      <td id=\"T_1cc4d_row2_col1\" class=\"data row2 col1\" >Regression</td>\n",
       "    </tr>\n",
       "    <tr>\n",
       "      <th id=\"T_1cc4d_level0_row3\" class=\"row_heading level0 row3\" >3</th>\n",
       "      <td id=\"T_1cc4d_row3_col0\" class=\"data row3 col0\" >Original data shape</td>\n",
       "      <td id=\"T_1cc4d_row3_col1\" class=\"data row3 col1\" >(3479, 7)</td>\n",
       "    </tr>\n",
       "    <tr>\n",
       "      <th id=\"T_1cc4d_level0_row4\" class=\"row_heading level0 row4\" >4</th>\n",
       "      <td id=\"T_1cc4d_row4_col0\" class=\"data row4 col0\" >Transformed data shape</td>\n",
       "      <td id=\"T_1cc4d_row4_col1\" class=\"data row4 col1\" >(3357, 7)</td>\n",
       "    </tr>\n",
       "    <tr>\n",
       "      <th id=\"T_1cc4d_level0_row5\" class=\"row_heading level0 row5\" >5</th>\n",
       "      <td id=\"T_1cc4d_row5_col0\" class=\"data row5 col0\" >Transformed train set shape</td>\n",
       "      <td id=\"T_1cc4d_row5_col1\" class=\"data row5 col1\" >(2313, 7)</td>\n",
       "    </tr>\n",
       "    <tr>\n",
       "      <th id=\"T_1cc4d_level0_row6\" class=\"row_heading level0 row6\" >6</th>\n",
       "      <td id=\"T_1cc4d_row6_col0\" class=\"data row6 col0\" >Transformed test set shape</td>\n",
       "      <td id=\"T_1cc4d_row6_col1\" class=\"data row6 col1\" >(1044, 7)</td>\n",
       "    </tr>\n",
       "    <tr>\n",
       "      <th id=\"T_1cc4d_level0_row7\" class=\"row_heading level0 row7\" >7</th>\n",
       "      <td id=\"T_1cc4d_row7_col0\" class=\"data row7 col0\" >Numeric features</td>\n",
       "      <td id=\"T_1cc4d_row7_col1\" class=\"data row7 col1\" >1</td>\n",
       "    </tr>\n",
       "    <tr>\n",
       "      <th id=\"T_1cc4d_level0_row8\" class=\"row_heading level0 row8\" >8</th>\n",
       "      <td id=\"T_1cc4d_row8_col0\" class=\"data row8 col0\" >Categorical features</td>\n",
       "      <td id=\"T_1cc4d_row8_col1\" class=\"data row8 col1\" >2</td>\n",
       "    </tr>\n",
       "    <tr>\n",
       "      <th id=\"T_1cc4d_level0_row9\" class=\"row_heading level0 row9\" >9</th>\n",
       "      <td id=\"T_1cc4d_row9_col0\" class=\"data row9 col0\" >Rows with missing values</td>\n",
       "      <td id=\"T_1cc4d_row9_col1\" class=\"data row9 col1\" >0.7%</td>\n",
       "    </tr>\n",
       "    <tr>\n",
       "      <th id=\"T_1cc4d_level0_row10\" class=\"row_heading level0 row10\" >10</th>\n",
       "      <td id=\"T_1cc4d_row10_col0\" class=\"data row10 col0\" >Preprocess</td>\n",
       "      <td id=\"T_1cc4d_row10_col1\" class=\"data row10 col1\" >True</td>\n",
       "    </tr>\n",
       "    <tr>\n",
       "      <th id=\"T_1cc4d_level0_row11\" class=\"row_heading level0 row11\" >11</th>\n",
       "      <td id=\"T_1cc4d_row11_col0\" class=\"data row11 col0\" >Imputation type</td>\n",
       "      <td id=\"T_1cc4d_row11_col1\" class=\"data row11 col1\" >simple</td>\n",
       "    </tr>\n",
       "    <tr>\n",
       "      <th id=\"T_1cc4d_level0_row12\" class=\"row_heading level0 row12\" >12</th>\n",
       "      <td id=\"T_1cc4d_row12_col0\" class=\"data row12 col0\" >Numeric imputation</td>\n",
       "      <td id=\"T_1cc4d_row12_col1\" class=\"data row12 col1\" >mean</td>\n",
       "    </tr>\n",
       "    <tr>\n",
       "      <th id=\"T_1cc4d_level0_row13\" class=\"row_heading level0 row13\" >13</th>\n",
       "      <td id=\"T_1cc4d_row13_col0\" class=\"data row13 col0\" >Categorical imputation</td>\n",
       "      <td id=\"T_1cc4d_row13_col1\" class=\"data row13 col1\" >mode</td>\n",
       "    </tr>\n",
       "    <tr>\n",
       "      <th id=\"T_1cc4d_level0_row14\" class=\"row_heading level0 row14\" >14</th>\n",
       "      <td id=\"T_1cc4d_row14_col0\" class=\"data row14 col0\" >Maximum one-hot encoding</td>\n",
       "      <td id=\"T_1cc4d_row14_col1\" class=\"data row14 col1\" >25</td>\n",
       "    </tr>\n",
       "    <tr>\n",
       "      <th id=\"T_1cc4d_level0_row15\" class=\"row_heading level0 row15\" >15</th>\n",
       "      <td id=\"T_1cc4d_row15_col0\" class=\"data row15 col0\" >Encoding method</td>\n",
       "      <td id=\"T_1cc4d_row15_col1\" class=\"data row15 col1\" >None</td>\n",
       "    </tr>\n",
       "    <tr>\n",
       "      <th id=\"T_1cc4d_level0_row16\" class=\"row_heading level0 row16\" >16</th>\n",
       "      <td id=\"T_1cc4d_row16_col0\" class=\"data row16 col0\" >Remove outliers</td>\n",
       "      <td id=\"T_1cc4d_row16_col1\" class=\"data row16 col1\" >True</td>\n",
       "    </tr>\n",
       "    <tr>\n",
       "      <th id=\"T_1cc4d_level0_row17\" class=\"row_heading level0 row17\" >17</th>\n",
       "      <td id=\"T_1cc4d_row17_col0\" class=\"data row17 col0\" >Outliers threshold</td>\n",
       "      <td id=\"T_1cc4d_row17_col1\" class=\"data row17 col1\" >0.050000</td>\n",
       "    </tr>\n",
       "    <tr>\n",
       "      <th id=\"T_1cc4d_level0_row18\" class=\"row_heading level0 row18\" >18</th>\n",
       "      <td id=\"T_1cc4d_row18_col0\" class=\"data row18 col0\" >Fold Generator</td>\n",
       "      <td id=\"T_1cc4d_row18_col1\" class=\"data row18 col1\" >KFold</td>\n",
       "    </tr>\n",
       "    <tr>\n",
       "      <th id=\"T_1cc4d_level0_row19\" class=\"row_heading level0 row19\" >19</th>\n",
       "      <td id=\"T_1cc4d_row19_col0\" class=\"data row19 col0\" >Fold Number</td>\n",
       "      <td id=\"T_1cc4d_row19_col1\" class=\"data row19 col1\" >10</td>\n",
       "    </tr>\n",
       "    <tr>\n",
       "      <th id=\"T_1cc4d_level0_row20\" class=\"row_heading level0 row20\" >20</th>\n",
       "      <td id=\"T_1cc4d_row20_col0\" class=\"data row20 col0\" >CPU Jobs</td>\n",
       "      <td id=\"T_1cc4d_row20_col1\" class=\"data row20 col1\" >-1</td>\n",
       "    </tr>\n",
       "    <tr>\n",
       "      <th id=\"T_1cc4d_level0_row21\" class=\"row_heading level0 row21\" >21</th>\n",
       "      <td id=\"T_1cc4d_row21_col0\" class=\"data row21 col0\" >Use GPU</td>\n",
       "      <td id=\"T_1cc4d_row21_col1\" class=\"data row21 col1\" >False</td>\n",
       "    </tr>\n",
       "    <tr>\n",
       "      <th id=\"T_1cc4d_level0_row22\" class=\"row_heading level0 row22\" >22</th>\n",
       "      <td id=\"T_1cc4d_row22_col0\" class=\"data row22 col0\" >Log Experiment</td>\n",
       "      <td id=\"T_1cc4d_row22_col1\" class=\"data row22 col1\" >False</td>\n",
       "    </tr>\n",
       "    <tr>\n",
       "      <th id=\"T_1cc4d_level0_row23\" class=\"row_heading level0 row23\" >23</th>\n",
       "      <td id=\"T_1cc4d_row23_col0\" class=\"data row23 col0\" >Experiment Name</td>\n",
       "      <td id=\"T_1cc4d_row23_col1\" class=\"data row23 col1\" >reg-default-name</td>\n",
       "    </tr>\n",
       "    <tr>\n",
       "      <th id=\"T_1cc4d_level0_row24\" class=\"row_heading level0 row24\" >24</th>\n",
       "      <td id=\"T_1cc4d_row24_col0\" class=\"data row24 col0\" >USI</td>\n",
       "      <td id=\"T_1cc4d_row24_col1\" class=\"data row24 col1\" >46e5</td>\n",
       "    </tr>\n",
       "  </tbody>\n",
       "</table>\n"
      ],
      "text/plain": [
       "<pandas.io.formats.style.Styler at 0x7d6c8db65330>"
      ]
     },
     "metadata": {},
     "output_type": "display_data"
    },
    {
     "data": {
      "text/plain": [
       "<pycaret.regression.oop.RegressionExperiment at 0x7d6ccf8fab90>"
      ]
     },
     "execution_count": 10,
     "metadata": {},
     "output_type": "execute_result"
    }
   ],
   "source": [
    "setup(df, target='Price', session_id=85, remove_outliers=True)"
   ]
  },
  {
   "cell_type": "code",
   "execution_count": 11,
   "id": "b2d80195",
   "metadata": {
    "execution": {
     "iopub.execute_input": "2024-05-29T19:57:15.792532Z",
     "iopub.status.busy": "2024-05-29T19:57:15.792147Z",
     "iopub.status.idle": "2024-05-29T19:58:28.840793Z",
     "shell.execute_reply": "2024-05-29T19:58:28.839703Z"
    },
    "papermill": {
     "duration": 73.075625,
     "end_time": "2024-05-29T19:58:28.843249",
     "exception": false,
     "start_time": "2024-05-29T19:57:15.767624",
     "status": "completed"
    },
    "tags": []
   },
   "outputs": [
    {
     "data": {
      "text/html": [],
      "text/plain": [
       "<IPython.core.display.HTML object>"
      ]
     },
     "metadata": {},
     "output_type": "display_data"
    },
    {
     "data": {
      "text/html": [
       "<style type=\"text/css\">\n",
       "#T_45f8e th {\n",
       "  text-align: left;\n",
       "}\n",
       "#T_45f8e_row0_col0, #T_45f8e_row0_col1, #T_45f8e_row0_col5, #T_45f8e_row0_col6, #T_45f8e_row1_col0, #T_45f8e_row1_col1, #T_45f8e_row1_col2, #T_45f8e_row1_col3, #T_45f8e_row1_col4, #T_45f8e_row1_col5, #T_45f8e_row1_col6, #T_45f8e_row2_col0, #T_45f8e_row2_col1, #T_45f8e_row2_col2, #T_45f8e_row2_col3, #T_45f8e_row2_col4, #T_45f8e_row2_col6, #T_45f8e_row3_col0, #T_45f8e_row3_col1, #T_45f8e_row3_col2, #T_45f8e_row3_col3, #T_45f8e_row3_col4, #T_45f8e_row3_col5, #T_45f8e_row3_col6, #T_45f8e_row4_col0, #T_45f8e_row4_col2, #T_45f8e_row4_col3, #T_45f8e_row4_col4, #T_45f8e_row4_col5, #T_45f8e_row4_col6, #T_45f8e_row5_col0, #T_45f8e_row5_col1, #T_45f8e_row5_col2, #T_45f8e_row5_col3, #T_45f8e_row5_col4, #T_45f8e_row5_col5, #T_45f8e_row6_col0, #T_45f8e_row6_col1, #T_45f8e_row6_col2, #T_45f8e_row6_col3, #T_45f8e_row6_col4, #T_45f8e_row6_col5, #T_45f8e_row6_col6, #T_45f8e_row7_col0, #T_45f8e_row7_col1, #T_45f8e_row7_col2, #T_45f8e_row7_col3, #T_45f8e_row7_col4, #T_45f8e_row7_col5, #T_45f8e_row7_col6, #T_45f8e_row8_col0, #T_45f8e_row8_col1, #T_45f8e_row8_col2, #T_45f8e_row8_col3, #T_45f8e_row8_col4, #T_45f8e_row8_col5, #T_45f8e_row8_col6, #T_45f8e_row9_col0, #T_45f8e_row9_col1, #T_45f8e_row9_col2, #T_45f8e_row9_col3, #T_45f8e_row9_col4, #T_45f8e_row9_col5, #T_45f8e_row9_col6, #T_45f8e_row10_col0, #T_45f8e_row10_col1, #T_45f8e_row10_col2, #T_45f8e_row10_col3, #T_45f8e_row10_col4, #T_45f8e_row10_col5, #T_45f8e_row10_col6, #T_45f8e_row11_col0, #T_45f8e_row11_col1, #T_45f8e_row11_col2, #T_45f8e_row11_col3, #T_45f8e_row11_col4, #T_45f8e_row11_col5, #T_45f8e_row11_col6, #T_45f8e_row12_col0, #T_45f8e_row12_col1, #T_45f8e_row12_col2, #T_45f8e_row12_col3, #T_45f8e_row12_col4, #T_45f8e_row12_col5, #T_45f8e_row12_col6, #T_45f8e_row13_col0, #T_45f8e_row13_col1, #T_45f8e_row13_col2, #T_45f8e_row13_col3, #T_45f8e_row13_col4, #T_45f8e_row13_col5, #T_45f8e_row13_col6, #T_45f8e_row14_col0, #T_45f8e_row14_col1, #T_45f8e_row14_col2, #T_45f8e_row14_col3, #T_45f8e_row14_col4, #T_45f8e_row14_col5, #T_45f8e_row14_col6, #T_45f8e_row15_col0, #T_45f8e_row15_col1, #T_45f8e_row15_col2, #T_45f8e_row15_col3, #T_45f8e_row15_col4, #T_45f8e_row15_col5, #T_45f8e_row15_col6, #T_45f8e_row16_col0, #T_45f8e_row16_col1, #T_45f8e_row16_col2, #T_45f8e_row16_col3, #T_45f8e_row16_col4, #T_45f8e_row16_col5, #T_45f8e_row16_col6, #T_45f8e_row17_col0, #T_45f8e_row17_col1, #T_45f8e_row17_col2, #T_45f8e_row17_col3, #T_45f8e_row17_col4, #T_45f8e_row17_col5, #T_45f8e_row17_col6, #T_45f8e_row18_col0, #T_45f8e_row18_col1, #T_45f8e_row18_col2, #T_45f8e_row18_col3, #T_45f8e_row18_col4, #T_45f8e_row18_col5, #T_45f8e_row18_col6, #T_45f8e_row19_col0, #T_45f8e_row19_col1, #T_45f8e_row19_col2, #T_45f8e_row19_col3, #T_45f8e_row19_col4, #T_45f8e_row19_col5, #T_45f8e_row19_col6 {\n",
       "  text-align: left;\n",
       "}\n",
       "#T_45f8e_row0_col2, #T_45f8e_row0_col3, #T_45f8e_row0_col4, #T_45f8e_row2_col5, #T_45f8e_row4_col1, #T_45f8e_row5_col6 {\n",
       "  text-align: left;\n",
       "  background-color: yellow;\n",
       "}\n",
       "#T_45f8e_row0_col7, #T_45f8e_row1_col7, #T_45f8e_row2_col7, #T_45f8e_row3_col7, #T_45f8e_row4_col7, #T_45f8e_row5_col7, #T_45f8e_row6_col7, #T_45f8e_row7_col7, #T_45f8e_row8_col7, #T_45f8e_row10_col7, #T_45f8e_row11_col7, #T_45f8e_row12_col7, #T_45f8e_row13_col7, #T_45f8e_row14_col7, #T_45f8e_row16_col7, #T_45f8e_row17_col7, #T_45f8e_row18_col7, #T_45f8e_row19_col7 {\n",
       "  text-align: left;\n",
       "  background-color: lightgrey;\n",
       "}\n",
       "#T_45f8e_row9_col7, #T_45f8e_row15_col7 {\n",
       "  text-align: left;\n",
       "  background-color: yellow;\n",
       "  background-color: lightgrey;\n",
       "}\n",
       "</style>\n",
       "<table id=\"T_45f8e\">\n",
       "  <thead>\n",
       "    <tr>\n",
       "      <th class=\"blank level0\" >&nbsp;</th>\n",
       "      <th id=\"T_45f8e_level0_col0\" class=\"col_heading level0 col0\" >Model</th>\n",
       "      <th id=\"T_45f8e_level0_col1\" class=\"col_heading level0 col1\" >MAE</th>\n",
       "      <th id=\"T_45f8e_level0_col2\" class=\"col_heading level0 col2\" >MSE</th>\n",
       "      <th id=\"T_45f8e_level0_col3\" class=\"col_heading level0 col3\" >RMSE</th>\n",
       "      <th id=\"T_45f8e_level0_col4\" class=\"col_heading level0 col4\" >R2</th>\n",
       "      <th id=\"T_45f8e_level0_col5\" class=\"col_heading level0 col5\" >RMSLE</th>\n",
       "      <th id=\"T_45f8e_level0_col6\" class=\"col_heading level0 col6\" >MAPE</th>\n",
       "      <th id=\"T_45f8e_level0_col7\" class=\"col_heading level0 col7\" >TT (Sec)</th>\n",
       "    </tr>\n",
       "  </thead>\n",
       "  <tbody>\n",
       "    <tr>\n",
       "      <th id=\"T_45f8e_level0_row0\" class=\"row_heading level0 row0\" >catboost</th>\n",
       "      <td id=\"T_45f8e_row0_col0\" class=\"data row0 col0\" >CatBoost Regressor</td>\n",
       "      <td id=\"T_45f8e_row0_col1\" class=\"data row0 col1\" >1787068166.2256</td>\n",
       "      <td id=\"T_45f8e_row0_col2\" class=\"data row0 col2\" >32607070379028836352.0000</td>\n",
       "      <td id=\"T_45f8e_row0_col3\" class=\"data row0 col3\" >5370151218.8995</td>\n",
       "      <td id=\"T_45f8e_row0_col4\" class=\"data row0 col4\" >0.5414</td>\n",
       "      <td id=\"T_45f8e_row0_col5\" class=\"data row0 col5\" >0.5069</td>\n",
       "      <td id=\"T_45f8e_row0_col6\" class=\"data row0 col6\" >0.4474</td>\n",
       "      <td id=\"T_45f8e_row0_col7\" class=\"data row0 col7\" >1.8360</td>\n",
       "    </tr>\n",
       "    <tr>\n",
       "      <th id=\"T_45f8e_level0_row1\" class=\"row_heading level0 row1\" >et</th>\n",
       "      <td id=\"T_45f8e_row1_col0\" class=\"data row1 col0\" >Extra Trees Regressor</td>\n",
       "      <td id=\"T_45f8e_row1_col1\" class=\"data row1 col1\" >1823696328.6765</td>\n",
       "      <td id=\"T_45f8e_row1_col2\" class=\"data row1 col2\" >33692139050886713344.0000</td>\n",
       "      <td id=\"T_45f8e_row1_col3\" class=\"data row1 col3\" >5418666552.5989</td>\n",
       "      <td id=\"T_45f8e_row1_col4\" class=\"data row1 col4\" >0.5371</td>\n",
       "      <td id=\"T_45f8e_row1_col5\" class=\"data row1 col5\" >0.5173</td>\n",
       "      <td id=\"T_45f8e_row1_col6\" class=\"data row1 col6\" >0.4336</td>\n",
       "      <td id=\"T_45f8e_row1_col7\" class=\"data row1 col7\" >0.3230</td>\n",
       "    </tr>\n",
       "    <tr>\n",
       "      <th id=\"T_45f8e_level0_row2\" class=\"row_heading level0 row2\" >lightgbm</th>\n",
       "      <td id=\"T_45f8e_row2_col0\" class=\"data row2 col0\" >Light Gradient Boosting Machine</td>\n",
       "      <td id=\"T_45f8e_row2_col1\" class=\"data row2 col1\" >1850921317.1389</td>\n",
       "      <td id=\"T_45f8e_row2_col2\" class=\"data row2 col2\" >33901565516324040704.0000</td>\n",
       "      <td id=\"T_45f8e_row2_col3\" class=\"data row2 col3\" >5473993468.5078</td>\n",
       "      <td id=\"T_45f8e_row2_col4\" class=\"data row2 col4\" >0.5246</td>\n",
       "      <td id=\"T_45f8e_row2_col5\" class=\"data row2 col5\" >0.4909</td>\n",
       "      <td id=\"T_45f8e_row2_col6\" class=\"data row2 col6\" >0.4263</td>\n",
       "      <td id=\"T_45f8e_row2_col7\" class=\"data row2 col7\" >0.5590</td>\n",
       "    </tr>\n",
       "    <tr>\n",
       "      <th id=\"T_45f8e_level0_row3\" class=\"row_heading level0 row3\" >gbr</th>\n",
       "      <td id=\"T_45f8e_row3_col0\" class=\"data row3 col0\" >Gradient Boosting Regressor</td>\n",
       "      <td id=\"T_45f8e_row3_col1\" class=\"data row3 col1\" >1869451000.9279</td>\n",
       "      <td id=\"T_45f8e_row3_col2\" class=\"data row3 col2\" >32768195979990835200.0000</td>\n",
       "      <td id=\"T_45f8e_row3_col3\" class=\"data row3 col3\" >5451537576.2650</td>\n",
       "      <td id=\"T_45f8e_row3_col4\" class=\"data row3 col4\" >0.5212</td>\n",
       "      <td id=\"T_45f8e_row3_col5\" class=\"data row3 col5\" >0.5211</td>\n",
       "      <td id=\"T_45f8e_row3_col6\" class=\"data row3 col6\" >0.4815</td>\n",
       "      <td id=\"T_45f8e_row3_col7\" class=\"data row3 col7\" >0.2150</td>\n",
       "    </tr>\n",
       "    <tr>\n",
       "      <th id=\"T_45f8e_level0_row4\" class=\"row_heading level0 row4\" >xgboost</th>\n",
       "      <td id=\"T_45f8e_row4_col0\" class=\"data row4 col0\" >Extreme Gradient Boosting</td>\n",
       "      <td id=\"T_45f8e_row4_col1\" class=\"data row4 col1\" >1786040678.4000</td>\n",
       "      <td id=\"T_45f8e_row4_col2\" class=\"data row4 col2\" >33936436864154492928.0000</td>\n",
       "      <td id=\"T_45f8e_row4_col3\" class=\"data row4 col3\" >5497413017.6000</td>\n",
       "      <td id=\"T_45f8e_row4_col4\" class=\"data row4 col4\" >0.5201</td>\n",
       "      <td id=\"T_45f8e_row4_col5\" class=\"data row4 col5\" >0.5249</td>\n",
       "      <td id=\"T_45f8e_row4_col6\" class=\"data row4 col6\" >0.4220</td>\n",
       "      <td id=\"T_45f8e_row4_col7\" class=\"data row4 col7\" >0.1970</td>\n",
       "    </tr>\n",
       "    <tr>\n",
       "      <th id=\"T_45f8e_level0_row5\" class=\"row_heading level0 row5\" >rf</th>\n",
       "      <td id=\"T_45f8e_row5_col0\" class=\"data row5 col0\" >Random Forest Regressor</td>\n",
       "      <td id=\"T_45f8e_row5_col1\" class=\"data row5 col1\" >1836202243.8133</td>\n",
       "      <td id=\"T_45f8e_row5_col2\" class=\"data row5 col2\" >35120587005921230848.0000</td>\n",
       "      <td id=\"T_45f8e_row5_col3\" class=\"data row5 col3\" >5551883571.7572</td>\n",
       "      <td id=\"T_45f8e_row5_col4\" class=\"data row5 col4\" >0.5134</td>\n",
       "      <td id=\"T_45f8e_row5_col5\" class=\"data row5 col5\" >0.5016</td>\n",
       "      <td id=\"T_45f8e_row5_col6\" class=\"data row5 col6\" >0.4147</td>\n",
       "      <td id=\"T_45f8e_row5_col7\" class=\"data row5 col7\" >0.3940</td>\n",
       "    </tr>\n",
       "    <tr>\n",
       "      <th id=\"T_45f8e_level0_row6\" class=\"row_heading level0 row6\" >knn</th>\n",
       "      <td id=\"T_45f8e_row6_col0\" class=\"data row6 col0\" >K Neighbors Regressor</td>\n",
       "      <td id=\"T_45f8e_row6_col1\" class=\"data row6 col1\" >2037582374.4000</td>\n",
       "      <td id=\"T_45f8e_row6_col2\" class=\"data row6 col2\" >37219049279796019200.0000</td>\n",
       "      <td id=\"T_45f8e_row6_col3\" class=\"data row6 col3\" >5751254720.0000</td>\n",
       "      <td id=\"T_45f8e_row6_col4\" class=\"data row6 col4\" >0.4772</td>\n",
       "      <td id=\"T_45f8e_row6_col5\" class=\"data row6 col5\" >0.5646</td>\n",
       "      <td id=\"T_45f8e_row6_col6\" class=\"data row6 col6\" >0.5148</td>\n",
       "      <td id=\"T_45f8e_row6_col7\" class=\"data row6 col7\" >0.1550</td>\n",
       "    </tr>\n",
       "    <tr>\n",
       "      <th id=\"T_45f8e_level0_row7\" class=\"row_heading level0 row7\" >lasso</th>\n",
       "      <td id=\"T_45f8e_row7_col0\" class=\"data row7 col0\" >Lasso Regression</td>\n",
       "      <td id=\"T_45f8e_row7_col1\" class=\"data row7 col1\" >2601293612.7778</td>\n",
       "      <td id=\"T_45f8e_row7_col2\" class=\"data row7 col2\" >36766955829048868864.0000</td>\n",
       "      <td id=\"T_45f8e_row7_col3\" class=\"data row7 col3\" >5814135261.6413</td>\n",
       "      <td id=\"T_45f8e_row7_col4\" class=\"data row7 col4\" >0.4616</td>\n",
       "      <td id=\"T_45f8e_row7_col5\" class=\"data row7 col5\" >0.9709</td>\n",
       "      <td id=\"T_45f8e_row7_col6\" class=\"data row7 col6\" >1.0037</td>\n",
       "      <td id=\"T_45f8e_row7_col7\" class=\"data row7 col7\" >0.1580</td>\n",
       "    </tr>\n",
       "    <tr>\n",
       "      <th id=\"T_45f8e_level0_row8\" class=\"row_heading level0 row8\" >lr</th>\n",
       "      <td id=\"T_45f8e_row8_col0\" class=\"data row8 col0\" >Linear Regression</td>\n",
       "      <td id=\"T_45f8e_row8_col1\" class=\"data row8 col1\" >2601293587.3264</td>\n",
       "      <td id=\"T_45f8e_row8_col2\" class=\"data row8 col2\" >36766955675486199808.0000</td>\n",
       "      <td id=\"T_45f8e_row8_col3\" class=\"data row8 col3\" >5814135244.9921</td>\n",
       "      <td id=\"T_45f8e_row8_col4\" class=\"data row8 col4\" >0.4616</td>\n",
       "      <td id=\"T_45f8e_row8_col5\" class=\"data row8 col5\" >0.9709</td>\n",
       "      <td id=\"T_45f8e_row8_col6\" class=\"data row8 col6\" >1.0037</td>\n",
       "      <td id=\"T_45f8e_row8_col7\" class=\"data row8 col7\" >0.7540</td>\n",
       "    </tr>\n",
       "    <tr>\n",
       "      <th id=\"T_45f8e_level0_row9\" class=\"row_heading level0 row9\" >llar</th>\n",
       "      <td id=\"T_45f8e_row9_col0\" class=\"data row9 col0\" >Lasso Least Angle Regression</td>\n",
       "      <td id=\"T_45f8e_row9_col1\" class=\"data row9 col1\" >2601293612.7778</td>\n",
       "      <td id=\"T_45f8e_row9_col2\" class=\"data row9 col2\" >36766955829048868864.0000</td>\n",
       "      <td id=\"T_45f8e_row9_col3\" class=\"data row9 col3\" >5814135261.6413</td>\n",
       "      <td id=\"T_45f8e_row9_col4\" class=\"data row9 col4\" >0.4616</td>\n",
       "      <td id=\"T_45f8e_row9_col5\" class=\"data row9 col5\" >0.9709</td>\n",
       "      <td id=\"T_45f8e_row9_col6\" class=\"data row9 col6\" >1.0037</td>\n",
       "      <td id=\"T_45f8e_row9_col7\" class=\"data row9 col7\" >0.1500</td>\n",
       "    </tr>\n",
       "    <tr>\n",
       "      <th id=\"T_45f8e_level0_row10\" class=\"row_heading level0 row10\" >lar</th>\n",
       "      <td id=\"T_45f8e_row10_col0\" class=\"data row10 col0\" >Least Angle Regression</td>\n",
       "      <td id=\"T_45f8e_row10_col1\" class=\"data row10 col1\" >2601293612.5708</td>\n",
       "      <td id=\"T_45f8e_row10_col2\" class=\"data row10 col2\" >36766955824392609792.0000</td>\n",
       "      <td id=\"T_45f8e_row10_col3\" class=\"data row10 col3\" >5814135261.2644</td>\n",
       "      <td id=\"T_45f8e_row10_col4\" class=\"data row10 col4\" >0.4616</td>\n",
       "      <td id=\"T_45f8e_row10_col5\" class=\"data row10 col5\" >0.9709</td>\n",
       "      <td id=\"T_45f8e_row10_col6\" class=\"data row10 col6\" >1.0037</td>\n",
       "      <td id=\"T_45f8e_row10_col7\" class=\"data row10 col7\" >0.1650</td>\n",
       "    </tr>\n",
       "    <tr>\n",
       "      <th id=\"T_45f8e_level0_row11\" class=\"row_heading level0 row11\" >ridge</th>\n",
       "      <td id=\"T_45f8e_row11_col0\" class=\"data row11 col0\" >Ridge Regression</td>\n",
       "      <td id=\"T_45f8e_row11_col1\" class=\"data row11 col1\" >2601407924.0968</td>\n",
       "      <td id=\"T_45f8e_row11_col2\" class=\"data row11 col2\" >36770395167551950848.0000</td>\n",
       "      <td id=\"T_45f8e_row11_col3\" class=\"data row11 col3\" >5814406574.8093</td>\n",
       "      <td id=\"T_45f8e_row11_col4\" class=\"data row11 col4\" >0.4615</td>\n",
       "      <td id=\"T_45f8e_row11_col5\" class=\"data row11 col5\" >0.9685</td>\n",
       "      <td id=\"T_45f8e_row11_col6\" class=\"data row11 col6\" >1.0038</td>\n",
       "      <td id=\"T_45f8e_row11_col7\" class=\"data row11 col7\" >0.1510</td>\n",
       "    </tr>\n",
       "    <tr>\n",
       "      <th id=\"T_45f8e_level0_row12\" class=\"row_heading level0 row12\" >dt</th>\n",
       "      <td id=\"T_45f8e_row12_col0\" class=\"data row12 col0\" >Decision Tree Regressor</td>\n",
       "      <td id=\"T_45f8e_row12_col1\" class=\"data row12 col1\" >2037379064.3410</td>\n",
       "      <td id=\"T_45f8e_row12_col2\" class=\"data row12 col2\" >38229392647171932160.0000</td>\n",
       "      <td id=\"T_45f8e_row12_col3\" class=\"data row12 col3\" >5868916353.4252</td>\n",
       "      <td id=\"T_45f8e_row12_col4\" class=\"data row12 col4\" >0.4555</td>\n",
       "      <td id=\"T_45f8e_row12_col5\" class=\"data row12 col5\" >0.5911</td>\n",
       "      <td id=\"T_45f8e_row12_col6\" class=\"data row12 col6\" >0.4640</td>\n",
       "      <td id=\"T_45f8e_row12_col7\" class=\"data row12 col7\" >0.1930</td>\n",
       "    </tr>\n",
       "    <tr>\n",
       "      <th id=\"T_45f8e_level0_row13\" class=\"row_heading level0 row13\" >en</th>\n",
       "      <td id=\"T_45f8e_row13_col0\" class=\"data row13 col0\" >Elastic Net</td>\n",
       "      <td id=\"T_45f8e_row13_col1\" class=\"data row13 col1\" >2674066561.1712</td>\n",
       "      <td id=\"T_45f8e_row13_col2\" class=\"data row13 col2\" >38251844718070562816.0000</td>\n",
       "      <td id=\"T_45f8e_row13_col3\" class=\"data row13 col3\" >5932820359.7560</td>\n",
       "      <td id=\"T_45f8e_row13_col4\" class=\"data row13 col4\" >0.4389</td>\n",
       "      <td id=\"T_45f8e_row13_col5\" class=\"data row13 col5\" >0.9617</td>\n",
       "      <td id=\"T_45f8e_row13_col6\" class=\"data row13 col6\" >1.0739</td>\n",
       "      <td id=\"T_45f8e_row13_col7\" class=\"data row13 col7\" >0.1620</td>\n",
       "    </tr>\n",
       "    <tr>\n",
       "      <th id=\"T_45f8e_level0_row14\" class=\"row_heading level0 row14\" >br</th>\n",
       "      <td id=\"T_45f8e_row14_col0\" class=\"data row14 col0\" >Bayesian Ridge</td>\n",
       "      <td id=\"T_45f8e_row14_col1\" class=\"data row14 col1\" >2736982279.0990</td>\n",
       "      <td id=\"T_45f8e_row14_col2\" class=\"data row14 col2\" >39281545036914688000.0000</td>\n",
       "      <td id=\"T_45f8e_row14_col3\" class=\"data row14 col3\" >6015645878.1027</td>\n",
       "      <td id=\"T_45f8e_row14_col4\" class=\"data row14 col4\" >0.4226</td>\n",
       "      <td id=\"T_45f8e_row14_col5\" class=\"data row14 col5\" >0.9722</td>\n",
       "      <td id=\"T_45f8e_row14_col6\" class=\"data row14 col6\" >1.1318</td>\n",
       "      <td id=\"T_45f8e_row14_col7\" class=\"data row14 col7\" >0.1530</td>\n",
       "    </tr>\n",
       "    <tr>\n",
       "      <th id=\"T_45f8e_level0_row15\" class=\"row_heading level0 row15\" >omp</th>\n",
       "      <td id=\"T_45f8e_row15_col0\" class=\"data row15 col0\" >Orthogonal Matching Pursuit</td>\n",
       "      <td id=\"T_45f8e_row15_col1\" class=\"data row15 col1\" >2913330797.2689</td>\n",
       "      <td id=\"T_45f8e_row15_col2\" class=\"data row15 col2\" >44353011085509238784.0000</td>\n",
       "      <td id=\"T_45f8e_row15_col3\" class=\"data row15 col3\" >6434106571.4685</td>\n",
       "      <td id=\"T_45f8e_row15_col4\" class=\"data row15 col4\" >0.3304</td>\n",
       "      <td id=\"T_45f8e_row15_col5\" class=\"data row15 col5\" >0.8428</td>\n",
       "      <td id=\"T_45f8e_row15_col6\" class=\"data row15 col6\" >1.0414</td>\n",
       "      <td id=\"T_45f8e_row15_col7\" class=\"data row15 col7\" >0.1500</td>\n",
       "    </tr>\n",
       "    <tr>\n",
       "      <th id=\"T_45f8e_level0_row16\" class=\"row_heading level0 row16\" >huber</th>\n",
       "      <td id=\"T_45f8e_row16_col0\" class=\"data row16 col0\" >Huber Regressor</td>\n",
       "      <td id=\"T_45f8e_row16_col1\" class=\"data row16 col1\" >2746601965.1450</td>\n",
       "      <td id=\"T_45f8e_row16_col2\" class=\"data row16 col2\" >47458616307519750144.0000</td>\n",
       "      <td id=\"T_45f8e_row16_col3\" class=\"data row16 col3\" >6620884818.1256</td>\n",
       "      <td id=\"T_45f8e_row16_col4\" class=\"data row16 col4\" >0.3011</td>\n",
       "      <td id=\"T_45f8e_row16_col5\" class=\"data row16 col5\" >0.7681</td>\n",
       "      <td id=\"T_45f8e_row16_col6\" class=\"data row16 col6\" >0.9247</td>\n",
       "      <td id=\"T_45f8e_row16_col7\" class=\"data row16 col7\" >0.1560</td>\n",
       "    </tr>\n",
       "    <tr>\n",
       "      <th id=\"T_45f8e_level0_row17\" class=\"row_heading level0 row17\" >ada</th>\n",
       "      <td id=\"T_45f8e_row17_col0\" class=\"data row17 col0\" >AdaBoost Regressor</td>\n",
       "      <td id=\"T_45f8e_row17_col1\" class=\"data row17 col1\" >3738757338.4261</td>\n",
       "      <td id=\"T_45f8e_row17_col2\" class=\"data row17 col2\" >46493374504845705216.0000</td>\n",
       "      <td id=\"T_45f8e_row17_col3\" class=\"data row17 col3\" >6706538210.1199</td>\n",
       "      <td id=\"T_45f8e_row17_col4\" class=\"data row17 col4\" >0.2159</td>\n",
       "      <td id=\"T_45f8e_row17_col5\" class=\"data row17 col5\" >1.1143</td>\n",
       "      <td id=\"T_45f8e_row17_col6\" class=\"data row17 col6\" >2.2123</td>\n",
       "      <td id=\"T_45f8e_row17_col7\" class=\"data row17 col7\" >0.2040</td>\n",
       "    </tr>\n",
       "    <tr>\n",
       "      <th id=\"T_45f8e_level0_row18\" class=\"row_heading level0 row18\" >par</th>\n",
       "      <td id=\"T_45f8e_row18_col0\" class=\"data row18 col0\" >Passive Aggressive Regressor</td>\n",
       "      <td id=\"T_45f8e_row18_col1\" class=\"data row18 col1\" >3260248555.0962</td>\n",
       "      <td id=\"T_45f8e_row18_col2\" class=\"data row18 col2\" >51205862272745406464.0000</td>\n",
       "      <td id=\"T_45f8e_row18_col3\" class=\"data row18 col3\" >6923112901.7749</td>\n",
       "      <td id=\"T_45f8e_row18_col4\" class=\"data row18 col4\" >0.2131</td>\n",
       "      <td id=\"T_45f8e_row18_col5\" class=\"data row18 col5\" >0.8597</td>\n",
       "      <td id=\"T_45f8e_row18_col6\" class=\"data row18 col6\" >1.0795</td>\n",
       "      <td id=\"T_45f8e_row18_col7\" class=\"data row18 col7\" >0.1540</td>\n",
       "    </tr>\n",
       "    <tr>\n",
       "      <th id=\"T_45f8e_level0_row19\" class=\"row_heading level0 row19\" >dummy</th>\n",
       "      <td id=\"T_45f8e_row19_col0\" class=\"data row19 col0\" >Dummy Regressor</td>\n",
       "      <td id=\"T_45f8e_row19_col1\" class=\"data row19 col1\" >4360709888.0000</td>\n",
       "      <td id=\"T_45f8e_row19_col2\" class=\"data row19 col2\" >65199411370298392576.0000</td>\n",
       "      <td id=\"T_45f8e_row19_col3\" class=\"data row19 col3\" >7862235084.8000</td>\n",
       "      <td id=\"T_45f8e_row19_col4\" class=\"data row19 col4\" >-0.0098</td>\n",
       "      <td id=\"T_45f8e_row19_col5\" class=\"data row19 col5\" >1.2137</td>\n",
       "      <td id=\"T_45f8e_row19_col6\" class=\"data row19 col6\" >2.2683</td>\n",
       "      <td id=\"T_45f8e_row19_col7\" class=\"data row19 col7\" >0.4010</td>\n",
       "    </tr>\n",
       "  </tbody>\n",
       "</table>\n"
      ],
      "text/plain": [
       "<pandas.io.formats.style.Styler at 0x7d6c8e284070>"
      ]
     },
     "metadata": {},
     "output_type": "display_data"
    },
    {
     "data": {
      "application/vnd.jupyter.widget-view+json": {
       "model_id": "dd4a001ecf384c4199ffa908c12b37ca",
       "version_major": 2,
       "version_minor": 0
      },
      "text/plain": [
       "Processing:   0%|          | 0/85 [00:00<?, ?it/s]"
      ]
     },
     "metadata": {},
     "output_type": "display_data"
    },
    {
     "data": {
      "text/plain": [
       "<catboost.core.CatBoostRegressor at 0x7d6c8e2778b0>"
      ]
     },
     "execution_count": 11,
     "metadata": {},
     "output_type": "execute_result"
    }
   ],
   "source": [
    "compare_models()"
   ]
  },
  {
   "cell_type": "code",
   "execution_count": 12,
   "id": "5d2ebdd4",
   "metadata": {
    "execution": {
     "iopub.execute_input": "2024-05-29T19:58:28.894206Z",
     "iopub.status.busy": "2024-05-29T19:58:28.893493Z",
     "iopub.status.idle": "2024-05-29T19:58:34.578788Z",
     "shell.execute_reply": "2024-05-29T19:58:34.577610Z"
    },
    "papermill": {
     "duration": 5.713655,
     "end_time": "2024-05-29T19:58:34.581285",
     "exception": false,
     "start_time": "2024-05-29T19:58:28.867630",
     "status": "completed"
    },
    "tags": []
   },
   "outputs": [
    {
     "data": {
      "text/html": [],
      "text/plain": [
       "<IPython.core.display.HTML object>"
      ]
     },
     "metadata": {},
     "output_type": "display_data"
    },
    {
     "data": {
      "text/html": [
       "<style type=\"text/css\">\n",
       "#T_ec480_row10_col0, #T_ec480_row10_col1, #T_ec480_row10_col2, #T_ec480_row10_col3, #T_ec480_row10_col4, #T_ec480_row10_col5 {\n",
       "  background: yellow;\n",
       "}\n",
       "</style>\n",
       "<table id=\"T_ec480\">\n",
       "  <thead>\n",
       "    <tr>\n",
       "      <th class=\"blank level0\" >&nbsp;</th>\n",
       "      <th id=\"T_ec480_level0_col0\" class=\"col_heading level0 col0\" >MAE</th>\n",
       "      <th id=\"T_ec480_level0_col1\" class=\"col_heading level0 col1\" >MSE</th>\n",
       "      <th id=\"T_ec480_level0_col2\" class=\"col_heading level0 col2\" >RMSE</th>\n",
       "      <th id=\"T_ec480_level0_col3\" class=\"col_heading level0 col3\" >R2</th>\n",
       "      <th id=\"T_ec480_level0_col4\" class=\"col_heading level0 col4\" >RMSLE</th>\n",
       "      <th id=\"T_ec480_level0_col5\" class=\"col_heading level0 col5\" >MAPE</th>\n",
       "    </tr>\n",
       "    <tr>\n",
       "      <th class=\"index_name level0\" >Fold</th>\n",
       "      <th class=\"blank col0\" >&nbsp;</th>\n",
       "      <th class=\"blank col1\" >&nbsp;</th>\n",
       "      <th class=\"blank col2\" >&nbsp;</th>\n",
       "      <th class=\"blank col3\" >&nbsp;</th>\n",
       "      <th class=\"blank col4\" >&nbsp;</th>\n",
       "      <th class=\"blank col5\" >&nbsp;</th>\n",
       "    </tr>\n",
       "  </thead>\n",
       "  <tbody>\n",
       "    <tr>\n",
       "      <th id=\"T_ec480_level0_row0\" class=\"row_heading level0 row0\" >0</th>\n",
       "      <td id=\"T_ec480_row0_col0\" class=\"data row0 col0\" >2479386880.0000</td>\n",
       "      <td id=\"T_ec480_row0_col1\" class=\"data row0 col1\" >51988542547667451904.0000</td>\n",
       "      <td id=\"T_ec480_row0_col2\" class=\"data row0 col2\" >7210308096.0000</td>\n",
       "      <td id=\"T_ec480_row0_col3\" class=\"data row0 col3\" >0.4964</td>\n",
       "      <td id=\"T_ec480_row0_col4\" class=\"data row0 col4\" >0.6233</td>\n",
       "      <td id=\"T_ec480_row0_col5\" class=\"data row0 col5\" >0.4693</td>\n",
       "    </tr>\n",
       "    <tr>\n",
       "      <th id=\"T_ec480_level0_row1\" class=\"row_heading level0 row1\" >1</th>\n",
       "      <td id=\"T_ec480_row1_col0\" class=\"data row1 col0\" >1815818112.0000</td>\n",
       "      <td id=\"T_ec480_row1_col1\" class=\"data row1 col1\" >46944933177477562368.0000</td>\n",
       "      <td id=\"T_ec480_row1_col2\" class=\"data row1 col2\" >6851637248.0000</td>\n",
       "      <td id=\"T_ec480_row1_col3\" class=\"data row1 col3\" >0.4959</td>\n",
       "      <td id=\"T_ec480_row1_col4\" class=\"data row1 col4\" >0.4994</td>\n",
       "      <td id=\"T_ec480_row1_col5\" class=\"data row1 col5\" >0.4204</td>\n",
       "    </tr>\n",
       "    <tr>\n",
       "      <th id=\"T_ec480_level0_row2\" class=\"row_heading level0 row2\" >2</th>\n",
       "      <td id=\"T_ec480_row2_col0\" class=\"data row2 col0\" >1499436288.0000</td>\n",
       "      <td id=\"T_ec480_row2_col1\" class=\"data row2 col1\" >21151434925898989568.0000</td>\n",
       "      <td id=\"T_ec480_row2_col2\" class=\"data row2 col2\" >4599068672.0000</td>\n",
       "      <td id=\"T_ec480_row2_col3\" class=\"data row2 col3\" >0.5200</td>\n",
       "      <td id=\"T_ec480_row2_col4\" class=\"data row2 col4\" >0.5420</td>\n",
       "      <td id=\"T_ec480_row2_col5\" class=\"data row2 col5\" >0.5832</td>\n",
       "    </tr>\n",
       "    <tr>\n",
       "      <th id=\"T_ec480_level0_row3\" class=\"row_heading level0 row3\" >3</th>\n",
       "      <td id=\"T_ec480_row3_col0\" class=\"data row3 col0\" >1790795264.0000</td>\n",
       "      <td id=\"T_ec480_row3_col1\" class=\"data row3 col1\" >51692290134679486464.0000</td>\n",
       "      <td id=\"T_ec480_row3_col2\" class=\"data row3 col2\" >7189734912.0000</td>\n",
       "      <td id=\"T_ec480_row3_col3\" class=\"data row3 col3\" >0.3209</td>\n",
       "      <td id=\"T_ec480_row3_col4\" class=\"data row3 col4\" >0.5222</td>\n",
       "      <td id=\"T_ec480_row3_col5\" class=\"data row3 col5\" >0.3671</td>\n",
       "    </tr>\n",
       "    <tr>\n",
       "      <th id=\"T_ec480_level0_row4\" class=\"row_heading level0 row4\" >4</th>\n",
       "      <td id=\"T_ec480_row4_col0\" class=\"data row4 col0\" >2119836928.0000</td>\n",
       "      <td id=\"T_ec480_row4_col1\" class=\"data row4 col1\" >40256159743018532864.0000</td>\n",
       "      <td id=\"T_ec480_row4_col2\" class=\"data row4 col2\" >6344774144.0000</td>\n",
       "      <td id=\"T_ec480_row4_col3\" class=\"data row4 col3\" >0.4099</td>\n",
       "      <td id=\"T_ec480_row4_col4\" class=\"data row4 col4\" >0.4992</td>\n",
       "      <td id=\"T_ec480_row4_col5\" class=\"data row4 col5\" >0.4068</td>\n",
       "    </tr>\n",
       "    <tr>\n",
       "      <th id=\"T_ec480_level0_row5\" class=\"row_heading level0 row5\" >5</th>\n",
       "      <td id=\"T_ec480_row5_col0\" class=\"data row5 col0\" >2285190656.0000</td>\n",
       "      <td id=\"T_ec480_row5_col1\" class=\"data row5 col1\" >48404011495815380992.0000</td>\n",
       "      <td id=\"T_ec480_row5_col2\" class=\"data row5 col2\" >6957299200.0000</td>\n",
       "      <td id=\"T_ec480_row5_col3\" class=\"data row5 col3\" >0.4076</td>\n",
       "      <td id=\"T_ec480_row5_col4\" class=\"data row5 col4\" >0.5484</td>\n",
       "      <td id=\"T_ec480_row5_col5\" class=\"data row5 col5\" >0.4099</td>\n",
       "    </tr>\n",
       "    <tr>\n",
       "      <th id=\"T_ec480_level0_row6\" class=\"row_heading level0 row6\" >6</th>\n",
       "      <td id=\"T_ec480_row6_col0\" class=\"data row6 col0\" >2065661824.0000</td>\n",
       "      <td id=\"T_ec480_row6_col1\" class=\"data row6 col1\" >53211520535149674496.0000</td>\n",
       "      <td id=\"T_ec480_row6_col2\" class=\"data row6 col2\" >7294622720.0000</td>\n",
       "      <td id=\"T_ec480_row6_col3\" class=\"data row6 col3\" >0.4073</td>\n",
       "      <td id=\"T_ec480_row6_col4\" class=\"data row6 col4\" >0.4827</td>\n",
       "      <td id=\"T_ec480_row6_col5\" class=\"data row6 col5\" >0.3888</td>\n",
       "    </tr>\n",
       "    <tr>\n",
       "      <th id=\"T_ec480_level0_row7\" class=\"row_heading level0 row7\" >7</th>\n",
       "      <td id=\"T_ec480_row7_col0\" class=\"data row7 col0\" >1316253696.0000</td>\n",
       "      <td id=\"T_ec480_row7_col1\" class=\"data row7 col1\" >11084802341726060544.0000</td>\n",
       "      <td id=\"T_ec480_row7_col2\" class=\"data row7 col2\" >3329384704.0000</td>\n",
       "      <td id=\"T_ec480_row7_col3\" class=\"data row7 col3\" >0.5942</td>\n",
       "      <td id=\"T_ec480_row7_col4\" class=\"data row7 col4\" >0.4347</td>\n",
       "      <td id=\"T_ec480_row7_col5\" class=\"data row7 col5\" >0.3541</td>\n",
       "    </tr>\n",
       "    <tr>\n",
       "      <th id=\"T_ec480_level0_row8\" class=\"row_heading level0 row8\" >8</th>\n",
       "      <td id=\"T_ec480_row8_col0\" class=\"data row8 col0\" >1466868096.0000</td>\n",
       "      <td id=\"T_ec480_row8_col1\" class=\"data row8 col1\" >11212805286408486912.0000</td>\n",
       "      <td id=\"T_ec480_row8_col2\" class=\"data row8 col2\" >3348552704.0000</td>\n",
       "      <td id=\"T_ec480_row8_col3\" class=\"data row8 col3\" >0.6780</td>\n",
       "      <td id=\"T_ec480_row8_col4\" class=\"data row8 col4\" >0.5097</td>\n",
       "      <td id=\"T_ec480_row8_col5\" class=\"data row8 col5\" >0.4051</td>\n",
       "    </tr>\n",
       "    <tr>\n",
       "      <th id=\"T_ec480_level0_row9\" class=\"row_heading level0 row9\" >9</th>\n",
       "      <td id=\"T_ec480_row9_col0\" class=\"data row9 col0\" >1021159040.0000</td>\n",
       "      <td id=\"T_ec480_row9_col1\" class=\"data row9 col1\" >3417868453703319552.0000</td>\n",
       "      <td id=\"T_ec480_row9_col2\" class=\"data row9 col2\" >1848747776.0000</td>\n",
       "      <td id=\"T_ec480_row9_col3\" class=\"data row9 col3\" >0.8706</td>\n",
       "      <td id=\"T_ec480_row9_col4\" class=\"data row9 col4\" >0.5873</td>\n",
       "      <td id=\"T_ec480_row9_col5\" class=\"data row9 col5\" >0.4151</td>\n",
       "    </tr>\n",
       "    <tr>\n",
       "      <th id=\"T_ec480_level0_row10\" class=\"row_heading level0 row10\" >Mean</th>\n",
       "      <td id=\"T_ec480_row10_col0\" class=\"data row10 col0\" >1786040678.4000</td>\n",
       "      <td id=\"T_ec480_row10_col1\" class=\"data row10 col1\" >33936436864154492928.0000</td>\n",
       "      <td id=\"T_ec480_row10_col2\" class=\"data row10 col2\" >5497413017.6000</td>\n",
       "      <td id=\"T_ec480_row10_col3\" class=\"data row10 col3\" >0.5201</td>\n",
       "      <td id=\"T_ec480_row10_col4\" class=\"data row10 col4\" >0.5249</td>\n",
       "      <td id=\"T_ec480_row10_col5\" class=\"data row10 col5\" >0.4220</td>\n",
       "    </tr>\n",
       "    <tr>\n",
       "      <th id=\"T_ec480_level0_row11\" class=\"row_heading level0 row11\" >Std</th>\n",
       "      <td id=\"T_ec480_row11_col0\" class=\"data row11 col0\" >437053065.6462</td>\n",
       "      <td id=\"T_ec480_row11_col1\" class=\"data row11 col1\" >18880011148384997376.0000</td>\n",
       "      <td id=\"T_ec480_row11_col2\" class=\"data row11 col2\" >1927404096.0069</td>\n",
       "      <td id=\"T_ec480_row11_col3\" class=\"data row11 col3\" >0.1522</td>\n",
       "      <td id=\"T_ec480_row11_col4\" class=\"data row11 col4\" >0.0509</td>\n",
       "      <td id=\"T_ec480_row11_col5\" class=\"data row11 col5\" >0.0614</td>\n",
       "    </tr>\n",
       "  </tbody>\n",
       "</table>\n"
      ],
      "text/plain": [
       "<pandas.io.formats.style.Styler at 0x7d6c8db66650>"
      ]
     },
     "metadata": {},
     "output_type": "display_data"
    },
    {
     "data": {
      "application/vnd.jupyter.widget-view+json": {
       "model_id": "62eb8e7feaf146298de138fad2a1669e",
       "version_major": 2,
       "version_minor": 0
      },
      "text/plain": [
       "Processing:   0%|          | 0/4 [00:00<?, ?it/s]"
      ]
     },
     "metadata": {},
     "output_type": "display_data"
    }
   ],
   "source": [
    "my_model = create_model('xgboost')"
   ]
  },
  {
   "cell_type": "code",
   "execution_count": 13,
   "id": "6639a577",
   "metadata": {
    "execution": {
     "iopub.execute_input": "2024-05-29T19:58:34.633845Z",
     "iopub.status.busy": "2024-05-29T19:58:34.633454Z",
     "iopub.status.idle": "2024-05-29T19:58:34.648595Z",
     "shell.execute_reply": "2024-05-29T19:58:34.647528Z"
    },
    "papermill": {
     "duration": 0.044169,
     "end_time": "2024-05-29T19:58:34.650927",
     "exception": false,
     "start_time": "2024-05-29T19:58:34.606758",
     "status": "completed"
    },
    "tags": []
   },
   "outputs": [
    {
     "data": {
      "text/html": [
       "<div>\n",
       "<style scoped>\n",
       "    .dataframe tbody tr th:only-of-type {\n",
       "        vertical-align: middle;\n",
       "    }\n",
       "\n",
       "    .dataframe tbody tr th {\n",
       "        vertical-align: top;\n",
       "    }\n",
       "\n",
       "    .dataframe thead th {\n",
       "        text-align: right;\n",
       "    }\n",
       "</style>\n",
       "<table border=\"1\" class=\"dataframe\">\n",
       "  <thead>\n",
       "    <tr style=\"text-align: right;\">\n",
       "      <th></th>\n",
       "      <th>Area</th>\n",
       "      <th>Room</th>\n",
       "      <th>Parking</th>\n",
       "      <th>Warehouse</th>\n",
       "      <th>Elevator</th>\n",
       "      <th>Address</th>\n",
       "      <th>Price</th>\n",
       "    </tr>\n",
       "  </thead>\n",
       "  <tbody>\n",
       "    <tr>\n",
       "      <th>2932</th>\n",
       "      <td>103</td>\n",
       "      <td>2</td>\n",
       "      <td>True</td>\n",
       "      <td>True</td>\n",
       "      <td>True</td>\n",
       "      <td>Feiz Garden</td>\n",
       "      <td>4.000000e+09</td>\n",
       "    </tr>\n",
       "    <tr>\n",
       "      <th>2092</th>\n",
       "      <td>70</td>\n",
       "      <td>2</td>\n",
       "      <td>False</td>\n",
       "      <td>True</td>\n",
       "      <td>True</td>\n",
       "      <td>Elm-o-Sanat</td>\n",
       "      <td>1.800000e+09</td>\n",
       "    </tr>\n",
       "    <tr>\n",
       "      <th>1847</th>\n",
       "      <td>75</td>\n",
       "      <td>2</td>\n",
       "      <td>True</td>\n",
       "      <td>True</td>\n",
       "      <td>False</td>\n",
       "      <td>West Ferdows Boulevard</td>\n",
       "      <td>2.500000e+09</td>\n",
       "    </tr>\n",
       "  </tbody>\n",
       "</table>\n",
       "</div>"
      ],
      "text/plain": [
       "     Area  Room  Parking  Warehouse  Elevator                 Address  \\\n",
       "2932  103     2     True       True      True             Feiz Garden   \n",
       "2092   70     2    False       True      True             Elm-o-Sanat   \n",
       "1847   75     2     True       True     False  West Ferdows Boulevard   \n",
       "\n",
       "             Price  \n",
       "2932  4.000000e+09  \n",
       "2092  1.800000e+09  \n",
       "1847  2.500000e+09  "
      ]
     },
     "execution_count": 13,
     "metadata": {},
     "output_type": "execute_result"
    }
   ],
   "source": [
    "df.sample(3)"
   ]
  },
  {
   "cell_type": "code",
   "execution_count": 14,
   "id": "e8245d07",
   "metadata": {
    "execution": {
     "iopub.execute_input": "2024-05-29T19:58:34.704017Z",
     "iopub.status.busy": "2024-05-29T19:58:34.702984Z",
     "iopub.status.idle": "2024-05-29T19:58:34.721385Z",
     "shell.execute_reply": "2024-05-29T19:58:34.720297Z"
    },
    "papermill": {
     "duration": 0.047423,
     "end_time": "2024-05-29T19:58:34.723727",
     "exception": false,
     "start_time": "2024-05-29T19:58:34.676304",
     "status": "completed"
    },
    "tags": []
   },
   "outputs": [
    {
     "data": {
      "text/html": [
       "<div>\n",
       "<style scoped>\n",
       "    .dataframe tbody tr th:only-of-type {\n",
       "        vertical-align: middle;\n",
       "    }\n",
       "\n",
       "    .dataframe tbody tr th {\n",
       "        vertical-align: top;\n",
       "    }\n",
       "\n",
       "    .dataframe thead th {\n",
       "        text-align: right;\n",
       "    }\n",
       "</style>\n",
       "<table border=\"1\" class=\"dataframe\">\n",
       "  <thead>\n",
       "    <tr style=\"text-align: right;\">\n",
       "      <th></th>\n",
       "      <th>Room</th>\n",
       "      <th>Price</th>\n",
       "    </tr>\n",
       "  </thead>\n",
       "  <tbody>\n",
       "    <tr>\n",
       "      <th>count</th>\n",
       "      <td>3479.000000</td>\n",
       "      <td>3.479000e+03</td>\n",
       "    </tr>\n",
       "    <tr>\n",
       "      <th>mean</th>\n",
       "      <td>2.079908</td>\n",
       "      <td>5.359023e+09</td>\n",
       "    </tr>\n",
       "    <tr>\n",
       "      <th>std</th>\n",
       "      <td>0.758275</td>\n",
       "      <td>8.099935e+09</td>\n",
       "    </tr>\n",
       "    <tr>\n",
       "      <th>min</th>\n",
       "      <td>0.000000</td>\n",
       "      <td>3.600000e+06</td>\n",
       "    </tr>\n",
       "    <tr>\n",
       "      <th>25%</th>\n",
       "      <td>2.000000</td>\n",
       "      <td>1.418250e+09</td>\n",
       "    </tr>\n",
       "    <tr>\n",
       "      <th>50%</th>\n",
       "      <td>2.000000</td>\n",
       "      <td>2.900000e+09</td>\n",
       "    </tr>\n",
       "    <tr>\n",
       "      <th>75%</th>\n",
       "      <td>2.000000</td>\n",
       "      <td>6.000000e+09</td>\n",
       "    </tr>\n",
       "    <tr>\n",
       "      <th>max</th>\n",
       "      <td>5.000000</td>\n",
       "      <td>9.240000e+10</td>\n",
       "    </tr>\n",
       "  </tbody>\n",
       "</table>\n",
       "</div>"
      ],
      "text/plain": [
       "              Room         Price\n",
       "count  3479.000000  3.479000e+03\n",
       "mean      2.079908  5.359023e+09\n",
       "std       0.758275  8.099935e+09\n",
       "min       0.000000  3.600000e+06\n",
       "25%       2.000000  1.418250e+09\n",
       "50%       2.000000  2.900000e+09\n",
       "75%       2.000000  6.000000e+09\n",
       "max       5.000000  9.240000e+10"
      ]
     },
     "execution_count": 14,
     "metadata": {},
     "output_type": "execute_result"
    }
   ],
   "source": [
    "df.describe()"
   ]
  },
  {
   "cell_type": "code",
   "execution_count": 15,
   "id": "1580e777",
   "metadata": {
    "execution": {
     "iopub.execute_input": "2024-05-29T19:58:34.777231Z",
     "iopub.status.busy": "2024-05-29T19:58:34.776552Z",
     "iopub.status.idle": "2024-05-29T19:58:42.619526Z",
     "shell.execute_reply": "2024-05-29T19:58:42.618348Z"
    },
    "papermill": {
     "duration": 7.872637,
     "end_time": "2024-05-29T19:58:42.622176",
     "exception": false,
     "start_time": "2024-05-29T19:58:34.749539",
     "status": "completed"
    },
    "tags": []
   },
   "outputs": [
    {
     "data": {
      "image/png": "[encoded data removed]",
      "text/plain": [
       "<Figure size 800x390 with 2 Axes>"
      ]
     },
     "metadata": {},
     "output_type": "display_data"
    }
   ],
   "source": [
    "interpret_model(my_model)"
   ]
  },
  {
   "cell_type": "code",
   "execution_count": 16,
   "id": "3b4607c4",
   "metadata": {
    "execution": {
     "iopub.execute_input": "2024-05-29T19:58:42.739206Z",
     "iopub.status.busy": "2024-05-29T19:58:42.738406Z",
     "iopub.status.idle": "2024-05-29T19:58:43.419241Z",
     "shell.execute_reply": "2024-05-29T19:58:43.418167Z"
    },
    "papermill": {
     "duration": 0.711445,
     "end_time": "2024-05-29T19:58:43.421965",
     "exception": false,
     "start_time": "2024-05-29T19:58:42.710520",
     "status": "completed"
    },
    "tags": []
   },
   "outputs": [
    {
     "data": {
      "text/html": [],
      "text/plain": [
       "<IPython.core.display.HTML object>"
      ]
     },
     "metadata": {},
     "output_type": "display_data"
    },
    {
     "data": {
      "image/png": "[encoded data removed]",
      "text/plain": [
       "<Figure size 800x500 with 1 Axes>"
      ]
     },
     "metadata": {},
     "output_type": "display_data"
    }
   ],
   "source": [
    "plot_model(estimator=my_model, plot='feature')"
   ]
  },
  {
   "cell_type": "code",
   "execution_count": 17,
   "id": "133fa71d",
   "metadata": {
    "execution": {
     "iopub.execute_input": "2024-05-29T19:58:43.478018Z",
     "iopub.status.busy": "2024-05-29T19:58:43.477599Z",
     "iopub.status.idle": "2024-05-29T19:58:43.494276Z",
     "shell.execute_reply": "2024-05-29T19:58:43.493184Z"
    },
    "papermill": {
     "duration": 0.047407,
     "end_time": "2024-05-29T19:58:43.496674",
     "exception": false,
     "start_time": "2024-05-29T19:58:43.449267",
     "status": "completed"
    },
    "tags": []
   },
   "outputs": [],
   "source": [
    "df.Area = df.Area.apply(lambda x: re.sub(',', '', x))\n",
    "df.Area = pd.to_numeric(df.Area, errors='coerce')"
   ]
  },
  {
   "cell_type": "code",
   "execution_count": 18,
   "id": "f00b66fd",
   "metadata": {
    "execution": {
     "iopub.execute_input": "2024-05-29T19:58:43.552478Z",
     "iopub.status.busy": "2024-05-29T19:58:43.552096Z",
     "iopub.status.idle": "2024-05-29T19:58:43.567209Z",
     "shell.execute_reply": "2024-05-29T19:58:43.566112Z"
    },
    "papermill": {
     "duration": 0.045938,
     "end_time": "2024-05-29T19:58:43.569672",
     "exception": false,
     "start_time": "2024-05-29T19:58:43.523734",
     "status": "completed"
    },
    "tags": []
   },
   "outputs": [
    {
     "name": "stdout",
     "output_type": "stream",
     "text": [
      "<class 'pandas.core.frame.DataFrame'>\n",
      "RangeIndex: 3479 entries, 0 to 3478\n",
      "Data columns (total 7 columns):\n",
      " #   Column     Non-Null Count  Dtype  \n",
      "---  ------     --------------  -----  \n",
      " 0   Area       3479 non-null   int64  \n",
      " 1   Room       3479 non-null   int64  \n",
      " 2   Parking    3479 non-null   bool   \n",
      " 3   Warehouse  3479 non-null   bool   \n",
      " 4   Elevator   3479 non-null   bool   \n",
      " 5   Address    3456 non-null   object \n",
      " 6   Price      3479 non-null   float64\n",
      "dtypes: bool(3), float64(1), int64(2), object(1)\n",
      "memory usage: 119.0+ KB\n"
     ]
    }
   ],
   "source": [
    "df.info()"
   ]
  },
  {
   "cell_type": "code",
   "execution_count": 19,
   "id": "32a8d885",
   "metadata": {
    "execution": {
     "iopub.execute_input": "2024-05-29T19:58:43.626253Z",
     "iopub.status.busy": "2024-05-29T19:58:43.625472Z",
     "iopub.status.idle": "2024-05-29T19:58:43.645548Z",
     "shell.execute_reply": "2024-05-29T19:58:43.644338Z"
    },
    "papermill": {
     "duration": 0.051026,
     "end_time": "2024-05-29T19:58:43.648061",
     "exception": false,
     "start_time": "2024-05-29T19:58:43.597035",
     "status": "completed"
    },
    "tags": []
   },
   "outputs": [
    {
     "data": {
      "text/html": [
       "<div>\n",
       "<style scoped>\n",
       "    .dataframe tbody tr th:only-of-type {\n",
       "        vertical-align: middle;\n",
       "    }\n",
       "\n",
       "    .dataframe tbody tr th {\n",
       "        vertical-align: top;\n",
       "    }\n",
       "\n",
       "    .dataframe thead th {\n",
       "        text-align: right;\n",
       "    }\n",
       "</style>\n",
       "<table border=\"1\" class=\"dataframe\">\n",
       "  <thead>\n",
       "    <tr style=\"text-align: right;\">\n",
       "      <th></th>\n",
       "      <th>Area</th>\n",
       "      <th>Room</th>\n",
       "      <th>Price</th>\n",
       "    </tr>\n",
       "  </thead>\n",
       "  <tbody>\n",
       "    <tr>\n",
       "      <th>count</th>\n",
       "      <td>3.479000e+03</td>\n",
       "      <td>3479.000000</td>\n",
       "      <td>3.479000e+03</td>\n",
       "    </tr>\n",
       "    <tr>\n",
       "      <th>mean</th>\n",
       "      <td>8.744000e+06</td>\n",
       "      <td>2.079908</td>\n",
       "      <td>5.359023e+09</td>\n",
       "    </tr>\n",
       "    <tr>\n",
       "      <th>std</th>\n",
       "      <td>3.167266e+08</td>\n",
       "      <td>0.758275</td>\n",
       "      <td>8.099935e+09</td>\n",
       "    </tr>\n",
       "    <tr>\n",
       "      <th>min</th>\n",
       "      <td>3.000000e+01</td>\n",
       "      <td>0.000000</td>\n",
       "      <td>3.600000e+06</td>\n",
       "    </tr>\n",
       "    <tr>\n",
       "      <th>25%</th>\n",
       "      <td>6.900000e+01</td>\n",
       "      <td>2.000000</td>\n",
       "      <td>1.418250e+09</td>\n",
       "    </tr>\n",
       "    <tr>\n",
       "      <th>50%</th>\n",
       "      <td>9.000000e+01</td>\n",
       "      <td>2.000000</td>\n",
       "      <td>2.900000e+09</td>\n",
       "    </tr>\n",
       "    <tr>\n",
       "      <th>75%</th>\n",
       "      <td>1.200000e+02</td>\n",
       "      <td>2.000000</td>\n",
       "      <td>6.000000e+09</td>\n",
       "    </tr>\n",
       "    <tr>\n",
       "      <th>max</th>\n",
       "      <td>1.616000e+10</td>\n",
       "      <td>5.000000</td>\n",
       "      <td>9.240000e+10</td>\n",
       "    </tr>\n",
       "  </tbody>\n",
       "</table>\n",
       "</div>"
      ],
      "text/plain": [
       "               Area         Room         Price\n",
       "count  3.479000e+03  3479.000000  3.479000e+03\n",
       "mean   8.744000e+06     2.079908  5.359023e+09\n",
       "std    3.167266e+08     0.758275  8.099935e+09\n",
       "min    3.000000e+01     0.000000  3.600000e+06\n",
       "25%    6.900000e+01     2.000000  1.418250e+09\n",
       "50%    9.000000e+01     2.000000  2.900000e+09\n",
       "75%    1.200000e+02     2.000000  6.000000e+09\n",
       "max    1.616000e+10     5.000000  9.240000e+10"
      ]
     },
     "execution_count": 19,
     "metadata": {},
     "output_type": "execute_result"
    }
   ],
   "source": [
    "df.describe()"
   ]
  },
  {
   "cell_type": "code",
   "execution_count": 20,
   "id": "f3b2ebba",
   "metadata": {
    "execution": {
     "iopub.execute_input": "2024-05-29T19:58:43.705363Z",
     "iopub.status.busy": "2024-05-29T19:58:43.704894Z",
     "iopub.status.idle": "2024-05-29T19:58:43.714258Z",
     "shell.execute_reply": "2024-05-29T19:58:43.713218Z"
    },
    "papermill": {
     "duration": 0.040739,
     "end_time": "2024-05-29T19:58:43.716519",
     "exception": false,
     "start_time": "2024-05-29T19:58:43.675780",
     "status": "completed"
    },
    "tags": []
   },
   "outputs": [
    {
     "data": {
      "text/plain": [
       "Area          0\n",
       "Room          0\n",
       "Parking       0\n",
       "Warehouse     0\n",
       "Elevator      0\n",
       "Address      23\n",
       "Price         0\n",
       "dtype: int64"
      ]
     },
     "execution_count": 20,
     "metadata": {},
     "output_type": "execute_result"
    }
   ],
   "source": [
    "df.isnull().sum()"
   ]
  },
  {
   "cell_type": "code",
   "execution_count": 21,
   "id": "234e3fb4",
   "metadata": {
    "execution": {
     "iopub.execute_input": "2024-05-29T19:58:43.774105Z",
     "iopub.status.busy": "2024-05-29T19:58:43.773426Z",
     "iopub.status.idle": "2024-05-29T19:58:43.780976Z",
     "shell.execute_reply": "2024-05-29T19:58:43.779958Z"
    },
    "papermill": {
     "duration": 0.039038,
     "end_time": "2024-05-29T19:58:43.783358",
     "exception": false,
     "start_time": "2024-05-29T19:58:43.744320",
     "status": "completed"
    },
    "tags": []
   },
   "outputs": [],
   "source": [
    "df.dropna(inplace=True)"
   ]
  },
  {
   "cell_type": "code",
   "execution_count": 22,
   "id": "4cd4b643",
   "metadata": {
    "execution": {
     "iopub.execute_input": "2024-05-29T19:58:43.840797Z",
     "iopub.status.busy": "2024-05-29T19:58:43.840371Z",
     "iopub.status.idle": "2024-05-29T19:58:43.853461Z",
     "shell.execute_reply": "2024-05-29T19:58:43.852291Z"
    },
    "papermill": {
     "duration": 0.044686,
     "end_time": "2024-05-29T19:58:43.855900",
     "exception": false,
     "start_time": "2024-05-29T19:58:43.811214",
     "status": "completed"
    },
    "tags": []
   },
   "outputs": [
    {
     "name": "stdout",
     "output_type": "stream",
     "text": [
      "<class 'pandas.core.frame.DataFrame'>\n",
      "Index: 3456 entries, 0 to 3478\n",
      "Data columns (total 7 columns):\n",
      " #   Column     Non-Null Count  Dtype  \n",
      "---  ------     --------------  -----  \n",
      " 0   Area       3456 non-null   int64  \n",
      " 1   Room       3456 non-null   int64  \n",
      " 2   Parking    3456 non-null   bool   \n",
      " 3   Warehouse  3456 non-null   bool   \n",
      " 4   Elevator   3456 non-null   bool   \n",
      " 5   Address    3456 non-null   object \n",
      " 6   Price      3456 non-null   float64\n",
      "dtypes: bool(3), float64(1), int64(2), object(1)\n",
      "memory usage: 145.1+ KB\n"
     ]
    }
   ],
   "source": [
    "df.info()"
   ]
  },
  {
   "cell_type": "code",
   "execution_count": 23,
   "id": "65f818bc",
   "metadata": {
    "execution": {
     "iopub.execute_input": "2024-05-29T19:58:43.913811Z",
     "iopub.status.busy": "2024-05-29T19:58:43.912995Z",
     "iopub.status.idle": "2024-05-29T19:58:43.922641Z",
     "shell.execute_reply": "2024-05-29T19:58:43.921471Z"
    },
    "papermill": {
     "duration": 0.041227,
     "end_time": "2024-05-29T19:58:43.925073",
     "exception": false,
     "start_time": "2024-05-29T19:58:43.883846",
     "status": "completed"
    },
    "tags": []
   },
   "outputs": [
    {
     "data": {
      "text/plain": [
       "Parking\n",
       "True     84.751157\n",
       "False    15.248843\n",
       "Name: proportion, dtype: float64"
      ]
     },
     "execution_count": 23,
     "metadata": {},
     "output_type": "execute_result"
    }
   ],
   "source": [
    "df.Parking.value_counts(normalize=True) * 100"
   ]
  },
  {
   "cell_type": "code",
   "execution_count": 24,
   "id": "49c1776a",
   "metadata": {
    "execution": {
     "iopub.execute_input": "2024-05-29T19:58:43.982797Z",
     "iopub.status.busy": "2024-05-29T19:58:43.982430Z",
     "iopub.status.idle": "2024-05-29T19:58:44.004982Z",
     "shell.execute_reply": "2024-05-29T19:58:44.003969Z"
    },
    "papermill": {
     "duration": 0.054257,
     "end_time": "2024-05-29T19:58:44.007548",
     "exception": false,
     "start_time": "2024-05-29T19:58:43.953291",
     "status": "completed"
    },
    "tags": []
   },
   "outputs": [
    {
     "data": {
      "text/html": [
       "<div>\n",
       "<style scoped>\n",
       "    .dataframe tbody tr th:only-of-type {\n",
       "        vertical-align: middle;\n",
       "    }\n",
       "\n",
       "    .dataframe tbody tr th {\n",
       "        vertical-align: top;\n",
       "    }\n",
       "\n",
       "    .dataframe thead th {\n",
       "        text-align: right;\n",
       "    }\n",
       "</style>\n",
       "<table border=\"1\" class=\"dataframe\">\n",
       "  <thead>\n",
       "    <tr style=\"text-align: right;\">\n",
       "      <th>Room</th>\n",
       "      <th>0</th>\n",
       "      <th>1</th>\n",
       "      <th>2</th>\n",
       "      <th>3</th>\n",
       "      <th>4</th>\n",
       "      <th>5</th>\n",
       "    </tr>\n",
       "    <tr>\n",
       "      <th>Parking</th>\n",
       "      <th></th>\n",
       "      <th></th>\n",
       "      <th></th>\n",
       "      <th></th>\n",
       "      <th></th>\n",
       "      <th></th>\n",
       "    </tr>\n",
       "  </thead>\n",
       "  <tbody>\n",
       "    <tr>\n",
       "      <th>False</th>\n",
       "      <td>8</td>\n",
       "      <td>243</td>\n",
       "      <td>244</td>\n",
       "      <td>26</td>\n",
       "      <td>1</td>\n",
       "      <td>5</td>\n",
       "    </tr>\n",
       "    <tr>\n",
       "      <th>True</th>\n",
       "      <td>2</td>\n",
       "      <td>426</td>\n",
       "      <td>1699</td>\n",
       "      <td>705</td>\n",
       "      <td>69</td>\n",
       "      <td>28</td>\n",
       "    </tr>\n",
       "  </tbody>\n",
       "</table>\n",
       "</div>"
      ],
      "text/plain": [
       "Room     0    1     2    3   4   5\n",
       "Parking                           \n",
       "False    8  243   244   26   1   5\n",
       "True     2  426  1699  705  69  28"
      ]
     },
     "execution_count": 24,
     "metadata": {},
     "output_type": "execute_result"
    }
   ],
   "source": [
    "pd.crosstab(df.Parking, df.Room)"
   ]
  },
  {
   "cell_type": "code",
   "execution_count": 25,
   "id": "4c356e18",
   "metadata": {
    "execution": {
     "iopub.execute_input": "2024-05-29T19:58:44.065886Z",
     "iopub.status.busy": "2024-05-29T19:58:44.065488Z",
     "iopub.status.idle": "2024-05-29T19:58:44.074098Z",
     "shell.execute_reply": "2024-05-29T19:58:44.073075Z"
    },
    "papermill": {
     "duration": 0.040683,
     "end_time": "2024-05-29T19:58:44.076707",
     "exception": false,
     "start_time": "2024-05-29T19:58:44.036024",
     "status": "completed"
    },
    "tags": []
   },
   "outputs": [
    {
     "data": {
      "text/plain": [
       "1522"
      ]
     },
     "execution_count": 25,
     "metadata": {},
     "output_type": "execute_result"
    }
   ],
   "source": [
    "below_85_area = df[df.Area <= 85]\n",
    "len(below_85_area)"
   ]
  },
  {
   "cell_type": "code",
   "execution_count": 26,
   "id": "3f0258b4",
   "metadata": {
    "execution": {
     "iopub.execute_input": "2024-05-29T19:58:44.136981Z",
     "iopub.status.busy": "2024-05-29T19:58:44.136553Z",
     "iopub.status.idle": "2024-05-29T19:58:44.148387Z",
     "shell.execute_reply": "2024-05-29T19:58:44.147449Z"
    },
    "papermill": {
     "duration": 0.04447,
     "end_time": "2024-05-29T19:58:44.150885",
     "exception": false,
     "start_time": "2024-05-29T19:58:44.106415",
     "status": "completed"
    },
    "tags": []
   },
   "outputs": [
    {
     "data": {
      "text/plain": [
       "Parking\n",
       "True     72.536137\n",
       "False    27.463863\n",
       "Name: proportion, dtype: float64"
      ]
     },
     "execution_count": 26,
     "metadata": {},
     "output_type": "execute_result"
    }
   ],
   "source": [
    "below_85_area.Parking.value_counts(normalize=True) * 100"
   ]
  },
  {
   "cell_type": "code",
   "execution_count": 27,
   "id": "04425453",
   "metadata": {
    "execution": {
     "iopub.execute_input": "2024-05-29T19:58:44.209584Z",
     "iopub.status.busy": "2024-05-29T19:58:44.209165Z",
     "iopub.status.idle": "2024-05-29T19:58:44.217129Z",
     "shell.execute_reply": "2024-05-29T19:58:44.215953Z"
    },
    "papermill": {
     "duration": 0.040032,
     "end_time": "2024-05-29T19:58:44.219451",
     "exception": false,
     "start_time": "2024-05-29T19:58:44.179419",
     "status": "completed"
    },
    "tags": []
   },
   "outputs": [
    {
     "data": {
      "text/plain": [
       "192"
      ]
     },
     "execution_count": 27,
     "metadata": {},
     "output_type": "execute_result"
    }
   ],
   "source": [
    "df.Address.unique().size"
   ]
  },
  {
   "cell_type": "code",
   "execution_count": 28,
   "id": "27630656",
   "metadata": {
    "execution": {
     "iopub.execute_input": "2024-05-29T19:58:44.279073Z",
     "iopub.status.busy": "2024-05-29T19:58:44.278620Z",
     "iopub.status.idle": "2024-05-29T19:58:44.283684Z",
     "shell.execute_reply": "2024-05-29T19:58:44.282431Z"
    },
    "papermill": {
     "duration": 0.037652,
     "end_time": "2024-05-29T19:58:44.286136",
     "exception": false,
     "start_time": "2024-05-29T19:58:44.248484",
     "status": "completed"
    },
    "tags": []
   },
   "outputs": [],
   "source": [
    "# pd.set_option('display.float_format', lambda x : '%.f' % x)"
   ]
  },
  {
   "cell_type": "code",
   "execution_count": 29,
   "id": "7963d7c1",
   "metadata": {
    "execution": {
     "iopub.execute_input": "2024-05-29T19:58:44.346390Z",
     "iopub.status.busy": "2024-05-29T19:58:44.345985Z",
     "iopub.status.idle": "2024-05-29T19:58:44.355214Z",
     "shell.execute_reply": "2024-05-29T19:58:44.354086Z"
    },
    "papermill": {
     "duration": 0.042455,
     "end_time": "2024-05-29T19:58:44.357778",
     "exception": false,
     "start_time": "2024-05-29T19:58:44.315323",
     "status": "completed"
    },
    "tags": []
   },
   "outputs": [
    {
     "data": {
      "text/plain": [
       "Room\n",
       "0    7.860500e+09\n",
       "1    1.707481e+09\n",
       "2    3.330303e+09\n",
       "3    1.093869e+10\n",
       "4    2.560033e+10\n",
       "5    3.373439e+10\n",
       "Name: Price, dtype: float64"
      ]
     },
     "execution_count": 29,
     "metadata": {},
     "output_type": "execute_result"
    }
   ],
   "source": [
    "df.groupby('Room')['Price'].mean()"
   ]
  },
  {
   "cell_type": "code",
   "execution_count": 30,
   "id": "194d11b2",
   "metadata": {
    "execution": {
     "iopub.execute_input": "2024-05-29T19:58:44.417191Z",
     "iopub.status.busy": "2024-05-29T19:58:44.416746Z",
     "iopub.status.idle": "2024-05-29T19:58:44.433830Z",
     "shell.execute_reply": "2024-05-29T19:58:44.432990Z"
    },
    "papermill": {
     "duration": 0.049839,
     "end_time": "2024-05-29T19:58:44.436385",
     "exception": false,
     "start_time": "2024-05-29T19:58:44.386546",
     "status": "completed"
    },
    "tags": []
   },
   "outputs": [
    {
     "data": {
      "text/html": [
       "<div>\n",
       "<style scoped>\n",
       "    .dataframe tbody tr th:only-of-type {\n",
       "        vertical-align: middle;\n",
       "    }\n",
       "\n",
       "    .dataframe tbody tr th {\n",
       "        vertical-align: top;\n",
       "    }\n",
       "\n",
       "    .dataframe thead th {\n",
       "        text-align: right;\n",
       "    }\n",
       "</style>\n",
       "<table border=\"1\" class=\"dataframe\">\n",
       "  <thead>\n",
       "    <tr style=\"text-align: right;\">\n",
       "      <th></th>\n",
       "      <th>Room</th>\n",
       "      <th>Parking</th>\n",
       "      <th>Price</th>\n",
       "    </tr>\n",
       "  </thead>\n",
       "  <tbody>\n",
       "    <tr>\n",
       "      <th>0</th>\n",
       "      <td>0</td>\n",
       "      <td>False</td>\n",
       "      <td>9.769750e+09</td>\n",
       "    </tr>\n",
       "    <tr>\n",
       "      <th>1</th>\n",
       "      <td>0</td>\n",
       "      <td>True</td>\n",
       "      <td>2.235000e+08</td>\n",
       "    </tr>\n",
       "    <tr>\n",
       "      <th>2</th>\n",
       "      <td>1</td>\n",
       "      <td>False</td>\n",
       "      <td>1.139678e+09</td>\n",
       "    </tr>\n",
       "    <tr>\n",
       "      <th>3</th>\n",
       "      <td>1</td>\n",
       "      <td>True</td>\n",
       "      <td>2.031369e+09</td>\n",
       "    </tr>\n",
       "    <tr>\n",
       "      <th>4</th>\n",
       "      <td>2</td>\n",
       "      <td>False</td>\n",
       "      <td>1.501674e+09</td>\n",
       "    </tr>\n",
       "    <tr>\n",
       "      <th>5</th>\n",
       "      <td>2</td>\n",
       "      <td>True</td>\n",
       "      <td>3.592920e+09</td>\n",
       "    </tr>\n",
       "    <tr>\n",
       "      <th>6</th>\n",
       "      <td>3</td>\n",
       "      <td>False</td>\n",
       "      <td>5.107865e+09</td>\n",
       "    </tr>\n",
       "    <tr>\n",
       "      <th>7</th>\n",
       "      <td>3</td>\n",
       "      <td>True</td>\n",
       "      <td>1.115373e+10</td>\n",
       "    </tr>\n",
       "    <tr>\n",
       "      <th>8</th>\n",
       "      <td>4</td>\n",
       "      <td>False</td>\n",
       "      <td>6.200000e+09</td>\n",
       "    </tr>\n",
       "    <tr>\n",
       "      <th>9</th>\n",
       "      <td>4</td>\n",
       "      <td>True</td>\n",
       "      <td>2.588149e+10</td>\n",
       "    </tr>\n",
       "    <tr>\n",
       "      <th>10</th>\n",
       "      <td>5</td>\n",
       "      <td>False</td>\n",
       "      <td>9.999000e+09</td>\n",
       "    </tr>\n",
       "    <tr>\n",
       "      <th>11</th>\n",
       "      <td>5</td>\n",
       "      <td>True</td>\n",
       "      <td>3.797286e+10</td>\n",
       "    </tr>\n",
       "  </tbody>\n",
       "</table>\n",
       "</div>"
      ],
      "text/plain": [
       "    Room  Parking         Price\n",
       "0      0    False  9.769750e+09\n",
       "1      0     True  2.235000e+08\n",
       "2      1    False  1.139678e+09\n",
       "3      1     True  2.031369e+09\n",
       "4      2    False  1.501674e+09\n",
       "5      2     True  3.592920e+09\n",
       "6      3    False  5.107865e+09\n",
       "7      3     True  1.115373e+10\n",
       "8      4    False  6.200000e+09\n",
       "9      4     True  2.588149e+10\n",
       "10     5    False  9.999000e+09\n",
       "11     5     True  3.797286e+10"
      ]
     },
     "execution_count": 30,
     "metadata": {},
     "output_type": "execute_result"
    }
   ],
   "source": [
    "room_parking_room_mean_df = df.groupby(['Room', 'Parking'])['Price'].mean().reset_index()\n",
    "room_parking_room_mean_df"
   ]
  },
  {
   "cell_type": "code",
   "execution_count": 31,
   "id": "21b58dfc",
   "metadata": {
    "execution": {
     "iopub.execute_input": "2024-05-29T19:58:44.500392Z",
     "iopub.status.busy": "2024-05-29T19:58:44.499977Z",
     "iopub.status.idle": "2024-05-29T19:58:44.507812Z",
     "shell.execute_reply": "2024-05-29T19:58:44.506773Z"
    },
    "papermill": {
     "duration": 0.044563,
     "end_time": "2024-05-29T19:58:44.510361",
     "exception": false,
     "start_time": "2024-05-29T19:58:44.465798",
     "status": "completed"
    },
    "tags": []
   },
   "outputs": [],
   "source": [
    "df_2 = df.copy()"
   ]
  },
  {
   "cell_type": "code",
   "execution_count": 32,
   "id": "f99b948c",
   "metadata": {
    "execution": {
     "iopub.execute_input": "2024-05-29T19:58:44.571097Z",
     "iopub.status.busy": "2024-05-29T19:58:44.570656Z",
     "iopub.status.idle": "2024-05-29T19:58:44.593468Z",
     "shell.execute_reply": "2024-05-29T19:58:44.592279Z"
    },
    "papermill": {
     "duration": 0.056151,
     "end_time": "2024-05-29T19:58:44.595891",
     "exception": false,
     "start_time": "2024-05-29T19:58:44.539740",
     "status": "completed"
    },
    "tags": []
   },
   "outputs": [
    {
     "data": {
      "text/html": [
       "<div>\n",
       "<style scoped>\n",
       "    .dataframe tbody tr th:only-of-type {\n",
       "        vertical-align: middle;\n",
       "    }\n",
       "\n",
       "    .dataframe tbody tr th {\n",
       "        vertical-align: top;\n",
       "    }\n",
       "\n",
       "    .dataframe thead th {\n",
       "        text-align: right;\n",
       "    }\n",
       "</style>\n",
       "<table border=\"1\" class=\"dataframe\">\n",
       "  <thead>\n",
       "    <tr style=\"text-align: right;\">\n",
       "      <th></th>\n",
       "      <th>Area</th>\n",
       "      <th>Room</th>\n",
       "      <th>Parking</th>\n",
       "      <th>Warehouse</th>\n",
       "      <th>Elevator</th>\n",
       "      <th>Address</th>\n",
       "      <th>Price</th>\n",
       "    </tr>\n",
       "  </thead>\n",
       "  <tbody>\n",
       "    <tr>\n",
       "      <th>0</th>\n",
       "      <td>63</td>\n",
       "      <td>1</td>\n",
       "      <td>True</td>\n",
       "      <td>True</td>\n",
       "      <td>True</td>\n",
       "      <td>Shahran</td>\n",
       "      <td>1,850,000,000</td>\n",
       "    </tr>\n",
       "    <tr>\n",
       "      <th>1</th>\n",
       "      <td>60</td>\n",
       "      <td>1</td>\n",
       "      <td>True</td>\n",
       "      <td>True</td>\n",
       "      <td>True</td>\n",
       "      <td>Shahran</td>\n",
       "      <td>1,850,000,000</td>\n",
       "    </tr>\n",
       "    <tr>\n",
       "      <th>2</th>\n",
       "      <td>79</td>\n",
       "      <td>2</td>\n",
       "      <td>True</td>\n",
       "      <td>True</td>\n",
       "      <td>True</td>\n",
       "      <td>Pardis</td>\n",
       "      <td>550,000,000</td>\n",
       "    </tr>\n",
       "    <tr>\n",
       "      <th>3</th>\n",
       "      <td>95</td>\n",
       "      <td>2</td>\n",
       "      <td>True</td>\n",
       "      <td>True</td>\n",
       "      <td>True</td>\n",
       "      <td>Shahrake Qods</td>\n",
       "      <td>902,500,000</td>\n",
       "    </tr>\n",
       "    <tr>\n",
       "      <th>4</th>\n",
       "      <td>123</td>\n",
       "      <td>2</td>\n",
       "      <td>True</td>\n",
       "      <td>True</td>\n",
       "      <td>True</td>\n",
       "      <td>Shahrake Gharb</td>\n",
       "      <td>7,000,000,000</td>\n",
       "    </tr>\n",
       "    <tr>\n",
       "      <th>...</th>\n",
       "      <td>...</td>\n",
       "      <td>...</td>\n",
       "      <td>...</td>\n",
       "      <td>...</td>\n",
       "      <td>...</td>\n",
       "      <td>...</td>\n",
       "      <td>...</td>\n",
       "    </tr>\n",
       "    <tr>\n",
       "      <th>3474</th>\n",
       "      <td>86</td>\n",
       "      <td>2</td>\n",
       "      <td>True</td>\n",
       "      <td>True</td>\n",
       "      <td>True</td>\n",
       "      <td>Southern Janatabad</td>\n",
       "      <td>3,500,000,000</td>\n",
       "    </tr>\n",
       "    <tr>\n",
       "      <th>3475</th>\n",
       "      <td>83</td>\n",
       "      <td>2</td>\n",
       "      <td>True</td>\n",
       "      <td>True</td>\n",
       "      <td>True</td>\n",
       "      <td>Niavaran</td>\n",
       "      <td>6,800,000,000</td>\n",
       "    </tr>\n",
       "    <tr>\n",
       "      <th>3476</th>\n",
       "      <td>75</td>\n",
       "      <td>2</td>\n",
       "      <td>False</td>\n",
       "      <td>False</td>\n",
       "      <td>False</td>\n",
       "      <td>Parand</td>\n",
       "      <td>365,000,000</td>\n",
       "    </tr>\n",
       "    <tr>\n",
       "      <th>3477</th>\n",
       "      <td>105</td>\n",
       "      <td>2</td>\n",
       "      <td>True</td>\n",
       "      <td>True</td>\n",
       "      <td>True</td>\n",
       "      <td>Dorous</td>\n",
       "      <td>5,600,000,000</td>\n",
       "    </tr>\n",
       "    <tr>\n",
       "      <th>3478</th>\n",
       "      <td>82</td>\n",
       "      <td>2</td>\n",
       "      <td>False</td>\n",
       "      <td>True</td>\n",
       "      <td>True</td>\n",
       "      <td>Parand</td>\n",
       "      <td>360,000,000</td>\n",
       "    </tr>\n",
       "  </tbody>\n",
       "</table>\n",
       "<p>3456 rows × 7 columns</p>\n",
       "</div>"
      ],
      "text/plain": [
       "      Area  Room  Parking  Warehouse  Elevator             Address  \\\n",
       "0       63     1     True       True      True             Shahran   \n",
       "1       60     1     True       True      True             Shahran   \n",
       "2       79     2     True       True      True              Pardis   \n",
       "3       95     2     True       True      True       Shahrake Qods   \n",
       "4      123     2     True       True      True      Shahrake Gharb   \n",
       "...    ...   ...      ...        ...       ...                 ...   \n",
       "3474    86     2     True       True      True  Southern Janatabad   \n",
       "3475    83     2     True       True      True            Niavaran   \n",
       "3476    75     2    False      False     False              Parand   \n",
       "3477   105     2     True       True      True              Dorous   \n",
       "3478    82     2    False       True      True              Parand   \n",
       "\n",
       "              Price  \n",
       "0     1,850,000,000  \n",
       "1     1,850,000,000  \n",
       "2       550,000,000  \n",
       "3       902,500,000  \n",
       "4     7,000,000,000  \n",
       "...             ...  \n",
       "3474  3,500,000,000  \n",
       "3475  6,800,000,000  \n",
       "3476    365,000,000  \n",
       "3477  5,600,000,000  \n",
       "3478    360,000,000  \n",
       "\n",
       "[3456 rows x 7 columns]"
      ]
     },
     "execution_count": 32,
     "metadata": {},
     "output_type": "execute_result"
    }
   ],
   "source": [
    "df_2.loc[:, 'Price'] = df.Price.map(\"{:,.0f}\".format)\n",
    "df_2"
   ]
  },
  {
   "cell_type": "code",
   "execution_count": 33,
   "id": "b76292e1",
   "metadata": {
    "execution": {
     "iopub.execute_input": "2024-05-29T19:58:44.657828Z",
     "iopub.status.busy": "2024-05-29T19:58:44.657423Z",
     "iopub.status.idle": "2024-05-29T19:58:45.282595Z",
     "shell.execute_reply": "2024-05-29T19:58:45.281526Z"
    },
    "papermill": {
     "duration": 0.659166,
     "end_time": "2024-05-29T19:58:45.285384",
     "exception": false,
     "start_time": "2024-05-29T19:58:44.626218",
     "status": "completed"
    },
    "tags": []
   },
   "outputs": [
    {
     "data": {
      "text/plain": [
       "<Figure size 800x600 with 0 Axes>"
      ]
     },
     "metadata": {},
     "output_type": "display_data"
    },
    {
     "data": {
      "image/png": "[encoded data removed]",
      "text/plain": [
       "<Figure size 500x500 with 1 Axes>"
      ]
     },
     "metadata": {},
     "output_type": "display_data"
    }
   ],
   "source": [
    "plt.figure(figsize=(8, 6))\n",
    "sns.displot(df.Price, bins=30, kde=True)\n",
    "plt.show()"
   ]
  },
  {
   "cell_type": "code",
   "execution_count": 34,
   "id": "7e0fb5a8",
   "metadata": {
    "execution": {
     "iopub.execute_input": "2024-05-29T19:58:45.347454Z",
     "iopub.status.busy": "2024-05-29T19:58:45.347061Z",
     "iopub.status.idle": "2024-05-29T19:58:45.785416Z",
     "shell.execute_reply": "2024-05-29T19:58:45.784409Z"
    },
    "papermill": {
     "duration": 0.472667,
     "end_time": "2024-05-29T19:58:45.788172",
     "exception": false,
     "start_time": "2024-05-29T19:58:45.315505",
     "status": "completed"
    },
    "tags": []
   },
   "outputs": [
    {
     "data": {
      "image/png": "[encoded data removed]",
      "text/plain": [
       "<Figure size 800x550 with 2 Axes>"
      ]
     },
     "metadata": {},
     "output_type": "display_data"
    }
   ],
   "source": [
    "sns.heatmap(df.drop('Address', axis=1).corr(), annot=True, cmap='RdYlGn')\n",
    "plt.show()"
   ]
  },
  {
   "cell_type": "code",
   "execution_count": 35,
   "id": "56d53586",
   "metadata": {
    "execution": {
     "iopub.execute_input": "2024-05-29T19:58:45.853746Z",
     "iopub.status.busy": "2024-05-29T19:58:45.852758Z",
     "iopub.status.idle": "2024-05-29T19:58:46.597992Z",
     "shell.execute_reply": "2024-05-29T19:58:46.596787Z"
    },
    "papermill": {
     "duration": 0.781081,
     "end_time": "2024-05-29T19:58:46.600830",
     "exception": false,
     "start_time": "2024-05-29T19:58:45.819749",
     "status": "completed"
    },
    "tags": []
   },
   "outputs": [
    {
     "data": {
      "image/png": "[encoded data removed]",
      "text/plain": [
       "<Figure size 1800x600 with 3 Axes>"
      ]
     },
     "metadata": {},
     "output_type": "display_data"
    }
   ],
   "source": [
    "fig, ax = plt.subplots(ncols=3, figsize=(18,6))\n",
    "\n",
    "colors = [['#ADEFD1FF', '#00203FFF'], ['#97BC62FF', '#2C5F2D'], ['#F5C7B8FF', '#FFA177FF']]\n",
    "explode = [0, 0.2]\n",
    "columns = ['Parking', 'Warehouse', 'Elevator']\n",
    "\n",
    "for i in range(3):\n",
    "        data = df[columns[i]].value_counts()\n",
    "        ax[i].pie(data, labels=data.values, explode=explode, colors=colors[i], shadow=True)\n",
    "        ax[i].legend(labels=data.index, fontsize='large')\n",
    "        ax[i].set_title('{} distribution'.format(columns[i]))"
   ]
  },
  {
   "cell_type": "code",
   "execution_count": 36,
   "id": "e65aa3c8",
   "metadata": {
    "execution": {
     "iopub.execute_input": "2024-05-29T19:58:46.667767Z",
     "iopub.status.busy": "2024-05-29T19:58:46.667369Z",
     "iopub.status.idle": "2024-05-29T19:58:46.678914Z",
     "shell.execute_reply": "2024-05-29T19:58:46.677746Z"
    },
    "papermill": {
     "duration": 0.047728,
     "end_time": "2024-05-29T19:58:46.681184",
     "exception": false,
     "start_time": "2024-05-29T19:58:46.633456",
     "status": "completed"
    },
    "tags": []
   },
   "outputs": [
    {
     "data": {
      "text/plain": [
       "Address\n",
       "Punak                     161\n",
       "Pardis                    146\n",
       "West Ferdows Boulevard    145\n",
       "Gheitarieh                141\n",
       "Shahran                   130\n",
       "Saadat Abad               129\n",
       "Parand                    127\n",
       "Shahr-e-Ziba              109\n",
       "Name: count, dtype: int64"
      ]
     },
     "execution_count": 36,
     "metadata": {},
     "output_type": "execute_result"
    }
   ],
   "source": [
    "df3_address = df.Address.value_counts().copy()\n",
    "df3_address = df3_address[:8]\n",
    "df3_address"
   ]
  },
  {
   "cell_type": "code",
   "execution_count": 37,
   "id": "c552876d",
   "metadata": {
    "execution": {
     "iopub.execute_input": "2024-05-29T19:58:46.748591Z",
     "iopub.status.busy": "2024-05-29T19:58:46.748194Z",
     "iopub.status.idle": "2024-05-29T19:58:47.122502Z",
     "shell.execute_reply": "2024-05-29T19:58:47.121248Z"
    },
    "papermill": {
     "duration": 0.411269,
     "end_time": "2024-05-29T19:58:47.125374",
     "exception": false,
     "start_time": "2024-05-29T19:58:46.714105",
     "status": "completed"
    },
    "tags": []
   },
   "outputs": [
    {
     "data": {
      "image/png": "[encoded data removed]",
      "text/plain": [
       "<Figure size 600x1000 with 1 Axes>"
      ]
     },
     "metadata": {},
     "output_type": "display_data"
    }
   ],
   "source": [
    "fig, ax = plt.subplots(figsize=(6,10))\n",
    "sns.barplot(x=df3_address.values, y=df3_address.index, ax=ax)\n",
    "plt.xlabel('Numerical amount of flats')\n",
    "plt.title('Number of flats in location')\n",
    "plt.show()"
   ]
  },
  {
   "cell_type": "code",
   "execution_count": 38,
   "id": "648586f7",
   "metadata": {
    "execution": {
     "iopub.execute_input": "2024-05-29T19:58:47.196852Z",
     "iopub.status.busy": "2024-05-29T19:58:47.196452Z",
     "iopub.status.idle": "2024-05-29T19:58:47.212104Z",
     "shell.execute_reply": "2024-05-29T19:58:47.210983Z"
    },
    "papermill": {
     "duration": 0.053049,
     "end_time": "2024-05-29T19:58:47.214583",
     "exception": false,
     "start_time": "2024-05-29T19:58:47.161534",
     "status": "completed"
    },
    "tags": []
   },
   "outputs": [
    {
     "data": {
      "text/html": [
       "<div>\n",
       "<style scoped>\n",
       "    .dataframe tbody tr th:only-of-type {\n",
       "        vertical-align: middle;\n",
       "    }\n",
       "\n",
       "    .dataframe tbody tr th {\n",
       "        vertical-align: top;\n",
       "    }\n",
       "\n",
       "    .dataframe thead th {\n",
       "        text-align: right;\n",
       "    }\n",
       "</style>\n",
       "<table border=\"1\" class=\"dataframe\">\n",
       "  <thead>\n",
       "    <tr style=\"text-align: right;\">\n",
       "      <th></th>\n",
       "      <th>Address</th>\n",
       "      <th>Price</th>\n",
       "    </tr>\n",
       "  </thead>\n",
       "  <tbody>\n",
       "    <tr>\n",
       "      <th>1707</th>\n",
       "      <td>Zaferanieh</td>\n",
       "      <td>9.240000e+10</td>\n",
       "    </tr>\n",
       "    <tr>\n",
       "      <th>1810</th>\n",
       "      <td>Abazar</td>\n",
       "      <td>9.100000e+10</td>\n",
       "    </tr>\n",
       "    <tr>\n",
       "      <th>430</th>\n",
       "      <td>Lavasan</td>\n",
       "      <td>8.500000e+10</td>\n",
       "    </tr>\n",
       "    <tr>\n",
       "      <th>819</th>\n",
       "      <td>Ekhtiarieh</td>\n",
       "      <td>8.160000e+10</td>\n",
       "    </tr>\n",
       "    <tr>\n",
       "      <th>1332</th>\n",
       "      <td>Niavaran</td>\n",
       "      <td>8.050000e+10</td>\n",
       "    </tr>\n",
       "    <tr>\n",
       "      <th>1694</th>\n",
       "      <td>Zafar</td>\n",
       "      <td>8.000000e+10</td>\n",
       "    </tr>\n",
       "    <tr>\n",
       "      <th>3051</th>\n",
       "      <td>Dorous</td>\n",
       "      <td>7.950000e+10</td>\n",
       "    </tr>\n",
       "    <tr>\n",
       "      <th>3107</th>\n",
       "      <td>Tajrish</td>\n",
       "      <td>7.560000e+10</td>\n",
       "    </tr>\n",
       "    <tr>\n",
       "      <th>831</th>\n",
       "      <td>Mahmoudieh</td>\n",
       "      <td>7.500000e+10</td>\n",
       "    </tr>\n",
       "    <tr>\n",
       "      <th>2394</th>\n",
       "      <td>Aqdasieh</td>\n",
       "      <td>7.440000e+10</td>\n",
       "    </tr>\n",
       "  </tbody>\n",
       "</table>\n",
       "</div>"
      ],
      "text/plain": [
       "         Address         Price\n",
       "1707  Zaferanieh  9.240000e+10\n",
       "1810      Abazar  9.100000e+10\n",
       "430      Lavasan  8.500000e+10\n",
       "819   Ekhtiarieh  8.160000e+10\n",
       "1332    Niavaran  8.050000e+10\n",
       "1694       Zafar  8.000000e+10\n",
       "3051      Dorous  7.950000e+10\n",
       "3107     Tajrish  7.560000e+10\n",
       "831   Mahmoudieh  7.500000e+10\n",
       "2394    Aqdasieh  7.440000e+10"
      ]
     },
     "execution_count": 38,
     "metadata": {},
     "output_type": "execute_result"
    }
   ],
   "source": [
    "df.sort_values('Price', ascending=False)[['Address', 'Price']].head(10)"
   ]
  },
  {
   "cell_type": "code",
   "execution_count": 39,
   "id": "b83686c8",
   "metadata": {
    "execution": {
     "iopub.execute_input": "2024-05-29T19:58:47.283085Z",
     "iopub.status.busy": "2024-05-29T19:58:47.282664Z",
     "iopub.status.idle": "2024-05-29T19:58:47.291788Z",
     "shell.execute_reply": "2024-05-29T19:58:47.290724Z"
    },
    "papermill": {
     "duration": 0.046279,
     "end_time": "2024-05-29T19:58:47.294277",
     "exception": false,
     "start_time": "2024-05-29T19:58:47.247998",
     "status": "completed"
    },
    "tags": []
   },
   "outputs": [
    {
     "data": {
      "text/plain": [
       "Area         0\n",
       "Room         0\n",
       "Parking      0\n",
       "Warehouse    0\n",
       "Elevator     0\n",
       "Address      0\n",
       "Price        0\n",
       "dtype: int64"
      ]
     },
     "execution_count": 39,
     "metadata": {},
     "output_type": "execute_result"
    }
   ],
   "source": [
    "df.isnull().sum()"
   ]
  },
  {
   "cell_type": "code",
   "execution_count": 40,
   "id": "f9201687",
   "metadata": {
    "execution": {
     "iopub.execute_input": "2024-05-29T19:58:47.363298Z",
     "iopub.status.busy": "2024-05-29T19:58:47.362843Z",
     "iopub.status.idle": "2024-05-29T19:58:47.382294Z",
     "shell.execute_reply": "2024-05-29T19:58:47.381184Z"
    },
    "papermill": {
     "duration": 0.056869,
     "end_time": "2024-05-29T19:58:47.384661",
     "exception": false,
     "start_time": "2024-05-29T19:58:47.327792",
     "status": "completed"
    },
    "tags": []
   },
   "outputs": [
    {
     "data": {
      "text/html": [
       "<div>\n",
       "<style scoped>\n",
       "    .dataframe tbody tr th:only-of-type {\n",
       "        vertical-align: middle;\n",
       "    }\n",
       "\n",
       "    .dataframe tbody tr th {\n",
       "        vertical-align: top;\n",
       "    }\n",
       "\n",
       "    .dataframe thead th {\n",
       "        text-align: right;\n",
       "    }\n",
       "</style>\n",
       "<table border=\"1\" class=\"dataframe\">\n",
       "  <thead>\n",
       "    <tr style=\"text-align: right;\">\n",
       "      <th></th>\n",
       "      <th>Area</th>\n",
       "      <th>Room</th>\n",
       "      <th>Parking</th>\n",
       "      <th>Warehouse</th>\n",
       "      <th>Elevator</th>\n",
       "      <th>Address</th>\n",
       "      <th>Price</th>\n",
       "    </tr>\n",
       "  </thead>\n",
       "  <tbody>\n",
       "    <tr>\n",
       "      <th>0</th>\n",
       "      <td>63</td>\n",
       "      <td>1</td>\n",
       "      <td>True</td>\n",
       "      <td>True</td>\n",
       "      <td>True</td>\n",
       "      <td>Shahran</td>\n",
       "      <td>1.850000e+09</td>\n",
       "    </tr>\n",
       "    <tr>\n",
       "      <th>1</th>\n",
       "      <td>60</td>\n",
       "      <td>1</td>\n",
       "      <td>True</td>\n",
       "      <td>True</td>\n",
       "      <td>True</td>\n",
       "      <td>Shahran</td>\n",
       "      <td>1.850000e+09</td>\n",
       "    </tr>\n",
       "    <tr>\n",
       "      <th>2</th>\n",
       "      <td>79</td>\n",
       "      <td>2</td>\n",
       "      <td>True</td>\n",
       "      <td>True</td>\n",
       "      <td>True</td>\n",
       "      <td>Pardis</td>\n",
       "      <td>5.500000e+08</td>\n",
       "    </tr>\n",
       "    <tr>\n",
       "      <th>3</th>\n",
       "      <td>95</td>\n",
       "      <td>2</td>\n",
       "      <td>True</td>\n",
       "      <td>True</td>\n",
       "      <td>True</td>\n",
       "      <td>Shahrake Qods</td>\n",
       "      <td>9.025000e+08</td>\n",
       "    </tr>\n",
       "    <tr>\n",
       "      <th>4</th>\n",
       "      <td>123</td>\n",
       "      <td>2</td>\n",
       "      <td>True</td>\n",
       "      <td>True</td>\n",
       "      <td>True</td>\n",
       "      <td>Shahrake Gharb</td>\n",
       "      <td>7.000000e+09</td>\n",
       "    </tr>\n",
       "    <tr>\n",
       "      <th>...</th>\n",
       "      <td>...</td>\n",
       "      <td>...</td>\n",
       "      <td>...</td>\n",
       "      <td>...</td>\n",
       "      <td>...</td>\n",
       "      <td>...</td>\n",
       "      <td>...</td>\n",
       "    </tr>\n",
       "    <tr>\n",
       "      <th>3474</th>\n",
       "      <td>86</td>\n",
       "      <td>2</td>\n",
       "      <td>True</td>\n",
       "      <td>True</td>\n",
       "      <td>True</td>\n",
       "      <td>Southern Janatabad</td>\n",
       "      <td>3.500000e+09</td>\n",
       "    </tr>\n",
       "    <tr>\n",
       "      <th>3475</th>\n",
       "      <td>83</td>\n",
       "      <td>2</td>\n",
       "      <td>True</td>\n",
       "      <td>True</td>\n",
       "      <td>True</td>\n",
       "      <td>Niavaran</td>\n",
       "      <td>6.800000e+09</td>\n",
       "    </tr>\n",
       "    <tr>\n",
       "      <th>3476</th>\n",
       "      <td>75</td>\n",
       "      <td>2</td>\n",
       "      <td>False</td>\n",
       "      <td>False</td>\n",
       "      <td>False</td>\n",
       "      <td>Parand</td>\n",
       "      <td>3.650000e+08</td>\n",
       "    </tr>\n",
       "    <tr>\n",
       "      <th>3477</th>\n",
       "      <td>105</td>\n",
       "      <td>2</td>\n",
       "      <td>True</td>\n",
       "      <td>True</td>\n",
       "      <td>True</td>\n",
       "      <td>Dorous</td>\n",
       "      <td>5.600000e+09</td>\n",
       "    </tr>\n",
       "    <tr>\n",
       "      <th>3478</th>\n",
       "      <td>82</td>\n",
       "      <td>2</td>\n",
       "      <td>False</td>\n",
       "      <td>True</td>\n",
       "      <td>True</td>\n",
       "      <td>Parand</td>\n",
       "      <td>3.600000e+08</td>\n",
       "    </tr>\n",
       "  </tbody>\n",
       "</table>\n",
       "<p>3456 rows × 7 columns</p>\n",
       "</div>"
      ],
      "text/plain": [
       "      Area  Room  Parking  Warehouse  Elevator             Address  \\\n",
       "0       63     1     True       True      True             Shahran   \n",
       "1       60     1     True       True      True             Shahran   \n",
       "2       79     2     True       True      True              Pardis   \n",
       "3       95     2     True       True      True       Shahrake Qods   \n",
       "4      123     2     True       True      True      Shahrake Gharb   \n",
       "...    ...   ...      ...        ...       ...                 ...   \n",
       "3474    86     2     True       True      True  Southern Janatabad   \n",
       "3475    83     2     True       True      True            Niavaran   \n",
       "3476    75     2    False      False     False              Parand   \n",
       "3477   105     2     True       True      True              Dorous   \n",
       "3478    82     2    False       True      True              Parand   \n",
       "\n",
       "             Price  \n",
       "0     1.850000e+09  \n",
       "1     1.850000e+09  \n",
       "2     5.500000e+08  \n",
       "3     9.025000e+08  \n",
       "4     7.000000e+09  \n",
       "...            ...  \n",
       "3474  3.500000e+09  \n",
       "3475  6.800000e+09  \n",
       "3476  3.650000e+08  \n",
       "3477  5.600000e+09  \n",
       "3478  3.600000e+08  \n",
       "\n",
       "[3456 rows x 7 columns]"
      ]
     },
     "execution_count": 40,
     "metadata": {},
     "output_type": "execute_result"
    }
   ],
   "source": [
    "df"
   ]
  },
  {
   "cell_type": "code",
   "execution_count": 41,
   "id": "0d75d29f",
   "metadata": {
    "execution": {
     "iopub.execute_input": "2024-05-29T19:58:47.457971Z",
     "iopub.status.busy": "2024-05-29T19:58:47.457562Z",
     "iopub.status.idle": "2024-05-29T19:58:47.475058Z",
     "shell.execute_reply": "2024-05-29T19:58:47.473968Z"
    },
    "papermill": {
     "duration": 0.05843,
     "end_time": "2024-05-29T19:58:47.477462",
     "exception": false,
     "start_time": "2024-05-29T19:58:47.419032",
     "status": "completed"
    },
    "tags": []
   },
   "outputs": [
    {
     "name": "stdout",
     "output_type": "stream",
     "text": [
      "<class 'pandas.core.frame.DataFrame'>\n",
      "Index: 3456 entries, 0 to 3478\n",
      "Data columns (total 7 columns):\n",
      " #   Column     Non-Null Count  Dtype  \n",
      "---  ------     --------------  -----  \n",
      " 0   Area       3456 non-null   int64  \n",
      " 1   Room       3456 non-null   int64  \n",
      " 2   Parking    3456 non-null   int64  \n",
      " 3   Warehouse  3456 non-null   int64  \n",
      " 4   Elevator   3456 non-null   int64  \n",
      " 5   Address    3456 non-null   object \n",
      " 6   Price      3456 non-null   float64\n",
      "dtypes: float64(1), int64(5), object(1)\n",
      "memory usage: 216.0+ KB\n"
     ]
    }
   ],
   "source": [
    "boolean_features = ['Parking', 'Warehouse', 'Elevator']\n",
    "df[boolean_features] = df[boolean_features].astype('int64')\n",
    "df.info()"
   ]
  },
  {
   "cell_type": "code",
   "execution_count": 42,
   "id": "72c0e06e",
   "metadata": {
    "execution": {
     "iopub.execute_input": "2024-05-29T19:58:47.547758Z",
     "iopub.status.busy": "2024-05-29T19:58:47.547354Z",
     "iopub.status.idle": "2024-05-29T19:58:47.563155Z",
     "shell.execute_reply": "2024-05-29T19:58:47.561959Z"
    },
    "papermill": {
     "duration": 0.053723,
     "end_time": "2024-05-29T19:58:47.565594",
     "exception": false,
     "start_time": "2024-05-29T19:58:47.511871",
     "status": "completed"
    },
    "tags": []
   },
   "outputs": [
    {
     "data": {
      "text/html": [
       "<div>\n",
       "<style scoped>\n",
       "    .dataframe tbody tr th:only-of-type {\n",
       "        vertical-align: middle;\n",
       "    }\n",
       "\n",
       "    .dataframe tbody tr th {\n",
       "        vertical-align: top;\n",
       "    }\n",
       "\n",
       "    .dataframe thead th {\n",
       "        text-align: right;\n",
       "    }\n",
       "</style>\n",
       "<table border=\"1\" class=\"dataframe\">\n",
       "  <thead>\n",
       "    <tr style=\"text-align: right;\">\n",
       "      <th></th>\n",
       "      <th>Area</th>\n",
       "      <th>Room</th>\n",
       "      <th>Parking</th>\n",
       "      <th>Warehouse</th>\n",
       "      <th>Elevator</th>\n",
       "      <th>Address</th>\n",
       "      <th>Price</th>\n",
       "    </tr>\n",
       "  </thead>\n",
       "  <tbody>\n",
       "    <tr>\n",
       "      <th>0</th>\n",
       "      <td>63</td>\n",
       "      <td>1</td>\n",
       "      <td>1</td>\n",
       "      <td>1</td>\n",
       "      <td>1</td>\n",
       "      <td>Shahran</td>\n",
       "      <td>1.850000e+09</td>\n",
       "    </tr>\n",
       "    <tr>\n",
       "      <th>1</th>\n",
       "      <td>60</td>\n",
       "      <td>1</td>\n",
       "      <td>1</td>\n",
       "      <td>1</td>\n",
       "      <td>1</td>\n",
       "      <td>Shahran</td>\n",
       "      <td>1.850000e+09</td>\n",
       "    </tr>\n",
       "    <tr>\n",
       "      <th>2</th>\n",
       "      <td>79</td>\n",
       "      <td>2</td>\n",
       "      <td>1</td>\n",
       "      <td>1</td>\n",
       "      <td>1</td>\n",
       "      <td>Pardis</td>\n",
       "      <td>5.500000e+08</td>\n",
       "    </tr>\n",
       "    <tr>\n",
       "      <th>3</th>\n",
       "      <td>95</td>\n",
       "      <td>2</td>\n",
       "      <td>1</td>\n",
       "      <td>1</td>\n",
       "      <td>1</td>\n",
       "      <td>Shahrake Qods</td>\n",
       "      <td>9.025000e+08</td>\n",
       "    </tr>\n",
       "    <tr>\n",
       "      <th>4</th>\n",
       "      <td>123</td>\n",
       "      <td>2</td>\n",
       "      <td>1</td>\n",
       "      <td>1</td>\n",
       "      <td>1</td>\n",
       "      <td>Shahrake Gharb</td>\n",
       "      <td>7.000000e+09</td>\n",
       "    </tr>\n",
       "  </tbody>\n",
       "</table>\n",
       "</div>"
      ],
      "text/plain": [
       "   Area  Room  Parking  Warehouse  Elevator         Address         Price\n",
       "0    63     1        1          1         1         Shahran  1.850000e+09\n",
       "1    60     1        1          1         1         Shahran  1.850000e+09\n",
       "2    79     2        1          1         1          Pardis  5.500000e+08\n",
       "3    95     2        1          1         1   Shahrake Qods  9.025000e+08\n",
       "4   123     2        1          1         1  Shahrake Gharb  7.000000e+09"
      ]
     },
     "execution_count": 42,
     "metadata": {},
     "output_type": "execute_result"
    }
   ],
   "source": [
    "df.head()"
   ]
  },
  {
   "cell_type": "code",
   "execution_count": 43,
   "id": "9b7ec601",
   "metadata": {
    "execution": {
     "iopub.execute_input": "2024-05-29T19:58:47.655978Z",
     "iopub.status.busy": "2024-05-29T19:58:47.655565Z",
     "iopub.status.idle": "2024-05-29T19:58:47.666120Z",
     "shell.execute_reply": "2024-05-29T19:58:47.664682Z"
    },
    "papermill": {
     "duration": 0.063206,
     "end_time": "2024-05-29T19:58:47.668763",
     "exception": false,
     "start_time": "2024-05-29T19:58:47.605557",
     "status": "completed"
    },
    "tags": []
   },
   "outputs": [
    {
     "name": "stdout",
     "output_type": "stream",
     "text": [
      "Skewness of feautres:\n",
      "Area         43.827765\n",
      "Room          0.623938\n",
      "Parking      -1.934179\n",
      "Warehouse    -2.975864\n",
      "Elevator     -1.404947\n",
      "Price         4.765172\n",
      "dtype: float64\n"
     ]
    }
   ],
   "source": [
    "print(f\"Skewness of feautres:\\n{df.drop('Address', axis=1).skew()}\")"
   ]
  },
  {
   "cell_type": "code",
   "execution_count": 44,
   "id": "3f201921",
   "metadata": {
    "execution": {
     "iopub.execute_input": "2024-05-29T19:58:47.740716Z",
     "iopub.status.busy": "2024-05-29T19:58:47.739785Z",
     "iopub.status.idle": "2024-05-29T19:58:48.136742Z",
     "shell.execute_reply": "2024-05-29T19:58:48.135709Z"
    },
    "papermill": {
     "duration": 0.436195,
     "end_time": "2024-05-29T19:58:48.139542",
     "exception": false,
     "start_time": "2024-05-29T19:58:47.703347",
     "status": "completed"
    },
    "tags": []
   },
   "outputs": [
    {
     "data": {
      "image/png": "[encoded data removed]",
      "text/plain": [
       "<Figure size 1600x800 with 2 Axes>"
      ]
     },
     "metadata": {},
     "output_type": "display_data"
    }
   ],
   "source": [
    "plt.figure(figsize=(16, 8))\n",
    "\n",
    "plt.subplot(2, 1, 1)\n",
    "sns.boxplot(x=df.Area)\n",
    "\n",
    "plt.subplot(2, 1, 2)\n",
    "sns.boxplot(x=df.Price)\n",
    "\n",
    "plt.show()"
   ]
  },
  {
   "cell_type": "code",
   "execution_count": 45,
   "id": "4b78d3ca",
   "metadata": {
    "execution": {
     "iopub.execute_input": "2024-05-29T19:58:48.213734Z",
     "iopub.status.busy": "2024-05-29T19:58:48.213320Z",
     "iopub.status.idle": "2024-05-29T19:58:48.219685Z",
     "shell.execute_reply": "2024-05-29T19:58:48.218505Z"
    },
    "papermill": {
     "duration": 0.046783,
     "end_time": "2024-05-29T19:58:48.222021",
     "exception": false,
     "start_time": "2024-05-29T19:58:48.175238",
     "status": "completed"
    },
    "tags": []
   },
   "outputs": [],
   "source": [
    "def lower_upper(x):\n",
    "    Q1 = np.percentile(x, 25)\n",
    "    Q3 = np.percentile(x, 75)\n",
    "    \n",
    "    IQR = Q3 - Q1\n",
    "    \n",
    "    lower = Q1 - 1.5 * IQR\n",
    "    upper = Q3 + 1.5 * IQR\n",
    "    \n",
    "    return lower, upper"
   ]
  },
  {
   "cell_type": "code",
   "execution_count": 46,
   "id": "f298787c",
   "metadata": {
    "execution": {
     "iopub.execute_input": "2024-05-29T19:58:48.293809Z",
     "iopub.status.busy": "2024-05-29T19:58:48.293405Z",
     "iopub.status.idle": "2024-05-29T19:58:48.302303Z",
     "shell.execute_reply": "2024-05-29T19:58:48.301153Z"
    },
    "papermill": {
     "duration": 0.047742,
     "end_time": "2024-05-29T19:58:48.304662",
     "exception": false,
     "start_time": "2024-05-29T19:58:48.256920",
     "status": "completed"
    },
    "tags": []
   },
   "outputs": [
    {
     "name": "stdout",
     "output_type": "stream",
     "text": [
      "Lower limit for area: -9.00\n",
      "Upper limit for area: 199.00\n",
      "Lower limit for price: -5,450,000,000.0\n",
      "Upper limit for price: 12,870,000,000.0\n"
     ]
    }
   ],
   "source": [
    "lower_area, upper_area = lower_upper(df.Area)\n",
    "lower_price, upper_price = lower_upper(df.Price)\n",
    "\n",
    "print(f\"Lower limit for area: {lower_area:0.2f}\")\n",
    "print(f\"Upper limit for area: {upper_area:0.2f}\")\n",
    "print(f\"Lower limit for price: {lower_price:,}\")\n",
    "print(f\"Upper limit for price: {upper_price:,}\")"
   ]
  },
  {
   "cell_type": "code",
   "execution_count": 47,
   "id": "cd23d793",
   "metadata": {
    "execution": {
     "iopub.execute_input": "2024-05-29T19:58:48.377103Z",
     "iopub.status.busy": "2024-05-29T19:58:48.376650Z",
     "iopub.status.idle": "2024-05-29T19:58:48.387173Z",
     "shell.execute_reply": "2024-05-29T19:58:48.385894Z"
    },
    "papermill": {
     "duration": 0.049528,
     "end_time": "2024-05-29T19:58:48.389644",
     "exception": false,
     "start_time": "2024-05-29T19:58:48.340116",
     "status": "completed"
    },
    "tags": []
   },
   "outputs": [
    {
     "name": "stdout",
     "output_type": "stream",
     "text": [
      "Number of area outliers: 237\n",
      "Number of price outliers: 310\n",
      "Number of outliers: 366\n"
     ]
    }
   ],
   "source": [
    "area_outliers = np.where(df['Area'] > upper_area)\n",
    "price_outliers = np.where(df['Price'] > upper_price)\n",
    "total_outliers = np.union1d(area_outliers, price_outliers)\n",
    "\n",
    "print(f\"Number of area outliers: {len(df.iloc[area_outliers])}\")\n",
    "print(f\"Number of price outliers: {len(df.iloc[price_outliers])}\")\n",
    "print(f\"Number of outliers: {len(df.iloc[total_outliers])}\")"
   ]
  },
  {
   "cell_type": "code",
   "execution_count": 48,
   "id": "31ad56cd",
   "metadata": {
    "execution": {
     "iopub.execute_input": "2024-05-29T19:58:48.462144Z",
     "iopub.status.busy": "2024-05-29T19:58:48.461716Z",
     "iopub.status.idle": "2024-05-29T19:58:48.502090Z",
     "shell.execute_reply": "2024-05-29T19:58:48.500880Z"
    },
    "papermill": {
     "duration": 0.079642,
     "end_time": "2024-05-29T19:58:48.504449",
     "exception": false,
     "start_time": "2024-05-29T19:58:48.424807",
     "status": "completed"
    },
    "tags": []
   },
   "outputs": [
    {
     "data": {
      "text/html": [
       "<div>\n",
       "<style scoped>\n",
       "    .dataframe tbody tr th:only-of-type {\n",
       "        vertical-align: middle;\n",
       "    }\n",
       "\n",
       "    .dataframe tbody tr th {\n",
       "        vertical-align: top;\n",
       "    }\n",
       "\n",
       "    .dataframe thead th {\n",
       "        text-align: right;\n",
       "    }\n",
       "</style>\n",
       "<table border=\"1\" class=\"dataframe\">\n",
       "  <thead>\n",
       "    <tr style=\"text-align: right;\">\n",
       "      <th></th>\n",
       "      <th>Area</th>\n",
       "      <th>Room</th>\n",
       "      <th>Parking</th>\n",
       "      <th>Warehouse</th>\n",
       "      <th>Elevator</th>\n",
       "      <th>Price</th>\n",
       "      <th>Abazar</th>\n",
       "      <th>Abbasabad</th>\n",
       "      <th>Absard</th>\n",
       "      <th>Abuzar</th>\n",
       "      <th>...</th>\n",
       "      <th>Waterfall</th>\n",
       "      <th>West Ferdows Boulevard</th>\n",
       "      <th>West Pars</th>\n",
       "      <th>Yaftabad</th>\n",
       "      <th>Yakhchiabad</th>\n",
       "      <th>Yousef Abad</th>\n",
       "      <th>Zafar</th>\n",
       "      <th>Zaferanieh</th>\n",
       "      <th>Zargandeh</th>\n",
       "      <th>Zibadasht</th>\n",
       "    </tr>\n",
       "  </thead>\n",
       "  <tbody>\n",
       "    <tr>\n",
       "      <th>0</th>\n",
       "      <td>63</td>\n",
       "      <td>1</td>\n",
       "      <td>1</td>\n",
       "      <td>1</td>\n",
       "      <td>1</td>\n",
       "      <td>1.850000e+09</td>\n",
       "      <td>0</td>\n",
       "      <td>0</td>\n",
       "      <td>0</td>\n",
       "      <td>0</td>\n",
       "      <td>...</td>\n",
       "      <td>0</td>\n",
       "      <td>0</td>\n",
       "      <td>0</td>\n",
       "      <td>0</td>\n",
       "      <td>0</td>\n",
       "      <td>0</td>\n",
       "      <td>0</td>\n",
       "      <td>0</td>\n",
       "      <td>0</td>\n",
       "      <td>0</td>\n",
       "    </tr>\n",
       "    <tr>\n",
       "      <th>1</th>\n",
       "      <td>60</td>\n",
       "      <td>1</td>\n",
       "      <td>1</td>\n",
       "      <td>1</td>\n",
       "      <td>1</td>\n",
       "      <td>1.850000e+09</td>\n",
       "      <td>0</td>\n",
       "      <td>0</td>\n",
       "      <td>0</td>\n",
       "      <td>0</td>\n",
       "      <td>...</td>\n",
       "      <td>0</td>\n",
       "      <td>0</td>\n",
       "      <td>0</td>\n",
       "      <td>0</td>\n",
       "      <td>0</td>\n",
       "      <td>0</td>\n",
       "      <td>0</td>\n",
       "      <td>0</td>\n",
       "      <td>0</td>\n",
       "      <td>0</td>\n",
       "    </tr>\n",
       "    <tr>\n",
       "      <th>2</th>\n",
       "      <td>79</td>\n",
       "      <td>2</td>\n",
       "      <td>1</td>\n",
       "      <td>1</td>\n",
       "      <td>1</td>\n",
       "      <td>5.500000e+08</td>\n",
       "      <td>0</td>\n",
       "      <td>0</td>\n",
       "      <td>0</td>\n",
       "      <td>0</td>\n",
       "      <td>...</td>\n",
       "      <td>0</td>\n",
       "      <td>0</td>\n",
       "      <td>0</td>\n",
       "      <td>0</td>\n",
       "      <td>0</td>\n",
       "      <td>0</td>\n",
       "      <td>0</td>\n",
       "      <td>0</td>\n",
       "      <td>0</td>\n",
       "      <td>0</td>\n",
       "    </tr>\n",
       "    <tr>\n",
       "      <th>3</th>\n",
       "      <td>95</td>\n",
       "      <td>2</td>\n",
       "      <td>1</td>\n",
       "      <td>1</td>\n",
       "      <td>1</td>\n",
       "      <td>9.025000e+08</td>\n",
       "      <td>0</td>\n",
       "      <td>0</td>\n",
       "      <td>0</td>\n",
       "      <td>0</td>\n",
       "      <td>...</td>\n",
       "      <td>0</td>\n",
       "      <td>0</td>\n",
       "      <td>0</td>\n",
       "      <td>0</td>\n",
       "      <td>0</td>\n",
       "      <td>0</td>\n",
       "      <td>0</td>\n",
       "      <td>0</td>\n",
       "      <td>0</td>\n",
       "      <td>0</td>\n",
       "    </tr>\n",
       "    <tr>\n",
       "      <th>4</th>\n",
       "      <td>123</td>\n",
       "      <td>2</td>\n",
       "      <td>1</td>\n",
       "      <td>1</td>\n",
       "      <td>1</td>\n",
       "      <td>7.000000e+09</td>\n",
       "      <td>0</td>\n",
       "      <td>0</td>\n",
       "      <td>0</td>\n",
       "      <td>0</td>\n",
       "      <td>...</td>\n",
       "      <td>0</td>\n",
       "      <td>0</td>\n",
       "      <td>0</td>\n",
       "      <td>0</td>\n",
       "      <td>0</td>\n",
       "      <td>0</td>\n",
       "      <td>0</td>\n",
       "      <td>0</td>\n",
       "      <td>0</td>\n",
       "      <td>0</td>\n",
       "    </tr>\n",
       "    <tr>\n",
       "      <th>...</th>\n",
       "      <td>...</td>\n",
       "      <td>...</td>\n",
       "      <td>...</td>\n",
       "      <td>...</td>\n",
       "      <td>...</td>\n",
       "      <td>...</td>\n",
       "      <td>...</td>\n",
       "      <td>...</td>\n",
       "      <td>...</td>\n",
       "      <td>...</td>\n",
       "      <td>...</td>\n",
       "      <td>...</td>\n",
       "      <td>...</td>\n",
       "      <td>...</td>\n",
       "      <td>...</td>\n",
       "      <td>...</td>\n",
       "      <td>...</td>\n",
       "      <td>...</td>\n",
       "      <td>...</td>\n",
       "      <td>...</td>\n",
       "      <td>...</td>\n",
       "    </tr>\n",
       "    <tr>\n",
       "      <th>3474</th>\n",
       "      <td>86</td>\n",
       "      <td>2</td>\n",
       "      <td>1</td>\n",
       "      <td>1</td>\n",
       "      <td>1</td>\n",
       "      <td>3.500000e+09</td>\n",
       "      <td>0</td>\n",
       "      <td>0</td>\n",
       "      <td>0</td>\n",
       "      <td>0</td>\n",
       "      <td>...</td>\n",
       "      <td>0</td>\n",
       "      <td>0</td>\n",
       "      <td>0</td>\n",
       "      <td>0</td>\n",
       "      <td>0</td>\n",
       "      <td>0</td>\n",
       "      <td>0</td>\n",
       "      <td>0</td>\n",
       "      <td>0</td>\n",
       "      <td>0</td>\n",
       "    </tr>\n",
       "    <tr>\n",
       "      <th>3475</th>\n",
       "      <td>83</td>\n",
       "      <td>2</td>\n",
       "      <td>1</td>\n",
       "      <td>1</td>\n",
       "      <td>1</td>\n",
       "      <td>6.800000e+09</td>\n",
       "      <td>0</td>\n",
       "      <td>0</td>\n",
       "      <td>0</td>\n",
       "      <td>0</td>\n",
       "      <td>...</td>\n",
       "      <td>0</td>\n",
       "      <td>0</td>\n",
       "      <td>0</td>\n",
       "      <td>0</td>\n",
       "      <td>0</td>\n",
       "      <td>0</td>\n",
       "      <td>0</td>\n",
       "      <td>0</td>\n",
       "      <td>0</td>\n",
       "      <td>0</td>\n",
       "    </tr>\n",
       "    <tr>\n",
       "      <th>3476</th>\n",
       "      <td>75</td>\n",
       "      <td>2</td>\n",
       "      <td>0</td>\n",
       "      <td>0</td>\n",
       "      <td>0</td>\n",
       "      <td>3.650000e+08</td>\n",
       "      <td>0</td>\n",
       "      <td>0</td>\n",
       "      <td>0</td>\n",
       "      <td>0</td>\n",
       "      <td>...</td>\n",
       "      <td>0</td>\n",
       "      <td>0</td>\n",
       "      <td>0</td>\n",
       "      <td>0</td>\n",
       "      <td>0</td>\n",
       "      <td>0</td>\n",
       "      <td>0</td>\n",
       "      <td>0</td>\n",
       "      <td>0</td>\n",
       "      <td>0</td>\n",
       "    </tr>\n",
       "    <tr>\n",
       "      <th>3477</th>\n",
       "      <td>105</td>\n",
       "      <td>2</td>\n",
       "      <td>1</td>\n",
       "      <td>1</td>\n",
       "      <td>1</td>\n",
       "      <td>5.600000e+09</td>\n",
       "      <td>0</td>\n",
       "      <td>0</td>\n",
       "      <td>0</td>\n",
       "      <td>0</td>\n",
       "      <td>...</td>\n",
       "      <td>0</td>\n",
       "      <td>0</td>\n",
       "      <td>0</td>\n",
       "      <td>0</td>\n",
       "      <td>0</td>\n",
       "      <td>0</td>\n",
       "      <td>0</td>\n",
       "      <td>0</td>\n",
       "      <td>0</td>\n",
       "      <td>0</td>\n",
       "    </tr>\n",
       "    <tr>\n",
       "      <th>3478</th>\n",
       "      <td>82</td>\n",
       "      <td>2</td>\n",
       "      <td>0</td>\n",
       "      <td>1</td>\n",
       "      <td>1</td>\n",
       "      <td>3.600000e+08</td>\n",
       "      <td>0</td>\n",
       "      <td>0</td>\n",
       "      <td>0</td>\n",
       "      <td>0</td>\n",
       "      <td>...</td>\n",
       "      <td>0</td>\n",
       "      <td>0</td>\n",
       "      <td>0</td>\n",
       "      <td>0</td>\n",
       "      <td>0</td>\n",
       "      <td>0</td>\n",
       "      <td>0</td>\n",
       "      <td>0</td>\n",
       "      <td>0</td>\n",
       "      <td>0</td>\n",
       "    </tr>\n",
       "  </tbody>\n",
       "</table>\n",
       "<p>3456 rows × 198 columns</p>\n",
       "</div>"
      ],
      "text/plain": [
       "      Area  Room  Parking  Warehouse  Elevator         Price  Abazar  \\\n",
       "0       63     1        1          1         1  1.850000e+09       0   \n",
       "1       60     1        1          1         1  1.850000e+09       0   \n",
       "2       79     2        1          1         1  5.500000e+08       0   \n",
       "3       95     2        1          1         1  9.025000e+08       0   \n",
       "4      123     2        1          1         1  7.000000e+09       0   \n",
       "...    ...   ...      ...        ...       ...           ...     ...   \n",
       "3474    86     2        1          1         1  3.500000e+09       0   \n",
       "3475    83     2        1          1         1  6.800000e+09       0   \n",
       "3476    75     2        0          0         0  3.650000e+08       0   \n",
       "3477   105     2        1          1         1  5.600000e+09       0   \n",
       "3478    82     2        0          1         1  3.600000e+08       0   \n",
       "\n",
       "      Abbasabad  Absard  Abuzar  ...  Waterfall  West Ferdows Boulevard  \\\n",
       "0             0       0       0  ...          0                       0   \n",
       "1             0       0       0  ...          0                       0   \n",
       "2             0       0       0  ...          0                       0   \n",
       "3             0       0       0  ...          0                       0   \n",
       "4             0       0       0  ...          0                       0   \n",
       "...         ...     ...     ...  ...        ...                     ...   \n",
       "3474          0       0       0  ...          0                       0   \n",
       "3475          0       0       0  ...          0                       0   \n",
       "3476          0       0       0  ...          0                       0   \n",
       "3477          0       0       0  ...          0                       0   \n",
       "3478          0       0       0  ...          0                       0   \n",
       "\n",
       "      West Pars  Yaftabad  Yakhchiabad  Yousef Abad  Zafar  Zaferanieh  \\\n",
       "0             0         0            0            0      0           0   \n",
       "1             0         0            0            0      0           0   \n",
       "2             0         0            0            0      0           0   \n",
       "3             0         0            0            0      0           0   \n",
       "4             0         0            0            0      0           0   \n",
       "...         ...       ...          ...          ...    ...         ...   \n",
       "3474          0         0            0            0      0           0   \n",
       "3475          0         0            0            0      0           0   \n",
       "3476          0         0            0            0      0           0   \n",
       "3477          0         0            0            0      0           0   \n",
       "3478          0         0            0            0      0           0   \n",
       "\n",
       "      Zargandeh  Zibadasht  \n",
       "0             0          0  \n",
       "1             0          0  \n",
       "2             0          0  \n",
       "3             0          0  \n",
       "4             0          0  \n",
       "...         ...        ...  \n",
       "3474          0          0  \n",
       "3475          0          0  \n",
       "3476          0          0  \n",
       "3477          0          0  \n",
       "3478          0          0  \n",
       "\n",
       "[3456 rows x 198 columns]"
      ]
     },
     "execution_count": 48,
     "metadata": {},
     "output_type": "execute_result"
    }
   ],
   "source": [
    "address_dummy = pd.get_dummies(df.Address).astype('int64')\n",
    "\n",
    "df_final = df.merge(address_dummy, left_index=True, right_index=True)\n",
    "df_final.drop('Address', axis=1, inplace=True)\n",
    "df_final"
   ]
  },
  {
   "cell_type": "code",
   "execution_count": 49,
   "id": "ebf31bc8",
   "metadata": {
    "execution": {
     "iopub.execute_input": "2024-05-29T19:58:48.578116Z",
     "iopub.status.busy": "2024-05-29T19:58:48.577670Z",
     "iopub.status.idle": "2024-05-29T19:58:48.596502Z",
     "shell.execute_reply": "2024-05-29T19:58:48.595276Z"
    },
    "papermill": {
     "duration": 0.058923,
     "end_time": "2024-05-29T19:58:48.599226",
     "exception": false,
     "start_time": "2024-05-29T19:58:48.540303",
     "status": "completed"
    },
    "tags": []
   },
   "outputs": [
    {
     "name": "stdout",
     "output_type": "stream",
     "text": [
      "Shape of X train: (2764, 197)\n",
      "Shape of y train: (2764,)\n",
      "Shape of X test: (692, 197)\n",
      "Shape of y train: (692,)\n"
     ]
    }
   ],
   "source": [
    "X = df_final.drop(columns = 'Price')\n",
    "y = df_final['Price']\n",
    "\n",
    "X_train, X_test, y_train, y_test = train_test_split(X, y, test_size = 0.2, random_state = 0)\n",
    "\n",
    "print(f\"Shape of X train: {X_train.shape}\")\n",
    "print(f\"Shape of y train: {y_train.shape}\")\n",
    "print(f\"Shape of X test: {X_test.shape}\")\n",
    "print(f\"Shape of y train: {y_test.shape}\")"
   ]
  },
  {
   "cell_type": "code",
   "execution_count": 50,
   "id": "977e01da",
   "metadata": {
    "execution": {
     "iopub.execute_input": "2024-05-29T19:58:48.672710Z",
     "iopub.status.busy": "2024-05-29T19:58:48.672311Z",
     "iopub.status.idle": "2024-05-29T19:58:48.683942Z",
     "shell.execute_reply": "2024-05-29T19:58:48.682807Z"
    },
    "papermill": {
     "duration": 0.051378,
     "end_time": "2024-05-29T19:58:48.686409",
     "exception": false,
     "start_time": "2024-05-29T19:58:48.635031",
     "status": "completed"
    },
    "tags": []
   },
   "outputs": [],
   "source": [
    "def parameter_finder(model, parameters):\n",
    "    start = time.time()\n",
    "    \n",
    "    grid = GridSearchCV(model, param_grid=parameters, refit=True, cv=KFold(shuffle=True, random_state=1), n_jobs=-1)\n",
    "    grid.fit(X_train, y_train)\n",
    "    \n",
    "    y_train_pred = grid.predict(X_train)\n",
    "    y_test_pred = grid.predict(X_test)\n",
    "\n",
    "    train_score = grid.score(X_train, y_train)\n",
    "    test_score = grid.score(X_test, y_test)\n",
    "    \n",
    "    RMSE = np.sqrt(mean_squared_error(y_test, y_test_pred))\n",
    "    \n",
    "    model_name = str(model).split('(')[0]\n",
    "    \n",
    "    end = time.time()\n",
    "    \n",
    "    print(f\"The best parameters for {model_name} model is: {grid.best_params_}\")\n",
    "    print(\"--\" * 10)\n",
    "    print(f\"(R2 score) in the training set is {train_score:0.2%} for {model_name} model.\")\n",
    "    print(f\"(R2 score) in the testing set is {test_score:0.2%} for {model_name} model.\")\n",
    "    print(f\"RMSE is {RMSE:,} for {model_name} model.\")\n",
    "    print(\"--\" * 10)\n",
    "    print(f\"Runtime of the program is: {end - start:0.2f}\")\n",
    "    \n",
    "    return train_score, test_score, RMSE"
   ]
  },
  {
   "cell_type": "code",
   "execution_count": 51,
   "id": "4c39e1c6",
   "metadata": {
    "execution": {
     "iopub.execute_input": "2024-05-29T19:58:48.759592Z",
     "iopub.status.busy": "2024-05-29T19:58:48.759205Z",
     "iopub.status.idle": "2024-05-29T19:58:50.003264Z",
     "shell.execute_reply": "2024-05-29T19:58:50.001350Z"
    },
    "papermill": {
     "duration": 1.285158,
     "end_time": "2024-05-29T19:58:50.007352",
     "exception": false,
     "start_time": "2024-05-29T19:58:48.722194",
     "status": "completed"
    },
    "tags": []
   },
   "outputs": [
    {
     "name": "stdout",
     "output_type": "stream",
     "text": [
      "The best parameters for LinearRegression model is: {}\n",
      "--------------------\n",
      "(R2 score) in the training set is 60.40% for LinearRegression model.\n",
      "(R2 score) in the testing set is 53.35% for LinearRegression model.\n",
      "RMSE is 6,357,973,664.868129 for LinearRegression model.\n",
      "--------------------\n",
      "Runtime of the program is: 1.23\n"
     ]
    }
   ],
   "source": [
    "lr = LinearRegression(n_jobs=-1)\n",
    "lr_train_score, lr_test_score, lr_RMSE = parameter_finder(lr, {})"
   ]
  },
  {
   "cell_type": "code",
   "execution_count": 52,
   "id": "15f7ac85",
   "metadata": {
    "execution": {
     "iopub.execute_input": "2024-05-29T19:58:50.092456Z",
     "iopub.status.busy": "2024-05-29T19:58:50.092056Z",
     "iopub.status.idle": "2024-05-29T19:58:53.603440Z",
     "shell.execute_reply": "2024-05-29T19:58:53.601656Z"
    },
    "papermill": {
     "duration": 3.551872,
     "end_time": "2024-05-29T19:58:53.606080",
     "exception": false,
     "start_time": "2024-05-29T19:58:50.054208",
     "status": "completed"
    },
    "tags": []
   },
   "outputs": [
    {
     "name": "stdout",
     "output_type": "stream",
     "text": [
      "The best parameters for Ridge model is: {'alpha': 0.001}\n",
      "--------------------\n",
      "(R2 score) in the training set is 60.40% for Ridge model.\n",
      "(R2 score) in the testing set is 53.36% for Ridge model.\n",
      "RMSE is 6,357,553,945.624988 for Ridge model.\n",
      "--------------------\n",
      "Runtime of the program is: 3.50\n"
     ]
    }
   ],
   "source": [
    "ridge = Ridge(random_state = 1) # Linear least squares with l2 regularization.\n",
    "param_ridge = {'alpha': [0.001, 0.01, 0.1, 1, 10]}\n",
    "\n",
    "ridge_train_score, ridge_test_score, ridge_RMSE = parameter_finder(ridge, param_ridge)"
   ]
  },
  {
   "cell_type": "code",
   "execution_count": 53,
   "id": "32a38b5e",
   "metadata": {
    "execution": {
     "iopub.execute_input": "2024-05-29T19:58:53.680624Z",
     "iopub.status.busy": "2024-05-29T19:58:53.680235Z",
     "iopub.status.idle": "2024-05-29T19:59:22.714036Z",
     "shell.execute_reply": "2024-05-29T19:59:22.712310Z"
    },
    "papermill": {
     "duration": 29.074461,
     "end_time": "2024-05-29T19:59:22.716865",
     "exception": false,
     "start_time": "2024-05-29T19:58:53.642404",
     "status": "completed"
    },
    "tags": []
   },
   "outputs": [
    {
     "name": "stdout",
     "output_type": "stream",
     "text": [
      "The best parameters for Lasso model is: {'alpha': 0.001}\n",
      "--------------------\n",
      "(R2 score) in the training set is 60.40% for Lasso model.\n",
      "(R2 score) in the testing set is 53.35% for Lasso model.\n",
      "RMSE is 6,357,953,517.829563 for Lasso model.\n",
      "--------------------\n",
      "Runtime of the program is: 29.02\n"
     ]
    }
   ],
   "source": [
    "lasso = Lasso(random_state = 1) # Linear Model trained with L1 prior as regularizer.\n",
    "param_lasso = {'alpha': [0.001, 0.01, 0.1]}\n",
    "\n",
    "lasso_train_score, lasso_test_score, lasso_RMSE = parameter_finder(lasso, param_lasso)"
   ]
  },
  {
   "cell_type": "code",
   "execution_count": 54,
   "id": "a51a8364",
   "metadata": {
    "execution": {
     "iopub.execute_input": "2024-05-29T19:59:22.790758Z",
     "iopub.status.busy": "2024-05-29T19:59:22.790363Z",
     "iopub.status.idle": "2024-05-29T19:59:47.108954Z",
     "shell.execute_reply": "2024-05-29T19:59:47.107362Z"
    },
    "papermill": {
     "duration": 24.358901,
     "end_time": "2024-05-29T19:59:47.111987",
     "exception": false,
     "start_time": "2024-05-29T19:59:22.753086",
     "status": "completed"
    },
    "tags": []
   },
   "outputs": [
    {
     "name": "stdout",
     "output_type": "stream",
     "text": [
      "The best parameters for ElasticNet model is: {'alpha': 0.001, 'l1_ratio': 0.7}\n",
      "--------------------\n",
      "(R2 score) in the training set is 59.51% for ElasticNet model.\n",
      "(R2 score) in the testing set is 55.36% for ElasticNet model.\n",
      "RMSE is 6,219,838,182.729824 for ElasticNet model.\n",
      "--------------------\n",
      "Runtime of the program is: 24.31\n"
     ]
    }
   ],
   "source": [
    "eln = ElasticNet(random_state = 1) # Linear regression with combined L1 and L2 priors as regularizer.\n",
    "param_eln = {'alpha': [0.001, 0.1],\n",
    "            'l1_ratio': [0.3, 0.7]}\n",
    "\n",
    "eln_train_score, eln_test_score, eln_RMSE = parameter_finder(eln, param_eln)"
   ]
  },
  {
   "cell_type": "code",
   "execution_count": 55,
   "id": "064c4932",
   "metadata": {
    "execution": {
     "iopub.execute_input": "2024-05-29T19:59:47.186978Z",
     "iopub.status.busy": "2024-05-29T19:59:47.186532Z",
     "iopub.status.idle": "2024-05-29T19:59:48.883192Z",
     "shell.execute_reply": "2024-05-29T19:59:48.881900Z"
    },
    "papermill": {
     "duration": 1.737306,
     "end_time": "2024-05-29T19:59:48.885771",
     "exception": false,
     "start_time": "2024-05-29T19:59:47.148465",
     "status": "completed"
    },
    "tags": []
   },
   "outputs": [
    {
     "name": "stdout",
     "output_type": "stream",
     "text": [
      "The best parameters for DecisionTreeRegressor model is: {'min_samples_leaf': 1, 'min_samples_split': 3}\n",
      "--------------------\n",
      "(R2 score) in the training set is 97.91% for DecisionTreeRegressor model.\n",
      "(R2 score) in the testing set is 71.37% for DecisionTreeRegressor model.\n",
      "RMSE is 4,980,876,315.211948 for DecisionTreeRegressor model.\n",
      "--------------------\n",
      "Runtime of the program is: 1.69\n"
     ]
    }
   ],
   "source": [
    "dtr = DecisionTreeRegressor(random_state = 1)\n",
    "param_dtr = {'min_samples_split': [2, 3, 4],\n",
    "            'min_samples_leaf': [1, 2, 3]}\n",
    "\n",
    "dtr_train_score, dtr_test_score, dtr_RMSE = parameter_finder(dtr, param_dtr)"
   ]
  },
  {
   "cell_type": "code",
   "execution_count": 56,
   "id": "debb65d0",
   "metadata": {
    "execution": {
     "iopub.execute_input": "2024-05-29T19:59:48.959755Z",
     "iopub.status.busy": "2024-05-29T19:59:48.959375Z",
     "iopub.status.idle": "2024-05-29T20:00:26.085978Z",
     "shell.execute_reply": "2024-05-29T20:00:26.084684Z"
    },
    "papermill": {
     "duration": 37.198849,
     "end_time": "2024-05-29T20:00:26.120811",
     "exception": false,
     "start_time": "2024-05-29T19:59:48.921962",
     "status": "completed"
    },
    "tags": []
   },
   "outputs": [
    {
     "name": "stdout",
     "output_type": "stream",
     "text": [
      "The best parameters for RandomForestRegressor model is: {'min_samples_leaf': 1, 'min_samples_split': 3}\n",
      "--------------------\n",
      "(R2 score) in the training set is 94.05% for RandomForestRegressor model.\n",
      "(R2 score) in the testing set is 77.55% for RandomForestRegressor model.\n",
      "RMSE is 4,411,228,714.032563 for RandomForestRegressor model.\n",
      "--------------------\n",
      "Runtime of the program is: 37.12\n"
     ]
    }
   ],
   "source": [
    "rfr = RandomForestRegressor(random_state = 1, n_jobs = -1)\n",
    "param_rfr = {'min_samples_split': [3, 4],\n",
    "            'min_samples_leaf': [1, 2]}\n",
    "\n",
    "rfr_train_score, rfr_test_score, rfr_RMSE = parameter_finder(rfr, param_rfr)"
   ]
  },
  {
   "cell_type": "code",
   "execution_count": 57,
   "id": "d3eebf14",
   "metadata": {
    "execution": {
     "iopub.execute_input": "2024-05-29T20:00:26.196100Z",
     "iopub.status.busy": "2024-05-29T20:00:26.194764Z",
     "iopub.status.idle": "2024-05-29T20:00:34.069937Z",
     "shell.execute_reply": "2024-05-29T20:00:34.068912Z"
    },
    "papermill": {
     "duration": 7.915357,
     "end_time": "2024-05-29T20:00:34.072609",
     "exception": false,
     "start_time": "2024-05-29T20:00:26.157252",
     "status": "completed"
    },
    "tags": []
   },
   "outputs": [
    {
     "name": "stdout",
     "output_type": "stream",
     "text": [
      "The best parameters for KNeighborsRegressor model is: {'n_neighbors': 20, 'weights': 'uniform'}\n",
      "--------------------\n",
      "(R2 score) in the training set is 60.39% for KNeighborsRegressor model.\n",
      "(R2 score) in the testing set is 63.99% for KNeighborsRegressor model.\n",
      "RMSE is 5,586,254,776.237762 for KNeighborsRegressor model.\n",
      "--------------------\n",
      "Runtime of the program is: 7.87\n"
     ]
    }
   ],
   "source": [
    "knr = KNeighborsRegressor(n_jobs = -1)\n",
    "param_knr = {'n_neighbors': [5, 10, 15, 20],\n",
    "            'weights': ['uniform', 'distance']}\n",
    "\n",
    "knr_train_score, knr_test_score, knr_RMSE = parameter_finder(knr, param_knr)"
   ]
  },
  {
   "cell_type": "code",
   "execution_count": 58,
   "id": "69413e20",
   "metadata": {
    "execution": {
     "iopub.execute_input": "2024-05-29T20:00:34.148032Z",
     "iopub.status.busy": "2024-05-29T20:00:34.147613Z",
     "iopub.status.idle": "2024-05-29T20:00:46.555802Z",
     "shell.execute_reply": "2024-05-29T20:00:46.554603Z"
    },
    "papermill": {
     "duration": 12.448861,
     "end_time": "2024-05-29T20:00:46.558365",
     "exception": false,
     "start_time": "2024-05-29T20:00:34.109504",
     "status": "completed"
    },
    "tags": []
   },
   "outputs": [
    {
     "name": "stdout",
     "output_type": "stream",
     "text": [
      "The best parameters for XGBRegressor model is: {'colsample_bytree': 1, 'gamma': 0, 'learning_rate': 0.1, 'max_depth': 5, 'n_estimators': 300, 'subsample': 0.75}\n",
      "--------------------\n",
      "(R2 score) in the training set is 97.31% for XGBRegressor model.\n",
      "(R2 score) in the testing set is 73.46% for XGBRegressor model.\n",
      "RMSE is 4,795,611,652.25946 for XGBRegressor model.\n",
      "--------------------\n",
      "Runtime of the program is: 12.40\n"
     ]
    }
   ],
   "source": [
    "xgboost = XGBRegressor(n_jobs = -1)\n",
    "\n",
    "param_xgboost = {\n",
    "    'n_estimators': [300],\n",
    "    'learning_rate': [0.1],\n",
    "    'subsample': [0.75],\n",
    "    'colsample_bytree': [1],\n",
    "    'max_depth': [3,5],\n",
    "    'gamma': [0]\n",
    "}\n",
    "\n",
    "xgboost_train_score, xgboost_test_score, xgboost_RMSE = parameter_finder(xgboost, param_xgboost)"
   ]
  },
  {
   "cell_type": "code",
   "execution_count": 59,
   "id": "3841c21c",
   "metadata": {
    "execution": {
     "iopub.execute_input": "2024-05-29T20:00:46.634843Z",
     "iopub.status.busy": "2024-05-29T20:00:46.633760Z",
     "iopub.status.idle": "2024-05-29T20:00:46.649994Z",
     "shell.execute_reply": "2024-05-29T20:00:46.648982Z"
    },
    "papermill": {
     "duration": 0.056279,
     "end_time": "2024-05-29T20:00:46.652367",
     "exception": false,
     "start_time": "2024-05-29T20:00:46.596088",
     "status": "completed"
    },
    "tags": []
   },
   "outputs": [
    {
     "data": {
      "text/html": [
       "<div>\n",
       "<style scoped>\n",
       "    .dataframe tbody tr th:only-of-type {\n",
       "        vertical-align: middle;\n",
       "    }\n",
       "\n",
       "    .dataframe tbody tr th {\n",
       "        vertical-align: top;\n",
       "    }\n",
       "\n",
       "    .dataframe thead th {\n",
       "        text-align: right;\n",
       "    }\n",
       "</style>\n",
       "<table border=\"1\" class=\"dataframe\">\n",
       "  <thead>\n",
       "    <tr style=\"text-align: right;\">\n",
       "      <th></th>\n",
       "      <th>Training score</th>\n",
       "      <th>Testing score</th>\n",
       "      <th>RMSE</th>\n",
       "    </tr>\n",
       "  </thead>\n",
       "  <tbody>\n",
       "    <tr>\n",
       "      <th>LinearRegression</th>\n",
       "      <td>0.603967</td>\n",
       "      <td>0.533545</td>\n",
       "      <td>6.357974e+09</td>\n",
       "    </tr>\n",
       "    <tr>\n",
       "      <th>Ridge</th>\n",
       "      <td>0.603966</td>\n",
       "      <td>0.533607</td>\n",
       "      <td>6.357554e+09</td>\n",
       "    </tr>\n",
       "    <tr>\n",
       "      <th>Lasso</th>\n",
       "      <td>0.603967</td>\n",
       "      <td>0.533548</td>\n",
       "      <td>6.357954e+09</td>\n",
       "    </tr>\n",
       "    <tr>\n",
       "      <th>ElasticNet</th>\n",
       "      <td>0.595129</td>\n",
       "      <td>0.553594</td>\n",
       "      <td>6.219838e+09</td>\n",
       "    </tr>\n",
       "    <tr>\n",
       "      <th>DecisionTreeRegressor</th>\n",
       "      <td>0.979110</td>\n",
       "      <td>0.713725</td>\n",
       "      <td>4.980876e+09</td>\n",
       "    </tr>\n",
       "    <tr>\n",
       "      <th>RandomForestRegressor</th>\n",
       "      <td>0.940484</td>\n",
       "      <td>0.775461</td>\n",
       "      <td>4.411229e+09</td>\n",
       "    </tr>\n",
       "    <tr>\n",
       "      <th>KNeighborsRegressor</th>\n",
       "      <td>0.603888</td>\n",
       "      <td>0.639908</td>\n",
       "      <td>5.586255e+09</td>\n",
       "    </tr>\n",
       "    <tr>\n",
       "      <th>XGBoostRegressor</th>\n",
       "      <td>0.973129</td>\n",
       "      <td>0.734625</td>\n",
       "      <td>4.795612e+09</td>\n",
       "    </tr>\n",
       "  </tbody>\n",
       "</table>\n",
       "</div>"
      ],
      "text/plain": [
       "                       Training score  Testing score          RMSE\n",
       "LinearRegression             0.603967       0.533545  6.357974e+09\n",
       "Ridge                        0.603966       0.533607  6.357554e+09\n",
       "Lasso                        0.603967       0.533548  6.357954e+09\n",
       "ElasticNet                   0.595129       0.553594  6.219838e+09\n",
       "DecisionTreeRegressor        0.979110       0.713725  4.980876e+09\n",
       "RandomForestRegressor        0.940484       0.775461  4.411229e+09\n",
       "KNeighborsRegressor          0.603888       0.639908  5.586255e+09\n",
       "XGBoostRegressor             0.973129       0.734625  4.795612e+09"
      ]
     },
     "execution_count": 59,
     "metadata": {},
     "output_type": "execute_result"
    }
   ],
   "source": [
    "models_score = pd.DataFrame({'Training score': [lr_train_score, ridge_train_score, lasso_train_score, eln_train_score, dtr_train_score, rfr_train_score, knr_train_score,xgboost_train_score],\n",
    "                             'Testing score': [lr_test_score, ridge_test_score, lasso_test_score, eln_test_score, dtr_test_score, rfr_test_score, knr_test_score,xgboost_test_score],\n",
    "                             'RMSE': [lr_RMSE, ridge_RMSE, lasso_RMSE, eln_RMSE, dtr_RMSE, rfr_RMSE, knr_RMSE,xgboost_RMSE]},\n",
    "                             index = ['LinearRegression', 'Ridge', 'Lasso','ElasticNet', 'DecisionTreeRegressor', 'RandomForestRegressor', 'KNeighborsRegressor','XGBoostRegressor'])\n",
    "\n",
    "models_score"
   ]
  },
  {
   "cell_type": "code",
   "execution_count": 60,
   "id": "321d6a9c",
   "metadata": {
    "execution": {
     "iopub.execute_input": "2024-05-29T20:00:46.727099Z",
     "iopub.status.busy": "2024-05-29T20:00:46.726694Z",
     "iopub.status.idle": "2024-05-29T20:00:47.481602Z",
     "shell.execute_reply": "2024-05-29T20:00:47.480365Z"
    },
    "papermill": {
     "duration": 0.796355,
     "end_time": "2024-05-29T20:00:47.485315",
     "exception": false,
     "start_time": "2024-05-29T20:00:46.688960",
     "status": "completed"
    },
    "tags": []
   },
   "outputs": [
    {
     "data": {
      "image/png": "[encoded data removed]",
      "text/plain": [
       "<Figure size 2000x1000 with 2 Axes>"
      ]
     },
     "metadata": {},
     "output_type": "display_data"
    }
   ],
   "source": [
    "fig, ax = plt.subplots(figsize=(20,10))\n",
    "\n",
    "sns.set(style='white')\n",
    "ax.set_title(\"Camparison\", fontsize = 20)\n",
    "ax = sns.barplot(x = list(models_score.index), y = models_score['RMSE']/1000000000, alpha = 0.7, palette='Greens_r')\n",
    "ax.set_ylabel(\"RMSE\\n(billion tomans)\", fontsize = 20)\n",
    "\n",
    "sec_ax = ax.twinx()\n",
    "sec_ax = sns.lineplot(x = list(models_score.index), y = models_score['Training score'], linewidth = 3, color = 'blue')\n",
    "sec_ax = sns.scatterplot(x = list(models_score.index), y = models_score['Training score'], s = 200)\n",
    "sec_ax = sns.lineplot(x = list(models_score.index), y = models_score['Testing score'], linewidth = 3, color = 'red')\n",
    "sec_ax = sns.scatterplot(x = list(models_score.index), y = models_score['Testing score'], s = 200)\n",
    "sec_ax.set_ylabel(\"R2 scores\", fontsize = 20)\n",
    "sec_ax.legend(labels = ['Training score', 'Testing score'], fontsize = 20)\n",
    "\n",
    "sns.despine(offset = 10)\n",
    "plt.show()"
   ]
  },
  {
   "cell_type": "markdown",
   "id": "9ef94a1e",
   "metadata": {
    "execution": {
     "iopub.execute_input": "2024-05-29T18:54:45.357175Z",
     "iopub.status.busy": "2024-05-29T18:54:45.356775Z",
     "iopub.status.idle": "2024-05-29T18:54:45.362690Z",
     "shell.execute_reply": "2024-05-29T18:54:45.361318Z",
     "shell.execute_reply.started": "2024-05-29T18:54:45.357145Z"
    },
    "papermill": {
     "duration": 0.03893,
     "end_time": "2024-05-29T20:00:47.562997",
     "exception": false,
     "start_time": "2024-05-29T20:00:47.524067",
     "status": "completed"
    },
    "tags": []
   },
   "source": [
    "# Apply custom changes to optimal model"
   ]
  },
  {
   "cell_type": "code",
   "execution_count": 61,
   "id": "91db2621",
   "metadata": {
    "execution": {
     "iopub.execute_input": "2024-05-29T20:00:47.660930Z",
     "iopub.status.busy": "2024-05-29T20:00:47.660206Z",
     "iopub.status.idle": "2024-05-29T20:00:47.685803Z",
     "shell.execute_reply": "2024-05-29T20:00:47.684799Z"
    },
    "papermill": {
     "duration": 0.07806,
     "end_time": "2024-05-29T20:00:47.688243",
     "exception": false,
     "start_time": "2024-05-29T20:00:47.610183",
     "status": "completed"
    },
    "tags": []
   },
   "outputs": [
    {
     "name": "stdout",
     "output_type": "stream",
     "text": [
      "<class 'pandas.core.frame.DataFrame'>\n",
      "Index: 3456 entries, 0 to 3478\n",
      "Columns: 198 entries, Area to Zibadasht\n",
      "dtypes: float64(1), int64(197)\n",
      "memory usage: 5.4 MB\n"
     ]
    }
   ],
   "source": [
    "custom_df = df_final.copy()\n",
    "custom_df.info()"
   ]
  },
  {
   "cell_type": "code",
   "execution_count": 62,
   "id": "0282a9bc",
   "metadata": {
    "execution": {
     "iopub.execute_input": "2024-05-29T20:00:47.768424Z",
     "iopub.status.busy": "2024-05-29T20:00:47.767342Z",
     "iopub.status.idle": "2024-05-29T20:00:47.792273Z",
     "shell.execute_reply": "2024-05-29T20:00:47.790884Z"
    },
    "papermill": {
     "duration": 0.067721,
     "end_time": "2024-05-29T20:00:47.794797",
     "exception": false,
     "start_time": "2024-05-29T20:00:47.727076",
     "status": "completed"
    },
    "tags": []
   },
   "outputs": [
    {
     "name": "stdout",
     "output_type": "stream",
     "text": [
      "<class 'pandas.core.frame.DataFrame'>\n",
      "Index: 3090 entries, 0 to 3478\n",
      "Columns: 198 entries, Area to Zibadasht\n",
      "dtypes: float64(1), int64(197)\n",
      "memory usage: 4.7 MB\n"
     ]
    }
   ],
   "source": [
    "custom_df = custom_df[(custom_df.Area < upper_area) & (custom_df.Area > lower_area)]\n",
    "custom_df = custom_df[(custom_df.Price < upper_price) & (custom_df.Price > lower_price)]\n",
    "custom_df.info()"
   ]
  },
  {
   "cell_type": "code",
   "execution_count": 63,
   "id": "0cc7ca91",
   "metadata": {
    "execution": {
     "iopub.execute_input": "2024-05-29T20:00:47.874424Z",
     "iopub.status.busy": "2024-05-29T20:00:47.874016Z",
     "iopub.status.idle": "2024-05-29T20:00:47.887029Z",
     "shell.execute_reply": "2024-05-29T20:00:47.885748Z"
    },
    "papermill": {
     "duration": 0.055517,
     "end_time": "2024-05-29T20:00:47.889337",
     "exception": false,
     "start_time": "2024-05-29T20:00:47.833820",
     "status": "completed"
    },
    "tags": []
   },
   "outputs": [
    {
     "name": "stdout",
     "output_type": "stream",
     "text": [
      "Shape of X train: (2472, 197)\n",
      "Shape of y train: (2472,)\n",
      "Shape of X test: (618, 197)\n",
      "Shape of y train: (618,)\n"
     ]
    }
   ],
   "source": [
    "X = custom_df.drop(columns = 'Price')\n",
    "y = custom_df['Price']\n",
    "\n",
    "X_train, X_test, y_train, y_test = train_test_split(X, y, test_size = 0.2, random_state = 0)\n",
    "\n",
    "print(f\"Shape of X train: {X_train.shape}\")\n",
    "print(f\"Shape of y train: {y_train.shape}\")\n",
    "print(f\"Shape of X test: {X_test.shape}\")\n",
    "print(f\"Shape of y train: {y_test.shape}\")"
   ]
  },
  {
   "cell_type": "code",
   "execution_count": 64,
   "id": "87099586",
   "metadata": {
    "execution": {
     "iopub.execute_input": "2024-05-29T20:00:47.969565Z",
     "iopub.status.busy": "2024-05-29T20:00:47.969179Z",
     "iopub.status.idle": "2024-05-29T20:00:49.120409Z",
     "shell.execute_reply": "2024-05-29T20:00:49.118611Z"
    },
    "papermill": {
     "duration": 1.195477,
     "end_time": "2024-05-29T20:00:49.124252",
     "exception": false,
     "start_time": "2024-05-29T20:00:47.928775",
     "status": "completed"
    },
    "tags": []
   },
   "outputs": [
    {
     "name": "stdout",
     "output_type": "stream",
     "text": [
      "The best parameters for LinearRegression model is: {}\n",
      "--------------------\n",
      "(R2 score) in the training set is 87.11% for LinearRegression model.\n",
      "(R2 score) in the testing set is 86.13% for LinearRegression model.\n",
      "RMSE is 1,091,618,236.4795303 for LinearRegression model.\n",
      "--------------------\n",
      "Runtime of the program is: 1.14\n"
     ]
    }
   ],
   "source": [
    "lr = LinearRegression(n_jobs=-1)\n",
    "lr_train_score, lr_test_score, lr_RMSE = parameter_finder(lr, {})"
   ]
  },
  {
   "cell_type": "code",
   "execution_count": 65,
   "id": "76f2b784",
   "metadata": {
    "execution": {
     "iopub.execute_input": "2024-05-29T20:00:49.211394Z",
     "iopub.status.busy": "2024-05-29T20:00:49.210938Z",
     "iopub.status.idle": "2024-05-29T20:00:52.384251Z",
     "shell.execute_reply": "2024-05-29T20:00:52.382421Z"
    },
    "papermill": {
     "duration": 3.21713,
     "end_time": "2024-05-29T20:00:52.386859",
     "exception": false,
     "start_time": "2024-05-29T20:00:49.169729",
     "status": "completed"
    },
    "tags": []
   },
   "outputs": [
    {
     "name": "stdout",
     "output_type": "stream",
     "text": [
      "The best parameters for Ridge model is: {'alpha': 0.1}\n",
      "--------------------\n",
      "(R2 score) in the training set is 87.10% for Ridge model.\n",
      "(R2 score) in the testing set is 86.15% for Ridge model.\n",
      "RMSE is 1,090,831,235.617023 for Ridge model.\n",
      "--------------------\n",
      "Runtime of the program is: 3.16\n"
     ]
    }
   ],
   "source": [
    "ridge = Ridge(random_state = 1) # Linear least squares with l2 regularization.\n",
    "param_ridge = {'alpha': [0.001, 0.01, 0.1, 1, 10]}\n",
    "\n",
    "ridge_train_score, ridge_test_score, ridge_RMSE = parameter_finder(ridge, param_ridge)"
   ]
  },
  {
   "cell_type": "code",
   "execution_count": 66,
   "id": "6047aa6e",
   "metadata": {
    "execution": {
     "iopub.execute_input": "2024-05-29T20:00:52.469599Z",
     "iopub.status.busy": "2024-05-29T20:00:52.469194Z",
     "iopub.status.idle": "2024-05-29T20:01:17.776200Z",
     "shell.execute_reply": "2024-05-29T20:01:17.774364Z"
    },
    "papermill": {
     "duration": 25.35369,
     "end_time": "2024-05-29T20:01:17.780312",
     "exception": false,
     "start_time": "2024-05-29T20:00:52.426622",
     "status": "completed"
    },
    "tags": []
   },
   "outputs": [
    {
     "name": "stdout",
     "output_type": "stream",
     "text": [
      "The best parameters for Lasso model is: {'alpha': 10}\n",
      "--------------------\n",
      "(R2 score) in the training set is 87.11% for Lasso model.\n",
      "(R2 score) in the testing set is 86.11% for Lasso model.\n",
      "RMSE is 1,092,357,839.4598927 for Lasso model.\n",
      "--------------------\n",
      "Runtime of the program is: 25.29\n"
     ]
    }
   ],
   "source": [
    "lasso = Lasso(random_state = 1) # Linear Model trained with L1 prior as regularizer.\n",
    "param_lasso = {'alpha': [0.01, 1, 10]}\n",
    "\n",
    "lasso_train_score, lasso_test_score, lasso_RMSE = parameter_finder(lasso, param_lasso)"
   ]
  },
  {
   "cell_type": "code",
   "execution_count": 67,
   "id": "200c8633",
   "metadata": {
    "execution": {
     "iopub.execute_input": "2024-05-29T20:01:17.911839Z",
     "iopub.status.busy": "2024-05-29T20:01:17.911434Z",
     "iopub.status.idle": "2024-05-29T20:01:24.555182Z",
     "shell.execute_reply": "2024-05-29T20:01:24.553436Z"
    },
    "papermill": {
     "duration": 6.698805,
     "end_time": "2024-05-29T20:01:24.558199",
     "exception": false,
     "start_time": "2024-05-29T20:01:17.859394",
     "status": "completed"
    },
    "tags": []
   },
   "outputs": [
    {
     "name": "stdout",
     "output_type": "stream",
     "text": [
      "The best parameters for ElasticNet model is: {'alpha': 0.001, 'l1_ratio': 0.7}\n",
      "--------------------\n",
      "(R2 score) in the training set is 86.77% for ElasticNet model.\n",
      "(R2 score) in the testing set is 86.10% for ElasticNet model.\n",
      "RMSE is 1,092,899,194.2839146 for ElasticNet model.\n",
      "--------------------\n",
      "Runtime of the program is: 6.63\n"
     ]
    }
   ],
   "source": [
    "eln = ElasticNet(random_state = 1) # Linear regression with combined L1 and L2 priors as regularizer.\n",
    "param_eln = {'alpha': [0.001, 0.1],\n",
    "            'l1_ratio': [0.3, 0.7]}\n",
    "\n",
    "eln_train_score, eln_test_score, eln_RMSE = parameter_finder(eln, param_eln)"
   ]
  },
  {
   "cell_type": "code",
   "execution_count": 68,
   "id": "dc07dc12",
   "metadata": {
    "execution": {
     "iopub.execute_input": "2024-05-29T20:01:24.677266Z",
     "iopub.status.busy": "2024-05-29T20:01:24.676824Z",
     "iopub.status.idle": "2024-05-29T20:01:26.201321Z",
     "shell.execute_reply": "2024-05-29T20:01:26.199940Z"
    },
    "papermill": {
     "duration": 1.587496,
     "end_time": "2024-05-29T20:01:26.203648",
     "exception": false,
     "start_time": "2024-05-29T20:01:24.616152",
     "status": "completed"
    },
    "tags": []
   },
   "outputs": [
    {
     "name": "stdout",
     "output_type": "stream",
     "text": [
      "The best parameters for DecisionTreeRegressor model is: {'min_samples_leaf': 1, 'min_samples_split': 4}\n",
      "--------------------\n",
      "(R2 score) in the training set is 97.46% for DecisionTreeRegressor model.\n",
      "(R2 score) in the testing set is 78.14% for DecisionTreeRegressor model.\n",
      "RMSE is 1,370,371,900.3419123 for DecisionTreeRegressor model.\n",
      "--------------------\n",
      "Runtime of the program is: 1.52\n"
     ]
    }
   ],
   "source": [
    "dtr = DecisionTreeRegressor(random_state = 1)\n",
    "param_dtr = {'min_samples_split': [2, 3, 4],\n",
    "            'min_samples_leaf': [1, 2, 3]}\n",
    "\n",
    "dtr_train_score, dtr_test_score, dtr_RMSE = parameter_finder(dtr, param_dtr)"
   ]
  },
  {
   "cell_type": "code",
   "execution_count": 69,
   "id": "8ceec4c9",
   "metadata": {
    "execution": {
     "iopub.execute_input": "2024-05-29T20:01:26.285361Z",
     "iopub.status.busy": "2024-05-29T20:01:26.284931Z",
     "iopub.status.idle": "2024-05-29T20:01:58.670450Z",
     "shell.execute_reply": "2024-05-29T20:01:58.669383Z"
    },
    "papermill": {
     "duration": 32.468938,
     "end_time": "2024-05-29T20:01:58.712565",
     "exception": false,
     "start_time": "2024-05-29T20:01:26.243627",
     "status": "completed"
    },
    "tags": []
   },
   "outputs": [
    {
     "name": "stdout",
     "output_type": "stream",
     "text": [
      "The best parameters for RandomForestRegressor model is: {'min_samples_leaf': 1, 'min_samples_split': 4}\n",
      "--------------------\n",
      "(R2 score) in the training set is 95.45% for RandomForestRegressor model.\n",
      "(R2 score) in the testing set is 82.82% for RandomForestRegressor model.\n",
      "RMSE is 1,214,857,417.666385 for RandomForestRegressor model.\n",
      "--------------------\n",
      "Runtime of the program is: 32.38\n"
     ]
    }
   ],
   "source": [
    "rfr = RandomForestRegressor(random_state = 1, n_jobs = -1)\n",
    "param_rfr = {'min_samples_split': [3, 4],\n",
    "            'min_samples_leaf': [1, 2]}\n",
    "\n",
    "rfr_train_score, rfr_test_score, rfr_RMSE = parameter_finder(rfr, param_rfr)"
   ]
  },
  {
   "cell_type": "code",
   "execution_count": 70,
   "id": "5daa9cba",
   "metadata": {
    "execution": {
     "iopub.execute_input": "2024-05-29T20:01:58.794582Z",
     "iopub.status.busy": "2024-05-29T20:01:58.793655Z",
     "iopub.status.idle": "2024-05-29T20:02:05.306588Z",
     "shell.execute_reply": "2024-05-29T20:02:05.305262Z"
    },
    "papermill": {
     "duration": 6.556834,
     "end_time": "2024-05-29T20:02:05.309412",
     "exception": false,
     "start_time": "2024-05-29T20:01:58.752578",
     "status": "completed"
    },
    "tags": []
   },
   "outputs": [
    {
     "name": "stdout",
     "output_type": "stream",
     "text": [
      "The best parameters for KNeighborsRegressor model is: {'n_neighbors': 20, 'weights': 'distance'}\n",
      "--------------------\n",
      "(R2 score) in the training set is 98.34% for KNeighborsRegressor model.\n",
      "(R2 score) in the testing set is 73.60% for KNeighborsRegressor model.\n",
      "RMSE is 1,506,151,914.5496483 for KNeighborsRegressor model.\n",
      "--------------------\n",
      "Runtime of the program is: 6.49\n"
     ]
    }
   ],
   "source": [
    "knr = KNeighborsRegressor(n_jobs = -1)\n",
    "param_knr = {'n_neighbors': [5, 10, 15, 20],\n",
    "            'weights': ['uniform', 'distance']}\n",
    "\n",
    "knr_train_score, knr_test_score, knr_RMSE = parameter_finder(knr, param_knr)"
   ]
  },
  {
   "cell_type": "code",
   "execution_count": 71,
   "id": "e8417f7a",
   "metadata": {
    "execution": {
     "iopub.execute_input": "2024-05-29T20:02:05.391852Z",
     "iopub.status.busy": "2024-05-29T20:02:05.391407Z",
     "iopub.status.idle": "2024-05-29T20:02:16.882709Z",
     "shell.execute_reply": "2024-05-29T20:02:16.881503Z"
    },
    "papermill": {
     "duration": 11.536075,
     "end_time": "2024-05-29T20:02:16.885571",
     "exception": false,
     "start_time": "2024-05-29T20:02:05.349496",
     "status": "completed"
    },
    "tags": []
   },
   "outputs": [
    {
     "name": "stdout",
     "output_type": "stream",
     "text": [
      "The best parameters for XGBRegressor model is: {'colsample_bytree': 1, 'gamma': 0, 'learning_rate': 0.1, 'max_depth': 5, 'n_estimators': 300, 'subsample': 0.75}\n",
      "--------------------\n",
      "(R2 score) in the training set is 93.22% for XGBRegressor model.\n",
      "(R2 score) in the testing set is 87.08% for XGBRegressor model.\n",
      "RMSE is 1,053,687,891.1851926 for XGBRegressor model.\n",
      "--------------------\n",
      "Runtime of the program is: 11.48\n"
     ]
    }
   ],
   "source": [
    "xgboost = XGBRegressor(n_jobs = -1)\n",
    "\n",
    "param_xgboost = {\n",
    "    'n_estimators': [300],\n",
    "    'learning_rate': [0.1],\n",
    "    'subsample': [0.75],\n",
    "    'colsample_bytree': [1],\n",
    "    'max_depth': [3,5],\n",
    "    'gamma': [0]\n",
    "}\n",
    "\n",
    "xgboost_train_score, xgboost_test_score, xgboost_RMSE = parameter_finder(xgboost, param_xgboost)"
   ]
  },
  {
   "cell_type": "code",
   "execution_count": 72,
   "id": "00436abb",
   "metadata": {
    "execution": {
     "iopub.execute_input": "2024-05-29T20:02:16.969675Z",
     "iopub.status.busy": "2024-05-29T20:02:16.969296Z",
     "iopub.status.idle": "2024-05-29T20:02:16.990532Z",
     "shell.execute_reply": "2024-05-29T20:02:16.989389Z"
    },
    "papermill": {
     "duration": 0.067158,
     "end_time": "2024-05-29T20:02:16.993239",
     "exception": false,
     "start_time": "2024-05-29T20:02:16.926081",
     "status": "completed"
    },
    "tags": []
   },
   "outputs": [
    {
     "data": {
      "text/html": [
       "<div>\n",
       "<style scoped>\n",
       "    .dataframe tbody tr th:only-of-type {\n",
       "        vertical-align: middle;\n",
       "    }\n",
       "\n",
       "    .dataframe tbody tr th {\n",
       "        vertical-align: top;\n",
       "    }\n",
       "\n",
       "    .dataframe thead th {\n",
       "        text-align: right;\n",
       "    }\n",
       "</style>\n",
       "<table border=\"1\" class=\"dataframe\">\n",
       "  <thead>\n",
       "    <tr style=\"text-align: right;\">\n",
       "      <th></th>\n",
       "      <th>Training score</th>\n",
       "      <th>Testing score</th>\n",
       "      <th>RMSE</th>\n",
       "    </tr>\n",
       "  </thead>\n",
       "  <tbody>\n",
       "    <tr>\n",
       "      <th>XGBoostRegressor</th>\n",
       "      <td>0.932199</td>\n",
       "      <td>0.870785</td>\n",
       "      <td>1.053688e+09</td>\n",
       "    </tr>\n",
       "    <tr>\n",
       "      <th>Ridge</th>\n",
       "      <td>0.870979</td>\n",
       "      <td>0.861514</td>\n",
       "      <td>1.090831e+09</td>\n",
       "    </tr>\n",
       "    <tr>\n",
       "      <th>LinearRegression</th>\n",
       "      <td>0.871094</td>\n",
       "      <td>0.861315</td>\n",
       "      <td>1.091618e+09</td>\n",
       "    </tr>\n",
       "    <tr>\n",
       "      <th>Lasso</th>\n",
       "      <td>0.871094</td>\n",
       "      <td>0.861127</td>\n",
       "      <td>1.092358e+09</td>\n",
       "    </tr>\n",
       "    <tr>\n",
       "      <th>ElasticNet</th>\n",
       "      <td>0.867734</td>\n",
       "      <td>0.860989</td>\n",
       "      <td>1.092899e+09</td>\n",
       "    </tr>\n",
       "    <tr>\n",
       "      <th>RandomForestRegressor</th>\n",
       "      <td>0.954522</td>\n",
       "      <td>0.828233</td>\n",
       "      <td>1.214857e+09</td>\n",
       "    </tr>\n",
       "    <tr>\n",
       "      <th>DecisionTreeRegressor</th>\n",
       "      <td>0.974616</td>\n",
       "      <td>0.781442</td>\n",
       "      <td>1.370372e+09</td>\n",
       "    </tr>\n",
       "    <tr>\n",
       "      <th>KNeighborsRegressor</th>\n",
       "      <td>0.983436</td>\n",
       "      <td>0.735986</td>\n",
       "      <td>1.506152e+09</td>\n",
       "    </tr>\n",
       "  </tbody>\n",
       "</table>\n",
       "</div>"
      ],
      "text/plain": [
       "                       Training score  Testing score          RMSE\n",
       "XGBoostRegressor             0.932199       0.870785  1.053688e+09\n",
       "Ridge                        0.870979       0.861514  1.090831e+09\n",
       "LinearRegression             0.871094       0.861315  1.091618e+09\n",
       "Lasso                        0.871094       0.861127  1.092358e+09\n",
       "ElasticNet                   0.867734       0.860989  1.092899e+09\n",
       "RandomForestRegressor        0.954522       0.828233  1.214857e+09\n",
       "DecisionTreeRegressor        0.974616       0.781442  1.370372e+09\n",
       "KNeighborsRegressor          0.983436       0.735986  1.506152e+09"
      ]
     },
     "execution_count": 72,
     "metadata": {},
     "output_type": "execute_result"
    }
   ],
   "source": [
    "models_score = pd.DataFrame({'Training score': [lr_train_score, ridge_train_score, lasso_train_score, eln_train_score, dtr_train_score, rfr_train_score, knr_train_score,xgboost_train_score],\n",
    "                             'Testing score': [lr_test_score, ridge_test_score, lasso_test_score, eln_test_score, dtr_test_score, rfr_test_score, knr_test_score,xgboost_test_score],\n",
    "                             'RMSE': [lr_RMSE, ridge_RMSE, lasso_RMSE, eln_RMSE, dtr_RMSE, rfr_RMSE, knr_RMSE,xgboost_RMSE]},\n",
    "                             index = ['LinearRegression', 'Ridge', 'Lasso','ElasticNet', 'DecisionTreeRegressor', 'RandomForestRegressor', 'KNeighborsRegressor','XGBoostRegressor'])\n",
    "\n",
    "models_score.sort_values('RMSE')"
   ]
  },
  {
   "cell_type": "code",
   "execution_count": 73,
   "id": "a75cafbd",
   "metadata": {
    "execution": {
     "iopub.execute_input": "2024-05-29T20:02:17.077099Z",
     "iopub.status.busy": "2024-05-29T20:02:17.076205Z",
     "iopub.status.idle": "2024-05-29T20:02:17.986698Z",
     "shell.execute_reply": "2024-05-29T20:02:17.985643Z"
    },
    "papermill": {
     "duration": 0.955256,
     "end_time": "2024-05-29T20:02:17.989699",
     "exception": false,
     "start_time": "2024-05-29T20:02:17.034443",
     "status": "completed"
    },
    "tags": []
   },
   "outputs": [
    {
     "data": {
      "image/png": "[encoded data removed]",
      "text/plain": [
       "<Figure size 2000x1000 with 2 Axes>"
      ]
     },
     "metadata": {},
     "output_type": "display_data"
    }
   ],
   "source": [
    "fig, ax = plt.subplots(figsize=(20,10))\n",
    "\n",
    "sns.set(style='white')\n",
    "ax.set_title(\"Camparison\", fontsize = 20)\n",
    "ax = sns.barplot(x = list(models_score.index), y = models_score['RMSE']/1000000000, alpha = 0.7, palette='Greens_r')\n",
    "ax.set_ylabel(\"RMSE\\n(billion tomans)\", fontsize = 20)\n",
    "\n",
    "sec_ax = ax.twinx()\n",
    "sec_ax = sns.lineplot(x = list(models_score.index), y = models_score['Training score'], linewidth = 3, color = 'blue')\n",
    "sec_ax = sns.scatterplot(x = list(models_score.index), y = models_score['Training score'], s = 200)\n",
    "sec_ax = sns.lineplot(x = list(models_score.index), y = models_score['Testing score'], linewidth = 3, color = 'red')\n",
    "sec_ax = sns.scatterplot(x = list(models_score.index), y = models_score['Testing score'], s = 200)\n",
    "sec_ax.set_ylabel(\"R2 scores\", fontsize = 20)\n",
    "sec_ax.legend(labels = ['Training score', 'Testing score'], fontsize = 20)\n",
    "\n",
    "sns.despine(offset = 10)\n",
    "plt.show()"
   ]
  },
  {
   "cell_type": "code",
   "execution_count": null,
   "id": "7df9ac76",
   "metadata": {
    "papermill": {
     "duration": 0.042838,
     "end_time": "2024-05-29T20:02:18.074987",
     "exception": false,
     "start_time": "2024-05-29T20:02:18.032149",
     "status": "completed"
    },
    "tags": []
   },
   "outputs": [],
   "source": []
  }
 ],
 "metadata": {
  "kaggle": {
   "accelerator": "none",
   "dataSources": [
    {
     "datasetId": 1573831,
     "sourceId": 2590700,
     "sourceType": "datasetVersion"
    }
   ],
   "dockerImageVersionId": 30698,
   "isGpuEnabled": false,
   "isInternetEnabled": true,
   "language": "python",
   "sourceType": "notebook"
  },
  "kernelspec": {
   "display_name": "Python 3",
   "language": "python",
   "name": "python3"
  },
  "language_info": {
   "codemirror_mode": {
    "name": "ipython",
    "version": 3
   },
   "file_extension": ".py",
   "mimetype": "text/x-python",
   "name": "python",
   "nbconvert_exporter": "python",
   "pygments_lexer": "ipython3",
   "version": "3.10.13"
  },
  "papermill": {
   "default_parameters": {},
   "duration": 372.783593,
   "end_time": "2024-05-29T20:02:20.741628",
   "environment_variables": {},
   "exception": null,
   "input_path": "__notebook__.ipynb",
   "output_path": "__notebook__.ipynb",
   "parameters": {},
   "start_time": "2024-05-29T19:56:07.958035",
   "version": "2.5.0"
  },
  "widgets": {
   "application/vnd.jupyter.widget-state+json": {
    "state": {
     "0c60729c6ba4465a88bf4036edd85838": {
      "model_module": "@jupyter-widgets/controls",
      "model_module_version": "1.5.0",
      "model_name": "HTMLModel",
      "state": {
       "_dom_classes": [],
       "_model_module": "@jupyter-widgets/controls",
       "_model_module_version": "1.5.0",
       "_model_name": "HTMLModel",
       "_view_count": null,
       "_view_module": "@jupyter-widgets/controls",
       "_view_module_version": "1.5.0",
       "_view_name": "HTMLView",
       "description": "",
       "description_tooltip": null,
       "layout": "IPY_MODEL_935bbef4b9224c5397e0f75d6f7dd391",
       "placeholder": "​",
       "style": "IPY_MODEL_8790b667892c4ef7852bbd20493df730",
       "value": "Processing: 100%"
      }
     },
     "0e84ba1bf4ec4f198ec03f0fab1035fb": {
      "model_module": "@jupyter-widgets/base",
      "model_module_version": "1.2.0",
      "model_name": "LayoutModel",
      "state": {
       "_model_module": "@jupyter-widgets/base",
       "_model_module_version": "1.2.0",
       "_model_name": "LayoutModel",
       "_view_count": null,
       "_view_module": "@jupyter-widgets/base",
       "_view_module_version": "1.2.0",
       "_view_name": "LayoutView",
       "align_content": null,
       "align_items": null,
       "align_self": null,
       "border": null,
       "bottom": null,
       "display": null,
       "flex": null,
       "flex_flow": null,
       "grid_area": null,
       "grid_auto_columns": null,
       "grid_auto_flow": null,
       "grid_auto_rows": null,
       "grid_column": null,
       "grid_gap": null,
       "grid_row": null,
       "grid_template_areas": null,
       "grid_template_columns": null,
       "grid_template_rows": null,
       "height": null,
       "justify_content": null,
       "justify_items": null,
       "left": null,
       "margin": null,
       "max_height": null,
       "max_width": null,
       "min_height": null,
       "min_width": null,
       "object_fit": null,
       "object_position": null,
       "order": null,
       "overflow": null,
       "overflow_x": null,
       "overflow_y": null,
       "padding": null,
       "right": null,
       "top": null,
       "visibility": null,
       "width": null
      }
     },
     "26604012ba0b4205a3da7048ef1759aa": {
      "model_module": "@jupyter-widgets/controls",
      "model_module_version": "1.5.0",
      "model_name": "DescriptionStyleModel",
      "state": {
       "_model_module": "@jupyter-widgets/controls",
       "_model_module_version": "1.5.0",
       "_model_name": "DescriptionStyleModel",
       "_view_count": null,
       "_view_module": "@jupyter-widgets/base",
       "_view_module_version": "1.2.0",
       "_view_name": "StyleView",
       "description_width": ""
      }
     },
     "272208bc69e2425baa3b6edde187655d": {
      "model_module": "@jupyter-widgets/controls",
      "model_module_version": "1.5.0",
      "model_name": "DescriptionStyleModel",
      "state": {
       "_model_module": "@jupyter-widgets/controls",
       "_model_module_version": "1.5.0",
       "_model_name": "DescriptionStyleModel",
       "_view_count": null,
       "_view_module": "@jupyter-widgets/base",
       "_view_module_version": "1.2.0",
       "_view_name": "StyleView",
       "description_width": ""
      }
     },
     "30f19d80f28b401abb8710e490ef4a2f": {
      "model_module": "@jupyter-widgets/controls",
      "model_module_version": "1.5.0",
      "model_name": "HTMLModel",
      "state": {
       "_dom_classes": [],
       "_model_module": "@jupyter-widgets/controls",
       "_model_module_version": "1.5.0",
       "_model_name": "HTMLModel",
       "_view_count": null,
       "_view_module": "@jupyter-widgets/controls",
       "_view_module_version": "1.5.0",
       "_view_name": "HTMLView",
       "description": "",
       "description_tooltip": null,
       "layout": "IPY_MODEL_7bc121272e7049c68e00b9040d4d4bbf",
       "placeholder": "​",
       "style": "IPY_MODEL_26604012ba0b4205a3da7048ef1759aa",
       "value": " 85/85 [01:12&lt;00:00,  1.40s/it]"
      }
     },
     "5628ca265ed44711bd5b96b2571d1e12": {
      "model_module": "@jupyter-widgets/controls",
      "model_module_version": "1.5.0",
      "model_name": "DescriptionStyleModel",
      "state": {
       "_model_module": "@jupyter-widgets/controls",
       "_model_module_version": "1.5.0",
       "_model_name": "DescriptionStyleModel",
       "_view_count": null,
       "_view_module": "@jupyter-widgets/base",
       "_view_module_version": "1.2.0",
       "_view_name": "StyleView",
       "description_width": ""
      }
     },
     "626f5bbec2c247058c7d59178f35b803": {
      "model_module": "@jupyter-widgets/base",
      "model_module_version": "1.2.0",
      "model_name": "LayoutModel",
      "state": {
       "_model_module": "@jupyter-widgets/base",
       "_model_module_version": "1.2.0",
       "_model_name": "LayoutModel",
       "_view_count": null,
       "_view_module": "@jupyter-widgets/base",
       "_view_module_version": "1.2.0",
       "_view_name": "LayoutView",
       "align_content": null,
       "align_items": null,
       "align_self": null,
       "border": null,
       "bottom": null,
       "display": null,
       "flex": null,
       "flex_flow": null,
       "grid_area": null,
       "grid_auto_columns": null,
       "grid_auto_flow": null,
       "grid_auto_rows": null,
       "grid_column": null,
       "grid_gap": null,
       "grid_row": null,
       "grid_template_areas": null,
       "grid_template_columns": null,
       "grid_template_rows": null,
       "height": null,
       "justify_content": null,
       "justify_items": null,
       "left": null,
       "margin": null,
       "max_height": null,
       "max_width": null,
       "min_height": null,
       "min_width": null,
       "object_fit": null,
       "object_position": null,
       "order": null,
       "overflow": null,
       "overflow_x": null,
       "overflow_y": null,
       "padding": null,
       "right": null,
       "top": null,
       "visibility": null,
       "width": null
      }
     },
     "62eb8e7feaf146298de138fad2a1669e": {
      "model_module": "@jupyter-widgets/controls",
      "model_module_version": "1.5.0",
      "model_name": "HBoxModel",
      "state": {
       "_dom_classes": [],
       "_model_module": "@jupyter-widgets/controls",
       "_model_module_version": "1.5.0",
       "_model_name": "HBoxModel",
       "_view_count": null,
       "_view_module": "@jupyter-widgets/controls",
       "_view_module_version": "1.5.0",
       "_view_name": "HBoxView",
       "box_style": "",
       "children": [
        "IPY_MODEL_f50f97ac1ffe4e3681630aae70ed9fca",
        "IPY_MODEL_e8cf8cec8139477db67b3fb8aeac8513",
        "IPY_MODEL_78155c305d2245fab1a243d220df3153"
       ],
       "layout": "IPY_MODEL_a3352009b0214fdeb9901364ae6921ab"
      }
     },
     "7586e1fd43a84a99b5dea6e2a1a84267": {
      "model_module": "@jupyter-widgets/controls",
      "model_module_version": "1.5.0",
      "model_name": "FloatProgressModel",
      "state": {
       "_dom_classes": [],
       "_model_module": "@jupyter-widgets/controls",
       "_model_module_version": "1.5.0",
       "_model_name": "FloatProgressModel",
       "_view_count": null,
       "_view_module": "@jupyter-widgets/controls",
       "_view_module_version": "1.5.0",
       "_view_name": "ProgressView",
       "bar_style": "",
       "description": "",
       "description_tooltip": null,
       "layout": "IPY_MODEL_0e84ba1bf4ec4f198ec03f0fab1035fb",
       "max": 85.0,
       "min": 0.0,
       "orientation": "horizontal",
       "style": "IPY_MODEL_cb7bb0cd30e54f5bb01e3f311a254ef2",
       "value": 85.0
      }
     },
     "78155c305d2245fab1a243d220df3153": {
      "model_module": "@jupyter-widgets/controls",
      "model_module_version": "1.5.0",
      "model_name": "HTMLModel",
      "state": {
       "_dom_classes": [],
       "_model_module": "@jupyter-widgets/controls",
       "_model_module_version": "1.5.0",
       "_model_name": "HTMLModel",
       "_view_count": null,
       "_view_module": "@jupyter-widgets/controls",
       "_view_module_version": "1.5.0",
       "_view_name": "HTMLView",
       "description": "",
       "description_tooltip": null,
       "layout": "IPY_MODEL_8efd115ba06842f897905b1757f909e7",
       "placeholder": "​",
       "style": "IPY_MODEL_272208bc69e2425baa3b6edde187655d",
       "value": " 4/4 [00:05&lt;00:00,  1.28s/it]"
      }
     },
     "7bc121272e7049c68e00b9040d4d4bbf": {
      "model_module": "@jupyter-widgets/base",
      "model_module_version": "1.2.0",
      "model_name": "LayoutModel",
      "state": {
       "_model_module": "@jupyter-widgets/base",
       "_model_module_version": "1.2.0",
       "_model_name": "LayoutModel",
       "_view_count": null,
       "_view_module": "@jupyter-widgets/base",
       "_view_module_version": "1.2.0",
       "_view_name": "LayoutView",
       "align_content": null,
       "align_items": null,
       "align_self": null,
       "border": null,
       "bottom": null,
       "display": null,
       "flex": null,
       "flex_flow": null,
       "grid_area": null,
       "grid_auto_columns": null,
       "grid_auto_flow": null,
       "grid_auto_rows": null,
       "grid_column": null,
       "grid_gap": null,
       "grid_row": null,
       "grid_template_areas": null,
       "grid_template_columns": null,
       "grid_template_rows": null,
       "height": null,
       "justify_content": null,
       "justify_items": null,
       "left": null,
       "margin": null,
       "max_height": null,
       "max_width": null,
       "min_height": null,
       "min_width": null,
       "object_fit": null,
       "object_position": null,
       "order": null,
       "overflow": null,
       "overflow_x": null,
       "overflow_y": null,
       "padding": null,
       "right": null,
       "top": null,
       "visibility": null,
       "width": null
      }
     },
     "8790b667892c4ef7852bbd20493df730": {
      "model_module": "@jupyter-widgets/controls",
      "model_module_version": "1.5.0",
      "model_name": "DescriptionStyleModel",
      "state": {
       "_model_module": "@jupyter-widgets/controls",
       "_model_module_version": "1.5.0",
       "_model_name": "DescriptionStyleModel",
       "_view_count": null,
       "_view_module": "@jupyter-widgets/base",
       "_view_module_version": "1.2.0",
       "_view_name": "StyleView",
       "description_width": ""
      }
     },
     "8efd115ba06842f897905b1757f909e7": {
      "model_module": "@jupyter-widgets/base",
      "model_module_version": "1.2.0",
      "model_name": "LayoutModel",
      "state": {
       "_model_module": "@jupyter-widgets/base",
       "_model_module_version": "1.2.0",
       "_model_name": "LayoutModel",
       "_view_count": null,
       "_view_module": "@jupyter-widgets/base",
       "_view_module_version": "1.2.0",
       "_view_name": "LayoutView",
       "align_content": null,
       "align_items": null,
       "align_self": null,
       "border": null,
       "bottom": null,
       "display": null,
       "flex": null,
       "flex_flow": null,
       "grid_area": null,
       "grid_auto_columns": null,
       "grid_auto_flow": null,
       "grid_auto_rows": null,
       "grid_column": null,
       "grid_gap": null,
       "grid_row": null,
       "grid_template_areas": null,
       "grid_template_columns": null,
       "grid_template_rows": null,
       "height": null,
       "justify_content": null,
       "justify_items": null,
       "left": null,
       "margin": null,
       "max_height": null,
       "max_width": null,
       "min_height": null,
       "min_width": null,
       "object_fit": null,
       "object_position": null,
       "order": null,
       "overflow": null,
       "overflow_x": null,
       "overflow_y": null,
       "padding": null,
       "right": null,
       "top": null,
       "visibility": null,
       "width": null
      }
     },
     "935bbef4b9224c5397e0f75d6f7dd391": {
      "model_module": "@jupyter-widgets/base",
      "model_module_version": "1.2.0",
      "model_name": "LayoutModel",
      "state": {
       "_model_module": "@jupyter-widgets/base",
       "_model_module_version": "1.2.0",
       "_model_name": "LayoutModel",
       "_view_count": null,
       "_view_module": "@jupyter-widgets/base",
       "_view_module_version": "1.2.0",
       "_view_name": "LayoutView",
       "align_content": null,
       "align_items": null,
       "align_self": null,
       "border": null,
       "bottom": null,
       "display": null,
       "flex": null,
       "flex_flow": null,
       "grid_area": null,
       "grid_auto_columns": null,
       "grid_auto_flow": null,
       "grid_auto_rows": null,
       "grid_column": null,
       "grid_gap": null,
       "grid_row": null,
       "grid_template_areas": null,
       "grid_template_columns": null,
       "grid_template_rows": null,
       "height": null,
       "justify_content": null,
       "justify_items": null,
       "left": null,
       "margin": null,
       "max_height": null,
       "max_width": null,
       "min_height": null,
       "min_width": null,
       "object_fit": null,
       "object_position": null,
       "order": null,
       "overflow": null,
       "overflow_x": null,
       "overflow_y": null,
       "padding": null,
       "right": null,
       "top": null,
       "visibility": null,
       "width": null
      }
     },
     "a3352009b0214fdeb9901364ae6921ab": {
      "model_module": "@jupyter-widgets/base",
      "model_module_version": "1.2.0",
      "model_name": "LayoutModel",
      "state": {
       "_model_module": "@jupyter-widgets/base",
       "_model_module_version": "1.2.0",
       "_model_name": "LayoutModel",
       "_view_count": null,
       "_view_module": "@jupyter-widgets/base",
       "_view_module_version": "1.2.0",
       "_view_name": "LayoutView",
       "align_content": null,
       "align_items": null,
       "align_self": null,
       "border": null,
       "bottom": null,
       "display": null,
       "flex": null,
       "flex_flow": null,
       "grid_area": null,
       "grid_auto_columns": null,
       "grid_auto_flow": null,
       "grid_auto_rows": null,
       "grid_column": null,
       "grid_gap": null,
       "grid_row": null,
       "grid_template_areas": null,
       "grid_template_columns": null,
       "grid_template_rows": null,
       "height": null,
       "justify_content": null,
       "justify_items": null,
       "left": null,
       "margin": null,
       "max_height": null,
       "max_width": null,
       "min_height": null,
       "min_width": null,
       "object_fit": null,
       "object_position": null,
       "order": null,
       "overflow": null,
       "overflow_x": null,
       "overflow_y": null,
       "padding": null,
       "right": null,
       "top": null,
       "visibility": "hidden",
       "width": null
      }
     },
     "b121e8837bba40fd9718d569a1b931e9": {
      "model_module": "@jupyter-widgets/base",
      "model_module_version": "1.2.0",
      "model_name": "LayoutModel",
      "state": {
       "_model_module": "@jupyter-widgets/base",
       "_model_module_version": "1.2.0",
       "_model_name": "LayoutModel",
       "_view_count": null,
       "_view_module": "@jupyter-widgets/base",
       "_view_module_version": "1.2.0",
       "_view_name": "LayoutView",
       "align_content": null,
       "align_items": null,
       "align_self": null,
       "border": null,
       "bottom": null,
       "display": null,
       "flex": null,
       "flex_flow": null,
       "grid_area": null,
       "grid_auto_columns": null,
       "grid_auto_flow": null,
       "grid_auto_rows": null,
       "grid_column": null,
       "grid_gap": null,
       "grid_row": null,
       "grid_template_areas": null,
       "grid_template_columns": null,
       "grid_template_rows": null,
       "height": null,
       "justify_content": null,
       "justify_items": null,
       "left": null,
       "margin": null,
       "max_height": null,
       "max_width": null,
       "min_height": null,
       "min_width": null,
       "object_fit": null,
       "object_position": null,
       "order": null,
       "overflow": null,
       "overflow_x": null,
       "overflow_y": null,
       "padding": null,
       "right": null,
       "top": null,
       "visibility": null,
       "width": null
      }
     },
     "baa9f166f43b4e628769afaf48063054": {
      "model_module": "@jupyter-widgets/controls",
      "model_module_version": "1.5.0",
      "model_name": "ProgressStyleModel",
      "state": {
       "_model_module": "@jupyter-widgets/controls",
       "_model_module_version": "1.5.0",
       "_model_name": "ProgressStyleModel",
       "_view_count": null,
       "_view_module": "@jupyter-widgets/base",
       "_view_module_version": "1.2.0",
       "_view_name": "StyleView",
       "bar_color": null,
       "description_width": ""
      }
     },
     "cb7bb0cd30e54f5bb01e3f311a254ef2": {
      "model_module": "@jupyter-widgets/controls",
      "model_module_version": "1.5.0",
      "model_name": "ProgressStyleModel",
      "state": {
       "_model_module": "@jupyter-widgets/controls",
       "_model_module_version": "1.5.0",
       "_model_name": "ProgressStyleModel",
       "_view_count": null,
       "_view_module": "@jupyter-widgets/base",
       "_view_module_version": "1.2.0",
       "_view_name": "StyleView",
       "bar_color": null,
       "description_width": ""
      }
     },
     "cd5e23a3770a4aafb95ff878317df254": {
      "model_module": "@jupyter-widgets/base",
      "model_module_version": "1.2.0",
      "model_name": "LayoutModel",
      "state": {
       "_model_module": "@jupyter-widgets/base",
       "_model_module_version": "1.2.0",
       "_model_name": "LayoutModel",
       "_view_count": null,
       "_view_module": "@jupyter-widgets/base",
       "_view_module_version": "1.2.0",
       "_view_name": "LayoutView",
       "align_content": null,
       "align_items": null,
       "align_self": null,
       "border": null,
       "bottom": null,
       "display": null,
       "flex": null,
       "flex_flow": null,
       "grid_area": null,
       "grid_auto_columns": null,
       "grid_auto_flow": null,
       "grid_auto_rows": null,
       "grid_column": null,
       "grid_gap": null,
       "grid_row": null,
       "grid_template_areas": null,
       "grid_template_columns": null,
       "grid_template_rows": null,
       "height": null,
       "justify_content": null,
       "justify_items": null,
       "left": null,
       "margin": null,
       "max_height": null,
       "max_width": null,
       "min_height": null,
       "min_width": null,
       "object_fit": null,
       "object_position": null,
       "order": null,
       "overflow": null,
       "overflow_x": null,
       "overflow_y": null,
       "padding": null,
       "right": null,
       "top": null,
       "visibility": "hidden",
       "width": null
      }
     },
     "dd4a001ecf384c4199ffa908c12b37ca": {
      "model_module": "@jupyter-widgets/controls",
      "model_module_version": "1.5.0",
      "model_name": "HBoxModel",
      "state": {
       "_dom_classes": [],
       "_model_module": "@jupyter-widgets/controls",
       "_model_module_version": "1.5.0",
       "_model_name": "HBoxModel",
       "_view_count": null,
       "_view_module": "@jupyter-widgets/controls",
       "_view_module_version": "1.5.0",
       "_view_name": "HBoxView",
       "box_style": "",
       "children": [
        "IPY_MODEL_0c60729c6ba4465a88bf4036edd85838",
        "IPY_MODEL_7586e1fd43a84a99b5dea6e2a1a84267",
        "IPY_MODEL_30f19d80f28b401abb8710e490ef4a2f"
       ],
       "layout": "IPY_MODEL_cd5e23a3770a4aafb95ff878317df254"
      }
     },
     "e8cf8cec8139477db67b3fb8aeac8513": {
      "model_module": "@jupyter-widgets/controls",
      "model_module_version": "1.5.0",
      "model_name": "FloatProgressModel",
      "state": {
       "_dom_classes": [],
       "_model_module": "@jupyter-widgets/controls",
       "_model_module_version": "1.5.0",
       "_model_name": "FloatProgressModel",
       "_view_count": null,
       "_view_module": "@jupyter-widgets/controls",
       "_view_module_version": "1.5.0",
       "_view_name": "ProgressView",
       "bar_style": "",
       "description": "",
       "description_tooltip": null,
       "layout": "IPY_MODEL_b121e8837bba40fd9718d569a1b931e9",
       "max": 4.0,
       "min": 0.0,
       "orientation": "horizontal",
       "style": "IPY_MODEL_baa9f166f43b4e628769afaf48063054",
       "value": 4.0
      }
     },
     "f50f97ac1ffe4e3681630aae70ed9fca": {
      "model_module": "@jupyter-widgets/controls",
      "model_module_version": "1.5.0",
      "model_name": "HTMLModel",
      "state": {
       "_dom_classes": [],
       "_model_module": "@jupyter-widgets/controls",
       "_model_module_version": "1.5.0",
       "_model_name": "HTMLModel",
       "_view_count": null,
       "_view_module": "@jupyter-widgets/controls",
       "_view_module_version": "1.5.0",
       "_view_name": "HTMLView",
       "description": "",
       "description_tooltip": null,
       "layout": "IPY_MODEL_626f5bbec2c247058c7d59178f35b803",
       "placeholder": "​",
       "style": "IPY_MODEL_5628ca265ed44711bd5b96b2571d1e12",
       "value": "Processing: 100%"
      }
     }
    },
    "version_major": 2,
    "version_minor": 0
   }
  }
 },
 "nbformat": 4,
 "nbformat_minor": 5
}
